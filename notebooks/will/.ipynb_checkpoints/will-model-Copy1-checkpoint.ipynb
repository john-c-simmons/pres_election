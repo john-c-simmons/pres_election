{
 "cells": [
  {
   "cell_type": "code",
   "execution_count": 151,
   "id": "1501e491-116e-4928-b45c-d85b962327a8",
   "metadata": {},
   "outputs": [],
   "source": [
    "import pandas as pd\n",
    "import numpy as np\n",
    "import seaborn as sns\n",
    "import matplotlib.pyplot as plt\n",
    "from sklearn.model_selection import train_test_split, GridSearchCV, cross_val_score\n",
    "from sklearn.linear_model import LogisticRegression\n",
    "from sklearn.preprocessing import StandardScaler, OneHotEncoder\n",
    "from sklearn.impute import SimpleImputer\n",
    "from sklearn.tree import DecisionTreeClassifier\n",
    "from sklearn.ensemble import RandomForestClassifier\n",
    "from sklearn.metrics import accuracy_score\n",
    "from sklearn.pipeline import Pipeline, make_pipeline\n",
    "from sklearn.compose import make_column_selector, make_column_transformer\n",
    "from sklearn import svm, datasets\n",
    "from sklearn.model_selection import GridSearchCV\n",
    "from sklearn.model_selection import cross_val_score\n",
    "from sklearn.svm import SVC\n",
    "from sklearn.metrics import plot_confusion_matrix\n",
    "from sklearn.metrics import f1_score\n",
    "from imblearn.over_sampling import BorderlineSMOTE\n",
    "from collections import Counter\n",
    "import sklearn\n",
    "from sklearn.metrics import recall_score"
   ]
  },
  {
   "cell_type": "code",
   "execution_count": 2,
   "id": "214b4806-3057-4508-8b81-fc862c770446",
   "metadata": {},
   "outputs": [],
   "source": [
    "df16_url = \"../../data/df2015_16.csv\"\n",
    "df20_url = \"../../data/df2019_20.csv\""
   ]
  },
  {
   "cell_type": "code",
   "execution_count": 3,
   "id": "f0af24ac-a72e-4b94-b698-bda2e9bcd4ac",
   "metadata": {},
   "outputs": [],
   "source": [
    "df16 = pd.read_csv(df16_url)"
   ]
  },
  {
   "cell_type": "code",
   "execution_count": 4,
   "id": "03fdbfa4-8b59-4cf3-ba2f-89a8a1a9dc48",
   "metadata": {},
   "outputs": [],
   "source": [
    "df16[\"2016\"] = 1\n",
    "df16[\"2020\"] = 0"
   ]
  },
  {
   "cell_type": "code",
   "execution_count": 5,
   "id": "a446bba0-0aa3-4781-9c3a-6ffbbfdefb3d",
   "metadata": {},
   "outputs": [],
   "source": [
    "df20 = pd.read_csv(df20_url)"
   ]
  },
  {
   "cell_type": "code",
   "execution_count": 6,
   "id": "2c98551d-d531-4e7d-a7c9-853a4c47d84a",
   "metadata": {},
   "outputs": [],
   "source": [
    "df20[\"2016\"] = 0\n",
    "df20[\"2020\"] = 1"
   ]
  },
  {
   "cell_type": "code",
   "execution_count": 32,
   "id": "f6948d26-6636-484c-9f4d-3159de7f5ad1",
   "metadata": {
    "tags": []
   },
   "outputs": [],
   "source": [
    "dfall = df16.append(df20)"
   ]
  },
  {
   "cell_type": "markdown",
   "id": "ab04f9b5-ff0e-4376-8a19-7d54599ca2c8",
   "metadata": {},
   "source": [
    "### DropNA"
   ]
  },
  {
   "cell_type": "code",
   "execution_count": 42,
   "id": "380ba11a-71f6-40f3-b08f-436fae633d0e",
   "metadata": {},
   "outputs": [],
   "source": [
    "dfall.dropna(inplace=True)"
   ]
  },
  {
   "cell_type": "code",
   "execution_count": 43,
   "id": "d394e385-da97-48bd-a756-6c02d1f5ebb2",
   "metadata": {},
   "outputs": [
    {
     "data": {
      "text/html": [
       "<div>\n",
       "<style scoped>\n",
       "    .dataframe tbody tr th:only-of-type {\n",
       "        vertical-align: middle;\n",
       "    }\n",
       "\n",
       "    .dataframe tbody tr th {\n",
       "        vertical-align: top;\n",
       "    }\n",
       "\n",
       "    .dataframe thead th {\n",
       "        text-align: right;\n",
       "    }\n",
       "</style>\n",
       "<table border=\"1\" class=\"dataframe\">\n",
       "  <thead>\n",
       "    <tr style=\"text-align: right;\">\n",
       "      <th></th>\n",
       "      <th>fips</th>\n",
       "      <th>vax_percentage</th>\n",
       "      <th>total_agriculture</th>\n",
       "      <th>total_construction</th>\n",
       "      <th>total_manufacturing</th>\n",
       "      <th>total_wholesale_trade</th>\n",
       "      <th>total_retail_trade</th>\n",
       "      <th>transportation_warehousing_utilities</th>\n",
       "      <th>total_information</th>\n",
       "      <th>total_finance_and_real_estate</th>\n",
       "      <th>...</th>\n",
       "      <th>State</th>\n",
       "      <th>County [2]</th>\n",
       "      <th>Population(2010)</th>\n",
       "      <th>Land Areami²</th>\n",
       "      <th>Water Areami²</th>\n",
       "      <th>Total Areami²</th>\n",
       "      <th>Latitude</th>\n",
       "      <th>Longitude</th>\n",
       "      <th>2016</th>\n",
       "      <th>2020</th>\n",
       "    </tr>\n",
       "  </thead>\n",
       "  <tbody>\n",
       "    <tr>\n",
       "      <th>0</th>\n",
       "      <td>6001</td>\n",
       "      <td>0.962155</td>\n",
       "      <td>3308</td>\n",
       "      <td>39861</td>\n",
       "      <td>80961</td>\n",
       "      <td>20969</td>\n",
       "      <td>75187</td>\n",
       "      <td>39042</td>\n",
       "      <td>24187</td>\n",
       "      <td>47611</td>\n",
       "      <td>...</td>\n",
       "      <td>CA</td>\n",
       "      <td>Alameda</td>\n",
       "      <td>1510271</td>\n",
       "      <td>739.017</td>\n",
       "      <td>82.311</td>\n",
       "      <td>821.328</td>\n",
       "      <td>37.64808</td>\n",
       "      <td>-121.91330</td>\n",
       "      <td>0</td>\n",
       "      <td>1</td>\n",
       "    </tr>\n",
       "    <tr>\n",
       "      <th>1</th>\n",
       "      <td>6005</td>\n",
       "      <td>0.870878</td>\n",
       "      <td>195</td>\n",
       "      <td>820</td>\n",
       "      <td>568</td>\n",
       "      <td>165</td>\n",
       "      <td>1884</td>\n",
       "      <td>525</td>\n",
       "      <td>188</td>\n",
       "      <td>523</td>\n",
       "      <td>...</td>\n",
       "      <td>CA</td>\n",
       "      <td>Amador</td>\n",
       "      <td>38091</td>\n",
       "      <td>594.583</td>\n",
       "      <td>11.373</td>\n",
       "      <td>605.956</td>\n",
       "      <td>38.44355</td>\n",
       "      <td>-120.65385</td>\n",
       "      <td>0</td>\n",
       "      <td>1</td>\n",
       "    </tr>\n",
       "  </tbody>\n",
       "</table>\n",
       "<p>2 rows × 70 columns</p>\n",
       "</div>"
      ],
      "text/plain": [
       "   fips  vax_percentage  total_agriculture  total_construction  \\\n",
       "0  6001        0.962155               3308               39861   \n",
       "1  6005        0.870878                195                 820   \n",
       "\n",
       "   total_manufacturing  total_wholesale_trade  total_retail_trade  \\\n",
       "0                80961                  20969               75187   \n",
       "1                  568                    165                1884   \n",
       "\n",
       "   transportation_warehousing_utilities  total_information  \\\n",
       "0                                 39042              24187   \n",
       "1                                   525                188   \n",
       "\n",
       "   total_finance_and_real_estate  ...  State  County [2]  Population(2010)  \\\n",
       "0                          47611  ...     CA     Alameda           1510271   \n",
       "1                            523  ...     CA      Amador             38091   \n",
       "\n",
       "   Land Areami²  Water Areami²  Total Areami²  Latitude  Longitude  2016  2020  \n",
       "0       739.017         82.311        821.328  37.64808 -121.91330     0     1  \n",
       "1       594.583         11.373        605.956  38.44355 -120.65385     0     1  \n",
       "\n",
       "[2 rows x 70 columns]"
      ]
     },
     "execution_count": 43,
     "metadata": {},
     "output_type": "execute_result"
    }
   ],
   "source": [
    "dfall.head(2)"
   ]
  },
  {
   "cell_type": "code",
   "execution_count": 44,
   "id": "333beb60-8b19-44ee-9682-cbfeff35f89a",
   "metadata": {},
   "outputs": [],
   "source": [
    "# Target\n",
    "y = dfall['target']\n",
    "# Features\n",
    "X = dfall.drop('target', axis=1)"
   ]
  },
  {
   "cell_type": "code",
   "execution_count": 45,
   "id": "b0310c0e-1d7e-4f2e-a250-9f38ba4312d5",
   "metadata": {},
   "outputs": [],
   "source": [
    "X = X.drop(['office','state','dem_votes','rep_votes', 'year','ed_nursery_school','ed_kindergarten','ed_1st_grade',\n",
    "'ed_2nd_grade',\n",
    "'ed_3rd_grade',\n",
    "'ed_4th_grade',\n",
    "'ed_5th_grade',\n",
    "'ed_6th_grade',\n",
    "'ed_7th_grade',\n",
    "'ed_8th_grade',\n",
    "'ed_9th_grade',\n",
    "'e_10th_grade',\n",
    "'ed_11th_grade',\n",
    "'ed_12th_grade_no_diploma', \"County [2]\", \"State\", \"Latitude\", \"Longitude\", \"fips\"], axis=1)"
   ]
  },
  {
   "cell_type": "code",
   "execution_count": 46,
   "id": "a2bf5811-ca92-4a71-a38c-fe3a93ef4dc6",
   "metadata": {},
   "outputs": [],
   "source": [
    "X_tr, X_test, y_tr, y_test = train_test_split(X, y, test_size=.15, random_state=42)"
   ]
  },
  {
   "cell_type": "code",
   "execution_count": 47,
   "id": "b181cafe-ed16-47c8-980f-a89ddf312192",
   "metadata": {},
   "outputs": [],
   "source": [
    "X_train, X_val, y_train, y_val = train_test_split(X_tr, y_tr, test_size=.15, random_state=42)"
   ]
  },
  {
   "cell_type": "code",
   "execution_count": 150,
   "id": "bb9fb5e6-eb99-43f3-b444-70cb6167bbe1",
   "metadata": {},
   "outputs": [],
   "source": [
    "oversample = BorderlineSMOTE()\n",
    "X_train, y_train = oversample.fit_resample(X_train, y_train)"
   ]
  },
  {
   "cell_type": "code",
   "execution_count": 152,
   "id": "ca671efe-631f-4822-ade8-969f45e4d114",
   "metadata": {},
   "outputs": [
    {
     "name": "stdout",
     "output_type": "stream",
     "text": [
      "Counter({0: 571, 1: 571})\n"
     ]
    }
   ],
   "source": [
    "counter = Counter(y_train)\n",
    "print(counter)"
   ]
  },
  {
   "cell_type": "markdown",
   "id": "70d1eefd-711c-4d49-9e49-9b3998695600",
   "metadata": {},
   "source": [
    "### Feature Scaling"
   ]
  },
  {
   "cell_type": "code",
   "execution_count": 153,
   "id": "7fb52e22-f2de-4143-8312-aaeba718948d",
   "metadata": {},
   "outputs": [],
   "source": [
    "cols = list(X.columns)"
   ]
  },
  {
   "cell_type": "code",
   "execution_count": 154,
   "id": "1b917737-5e98-4b90-a972-f3574d34b1fb",
   "metadata": {},
   "outputs": [],
   "source": [
    "# Instantiate StandardScaler\n",
    "scaler = StandardScaler()"
   ]
  },
  {
   "cell_type": "code",
   "execution_count": 155,
   "id": "7baf597b-a058-4d66-a2a5-a003b69e3c7c",
   "metadata": {},
   "outputs": [
    {
     "data": {
      "text/plain": [
       "StandardScaler()"
      ]
     },
     "execution_count": 155,
     "metadata": {},
     "output_type": "execute_result"
    }
   ],
   "source": [
    "# fit on Imputed training data\n",
    "scaler.fit(X_train)"
   ]
  },
  {
   "cell_type": "code",
   "execution_count": 156,
   "id": "de5b5453-61db-49ac-9192-802ce030b99d",
   "metadata": {},
   "outputs": [],
   "source": [
    "# transform training and validation data\n",
    "X_train_scaled = pd.DataFrame(scaler.transform(X_train), columns=cols)\n",
    "X_val_scaled = pd.DataFrame(scaler.transform(X_val), columns=cols)\n",
    "X_test_scaled = pd.DataFrame(scaler.transform(X_test), columns=cols)"
   ]
  },
  {
   "cell_type": "code",
   "execution_count": 157,
   "id": "e8dec4f3-fc42-4e4c-b3e8-359dfe5e0a84",
   "metadata": {},
   "outputs": [],
   "source": [
    "#MY step to rename scaled data\n",
    "X_train_df = X_train_scaled\n",
    "X_val_df = X_val_scaled\n",
    "X_test_df = X_test_scaled"
   ]
  },
  {
   "cell_type": "markdown",
   "id": "f8de6216-8344-4cc3-979e-0df3cd8d0dc8",
   "metadata": {},
   "source": [
    "## Modeling"
   ]
  },
  {
   "cell_type": "code",
   "execution_count": 158,
   "id": "7f3f8d8b-ab43-4bf2-a88a-97a5126ab7c4",
   "metadata": {},
   "outputs": [],
   "source": [
    "def modeling_function(model, X_train, y_train, X_val, y_val):\n",
    "\n",
    "    # fit model on training data\n",
    "    model.fit(X_train, y_train)\n",
    "\n",
    "    # make predictions on training and validation data\n",
    "    train_preds = model.predict(X_train)\n",
    "    val_preds = model.predict(X_val)\n",
    "\n",
    "    # Print accuracy score\n",
    "    print('Training F1 score: ', f1_score(y_train, train_preds))\n",
    "    print('Validation F1 score: ', f1_score(y_val, val_preds))\n",
    "\n",
    "    # return fitted model\n",
    "    return model"
   ]
  },
  {
   "cell_type": "code",
   "execution_count": 159,
   "id": "f1a57b57-1cf7-4015-9e0d-9a112fd4222a",
   "metadata": {},
   "outputs": [],
   "source": [
    "def model_test_evaluation(model, X_test, y_test):\n",
    "\n",
    "    # make predictions on test data\n",
    "    test_preds = model.predict(X_test)\n",
    "\n",
    "    # Print accuracy score\n",
    "    print('Test F1 Score: ', f1_score(y_test, test_preds))"
   ]
  },
  {
   "cell_type": "markdown",
   "id": "3b8548e2-d194-4d50-abb3-3c322dc96526",
   "metadata": {},
   "source": [
    "### Baseline"
   ]
  },
  {
   "cell_type": "code",
   "execution_count": 160,
   "id": "a6fb1408-1234-4c23-803c-7eb0081e0cf7",
   "metadata": {},
   "outputs": [],
   "source": [
    "logreg = LogisticRegression(solver='liblinear')"
   ]
  },
  {
   "cell_type": "code",
   "execution_count": 161,
   "id": "11582704-44aa-4dd9-a556-fd1a8477f723",
   "metadata": {},
   "outputs": [
    {
     "name": "stdout",
     "output_type": "stream",
     "text": [
      "Training F1 score:  0.8676975945017182\n",
      "Validation F1 score:  0.9111111111111112\n"
     ]
    }
   ],
   "source": [
    "# call modeling function\n",
    "logreg = modeling_function(logreg, X_train_df, y_train, X_val_df, y_val)"
   ]
  },
  {
   "cell_type": "code",
   "execution_count": 162,
   "id": "ae19df88-01bc-4233-a282-f021dd21f00d",
   "metadata": {},
   "outputs": [
    {
     "data": {
      "text/plain": [
       "<sklearn.metrics._plot.confusion_matrix.ConfusionMatrixDisplay at 0x7fc095fbe5e0>"
      ]
     },
     "execution_count": 162,
     "metadata": {},
     "output_type": "execute_result"
    },
    {
     "data": {
      "image/png": "[encoded data removed]",
      "text/plain": [
       "<Figure size 432x288 with 2 Axes>"
      ]
     },
     "metadata": {
      "needs_background": "light"
     },
     "output_type": "display_data"
    }
   ],
   "source": [
    "plot_confusion_matrix(logreg, X_train_df, y_train)"
   ]
  },
  {
   "cell_type": "markdown",
   "id": "79ac4d2a-2687-4c2a-9476-7b1622ef4407",
   "metadata": {},
   "source": [
    "### Grid Search"
   ]
  },
  {
   "cell_type": "code",
   "execution_count": 179,
   "id": "1454722a-d3b8-4730-98b3-b9ca3762ef03",
   "metadata": {},
   "outputs": [],
   "source": [
    "param_grid = {\"penalty\": ['l1', 'l2'],\n",
    "              \"C\":[1000] }"
   ]
  },
  {
   "cell_type": "code",
   "execution_count": 180,
   "id": "179bbdb3-9ff3-445f-82b7-38bd251342ee",
   "metadata": {},
   "outputs": [],
   "source": [
    "gs = GridSearchCV(estimator=logreg, param_grid=param_grid, scoring=\"f1\")"
   ]
  },
  {
   "cell_type": "code",
   "execution_count": 181,
   "id": "0e7d8187-0a46-4ae3-9690-4ca2c78575a4",
   "metadata": {},
   "outputs": [],
   "source": [
    "grid_result = gs.fit(X_train_df, y_train)"
   ]
  },
  {
   "cell_type": "code",
   "execution_count": 182,
   "id": "8e40c9bf-fdb2-4c70-856b-71758b6009d7",
   "metadata": {},
   "outputs": [
    {
     "data": {
      "text/plain": [
       "{'C': 1000, 'penalty': 'l1'}"
      ]
     },
     "execution_count": 182,
     "metadata": {},
     "output_type": "execute_result"
    }
   ],
   "source": [
    "grid_result.best_params_"
   ]
  },
  {
   "cell_type": "code",
   "execution_count": 183,
   "id": "f4b5dd2f-812d-437c-a041-f326cfbafa05",
   "metadata": {},
   "outputs": [],
   "source": [
    "best_model = grid_result.best_estimator_"
   ]
  },
  {
   "cell_type": "code",
   "execution_count": 184,
   "id": "5e0fbee7-3ec9-48fe-8dbe-fcbee706bc18",
   "metadata": {},
   "outputs": [
    {
     "name": "stdout",
     "output_type": "stream",
     "text": [
      "Training F1 score:  0.9641294838145232\n",
      "Validation F1 score:  0.9625668449197862\n"
     ]
    }
   ],
   "source": [
    "best_model = modeling_function(best_model, X_train_df, y_train, X_val_df, y_val)"
   ]
  },
  {
   "cell_type": "code",
   "execution_count": 185,
   "id": "484653b7-f2b7-4ef9-b264-7ee8b3578616",
   "metadata": {},
   "outputs": [
    {
     "data": {
      "text/plain": [
       "<sklearn.metrics._plot.confusion_matrix.ConfusionMatrixDisplay at 0x7fc09692d0a0>"
      ]
     },
     "execution_count": 185,
     "metadata": {},
     "output_type": "execute_result"
    },
    {
     "data": {
      "image/png": "[encoded data removed]",
      "text/plain": [
       "<Figure size 432x288 with 2 Axes>"
      ]
     },
     "metadata": {
      "needs_background": "light"
     },
     "output_type": "display_data"
    }
   ],
   "source": [
    "plot_confusion_matrix(best_model, X_train_df, y_train)"
   ]
  },
  {
   "cell_type": "markdown",
   "id": "cc315463-c87d-40ce-af44-22dceb4e0433",
   "metadata": {},
   "source": [
    "#### Test data evaluation with best model and others"
   ]
  },
  {
   "cell_type": "code",
   "execution_count": 186,
   "id": "1672d493-e6a1-471b-be98-8b9255644ba8",
   "metadata": {},
   "outputs": [
    {
     "name": "stdout",
     "output_type": "stream",
     "text": [
      "Test F1 Score:  0.9596774193548386\n"
     ]
    }
   ],
   "source": [
    "#Best model\n",
    "model_test_evaluation(best_model, X_test_df, y_test)"
   ]
  }
 ],
 "metadata": {
  "kernelspec": {
   "display_name": "Python 3",
   "language": "python",
   "name": "python3"
  },
  "language_info": {
   "codemirror_mode": {
    "name": "ipython",
    "version": 3
   },
   "file_extension": ".py",
   "mimetype": "text/x-python",
   "name": "python",
   "nbconvert_exporter": "python",
   "pygments_lexer": "ipython3",
   "version": "3.9.5"
  }
 },
 "nbformat": 4,
 "nbformat_minor": 5
}
