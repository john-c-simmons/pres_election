{
 "cells": [
  {
   "cell_type": "code",
   "execution_count": 1,
   "id": "b5330309-c675-4538-80b8-2c5c5f1e0600",
   "metadata": {},
   "outputs": [],
   "source": [
    "import pandas as pd\n",
    "import numpy as np\n",
    "import seaborn as sns\n",
    "import matplotlib.pyplot as plt"
   ]
  },
  {
   "cell_type": "code",
   "execution_count": 2,
   "id": "9c9ca9b1-3996-4cfc-ac13-5fcfefb92545",
   "metadata": {},
   "outputs": [],
   "source": [
    "pres_url = \"../../data/countypres_2000-2020.csv\""
   ]
  },
  {
   "cell_type": "code",
   "execution_count": 3,
   "id": "a139154b-8fec-4b72-ad05-2f6b2078d626",
   "metadata": {},
   "outputs": [],
   "source": [
    "pres = pd.read_csv(pres_url)"
   ]
  },
  {
   "cell_type": "code",
   "execution_count": 4,
   "id": "b920296b-f3a9-4a1d-b1cd-88d423c5d8d5",
   "metadata": {},
   "outputs": [],
   "source": [
    "geo_url = \"../../data/geo.csv\""
   ]
  },
  {
   "cell_type": "code",
   "execution_count": 5,
   "id": "7b6f3244-711f-4a10-a161-b65fae7392b7",
   "metadata": {},
   "outputs": [],
   "source": [
    "geo = pd.read_csv(geo_url)"
   ]
  },
  {
   "cell_type": "code",
   "execution_count": 6,
   "id": "31e391cc-1680-4f7f-baec-88304d1b5bcb",
   "metadata": {},
   "outputs": [
    {
     "data": {
      "text/html": [
       "<div>\n",
       "<style scoped>\n",
       "    .dataframe tbody tr th:only-of-type {\n",
       "        vertical-align: middle;\n",
       "    }\n",
       "\n",
       "    .dataframe tbody tr th {\n",
       "        vertical-align: top;\n",
       "    }\n",
       "\n",
       "    .dataframe thead th {\n",
       "        text-align: right;\n",
       "    }\n",
       "</style>\n",
       "<table border=\"1\" class=\"dataframe\">\n",
       "  <thead>\n",
       "    <tr style=\"text-align: right;\">\n",
       "      <th></th>\n",
       "      <th>Sort [1]</th>\n",
       "      <th>State</th>\n",
       "      <th>FIPS</th>\n",
       "      <th>County [2]</th>\n",
       "      <th>County Seat(s) [3]</th>\n",
       "      <th>Population(2010)</th>\n",
       "      <th>Land Areakm²</th>\n",
       "      <th>Land Areami²</th>\n",
       "      <th>Water Areakm²</th>\n",
       "      <th>Water Areami²</th>\n",
       "      <th>Total Areakm²</th>\n",
       "      <th>Total Areami²</th>\n",
       "      <th>Latitude</th>\n",
       "      <th>Longitude</th>\n",
       "    </tr>\n",
       "  </thead>\n",
       "  <tbody>\n",
       "    <tr>\n",
       "      <th>0</th>\n",
       "      <td>1</td>\n",
       "      <td>AL</td>\n",
       "      <td>1001</td>\n",
       "      <td>Autauga</td>\n",
       "      <td>Prattville</td>\n",
       "      <td>54,571</td>\n",
       "      <td>1,539.582</td>\n",
       "      <td>594.436</td>\n",
       "      <td>25.776</td>\n",
       "      <td>9.952</td>\n",
       "      <td>1,565.358</td>\n",
       "      <td>604.388</td>\n",
       "      <td>+32.536382°</td>\n",
       "      <td>–86.644490°</td>\n",
       "    </tr>\n",
       "    <tr>\n",
       "      <th>1</th>\n",
       "      <td>2</td>\n",
       "      <td>AL</td>\n",
       "      <td>1003</td>\n",
       "      <td>Baldwin</td>\n",
       "      <td>Bay Minette</td>\n",
       "      <td>182,265</td>\n",
       "      <td>4,117.522</td>\n",
       "      <td>1,589.784</td>\n",
       "      <td>1,133.190</td>\n",
       "      <td>437.527</td>\n",
       "      <td>5,250.712</td>\n",
       "      <td>2,027.311</td>\n",
       "      <td>+30.659218°</td>\n",
       "      <td>–87.746067°</td>\n",
       "    </tr>\n",
       "  </tbody>\n",
       "</table>\n",
       "</div>"
      ],
      "text/plain": [
       "   Sort [1] State  FIPS County [2] County Seat(s) [3] Population(2010)  \\\n",
       "0         1    AL  1001    Autauga         Prattville           54,571   \n",
       "1         2    AL  1003    Baldwin        Bay Minette          182,265   \n",
       "\n",
       "  Land Areakm² Land Areami² Water Areakm² Water Areami² Total Areakm²  \\\n",
       "0    1,539.582      594.436        25.776         9.952     1,565.358   \n",
       "1    4,117.522    1,589.784     1,133.190       437.527     5,250.712   \n",
       "\n",
       "  Total Areami²     Latitude    Longitude  \n",
       "0       604.388  +32.536382°  –86.644490°  \n",
       "1     2,027.311  +30.659218°  –87.746067°  "
      ]
     },
     "execution_count": 6,
     "metadata": {},
     "output_type": "execute_result"
    }
   ],
   "source": [
    "geo.head(2)"
   ]
  },
  {
   "cell_type": "code",
   "execution_count": 7,
   "id": "95c6773b-0152-45cb-8c63-f0edfcac7753",
   "metadata": {},
   "outputs": [
    {
     "data": {
      "text/html": [
       "<div>\n",
       "<style scoped>\n",
       "    .dataframe tbody tr th:only-of-type {\n",
       "        vertical-align: middle;\n",
       "    }\n",
       "\n",
       "    .dataframe tbody tr th {\n",
       "        vertical-align: top;\n",
       "    }\n",
       "\n",
       "    .dataframe thead th {\n",
       "        text-align: right;\n",
       "    }\n",
       "</style>\n",
       "<table border=\"1\" class=\"dataframe\">\n",
       "  <thead>\n",
       "    <tr style=\"text-align: right;\">\n",
       "      <th></th>\n",
       "      <th>year</th>\n",
       "      <th>state</th>\n",
       "      <th>state_po</th>\n",
       "      <th>county_name</th>\n",
       "      <th>county_fips</th>\n",
       "      <th>office</th>\n",
       "      <th>candidate</th>\n",
       "      <th>party</th>\n",
       "      <th>candidatevotes</th>\n",
       "      <th>totalvotes</th>\n",
       "      <th>version</th>\n",
       "      <th>mode</th>\n",
       "    </tr>\n",
       "  </thead>\n",
       "  <tbody>\n",
       "    <tr>\n",
       "      <th>0</th>\n",
       "      <td>2000</td>\n",
       "      <td>ALABAMA</td>\n",
       "      <td>AL</td>\n",
       "      <td>AUTAUGA</td>\n",
       "      <td>1001.0</td>\n",
       "      <td>PRESIDENT</td>\n",
       "      <td>AL GORE</td>\n",
       "      <td>DEMOCRAT</td>\n",
       "      <td>4942.0</td>\n",
       "      <td>17208.0</td>\n",
       "      <td>20191203</td>\n",
       "      <td>TOTAL</td>\n",
       "    </tr>\n",
       "    <tr>\n",
       "      <th>1</th>\n",
       "      <td>2000</td>\n",
       "      <td>ALABAMA</td>\n",
       "      <td>AL</td>\n",
       "      <td>AUTAUGA</td>\n",
       "      <td>1001.0</td>\n",
       "      <td>PRESIDENT</td>\n",
       "      <td>GEORGE W. BUSH</td>\n",
       "      <td>REPUBLICAN</td>\n",
       "      <td>11993.0</td>\n",
       "      <td>17208.0</td>\n",
       "      <td>20191203</td>\n",
       "      <td>TOTAL</td>\n",
       "    </tr>\n",
       "  </tbody>\n",
       "</table>\n",
       "</div>"
      ],
      "text/plain": [
       "   year    state state_po county_name  county_fips     office       candidate  \\\n",
       "0  2000  ALABAMA       AL     AUTAUGA       1001.0  PRESIDENT         AL GORE   \n",
       "1  2000  ALABAMA       AL     AUTAUGA       1001.0  PRESIDENT  GEORGE W. BUSH   \n",
       "\n",
       "        party  candidatevotes  totalvotes   version   mode  \n",
       "0    DEMOCRAT          4942.0     17208.0  20191203  TOTAL  \n",
       "1  REPUBLICAN         11993.0     17208.0  20191203  TOTAL  "
      ]
     },
     "execution_count": 7,
     "metadata": {},
     "output_type": "execute_result"
    }
   ],
   "source": [
    "pres.head(2)"
   ]
  },
  {
   "cell_type": "code",
   "execution_count": 8,
   "id": "7aeaec0f-b0aa-4652-8e3c-87c1d3c23300",
   "metadata": {},
   "outputs": [],
   "source": [
    "#pres cleanup\n",
    "pres = pres.rename(columns={\"county_fips\":\"FIPS\"})\n",
    "pres[\"FIPS\"] = pres[\"FIPS\"]\n",
    "#pres = pres[(pres[\"state_po\"]==\"TX\") | (pres[\"state_po\"]==\"FL\") | (pres[\"state_po\"]==\"CA\") | (pres[\"state_po\"]==\"IL\") | (pres[\"state_po\"]==\"MI\")]\n",
    "pres.dropna(inplace=True)\n",
    "pres_cleaned = pres"
   ]
  },
  {
   "cell_type": "code",
   "execution_count": 9,
   "id": "7db211c9-e7a1-448d-bd8d-c3108c4e5074",
   "metadata": {},
   "outputs": [
    {
     "data": {
      "text/html": [
       "<div>\n",
       "<style scoped>\n",
       "    .dataframe tbody tr th:only-of-type {\n",
       "        vertical-align: middle;\n",
       "    }\n",
       "\n",
       "    .dataframe tbody tr th {\n",
       "        vertical-align: top;\n",
       "    }\n",
       "\n",
       "    .dataframe thead th {\n",
       "        text-align: right;\n",
       "    }\n",
       "</style>\n",
       "<table border=\"1\" class=\"dataframe\">\n",
       "  <thead>\n",
       "    <tr style=\"text-align: right;\">\n",
       "      <th></th>\n",
       "      <th>year</th>\n",
       "      <th>state</th>\n",
       "      <th>state_po</th>\n",
       "      <th>county_name</th>\n",
       "      <th>FIPS</th>\n",
       "      <th>office</th>\n",
       "      <th>candidate</th>\n",
       "      <th>party</th>\n",
       "      <th>candidatevotes</th>\n",
       "      <th>totalvotes</th>\n",
       "      <th>version</th>\n",
       "      <th>mode</th>\n",
       "    </tr>\n",
       "  </thead>\n",
       "  <tbody>\n",
       "    <tr>\n",
       "      <th>4800</th>\n",
       "      <td>2000</td>\n",
       "      <td>MICHIGAN</td>\n",
       "      <td>MI</td>\n",
       "      <td>ALCONA</td>\n",
       "      <td>26001.0</td>\n",
       "      <td>PRESIDENT</td>\n",
       "      <td>AL GORE</td>\n",
       "      <td>DEMOCRAT</td>\n",
       "      <td>2696.0</td>\n",
       "      <td>5997.0</td>\n",
       "      <td>20191203</td>\n",
       "      <td>TOTAL</td>\n",
       "    </tr>\n",
       "    <tr>\n",
       "      <th>4801</th>\n",
       "      <td>2000</td>\n",
       "      <td>MICHIGAN</td>\n",
       "      <td>MI</td>\n",
       "      <td>ALCONA</td>\n",
       "      <td>26001.0</td>\n",
       "      <td>PRESIDENT</td>\n",
       "      <td>GEORGE W. BUSH</td>\n",
       "      <td>REPUBLICAN</td>\n",
       "      <td>3152.0</td>\n",
       "      <td>5997.0</td>\n",
       "      <td>20191203</td>\n",
       "      <td>TOTAL</td>\n",
       "    </tr>\n",
       "  </tbody>\n",
       "</table>\n",
       "</div>"
      ],
      "text/plain": [
       "      year     state state_po county_name     FIPS     office       candidate  \\\n",
       "4800  2000  MICHIGAN       MI      ALCONA  26001.0  PRESIDENT         AL GORE   \n",
       "4801  2000  MICHIGAN       MI      ALCONA  26001.0  PRESIDENT  GEORGE W. BUSH   \n",
       "\n",
       "           party  candidatevotes  totalvotes   version   mode  \n",
       "4800    DEMOCRAT          2696.0      5997.0  20191203  TOTAL  \n",
       "4801  REPUBLICAN          3152.0      5997.0  20191203  TOTAL  "
      ]
     },
     "execution_count": 9,
     "metadata": {},
     "output_type": "execute_result"
    }
   ],
   "source": [
    "pres_cleaned[pres_cleaned[\"state_po\"]==\"MI\"].head(2)"
   ]
  },
  {
   "cell_type": "code",
   "execution_count": 10,
   "id": "9b22eb7b-11e5-4b00-8b3f-f27b8f5212b2",
   "metadata": {},
   "outputs": [
    {
     "data": {
      "text/html": [
       "<div>\n",
       "<style scoped>\n",
       "    .dataframe tbody tr th:only-of-type {\n",
       "        vertical-align: middle;\n",
       "    }\n",
       "\n",
       "    .dataframe tbody tr th {\n",
       "        vertical-align: top;\n",
       "    }\n",
       "\n",
       "    .dataframe thead th {\n",
       "        text-align: right;\n",
       "    }\n",
       "</style>\n",
       "<table border=\"1\" class=\"dataframe\">\n",
       "  <thead>\n",
       "    <tr style=\"text-align: right;\">\n",
       "      <th></th>\n",
       "      <th>year</th>\n",
       "      <th>state</th>\n",
       "      <th>state_po</th>\n",
       "      <th>county_name</th>\n",
       "      <th>FIPS</th>\n",
       "      <th>office</th>\n",
       "      <th>candidate</th>\n",
       "      <th>party</th>\n",
       "      <th>candidatevotes</th>\n",
       "      <th>totalvotes</th>\n",
       "      <th>version</th>\n",
       "      <th>mode</th>\n",
       "    </tr>\n",
       "  </thead>\n",
       "  <tbody>\n",
       "    <tr>\n",
       "      <th>0</th>\n",
       "      <td>2000</td>\n",
       "      <td>ALABAMA</td>\n",
       "      <td>AL</td>\n",
       "      <td>AUTAUGA</td>\n",
       "      <td>1001.0</td>\n",
       "      <td>PRESIDENT</td>\n",
       "      <td>AL GORE</td>\n",
       "      <td>DEMOCRAT</td>\n",
       "      <td>4942.0</td>\n",
       "      <td>17208.0</td>\n",
       "      <td>20191203</td>\n",
       "      <td>TOTAL</td>\n",
       "    </tr>\n",
       "    <tr>\n",
       "      <th>1</th>\n",
       "      <td>2000</td>\n",
       "      <td>ALABAMA</td>\n",
       "      <td>AL</td>\n",
       "      <td>AUTAUGA</td>\n",
       "      <td>1001.0</td>\n",
       "      <td>PRESIDENT</td>\n",
       "      <td>GEORGE W. BUSH</td>\n",
       "      <td>REPUBLICAN</td>\n",
       "      <td>11993.0</td>\n",
       "      <td>17208.0</td>\n",
       "      <td>20191203</td>\n",
       "      <td>TOTAL</td>\n",
       "    </tr>\n",
       "  </tbody>\n",
       "</table>\n",
       "</div>"
      ],
      "text/plain": [
       "   year    state state_po county_name    FIPS     office       candidate  \\\n",
       "0  2000  ALABAMA       AL     AUTAUGA  1001.0  PRESIDENT         AL GORE   \n",
       "1  2000  ALABAMA       AL     AUTAUGA  1001.0  PRESIDENT  GEORGE W. BUSH   \n",
       "\n",
       "        party  candidatevotes  totalvotes   version   mode  \n",
       "0    DEMOCRAT          4942.0     17208.0  20191203  TOTAL  \n",
       "1  REPUBLICAN         11993.0     17208.0  20191203  TOTAL  "
      ]
     },
     "execution_count": 10,
     "metadata": {},
     "output_type": "execute_result"
    }
   ],
   "source": [
    "pres_cleaned.head(2)"
   ]
  },
  {
   "cell_type": "code",
   "execution_count": 11,
   "id": "592f19f3-bdb0-460d-b1ea-26fc940f7036",
   "metadata": {},
   "outputs": [],
   "source": [
    "#geo cleanup\n",
    "geo.replace(',','', regex=True, inplace=True)\n",
    "geo[\"Longitude\"] = geo[\"Longitude\"].map(lambda l: float(l[1: -2])*-1 if l[0] == \"–\" else float(l[1: -2]))\n",
    "geo[\"Latitude\"] = geo[\"Latitude\"].map(lambda l: float(l[1: -2])*-1 if l[0] == \"–\" else float(l[1: -2]))\n",
    "geo[\"FIPS\"] = geo['FIPS'].map(lambda x: int(\"0\" + str(x)))\n",
    "#geo = geo[(geo[\"State\"]==\"TX\") | (geo[\"State\"]==\"FL\") | (geo[\"State\"]==\"CA\") | (geo[\"State\"]==\"IL\")| (geo[\"State\"]==\"MI\")]\n",
    "geo.drop([\"Land Areakm²\", \"Total Areakm²\", \"Water Areakm²\", \"County Seat(s) [3]\", \"Sort [1]\", \"County [2]\", \"State\"], axis=1, inplace=True)\n",
    "geo_clean = geo"
   ]
  },
  {
   "cell_type": "code",
   "execution_count": 12,
   "id": "3daab7fa-a79f-4bd5-9b25-fd18bfa95ac0",
   "metadata": {},
   "outputs": [
    {
     "data": {
      "text/html": [
       "<div>\n",
       "<style scoped>\n",
       "    .dataframe tbody tr th:only-of-type {\n",
       "        vertical-align: middle;\n",
       "    }\n",
       "\n",
       "    .dataframe tbody tr th {\n",
       "        vertical-align: top;\n",
       "    }\n",
       "\n",
       "    .dataframe thead th {\n",
       "        text-align: right;\n",
       "    }\n",
       "</style>\n",
       "<table border=\"1\" class=\"dataframe\">\n",
       "  <thead>\n",
       "    <tr style=\"text-align: right;\">\n",
       "      <th></th>\n",
       "      <th>FIPS</th>\n",
       "      <th>Population(2010)</th>\n",
       "      <th>Land Areami²</th>\n",
       "      <th>Water Areami²</th>\n",
       "      <th>Total Areami²</th>\n",
       "      <th>Latitude</th>\n",
       "      <th>Longitude</th>\n",
       "    </tr>\n",
       "  </thead>\n",
       "  <tbody>\n",
       "    <tr>\n",
       "      <th>0</th>\n",
       "      <td>1001</td>\n",
       "      <td>54571</td>\n",
       "      <td>594.436</td>\n",
       "      <td>9.952</td>\n",
       "      <td>604.388</td>\n",
       "      <td>32.53638</td>\n",
       "      <td>-86.64449</td>\n",
       "    </tr>\n",
       "    <tr>\n",
       "      <th>1</th>\n",
       "      <td>1003</td>\n",
       "      <td>182265</td>\n",
       "      <td>1589.784</td>\n",
       "      <td>437.527</td>\n",
       "      <td>2027.311</td>\n",
       "      <td>30.65921</td>\n",
       "      <td>-87.74606</td>\n",
       "    </tr>\n",
       "  </tbody>\n",
       "</table>\n",
       "</div>"
      ],
      "text/plain": [
       "   FIPS Population(2010) Land Areami² Water Areami² Total Areami²  Latitude  \\\n",
       "0  1001            54571      594.436         9.952       604.388  32.53638   \n",
       "1  1003           182265     1589.784       437.527      2027.311  30.65921   \n",
       "\n",
       "   Longitude  \n",
       "0  -86.64449  \n",
       "1  -87.74606  "
      ]
     },
     "execution_count": 12,
     "metadata": {},
     "output_type": "execute_result"
    }
   ],
   "source": [
    "geo_clean.head(2)"
   ]
  },
  {
   "cell_type": "code",
   "execution_count": 13,
   "id": "30f08973-29ff-4f97-b09e-3dfb1b6034d8",
   "metadata": {},
   "outputs": [],
   "source": [
    "pres_groups = list(pres_cleaned.groupby(['year', 'FIPS']).groups.keys())"
   ]
  },
  {
   "cell_type": "code",
   "execution_count": 14,
   "id": "12563bdb-84bb-420b-ab2f-4365f1594129",
   "metadata": {},
   "outputs": [],
   "source": [
    "row_cols = [\"year\", \"FIPS\", \"office\", \"state\", \"dem_votes\", \"rep_votes\", \"county\"]"
   ]
  },
  {
   "cell_type": "code",
   "execution_count": 15,
   "id": "f8300481-5188-4f9e-acb1-9f34c1a1ff92",
   "metadata": {},
   "outputs": [],
   "source": [
    "pres_clean = pd.DataFrame(columns = row_cols)"
   ]
  },
  {
   "cell_type": "code",
   "execution_count": 16,
   "id": "cf704521-2823-4f19-b800-0fe6f76d2f51",
   "metadata": {
    "tags": []
   },
   "outputs": [],
   "source": [
    "error_group = None\n",
    "for group in pres_groups:\n",
    "    year = group[0]\n",
    "    fips = group[1]\n",
    "    office = 'president'\n",
    "    g = pres_cleaned[(pres_cleaned['year'] == group[0]) & (pres_cleaned['FIPS'] == group[1])]\n",
    "    g.index = np.arange(0, len(g))\n",
    "    g_year = g.iloc[0][\"year\"]\n",
    "    g_FIPS = g.iloc[0][\"FIPS\"]\n",
    "    g_office = g.iloc[0][\"office\"]\n",
    "    g_state = g.iloc[0][\"state_po\"]\n",
    "    g_county = g.iloc[0][\"county_name\"]\n",
    "    g_demvotes = g[g[\"party\"]==\"DEMOCRAT\"][\"candidatevotes\"].values[0]\n",
    "    g_repvotes = g[g[\"party\"]==\"REPUBLICAN\"][\"candidatevotes\"].values[0]\n",
    "    all_county = [[g_year, g_FIPS, g_office, g_state, g_demvotes , g_repvotes, g_county]]    \n",
    "    pres_clean = pres_clean.append(pd.DataFrame(all_county, columns=row_cols))"
   ]
  },
  {
   "cell_type": "code",
   "execution_count": 17,
   "id": "876ee71f-750f-4f07-862b-6dedde7c848d",
   "metadata": {},
   "outputs": [],
   "source": [
    "#additional pres_clean cleaning:\n",
    "pres_clean[\"total_votes\"] = pres_clean[\"dem_votes\"] + pres_clean[\"rep_votes\"]\n"
   ]
  },
  {
   "cell_type": "code",
   "execution_count": 18,
   "id": "58ba08c2-68a4-46e4-89c7-d3d81f761d6e",
   "metadata": {},
   "outputs": [
    {
     "data": {
      "text/html": [
       "<div>\n",
       "<style scoped>\n",
       "    .dataframe tbody tr th:only-of-type {\n",
       "        vertical-align: middle;\n",
       "    }\n",
       "\n",
       "    .dataframe tbody tr th {\n",
       "        vertical-align: top;\n",
       "    }\n",
       "\n",
       "    .dataframe thead th {\n",
       "        text-align: right;\n",
       "    }\n",
       "</style>\n",
       "<table border=\"1\" class=\"dataframe\">\n",
       "  <thead>\n",
       "    <tr style=\"text-align: right;\">\n",
       "      <th></th>\n",
       "      <th>year</th>\n",
       "      <th>FIPS</th>\n",
       "      <th>office</th>\n",
       "      <th>state</th>\n",
       "      <th>dem_votes</th>\n",
       "      <th>rep_votes</th>\n",
       "      <th>county</th>\n",
       "      <th>total_votes</th>\n",
       "    </tr>\n",
       "  </thead>\n",
       "  <tbody>\n",
       "    <tr>\n",
       "      <th>0</th>\n",
       "      <td>2000</td>\n",
       "      <td>26001.0</td>\n",
       "      <td>PRESIDENT</td>\n",
       "      <td>MI</td>\n",
       "      <td>2696.0</td>\n",
       "      <td>3152.0</td>\n",
       "      <td>ALCONA</td>\n",
       "      <td>5848.0</td>\n",
       "    </tr>\n",
       "    <tr>\n",
       "      <th>0</th>\n",
       "      <td>2000</td>\n",
       "      <td>26003.0</td>\n",
       "      <td>PRESIDENT</td>\n",
       "      <td>MI</td>\n",
       "      <td>2071.0</td>\n",
       "      <td>2142.0</td>\n",
       "      <td>ALGER</td>\n",
       "      <td>4213.0</td>\n",
       "    </tr>\n",
       "    <tr>\n",
       "      <th>0</th>\n",
       "      <td>2000</td>\n",
       "      <td>26005.0</td>\n",
       "      <td>PRESIDENT</td>\n",
       "      <td>MI</td>\n",
       "      <td>15495.0</td>\n",
       "      <td>28197.0</td>\n",
       "      <td>ALLEGAN</td>\n",
       "      <td>43692.0</td>\n",
       "    </tr>\n",
       "    <tr>\n",
       "      <th>0</th>\n",
       "      <td>2000</td>\n",
       "      <td>26007.0</td>\n",
       "      <td>PRESIDENT</td>\n",
       "      <td>MI</td>\n",
       "      <td>7053.0</td>\n",
       "      <td>6769.0</td>\n",
       "      <td>ALPENA</td>\n",
       "      <td>13822.0</td>\n",
       "    </tr>\n",
       "    <tr>\n",
       "      <th>0</th>\n",
       "      <td>2000</td>\n",
       "      <td>26009.0</td>\n",
       "      <td>PRESIDENT</td>\n",
       "      <td>MI</td>\n",
       "      <td>4329.0</td>\n",
       "      <td>6780.0</td>\n",
       "      <td>ANTRIM</td>\n",
       "      <td>11109.0</td>\n",
       "    </tr>\n",
       "    <tr>\n",
       "      <th>...</th>\n",
       "      <td>...</td>\n",
       "      <td>...</td>\n",
       "      <td>...</td>\n",
       "      <td>...</td>\n",
       "      <td>...</td>\n",
       "      <td>...</td>\n",
       "      <td>...</td>\n",
       "      <td>...</td>\n",
       "    </tr>\n",
       "    <tr>\n",
       "      <th>0</th>\n",
       "      <td>2020</td>\n",
       "      <td>26157.0</td>\n",
       "      <td>PRESIDENT</td>\n",
       "      <td>MI</td>\n",
       "      <td>8712.0</td>\n",
       "      <td>20297.0</td>\n",
       "      <td>TUSCOLA</td>\n",
       "      <td>29009.0</td>\n",
       "    </tr>\n",
       "    <tr>\n",
       "      <th>0</th>\n",
       "      <td>2020</td>\n",
       "      <td>26159.0</td>\n",
       "      <td>PRESIDENT</td>\n",
       "      <td>MI</td>\n",
       "      <td>16803.0</td>\n",
       "      <td>21591.0</td>\n",
       "      <td>VAN BUREN</td>\n",
       "      <td>38394.0</td>\n",
       "    </tr>\n",
       "    <tr>\n",
       "      <th>0</th>\n",
       "      <td>2020</td>\n",
       "      <td>26161.0</td>\n",
       "      <td>PRESIDENT</td>\n",
       "      <td>MI</td>\n",
       "      <td>157136.0</td>\n",
       "      <td>56241.0</td>\n",
       "      <td>WASHTENAW</td>\n",
       "      <td>213377.0</td>\n",
       "    </tr>\n",
       "    <tr>\n",
       "      <th>0</th>\n",
       "      <td>2020</td>\n",
       "      <td>26163.0</td>\n",
       "      <td>PRESIDENT</td>\n",
       "      <td>MI</td>\n",
       "      <td>597170.0</td>\n",
       "      <td>264553.0</td>\n",
       "      <td>WAYNE</td>\n",
       "      <td>861723.0</td>\n",
       "    </tr>\n",
       "    <tr>\n",
       "      <th>0</th>\n",
       "      <td>2020</td>\n",
       "      <td>26165.0</td>\n",
       "      <td>PRESIDENT</td>\n",
       "      <td>MI</td>\n",
       "      <td>5838.0</td>\n",
       "      <td>12102.0</td>\n",
       "      <td>WEXFORD</td>\n",
       "      <td>17940.0</td>\n",
       "    </tr>\n",
       "  </tbody>\n",
       "</table>\n",
       "<p>498 rows × 8 columns</p>\n",
       "</div>"
      ],
      "text/plain": [
       "    year     FIPS     office state  dem_votes  rep_votes     county  \\\n",
       "0   2000  26001.0  PRESIDENT    MI     2696.0     3152.0     ALCONA   \n",
       "0   2000  26003.0  PRESIDENT    MI     2071.0     2142.0      ALGER   \n",
       "0   2000  26005.0  PRESIDENT    MI    15495.0    28197.0    ALLEGAN   \n",
       "0   2000  26007.0  PRESIDENT    MI     7053.0     6769.0     ALPENA   \n",
       "0   2000  26009.0  PRESIDENT    MI     4329.0     6780.0     ANTRIM   \n",
       "..   ...      ...        ...   ...        ...        ...        ...   \n",
       "0   2020  26157.0  PRESIDENT    MI     8712.0    20297.0    TUSCOLA   \n",
       "0   2020  26159.0  PRESIDENT    MI    16803.0    21591.0  VAN BUREN   \n",
       "0   2020  26161.0  PRESIDENT    MI   157136.0    56241.0  WASHTENAW   \n",
       "0   2020  26163.0  PRESIDENT    MI   597170.0   264553.0      WAYNE   \n",
       "0   2020  26165.0  PRESIDENT    MI     5838.0    12102.0    WEXFORD   \n",
       "\n",
       "    total_votes  \n",
       "0        5848.0  \n",
       "0        4213.0  \n",
       "0       43692.0  \n",
       "0       13822.0  \n",
       "0       11109.0  \n",
       "..          ...  \n",
       "0       29009.0  \n",
       "0       38394.0  \n",
       "0      213377.0  \n",
       "0      861723.0  \n",
       "0       17940.0  \n",
       "\n",
       "[498 rows x 8 columns]"
      ]
     },
     "execution_count": 18,
     "metadata": {},
     "output_type": "execute_result"
    }
   ],
   "source": [
    "pres_clean[pres_clean[\"state\"]==\"MI\"]"
   ]
  },
  {
   "cell_type": "code",
   "execution_count": 19,
   "id": "aed63afb-688d-46f9-9f00-3d18dca46bfa",
   "metadata": {},
   "outputs": [],
   "source": [
    "# Create target column\n",
    "pres_clean[\"target\"] = pres_clean.apply(lambda row: 0 if row[\"dem_votes\"] > row[\"rep_votes\"] else 1, axis=1)"
   ]
  },
  {
   "cell_type": "code",
   "execution_count": 20,
   "id": "14a2c965-debd-406c-b738-caa564e0582d",
   "metadata": {},
   "outputs": [],
   "source": [
    "def win_percentage(row):\n",
    "    if row[\"target\"]==0:\n",
    "        try:\n",
    "            return round(row[\"dem_votes\"]/row[\"total_votes\"] *100, 2)\n",
    "        except:\n",
    "            return 0\n",
    "    else:\n",
    "        try:\n",
    "            return round(row[\"rep_votes\"]/row[\"total_votes\"] *100, 2)\n",
    "        except:\n",
    "            return 0"
   ]
  },
  {
   "cell_type": "code",
   "execution_count": 21,
   "id": "04bc6f6e-2443-47ba-a5b0-085dbbbb24f0",
   "metadata": {},
   "outputs": [],
   "source": [
    "def win_margin(row):\n",
    "    if row[\"target\"]==0:\n",
    "        try:\n",
    "            return round((row[\"dem_votes\"]/row[\"total_votes\"] *100) - 50, 2)\n",
    "        except:\n",
    "                return 0\n",
    "    else:\n",
    "        try:\n",
    "            return round((row[\"rep_votes\"]/row[\"total_votes\"] *100) - 50, 2)\n",
    "        except:\n",
    "            return 0"
   ]
  },
  {
   "cell_type": "code",
   "execution_count": 22,
   "id": "a1ffee3e-9083-495a-9f05-bae371901fd3",
   "metadata": {},
   "outputs": [],
   "source": [
    "def skew(row):\n",
    "    if row[\"target\"]==0:\n",
    "        return row[\"win_margin\"]*-1\n",
    "    else:\n",
    "        return row[\"win_margin\"]"
   ]
  },
  {
   "cell_type": "code",
   "execution_count": null,
   "id": "d2c9a190-ca9f-49b1-83ad-01e7f77235b3",
   "metadata": {},
   "outputs": [],
   "source": [
    "def switch(row):\n",
    "    if row[\"target\"]!=:\n",
    "        return row[\"win_margin\"]*-1\n",
    "    else:\n",
    "        return row[\"win_margin\"]"
   ]
  },
  {
   "cell_type": "code",
   "execution_count": 67,
   "id": "f1a72baf-0201-458d-b1dc-5bef0501eef5",
   "metadata": {},
   "outputs": [
    {
     "data": {
      "text/html": [
       "<div>\n",
       "<style scoped>\n",
       "    .dataframe tbody tr th:only-of-type {\n",
       "        vertical-align: middle;\n",
       "    }\n",
       "\n",
       "    .dataframe tbody tr th {\n",
       "        vertical-align: top;\n",
       "    }\n",
       "\n",
       "    .dataframe thead th {\n",
       "        text-align: right;\n",
       "    }\n",
       "</style>\n",
       "<table border=\"1\" class=\"dataframe\">\n",
       "  <thead>\n",
       "    <tr style=\"text-align: right;\">\n",
       "      <th></th>\n",
       "      <th>year</th>\n",
       "      <th>FIPS</th>\n",
       "      <th>office</th>\n",
       "      <th>state</th>\n",
       "      <th>dem_votes</th>\n",
       "      <th>rep_votes</th>\n",
       "      <th>county</th>\n",
       "      <th>total_votes</th>\n",
       "      <th>target</th>\n",
       "      <th>win_percentage</th>\n",
       "      <th>win_margin</th>\n",
       "      <th>skew</th>\n",
       "    </tr>\n",
       "  </thead>\n",
       "  <tbody>\n",
       "    <tr>\n",
       "      <th>0</th>\n",
       "      <td>2000</td>\n",
       "      <td>1001.0</td>\n",
       "      <td>PRESIDENT</td>\n",
       "      <td>AL</td>\n",
       "      <td>4942.0</td>\n",
       "      <td>11993.0</td>\n",
       "      <td>AUTAUGA</td>\n",
       "      <td>16935.0</td>\n",
       "      <td>1</td>\n",
       "      <td>70.82</td>\n",
       "      <td>20.82</td>\n",
       "      <td>20.82</td>\n",
       "    </tr>\n",
       "    <tr>\n",
       "      <th>0</th>\n",
       "      <td>2000</td>\n",
       "      <td>1003.0</td>\n",
       "      <td>PRESIDENT</td>\n",
       "      <td>AL</td>\n",
       "      <td>13997.0</td>\n",
       "      <td>40872.0</td>\n",
       "      <td>BALDWIN</td>\n",
       "      <td>54869.0</td>\n",
       "      <td>1</td>\n",
       "      <td>74.49</td>\n",
       "      <td>24.49</td>\n",
       "      <td>24.49</td>\n",
       "    </tr>\n",
       "  </tbody>\n",
       "</table>\n",
       "</div>"
      ],
      "text/plain": [
       "   year    FIPS     office state  dem_votes  rep_votes   county  total_votes  \\\n",
       "0  2000  1001.0  PRESIDENT    AL     4942.0    11993.0  AUTAUGA      16935.0   \n",
       "0  2000  1003.0  PRESIDENT    AL    13997.0    40872.0  BALDWIN      54869.0   \n",
       "\n",
       "   target  win_percentage  win_margin   skew  \n",
       "0       1           70.82       20.82  20.82  \n",
       "0       1           74.49       24.49  24.49  "
      ]
     },
     "execution_count": 67,
     "metadata": {},
     "output_type": "execute_result"
    }
   ],
   "source": [
    "pres_clean.head(2)"
   ]
  },
  {
   "cell_type": "code",
   "execution_count": 94,
   "id": "60f7a7f7-64bd-44c0-ae1f-7d1be34d5a93",
   "metadata": {},
   "outputs": [],
   "source": [
    "df_2016 = pres_clean[pres_clean.year == 2016][['FIPS','state', 'county', 'target']].rename(columns={'target':'target_2016'})\n",
    "df_2020 = pres_clean[pres_clean.year == 2020][['FIPS','state', 'county', 'target']].rename(columns={'target':'target_2020'})\n"
   ]
  },
  {
   "cell_type": "code",
   "execution_count": 95,
   "id": "282ceae9-21c4-496e-91c7-4309e2b1b2e3",
   "metadata": {},
   "outputs": [],
   "source": [
    "change = df_2016.merge(df_2020, on=['state', 'county'])"
   ]
  },
  {
   "cell_type": "code",
   "execution_count": 96,
   "id": "1c7edc2a-2d22-498b-a570-e58e75811169",
   "metadata": {},
   "outputs": [],
   "source": [
    "flipped = change[(change.target_2020 - change.target_2016) != 0]"
   ]
  },
  {
   "cell_type": "code",
   "execution_count": 97,
   "id": "69ba8f11-25e8-4469-bba5-1ef31fabf1d9",
   "metadata": {},
   "outputs": [],
   "source": [
    "flipped = flipped[flipped.state.isin(['MI', 'FL', 'TX', 'IL', 'CA'])]"
   ]
  },
  {
   "cell_type": "code",
   "execution_count": 24,
   "id": "ff57a709-0223-4ba9-9f8e-2df1c433ed00",
   "metadata": {},
   "outputs": [],
   "source": [
    "pres_clean[\"win_percentage\"] = pres_clean.apply(win_percentage, axis=1)\n",
    "pres_clean[\"win_margin\"] = pres_clean.apply(win_margin, axis=1)\n",
    "pres_clean[\"skew\"] = pres_clean.apply(skew, axis=1)"
   ]
  },
  {
   "cell_type": "code",
   "execution_count": null,
   "id": "223f465e-c7e1-4607-ba64-f82f4f00e2ae",
   "metadata": {},
   "outputs": [],
   "source": [
    "pres_clean[\"switch\"] = pres_clean.apply"
   ]
  },
  {
   "cell_type": "code",
   "execution_count": 25,
   "id": "f3e932d9-bcf3-4f81-827e-0bb3a2190f40",
   "metadata": {},
   "outputs": [],
   "source": [
    "#for county in all unique counties, which one had the biggest change in skew"
   ]
  },
  {
   "cell_type": "code",
   "execution_count": 26,
   "id": "666d7484-310c-42d3-a055-fbd66c709d47",
   "metadata": {},
   "outputs": [],
   "source": [
    "FIPS_groups = list(pres_cleaned.groupby(['FIPS']).groups.keys())"
   ]
  },
  {
   "cell_type": "code",
   "execution_count": 43,
   "id": "4e3a91be-5d90-4a5d-b535-019ae0a9f0f5",
   "metadata": {},
   "outputs": [],
   "source": [
    "row_cols = [\"all_skew_diff\", \"1620_skew_diff\", \"FIPS\", \"county\", \"state\"]"
   ]
  },
  {
   "cell_type": "code",
   "execution_count": 44,
   "id": "08d4ab0f-8292-462a-a470-1cfb4dc1c001",
   "metadata": {},
   "outputs": [],
   "source": [
    "top_skew = pd.DataFrame(columns = row_cols)"
   ]
  },
  {
   "cell_type": "code",
   "execution_count": 45,
   "id": "b18798d9-5293-4d0a-a118-6e944cce5de4",
   "metadata": {},
   "outputs": [],
   "source": [
    "for fips in FIPS_groups:\n",
    "    try:\n",
    "        g = pres_clean[pres_clean[\"FIPS\"]==fips]\n",
    "        g.index = np.arange(0, len(g))\n",
    "        g_FIPS = g.iloc[0][\"FIPS\"]\n",
    "        g_all_skew_diff = ((np.abs(g.iloc[0][\"skew\"] - g.iloc[len(g)-2][\"skew\"]))+ (np.abs(g.iloc[1][\"skew\"] - g.iloc[len(g)-1][\"skew\"])))/2\n",
    "        g_1620_skew_diff = (np.abs(g.iloc[-2][\"skew\"] - g.iloc[len(g)-1][\"skew\"]))\n",
    "        g_1620_switch = g.apply(lambda )\n",
    "        g_state = g.iloc[0][\"state\"]\n",
    "        g_county = g.iloc[0][\"county\"]\n",
    "        row = [[g_all_skew_diff, g_1620_skew_diff, g_FIPS, g_county, g_state]]\n",
    "        top_skew = top_skew.append(pd.DataFrame(row, columns=row_cols))\n",
    "    except:\n",
    "        pass"
   ]
  },
  {
   "cell_type": "code",
   "execution_count": 32,
   "id": "c57d6f43-5a3d-4302-a807-3d3943b68ebe",
   "metadata": {},
   "outputs": [],
   "source": [
    "j = pres_clean.merge(geo_clean, on=\"FIPS\", how=\"inner\")"
   ]
  },
  {
   "cell_type": "code",
   "execution_count": 33,
   "id": "86938dd3-d993-4e40-906d-9086a7e76779",
   "metadata": {},
   "outputs": [
    {
     "data": {
      "text/plain": [
       "(3114, 18)"
      ]
     },
     "execution_count": 33,
     "metadata": {},
     "output_type": "execute_result"
    }
   ],
   "source": [
    "j[j[\"year\"]==2016].shape"
   ]
  },
  {
   "cell_type": "code",
   "execution_count": 60,
   "id": "b8465434-3fb1-4cff-9bc2-69a707380916",
   "metadata": {},
   "outputs": [],
   "source": [
    "o = top_skew.merge(geo_clean, on=\"FIPS\", how=\"inner\")"
   ]
  },
  {
   "cell_type": "code",
   "execution_count": 61,
   "id": "03f4c1d2-5135-45f2-9a15-5e14d5bf6364",
   "metadata": {},
   "outputs": [],
   "source": [
    "o.drop([\"Land Areami²\",\"Water Areami²\", \"Total Areami²\"], axis=1, inplace=True)"
   ]
  },
  {
   "cell_type": "code",
   "execution_count": 62,
   "id": "462f0835-c665-4dcf-bab1-d1ee6c32f182",
   "metadata": {},
   "outputs": [],
   "source": [
    "o.sort_values(by=\"1620_skew_diff\", ascending=False, inplace=True)"
   ]
  },
  {
   "cell_type": "code",
   "execution_count": 63,
   "id": "ae5eba66-1a74-4852-955b-8bc358f21484",
   "metadata": {},
   "outputs": [
    {
     "data": {
      "text/html": [
       "<div>\n",
       "<style scoped>\n",
       "    .dataframe tbody tr th:only-of-type {\n",
       "        vertical-align: middle;\n",
       "    }\n",
       "\n",
       "    .dataframe tbody tr th {\n",
       "        vertical-align: top;\n",
       "    }\n",
       "\n",
       "    .dataframe thead th {\n",
       "        text-align: right;\n",
       "    }\n",
       "</style>\n",
       "<table border=\"1\" class=\"dataframe\">\n",
       "  <thead>\n",
       "    <tr style=\"text-align: right;\">\n",
       "      <th></th>\n",
       "      <th>all_skew_diff</th>\n",
       "      <th>1620_skew_diff</th>\n",
       "      <th>FIPS</th>\n",
       "      <th>county</th>\n",
       "      <th>state</th>\n",
       "      <th>Population(2010)</th>\n",
       "      <th>Latitude</th>\n",
       "      <th>Longitude</th>\n",
       "    </tr>\n",
       "  </thead>\n",
       "  <tbody>\n",
       "    <tr>\n",
       "      <th>2764</th>\n",
       "      <td>22.275</td>\n",
       "      <td>43.02</td>\n",
       "      <td>49031.0</td>\n",
       "      <td>PIUTE</td>\n",
       "      <td>UT</td>\n",
       "      <td>1556</td>\n",
       "      <td>38.33588</td>\n",
       "      <td>-112.12937</td>\n",
       "    </tr>\n",
       "    <tr>\n",
       "      <th>2755</th>\n",
       "      <td>22.955</td>\n",
       "      <td>41.68</td>\n",
       "      <td>49013.0</td>\n",
       "      <td>DUCHESNE</td>\n",
       "      <td>UT</td>\n",
       "      <td>18607</td>\n",
       "      <td>40.28964</td>\n",
       "      <td>-110.42983</td>\n",
       "    </tr>\n",
       "  </tbody>\n",
       "</table>\n",
       "</div>"
      ],
      "text/plain": [
       "      all_skew_diff  1620_skew_diff     FIPS    county state Population(2010)  \\\n",
       "2764         22.275           43.02  49031.0     PIUTE    UT             1556   \n",
       "2755         22.955           41.68  49013.0  DUCHESNE    UT            18607   \n",
       "\n",
       "      Latitude  Longitude  \n",
       "2764  38.33588 -112.12937  \n",
       "2755  40.28964 -110.42983  "
      ]
     },
     "execution_count": 63,
     "metadata": {},
     "output_type": "execute_result"
    }
   ],
   "source": [
    "o.head(2)"
   ]
  },
  {
   "cell_type": "markdown",
   "id": "ae98d3bd-5406-423e-8dd1-07ff899acdc7",
   "metadata": {},
   "source": [
    "## Visualizations\n",
    "\n",
    "#### 1 = Republican win, 0 = Democrat win"
   ]
  },
  {
   "cell_type": "code",
   "execution_count": null,
   "id": "504b82c9-9a91-4c59-92bb-1dab89b11eec",
   "metadata": {},
   "outputs": [],
   "source": [
    "sum_rep = j.rep_votes.sum()"
   ]
  },
  {
   "cell_type": "code",
   "execution_count": null,
   "id": "9e64e72d-e802-4b0d-bb51-9be25d7333ba",
   "metadata": {},
   "outputs": [],
   "source": [
    "sum_dem = j.dem_votes.sum()"
   ]
  },
  {
   "cell_type": "code",
   "execution_count": null,
   "id": "b5a3cee5-714a-47ab-a8ac-81ba6a945677",
   "metadata": {},
   "outputs": [],
   "source": [
    "sum_total_votes = sum_rep + sum_dem"
   ]
  },
  {
   "cell_type": "code",
   "execution_count": null,
   "id": "6c6ec173-f972-48be-9e6b-508f8b5ebd80",
   "metadata": {},
   "outputs": [],
   "source": [
    "def vote_inferential(df):\n",
    "    sum_rep = j.rep_votes.sum()\n",
    "    sum_dem = j.dem_votes.sum()\n",
    "    sum_total = sum_rep + sum_dem\n",
    "    rep_vote_per = round(sum_rep/sum_total *100, 2)\n",
    "    dem_vote_per = round(sum_dem/sum_total *100, 2)\n",
    "    return (rep_vote_per, dem_vote_per)"
   ]
  },
  {
   "cell_type": "code",
   "execution_count": null,
   "id": "78202ab0-600c-4a4f-af70-0c3536d9c9ec",
   "metadata": {},
   "outputs": [],
   "source": [
    "vote_inferential(j)"
   ]
  },
  {
   "cell_type": "code",
   "execution_count": null,
   "id": "88c29f1c-e29b-4610-a3dc-d9969dad2ac0",
   "metadata": {},
   "outputs": [],
   "source": [
    "j.target.value_counts(normalize=True)"
   ]
  },
  {
   "cell_type": "code",
   "execution_count": null,
   "id": "5d59761b-ec54-45dc-a249-a51335f17c9e",
   "metadata": {},
   "outputs": [],
   "source": [
    "red = \"#D33E69\"\n",
    "blue = \"#2A3990\""
   ]
  },
  {
   "cell_type": "code",
   "execution_count": null,
   "id": "3a5fed42-a3be-49c5-a110-a6724bc72228",
   "metadata": {},
   "outputs": [],
   "source": [
    "austin_fips = 48015"
   ]
  },
  {
   "cell_type": "code",
   "execution_count": null,
   "id": "bec3671d-da72-43e0-b4fd-86152d1b4e2b",
   "metadata": {},
   "outputs": [],
   "source": [
    "#for rj[j[\"FIPS\"]==austin_fips]"
   ]
  },
  {
   "cell_type": "code",
   "execution_count": null,
   "id": "86515bc0-39dd-4e64-85c5-2f59e002b599",
   "metadata": {},
   "outputs": [],
   "source": [
    "fig, ax = plt.subplots(figsize=(8,8))\n",
    "plt.title(\"Total Votes v. Total Counties Won\", size=20)\n",
    "plt.tick_params(axis='both', labelsize=12)\n",
    "plt.ylabel(\"Percentage\", size=15)\n",
    "sns.barplot([\"R. Votes\", \"D. Votes\", \"R. Counties Won\", \"B. Counties Won\"], [46.13,57.87, 81.67,18.34], palette=[red, blue, red, blue]);"
   ]
  },
  {
   "cell_type": "code",
   "execution_count": null,
   "id": "cbaae552-5b7c-4888-8f62-5cd4c1635737",
   "metadata": {},
   "outputs": [],
   "source": [
    "wm = j[[\"win_margin\"]]"
   ]
  },
  {
   "cell_type": "code",
   "execution_count": null,
   "id": "f791b4ba-8c7b-4fb2-aed7-a3be0ad7852e",
   "metadata": {},
   "outputs": [],
   "source": [
    "wm[\"skew\"] = j[\"skew\"]"
   ]
  },
  {
   "cell_type": "code",
   "execution_count": null,
   "id": "761c03e4-598c-4107-8c76-24c0779b4dbc",
   "metadata": {},
   "outputs": [],
   "source": [
    "wm[\"likelihood\"] = wm[\"win_margin\"].map(lambda margin: \"unlikely\" if margin > 30 else \"likely\")"
   ]
  },
  {
   "cell_type": "code",
   "execution_count": null,
   "id": "d9a52435-0ee3-4aed-b9d8-c7ec3d97c15c",
   "metadata": {},
   "outputs": [],
   "source": [
    "fig, ax = plt.subplots(figsize=(8,8))\n",
    "sns.histplot(data=wm, x=wm[\"win_margin\"], bins=20, ax=ax, palette = [red, blue], hue=wm[\"likelihood\"])\n",
    "plt.text(wm[\"win_margin\"].mean()+1, 150, \"Mean\", color = \"black\", size=15, fontweight='bold')\n",
    "plt.text(wm[\"win_margin\"].mean()+1, 137, \"(19%)\", color = \"black\", size=15, fontweight='bold')\n",
    "plt.vlines(wm[\"win_margin\"].mean(), 0, 210, color=\"black\", linewidth=6)\n",
    "plt.title(\"Win Margin Percentage Distribution\", size=20)\n",
    "plt.ylabel(\"County Elections\", size=15)\n",
    "plt.xlabel(\"Win Margin(Percentage)\", size=15)"
   ]
  }
 ],
 "metadata": {
  "kernelspec": {
   "display_name": "Python 3",
   "language": "python",
   "name": "python3"
  },
  "language_info": {
   "codemirror_mode": {
    "name": "ipython",
    "version": 3
   },
   "file_extension": ".py",
   "mimetype": "text/x-python",
   "name": "python",
   "nbconvert_exporter": "python",
   "pygments_lexer": "ipython3",
   "version": "3.9.5"
  }
 },
 "nbformat": 4,
 "nbformat_minor": 5
}
