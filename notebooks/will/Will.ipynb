{
 "cells": [
  {
   "cell_type": "code",
   "execution_count": 1,
   "id": "b5330309-c675-4538-80b8-2c5c5f1e0600",
   "metadata": {},
   "outputs": [],
   "source": [
    "import pandas as pd\n",
    "import numpy as np"
   ]
  },
  {
   "cell_type": "code",
   "execution_count": 2,
   "id": "9c9ca9b1-3996-4cfc-ac13-5fcfefb92545",
   "metadata": {},
   "outputs": [],
   "source": [
    "pres_url = \"../../data/countypres_2000-2020.csv\""
   ]
  },
  {
   "cell_type": "code",
   "execution_count": 3,
   "id": "a139154b-8fec-4b72-ad05-2f6b2078d626",
   "metadata": {},
   "outputs": [],
   "source": [
    "pres = pd.read_csv(pres_url)"
   ]
  },
  {
   "cell_type": "code",
   "execution_count": 5,
   "id": "38a1760f-1fbd-45f0-9243-0e2d20f64069",
   "metadata": {},
   "outputs": [],
   "source": [
    "vaccine_url = \"../../data/COVID-19_Vaccinations_in_the_United_States_County.csv\""
   ]
  },
  {
   "cell_type": "code",
   "execution_count": 6,
   "id": "10d00068-00ee-4851-9e94-7ed7046e42c2",
   "metadata": {},
   "outputs": [
    {
     "ename": "FileNotFoundError",
     "evalue": "[Errno 2] No such file or directory: '../../data/COVID-19_Vaccinations_in_the_United_States_County.csv'",
     "output_type": "error",
     "traceback": [
      "\u001b[0;31m---------------------------------------------------------------------------\u001b[0m",
      "\u001b[0;31mFileNotFoundError\u001b[0m                         Traceback (most recent call last)",
      "\u001b[0;32m<ipython-input-6-702ad98ec3d8>\u001b[0m in \u001b[0;36m<module>\u001b[0;34m\u001b[0m\n\u001b[0;32m----> 1\u001b[0;31m \u001b[0mvacc\u001b[0m \u001b[0;34m=\u001b[0m \u001b[0mpd\u001b[0m\u001b[0;34m.\u001b[0m\u001b[0mread_csv\u001b[0m\u001b[0;34m(\u001b[0m\u001b[0mvaccine_url\u001b[0m\u001b[0;34m)\u001b[0m\u001b[0;34m\u001b[0m\u001b[0;34m\u001b[0m\u001b[0m\n\u001b[0m",
      "\u001b[0;32m~/opt/anaconda3/envs/learn-env/lib/python3.9/site-packages/pandas/util/_decorators.py\u001b[0m in \u001b[0;36mwrapper\u001b[0;34m(*args, **kwargs)\u001b[0m\n\u001b[1;32m    309\u001b[0m                     \u001b[0mstacklevel\u001b[0m\u001b[0;34m=\u001b[0m\u001b[0mstacklevel\u001b[0m\u001b[0;34m,\u001b[0m\u001b[0;34m\u001b[0m\u001b[0;34m\u001b[0m\u001b[0m\n\u001b[1;32m    310\u001b[0m                 )\n\u001b[0;32m--> 311\u001b[0;31m             \u001b[0;32mreturn\u001b[0m \u001b[0mfunc\u001b[0m\u001b[0;34m(\u001b[0m\u001b[0;34m*\u001b[0m\u001b[0margs\u001b[0m\u001b[0;34m,\u001b[0m \u001b[0;34m**\u001b[0m\u001b[0mkwargs\u001b[0m\u001b[0;34m)\u001b[0m\u001b[0;34m\u001b[0m\u001b[0;34m\u001b[0m\u001b[0m\n\u001b[0m\u001b[1;32m    312\u001b[0m \u001b[0;34m\u001b[0m\u001b[0m\n\u001b[1;32m    313\u001b[0m         \u001b[0;32mreturn\u001b[0m \u001b[0mwrapper\u001b[0m\u001b[0;34m\u001b[0m\u001b[0;34m\u001b[0m\u001b[0m\n",
      "\u001b[0;32m~/opt/anaconda3/envs/learn-env/lib/python3.9/site-packages/pandas/io/parsers/readers.py\u001b[0m in \u001b[0;36mread_csv\u001b[0;34m(filepath_or_buffer, sep, delimiter, header, names, index_col, usecols, squeeze, prefix, mangle_dupe_cols, dtype, engine, converters, true_values, false_values, skipinitialspace, skiprows, skipfooter, nrows, na_values, keep_default_na, na_filter, verbose, skip_blank_lines, parse_dates, infer_datetime_format, keep_date_col, date_parser, dayfirst, cache_dates, iterator, chunksize, compression, thousands, decimal, lineterminator, quotechar, quoting, doublequote, escapechar, comment, encoding, encoding_errors, dialect, error_bad_lines, warn_bad_lines, on_bad_lines, delim_whitespace, low_memory, memory_map, float_precision, storage_options)\u001b[0m\n\u001b[1;32m    584\u001b[0m     \u001b[0mkwds\u001b[0m\u001b[0;34m.\u001b[0m\u001b[0mupdate\u001b[0m\u001b[0;34m(\u001b[0m\u001b[0mkwds_defaults\u001b[0m\u001b[0;34m)\u001b[0m\u001b[0;34m\u001b[0m\u001b[0;34m\u001b[0m\u001b[0m\n\u001b[1;32m    585\u001b[0m \u001b[0;34m\u001b[0m\u001b[0m\n\u001b[0;32m--> 586\u001b[0;31m     \u001b[0;32mreturn\u001b[0m \u001b[0m_read\u001b[0m\u001b[0;34m(\u001b[0m\u001b[0mfilepath_or_buffer\u001b[0m\u001b[0;34m,\u001b[0m \u001b[0mkwds\u001b[0m\u001b[0;34m)\u001b[0m\u001b[0;34m\u001b[0m\u001b[0;34m\u001b[0m\u001b[0m\n\u001b[0m\u001b[1;32m    587\u001b[0m \u001b[0;34m\u001b[0m\u001b[0m\n\u001b[1;32m    588\u001b[0m \u001b[0;34m\u001b[0m\u001b[0m\n",
      "\u001b[0;32m~/opt/anaconda3/envs/learn-env/lib/python3.9/site-packages/pandas/io/parsers/readers.py\u001b[0m in \u001b[0;36m_read\u001b[0;34m(filepath_or_buffer, kwds)\u001b[0m\n\u001b[1;32m    480\u001b[0m \u001b[0;34m\u001b[0m\u001b[0m\n\u001b[1;32m    481\u001b[0m     \u001b[0;31m# Create the parser.\u001b[0m\u001b[0;34m\u001b[0m\u001b[0;34m\u001b[0m\u001b[0;34m\u001b[0m\u001b[0m\n\u001b[0;32m--> 482\u001b[0;31m     \u001b[0mparser\u001b[0m \u001b[0;34m=\u001b[0m \u001b[0mTextFileReader\u001b[0m\u001b[0;34m(\u001b[0m\u001b[0mfilepath_or_buffer\u001b[0m\u001b[0;34m,\u001b[0m \u001b[0;34m**\u001b[0m\u001b[0mkwds\u001b[0m\u001b[0;34m)\u001b[0m\u001b[0;34m\u001b[0m\u001b[0;34m\u001b[0m\u001b[0m\n\u001b[0m\u001b[1;32m    483\u001b[0m \u001b[0;34m\u001b[0m\u001b[0m\n\u001b[1;32m    484\u001b[0m     \u001b[0;32mif\u001b[0m \u001b[0mchunksize\u001b[0m \u001b[0;32mor\u001b[0m \u001b[0miterator\u001b[0m\u001b[0;34m:\u001b[0m\u001b[0;34m\u001b[0m\u001b[0;34m\u001b[0m\u001b[0m\n",
      "\u001b[0;32m~/opt/anaconda3/envs/learn-env/lib/python3.9/site-packages/pandas/io/parsers/readers.py\u001b[0m in \u001b[0;36m__init__\u001b[0;34m(self, f, engine, **kwds)\u001b[0m\n\u001b[1;32m    809\u001b[0m             \u001b[0mself\u001b[0m\u001b[0;34m.\u001b[0m\u001b[0moptions\u001b[0m\u001b[0;34m[\u001b[0m\u001b[0;34m\"has_index_names\"\u001b[0m\u001b[0;34m]\u001b[0m \u001b[0;34m=\u001b[0m \u001b[0mkwds\u001b[0m\u001b[0;34m[\u001b[0m\u001b[0;34m\"has_index_names\"\u001b[0m\u001b[0;34m]\u001b[0m\u001b[0;34m\u001b[0m\u001b[0;34m\u001b[0m\u001b[0m\n\u001b[1;32m    810\u001b[0m \u001b[0;34m\u001b[0m\u001b[0m\n\u001b[0;32m--> 811\u001b[0;31m         \u001b[0mself\u001b[0m\u001b[0;34m.\u001b[0m\u001b[0m_engine\u001b[0m \u001b[0;34m=\u001b[0m \u001b[0mself\u001b[0m\u001b[0;34m.\u001b[0m\u001b[0m_make_engine\u001b[0m\u001b[0;34m(\u001b[0m\u001b[0mself\u001b[0m\u001b[0;34m.\u001b[0m\u001b[0mengine\u001b[0m\u001b[0;34m)\u001b[0m\u001b[0;34m\u001b[0m\u001b[0;34m\u001b[0m\u001b[0m\n\u001b[0m\u001b[1;32m    812\u001b[0m \u001b[0;34m\u001b[0m\u001b[0m\n\u001b[1;32m    813\u001b[0m     \u001b[0;32mdef\u001b[0m \u001b[0mclose\u001b[0m\u001b[0;34m(\u001b[0m\u001b[0mself\u001b[0m\u001b[0;34m)\u001b[0m\u001b[0;34m:\u001b[0m\u001b[0;34m\u001b[0m\u001b[0;34m\u001b[0m\u001b[0m\n",
      "\u001b[0;32m~/opt/anaconda3/envs/learn-env/lib/python3.9/site-packages/pandas/io/parsers/readers.py\u001b[0m in \u001b[0;36m_make_engine\u001b[0;34m(self, engine)\u001b[0m\n\u001b[1;32m   1038\u001b[0m             )\n\u001b[1;32m   1039\u001b[0m         \u001b[0;31m# error: Too many arguments for \"ParserBase\"\u001b[0m\u001b[0;34m\u001b[0m\u001b[0;34m\u001b[0m\u001b[0;34m\u001b[0m\u001b[0m\n\u001b[0;32m-> 1040\u001b[0;31m         \u001b[0;32mreturn\u001b[0m \u001b[0mmapping\u001b[0m\u001b[0;34m[\u001b[0m\u001b[0mengine\u001b[0m\u001b[0;34m]\u001b[0m\u001b[0;34m(\u001b[0m\u001b[0mself\u001b[0m\u001b[0;34m.\u001b[0m\u001b[0mf\u001b[0m\u001b[0;34m,\u001b[0m \u001b[0;34m**\u001b[0m\u001b[0mself\u001b[0m\u001b[0;34m.\u001b[0m\u001b[0moptions\u001b[0m\u001b[0;34m)\u001b[0m  \u001b[0;31m# type: ignore[call-arg]\u001b[0m\u001b[0;34m\u001b[0m\u001b[0;34m\u001b[0m\u001b[0m\n\u001b[0m\u001b[1;32m   1041\u001b[0m \u001b[0;34m\u001b[0m\u001b[0m\n\u001b[1;32m   1042\u001b[0m     \u001b[0;32mdef\u001b[0m \u001b[0m_failover_to_python\u001b[0m\u001b[0;34m(\u001b[0m\u001b[0mself\u001b[0m\u001b[0;34m)\u001b[0m\u001b[0;34m:\u001b[0m\u001b[0;34m\u001b[0m\u001b[0;34m\u001b[0m\u001b[0m\n",
      "\u001b[0;32m~/opt/anaconda3/envs/learn-env/lib/python3.9/site-packages/pandas/io/parsers/c_parser_wrapper.py\u001b[0m in \u001b[0;36m__init__\u001b[0;34m(self, src, **kwds)\u001b[0m\n\u001b[1;32m     49\u001b[0m \u001b[0;34m\u001b[0m\u001b[0m\n\u001b[1;32m     50\u001b[0m         \u001b[0;31m# open handles\u001b[0m\u001b[0;34m\u001b[0m\u001b[0;34m\u001b[0m\u001b[0;34m\u001b[0m\u001b[0m\n\u001b[0;32m---> 51\u001b[0;31m         \u001b[0mself\u001b[0m\u001b[0;34m.\u001b[0m\u001b[0m_open_handles\u001b[0m\u001b[0;34m(\u001b[0m\u001b[0msrc\u001b[0m\u001b[0;34m,\u001b[0m \u001b[0mkwds\u001b[0m\u001b[0;34m)\u001b[0m\u001b[0;34m\u001b[0m\u001b[0;34m\u001b[0m\u001b[0m\n\u001b[0m\u001b[1;32m     52\u001b[0m         \u001b[0;32massert\u001b[0m \u001b[0mself\u001b[0m\u001b[0;34m.\u001b[0m\u001b[0mhandles\u001b[0m \u001b[0;32mis\u001b[0m \u001b[0;32mnot\u001b[0m \u001b[0;32mNone\u001b[0m\u001b[0;34m\u001b[0m\u001b[0;34m\u001b[0m\u001b[0m\n\u001b[1;32m     53\u001b[0m \u001b[0;34m\u001b[0m\u001b[0m\n",
      "\u001b[0;32m~/opt/anaconda3/envs/learn-env/lib/python3.9/site-packages/pandas/io/parsers/base_parser.py\u001b[0m in \u001b[0;36m_open_handles\u001b[0;34m(self, src, kwds)\u001b[0m\n\u001b[1;32m    220\u001b[0m         \u001b[0mLet\u001b[0m \u001b[0mthe\u001b[0m \u001b[0mreaders\u001b[0m \u001b[0mopen\u001b[0m \u001b[0mIOHandles\u001b[0m \u001b[0mafter\u001b[0m \u001b[0mthey\u001b[0m \u001b[0mare\u001b[0m \u001b[0mdone\u001b[0m \u001b[0;32mwith\u001b[0m \u001b[0mtheir\u001b[0m \u001b[0mpotential\u001b[0m \u001b[0mraises\u001b[0m\u001b[0;34m.\u001b[0m\u001b[0;34m\u001b[0m\u001b[0;34m\u001b[0m\u001b[0m\n\u001b[1;32m    221\u001b[0m         \"\"\"\n\u001b[0;32m--> 222\u001b[0;31m         self.handles = get_handle(\n\u001b[0m\u001b[1;32m    223\u001b[0m             \u001b[0msrc\u001b[0m\u001b[0;34m,\u001b[0m\u001b[0;34m\u001b[0m\u001b[0;34m\u001b[0m\u001b[0m\n\u001b[1;32m    224\u001b[0m             \u001b[0;34m\"r\"\u001b[0m\u001b[0;34m,\u001b[0m\u001b[0;34m\u001b[0m\u001b[0;34m\u001b[0m\u001b[0m\n",
      "\u001b[0;32m~/opt/anaconda3/envs/learn-env/lib/python3.9/site-packages/pandas/io/common.py\u001b[0m in \u001b[0;36mget_handle\u001b[0;34m(path_or_buf, mode, encoding, compression, memory_map, is_text, errors, storage_options)\u001b[0m\n\u001b[1;32m    699\u001b[0m         \u001b[0;32mif\u001b[0m \u001b[0mioargs\u001b[0m\u001b[0;34m.\u001b[0m\u001b[0mencoding\u001b[0m \u001b[0;32mand\u001b[0m \u001b[0;34m\"b\"\u001b[0m \u001b[0;32mnot\u001b[0m \u001b[0;32min\u001b[0m \u001b[0mioargs\u001b[0m\u001b[0;34m.\u001b[0m\u001b[0mmode\u001b[0m\u001b[0;34m:\u001b[0m\u001b[0;34m\u001b[0m\u001b[0;34m\u001b[0m\u001b[0m\n\u001b[1;32m    700\u001b[0m             \u001b[0;31m# Encoding\u001b[0m\u001b[0;34m\u001b[0m\u001b[0;34m\u001b[0m\u001b[0;34m\u001b[0m\u001b[0m\n\u001b[0;32m--> 701\u001b[0;31m             handle = open(\n\u001b[0m\u001b[1;32m    702\u001b[0m                 \u001b[0mhandle\u001b[0m\u001b[0;34m,\u001b[0m\u001b[0;34m\u001b[0m\u001b[0;34m\u001b[0m\u001b[0m\n\u001b[1;32m    703\u001b[0m                 \u001b[0mioargs\u001b[0m\u001b[0;34m.\u001b[0m\u001b[0mmode\u001b[0m\u001b[0;34m,\u001b[0m\u001b[0;34m\u001b[0m\u001b[0;34m\u001b[0m\u001b[0m\n",
      "\u001b[0;31mFileNotFoundError\u001b[0m: [Errno 2] No such file or directory: '../../data/COVID-19_Vaccinations_in_the_United_States_County.csv'"
     ]
    }
   ],
   "source": [
    "vacc = pd.read_csv(vaccine_url)"
   ]
  },
  {
   "cell_type": "code",
   "execution_count": null,
   "id": "b2aecb4e-3096-4c3c-80f0-afd041ffd731",
   "metadata": {},
   "outputs": [],
   "source": [
    "vacc = vacc[(vacc[\"Recip_State\"]==\"TX\") | (vacc[\"Recip_State\"]==\"FL\") | (vacc[\"Recip_State\"]==\"CA\") | (vacc[\"Recip_State\"]==\"IL\") | (pres[\"Recip_State\"]==\"MI\")]"
   ]
  },
  {
   "cell_type": "code",
   "execution_count": 7,
   "id": "b920296b-f3a9-4a1d-b1cd-88d423c5d8d5",
   "metadata": {},
   "outputs": [],
   "source": [
    "geo_url = \"../../data/geo.csv\""
   ]
  },
  {
   "cell_type": "code",
   "execution_count": 8,
   "id": "7b6f3244-711f-4a10-a161-b65fae7392b7",
   "metadata": {},
   "outputs": [],
   "source": [
    "geo = pd.read_csv(geo_url)"
   ]
  },
  {
   "cell_type": "code",
   "execution_count": 10,
   "id": "31e391cc-1680-4f7f-baec-88304d1b5bcb",
   "metadata": {},
   "outputs": [
    {
     "data": {
      "text/html": [
       "<div>\n",
       "<style scoped>\n",
       "    .dataframe tbody tr th:only-of-type {\n",
       "        vertical-align: middle;\n",
       "    }\n",
       "\n",
       "    .dataframe tbody tr th {\n",
       "        vertical-align: top;\n",
       "    }\n",
       "\n",
       "    .dataframe thead th {\n",
       "        text-align: right;\n",
       "    }\n",
       "</style>\n",
       "<table border=\"1\" class=\"dataframe\">\n",
       "  <thead>\n",
       "    <tr style=\"text-align: right;\">\n",
       "      <th></th>\n",
       "      <th>Sort [1]</th>\n",
       "      <th>State</th>\n",
       "      <th>FIPS</th>\n",
       "      <th>County [2]</th>\n",
       "      <th>County Seat(s) [3]</th>\n",
       "      <th>Population(2010)</th>\n",
       "      <th>Land Areakm²</th>\n",
       "      <th>Land Areami²</th>\n",
       "      <th>Water Areakm²</th>\n",
       "      <th>Water Areami²</th>\n",
       "      <th>Total Areakm²</th>\n",
       "      <th>Total Areami²</th>\n",
       "      <th>Latitude</th>\n",
       "      <th>Longitude</th>\n",
       "    </tr>\n",
       "  </thead>\n",
       "  <tbody>\n",
       "    <tr>\n",
       "      <th>186</th>\n",
       "      <td>187</td>\n",
       "      <td>CA</td>\n",
       "      <td>6001</td>\n",
       "      <td>Alameda</td>\n",
       "      <td>Oakland</td>\n",
       "      <td>1,510,271</td>\n",
       "      <td>1,914.046</td>\n",
       "      <td>739.017</td>\n",
       "      <td>213.185</td>\n",
       "      <td>82.311</td>\n",
       "      <td>2,127.231</td>\n",
       "      <td>821.328</td>\n",
       "      <td>+37.648081°</td>\n",
       "      <td>–121.913304°</td>\n",
       "    </tr>\n",
       "    <tr>\n",
       "      <th>187</th>\n",
       "      <td>188</td>\n",
       "      <td>CA</td>\n",
       "      <td>6003</td>\n",
       "      <td>Alpine</td>\n",
       "      <td>Markleeville</td>\n",
       "      <td>1,175</td>\n",
       "      <td>1,912.272</td>\n",
       "      <td>738.332</td>\n",
       "      <td>12.557</td>\n",
       "      <td>4.848</td>\n",
       "      <td>1,924.829</td>\n",
       "      <td>743.180</td>\n",
       "      <td>+38.617610°</td>\n",
       "      <td>–119.798999°</td>\n",
       "    </tr>\n",
       "  </tbody>\n",
       "</table>\n",
       "</div>"
      ],
      "text/plain": [
       "     Sort [1] State  FIPS County [2] County Seat(s) [3] Population(2010)  \\\n",
       "186       187    CA  6001    Alameda            Oakland        1,510,271   \n",
       "187       188    CA  6003     Alpine       Markleeville            1,175   \n",
       "\n",
       "    Land Areakm² Land Areami² Water Areakm² Water Areami² Total Areakm²  \\\n",
       "186    1,914.046      739.017       213.185        82.311     2,127.231   \n",
       "187    1,912.272      738.332        12.557         4.848     1,924.829   \n",
       "\n",
       "    Total Areami²     Latitude     Longitude  \n",
       "186       821.328  +37.648081°  –121.913304°  \n",
       "187       743.180  +38.617610°  –119.798999°  "
      ]
     },
     "execution_count": 10,
     "metadata": {},
     "output_type": "execute_result"
    }
   ],
   "source": [
    "geo.head(2)"
   ]
  },
  {
   "cell_type": "code",
   "execution_count": 11,
   "id": "95c6773b-0152-45cb-8c63-f0edfcac7753",
   "metadata": {},
   "outputs": [
    {
     "data": {
      "text/html": [
       "<div>\n",
       "<style scoped>\n",
       "    .dataframe tbody tr th:only-of-type {\n",
       "        vertical-align: middle;\n",
       "    }\n",
       "\n",
       "    .dataframe tbody tr th {\n",
       "        vertical-align: top;\n",
       "    }\n",
       "\n",
       "    .dataframe thead th {\n",
       "        text-align: right;\n",
       "    }\n",
       "</style>\n",
       "<table border=\"1\" class=\"dataframe\">\n",
       "  <thead>\n",
       "    <tr style=\"text-align: right;\">\n",
       "      <th></th>\n",
       "      <th>year</th>\n",
       "      <th>state</th>\n",
       "      <th>state_po</th>\n",
       "      <th>county_name</th>\n",
       "      <th>county_fips</th>\n",
       "      <th>office</th>\n",
       "      <th>candidate</th>\n",
       "      <th>party</th>\n",
       "      <th>candidatevotes</th>\n",
       "      <th>totalvotes</th>\n",
       "      <th>version</th>\n",
       "      <th>mode</th>\n",
       "    </tr>\n",
       "  </thead>\n",
       "  <tbody>\n",
       "    <tr>\n",
       "      <th>628</th>\n",
       "      <td>2000</td>\n",
       "      <td>CALIFORNIA</td>\n",
       "      <td>CA</td>\n",
       "      <td>ALAMEDA</td>\n",
       "      <td>6001.0</td>\n",
       "      <td>PRESIDENT</td>\n",
       "      <td>AL GORE</td>\n",
       "      <td>DEMOCRAT</td>\n",
       "      <td>342889.0</td>\n",
       "      <td>494336.0</td>\n",
       "      <td>20191203</td>\n",
       "      <td>TOTAL</td>\n",
       "    </tr>\n",
       "    <tr>\n",
       "      <th>629</th>\n",
       "      <td>2000</td>\n",
       "      <td>CALIFORNIA</td>\n",
       "      <td>CA</td>\n",
       "      <td>ALAMEDA</td>\n",
       "      <td>6001.0</td>\n",
       "      <td>PRESIDENT</td>\n",
       "      <td>GEORGE W. BUSH</td>\n",
       "      <td>REPUBLICAN</td>\n",
       "      <td>119279.0</td>\n",
       "      <td>494336.0</td>\n",
       "      <td>20191203</td>\n",
       "      <td>TOTAL</td>\n",
       "    </tr>\n",
       "  </tbody>\n",
       "</table>\n",
       "</div>"
      ],
      "text/plain": [
       "     year       state state_po county_name  county_fips     office  \\\n",
       "628  2000  CALIFORNIA       CA     ALAMEDA       6001.0  PRESIDENT   \n",
       "629  2000  CALIFORNIA       CA     ALAMEDA       6001.0  PRESIDENT   \n",
       "\n",
       "          candidate       party  candidatevotes  totalvotes   version   mode  \n",
       "628         AL GORE    DEMOCRAT        342889.0    494336.0  20191203  TOTAL  \n",
       "629  GEORGE W. BUSH  REPUBLICAN        119279.0    494336.0  20191203  TOTAL  "
      ]
     },
     "execution_count": 11,
     "metadata": {},
     "output_type": "execute_result"
    }
   ],
   "source": [
    "pres.head(2)"
   ]
  },
  {
   "cell_type": "code",
   "execution_count": 12,
   "id": "6ca366b6-a324-40a8-824a-74b48c9147ca",
   "metadata": {},
   "outputs": [
    {
     "ename": "NameError",
     "evalue": "name 'vacc' is not defined",
     "output_type": "error",
     "traceback": [
      "\u001b[0;31m---------------------------------------------------------------------------\u001b[0m",
      "\u001b[0;31mNameError\u001b[0m                                 Traceback (most recent call last)",
      "\u001b[0;32m<ipython-input-12-76c4a5a0b9aa>\u001b[0m in \u001b[0;36m<module>\u001b[0;34m\u001b[0m\n\u001b[0;32m----> 1\u001b[0;31m \u001b[0mvacc\u001b[0m\u001b[0;34m[\u001b[0m\u001b[0;34m(\u001b[0m\u001b[0mvacc\u001b[0m\u001b[0;34m[\u001b[0m\u001b[0;34m\"Recip_State\"\u001b[0m\u001b[0;34m]\u001b[0m \u001b[0;34m==\u001b[0m \u001b[0;34m\"AL\"\u001b[0m\u001b[0;34m)\u001b[0m \u001b[0;34m&\u001b[0m \u001b[0;34m(\u001b[0m\u001b[0mvacc\u001b[0m\u001b[0;34m[\u001b[0m\u001b[0;34m\"Recip_County\"\u001b[0m\u001b[0;34m]\u001b[0m \u001b[0;34m==\u001b[0m \u001b[0;34m\"Jefferson County\"\u001b[0m\u001b[0;34m)\u001b[0m \u001b[0;34m&\u001b[0m \u001b[0;34m(\u001b[0m\u001b[0mvacc\u001b[0m\u001b[0;34m[\u001b[0m\u001b[0;34m\"Date\"\u001b[0m\u001b[0;34m]\u001b[0m\u001b[0;34m.\u001b[0m\u001b[0mstr\u001b[0m\u001b[0;34m[\u001b[0m\u001b[0;34m-\u001b[0m\u001b[0;36m4\u001b[0m\u001b[0;34m:\u001b[0m\u001b[0;34m]\u001b[0m\u001b[0;34m==\u001b[0m\u001b[0;34m\"2020\"\u001b[0m\u001b[0;34m)\u001b[0m\u001b[0;34m]\u001b[0m\u001b[0;34m.\u001b[0m\u001b[0mhead\u001b[0m\u001b[0;34m(\u001b[0m\u001b[0;36m2\u001b[0m\u001b[0;34m)\u001b[0m\u001b[0;34m\u001b[0m\u001b[0;34m\u001b[0m\u001b[0m\n\u001b[0m",
      "\u001b[0;31mNameError\u001b[0m: name 'vacc' is not defined"
     ]
    }
   ],
   "source": [
    "vacc[(vacc[\"Recip_State\"] == \"AL\") & (vacc[\"Recip_County\"] == \"Jefferson County\") & (vacc[\"Date\"].str[-4:]==\"2020\")].head(2)"
   ]
  },
  {
   "cell_type": "code",
   "execution_count": 13,
   "id": "a85651fe-e20e-4248-8348-2d0148f7d072",
   "metadata": {},
   "outputs": [
    {
     "ename": "NameError",
     "evalue": "name 'vacc' is not defined",
     "output_type": "error",
     "traceback": [
      "\u001b[0;31m---------------------------------------------------------------------------\u001b[0m",
      "\u001b[0;31mNameError\u001b[0m                                 Traceback (most recent call last)",
      "\u001b[0;32m<ipython-input-13-a56b99213129>\u001b[0m in \u001b[0;36m<module>\u001b[0;34m\u001b[0m\n\u001b[0;32m----> 1\u001b[0;31m \u001b[0mvacc\u001b[0m\u001b[0;34m.\u001b[0m\u001b[0mhead\u001b[0m\u001b[0;34m(\u001b[0m\u001b[0;36m2\u001b[0m\u001b[0;34m)\u001b[0m\u001b[0;34m\u001b[0m\u001b[0;34m\u001b[0m\u001b[0m\n\u001b[0m",
      "\u001b[0;31mNameError\u001b[0m: name 'vacc' is not defined"
     ]
    }
   ],
   "source": [
    "vacc.head(2)"
   ]
  },
  {
   "cell_type": "code",
   "execution_count": 34,
   "id": "7aeaec0f-b0aa-4652-8e3c-87c1d3c23300",
   "metadata": {},
   "outputs": [],
   "source": [
    "#pres cleanup\n",
    "pres = pres.rename(columns={\"county_fips\":\"FIPS\"})\n",
    "pres[\"FIPS\"] = pres[\"FIPS\"].astype(int)\n",
    "pres = pres[(pres[\"state_po\"]==\"TX\") | (pres[\"state_po\"]==\"FL\") | (pres[\"state_po\"]==\"CA\") | (pres[\"state_po\"]==\"IL\") | (pres[\"state_po\"]==\"MI\")]\n",
    "pres_cleaned.dropna(inplace=True)"
   ]
  },
  {
   "cell_type": "code",
   "execution_count": 35,
   "id": "9b22eb7b-11e5-4b00-8b3f-f27b8f5212b2",
   "metadata": {},
   "outputs": [
    {
     "data": {
      "text/html": [
       "<div>\n",
       "<style scoped>\n",
       "    .dataframe tbody tr th:only-of-type {\n",
       "        vertical-align: middle;\n",
       "    }\n",
       "\n",
       "    .dataframe tbody tr th {\n",
       "        vertical-align: top;\n",
       "    }\n",
       "\n",
       "    .dataframe thead th {\n",
       "        text-align: right;\n",
       "    }\n",
       "</style>\n",
       "<table border=\"1\" class=\"dataframe\">\n",
       "  <thead>\n",
       "    <tr style=\"text-align: right;\">\n",
       "      <th></th>\n",
       "      <th>year</th>\n",
       "      <th>state</th>\n",
       "      <th>state_po</th>\n",
       "      <th>county_name</th>\n",
       "      <th>FIPS</th>\n",
       "      <th>office</th>\n",
       "      <th>candidate</th>\n",
       "      <th>party</th>\n",
       "      <th>candidatevotes</th>\n",
       "      <th>totalvotes</th>\n",
       "      <th>version</th>\n",
       "      <th>mode</th>\n",
       "    </tr>\n",
       "  </thead>\n",
       "  <tbody>\n",
       "    <tr>\n",
       "      <th>628</th>\n",
       "      <td>2000</td>\n",
       "      <td>CALIFORNIA</td>\n",
       "      <td>CA</td>\n",
       "      <td>ALAMEDA</td>\n",
       "      <td>6001</td>\n",
       "      <td>PRESIDENT</td>\n",
       "      <td>AL GORE</td>\n",
       "      <td>DEMOCRAT</td>\n",
       "      <td>342889.0</td>\n",
       "      <td>494336.0</td>\n",
       "      <td>20191203</td>\n",
       "      <td>TOTAL</td>\n",
       "    </tr>\n",
       "    <tr>\n",
       "      <th>629</th>\n",
       "      <td>2000</td>\n",
       "      <td>CALIFORNIA</td>\n",
       "      <td>CA</td>\n",
       "      <td>ALAMEDA</td>\n",
       "      <td>6001</td>\n",
       "      <td>PRESIDENT</td>\n",
       "      <td>GEORGE W. BUSH</td>\n",
       "      <td>REPUBLICAN</td>\n",
       "      <td>119279.0</td>\n",
       "      <td>494336.0</td>\n",
       "      <td>20191203</td>\n",
       "      <td>TOTAL</td>\n",
       "    </tr>\n",
       "  </tbody>\n",
       "</table>\n",
       "</div>"
      ],
      "text/plain": [
       "     year       state state_po county_name  FIPS     office       candidate  \\\n",
       "628  2000  CALIFORNIA       CA     ALAMEDA  6001  PRESIDENT         AL GORE   \n",
       "629  2000  CALIFORNIA       CA     ALAMEDA  6001  PRESIDENT  GEORGE W. BUSH   \n",
       "\n",
       "          party  candidatevotes  totalvotes   version   mode  \n",
       "628    DEMOCRAT        342889.0    494336.0  20191203  TOTAL  \n",
       "629  REPUBLICAN        119279.0    494336.0  20191203  TOTAL  "
      ]
     },
     "execution_count": 35,
     "metadata": {},
     "output_type": "execute_result"
    }
   ],
   "source": [
    "pres_cleaned = pres\n",
    "pres_cleaned.head(2)"
   ]
  },
  {
   "cell_type": "code",
   "execution_count": 85,
   "id": "592f19f3-bdb0-460d-b1ea-26fc940f7036",
   "metadata": {},
   "outputs": [
    {
     "ename": "TypeError",
     "evalue": "'float' object is not subscriptable",
     "output_type": "error",
     "traceback": [
      "\u001b[0;31m---------------------------------------------------------------------------\u001b[0m",
      "\u001b[0;31mTypeError\u001b[0m                                 Traceback (most recent call last)",
      "\u001b[0;32m<ipython-input-85-4a11d99b4776>\u001b[0m in \u001b[0;36m<module>\u001b[0;34m\u001b[0m\n\u001b[1;32m      1\u001b[0m \u001b[0;31m#geo cleanup\u001b[0m\u001b[0;34m\u001b[0m\u001b[0;34m\u001b[0m\u001b[0;34m\u001b[0m\u001b[0m\n\u001b[1;32m      2\u001b[0m \u001b[0mgeo\u001b[0m\u001b[0;34m.\u001b[0m\u001b[0mreplace\u001b[0m\u001b[0;34m(\u001b[0m\u001b[0;34m','\u001b[0m\u001b[0;34m,\u001b[0m\u001b[0;34m''\u001b[0m\u001b[0;34m,\u001b[0m \u001b[0mregex\u001b[0m\u001b[0;34m=\u001b[0m\u001b[0;32mTrue\u001b[0m\u001b[0;34m,\u001b[0m \u001b[0minplace\u001b[0m\u001b[0;34m=\u001b[0m\u001b[0;32mTrue\u001b[0m\u001b[0;34m)\u001b[0m\u001b[0;34m\u001b[0m\u001b[0;34m\u001b[0m\u001b[0m\n\u001b[0;32m----> 3\u001b[0;31m \u001b[0mgeo\u001b[0m\u001b[0;34m[\u001b[0m\u001b[0;34m\"Longitude\"\u001b[0m\u001b[0;34m]\u001b[0m \u001b[0;34m=\u001b[0m \u001b[0mgeo\u001b[0m\u001b[0;34m[\u001b[0m\u001b[0;34m\"Longitude\"\u001b[0m\u001b[0;34m]\u001b[0m\u001b[0;34m.\u001b[0m\u001b[0mmap\u001b[0m\u001b[0;34m(\u001b[0m\u001b[0;32mlambda\u001b[0m \u001b[0ml\u001b[0m\u001b[0;34m:\u001b[0m \u001b[0mfloat\u001b[0m\u001b[0;34m(\u001b[0m\u001b[0ml\u001b[0m\u001b[0;34m[\u001b[0m\u001b[0;36m1\u001b[0m\u001b[0;34m:\u001b[0m \u001b[0;34m-\u001b[0m\u001b[0;36m2\u001b[0m\u001b[0;34m]\u001b[0m\u001b[0;34m)\u001b[0m\u001b[0;34m*\u001b[0m\u001b[0;34m-\u001b[0m\u001b[0;36m1\u001b[0m \u001b[0;32mif\u001b[0m \u001b[0ml\u001b[0m\u001b[0;34m[\u001b[0m\u001b[0;36m0\u001b[0m\u001b[0;34m]\u001b[0m \u001b[0;34m==\u001b[0m \u001b[0;34m\"–\"\u001b[0m \u001b[0;32melse\u001b[0m \u001b[0mfloat\u001b[0m\u001b[0;34m(\u001b[0m\u001b[0ml\u001b[0m\u001b[0;34m[\u001b[0m\u001b[0;36m1\u001b[0m\u001b[0;34m:\u001b[0m \u001b[0;34m-\u001b[0m\u001b[0;36m2\u001b[0m\u001b[0;34m]\u001b[0m\u001b[0;34m)\u001b[0m\u001b[0;34m)\u001b[0m\u001b[0;34m\u001b[0m\u001b[0;34m\u001b[0m\u001b[0m\n\u001b[0m\u001b[1;32m      4\u001b[0m \u001b[0mgeo\u001b[0m\u001b[0;34m[\u001b[0m\u001b[0;34m\"Latitude\"\u001b[0m\u001b[0;34m]\u001b[0m \u001b[0;34m=\u001b[0m \u001b[0mgeo\u001b[0m\u001b[0;34m[\u001b[0m\u001b[0;34m\"Latitude\"\u001b[0m\u001b[0;34m]\u001b[0m\u001b[0;34m.\u001b[0m\u001b[0mmap\u001b[0m\u001b[0;34m(\u001b[0m\u001b[0;32mlambda\u001b[0m \u001b[0ml\u001b[0m\u001b[0;34m:\u001b[0m \u001b[0mfloat\u001b[0m\u001b[0;34m(\u001b[0m\u001b[0ml\u001b[0m\u001b[0;34m[\u001b[0m\u001b[0;36m1\u001b[0m\u001b[0;34m:\u001b[0m \u001b[0;34m-\u001b[0m\u001b[0;36m2\u001b[0m\u001b[0;34m]\u001b[0m\u001b[0;34m)\u001b[0m\u001b[0;34m*\u001b[0m\u001b[0;34m-\u001b[0m\u001b[0;36m1\u001b[0m \u001b[0;32mif\u001b[0m \u001b[0ml\u001b[0m\u001b[0;34m[\u001b[0m\u001b[0;36m0\u001b[0m\u001b[0;34m]\u001b[0m \u001b[0;34m==\u001b[0m \u001b[0;34m\"–\"\u001b[0m \u001b[0;32melse\u001b[0m \u001b[0mfloat\u001b[0m\u001b[0;34m(\u001b[0m\u001b[0ml\u001b[0m\u001b[0;34m[\u001b[0m\u001b[0;36m1\u001b[0m\u001b[0;34m:\u001b[0m \u001b[0;34m-\u001b[0m\u001b[0;36m2\u001b[0m\u001b[0;34m]\u001b[0m\u001b[0;34m)\u001b[0m\u001b[0;34m)\u001b[0m\u001b[0;34m\u001b[0m\u001b[0;34m\u001b[0m\u001b[0m\n\u001b[1;32m      5\u001b[0m \u001b[0mgeo\u001b[0m\u001b[0;34m.\u001b[0m\u001b[0mdrop\u001b[0m\u001b[0;34m(\u001b[0m\u001b[0;34m[\u001b[0m\u001b[0;34m\"Land Areakm²\"\u001b[0m\u001b[0;34m,\u001b[0m \u001b[0;34m\"Total Areakm²\"\u001b[0m\u001b[0;34m,\u001b[0m \u001b[0;34m\"Water Areakm²\"\u001b[0m\u001b[0;34m,\u001b[0m \u001b[0;34m\"County Seat(s) [3]\"\u001b[0m\u001b[0;34m,\u001b[0m \u001b[0;34m\"Sort [1]\"\u001b[0m\u001b[0;34m,\u001b[0m \u001b[0;34m\"County [2]\"\u001b[0m\u001b[0;34m,\u001b[0m \u001b[0;34m\"State\"\u001b[0m\u001b[0;34m]\u001b[0m\u001b[0;34m,\u001b[0m \u001b[0maxis\u001b[0m\u001b[0;34m=\u001b[0m\u001b[0;36m1\u001b[0m\u001b[0;34m,\u001b[0m \u001b[0minplace\u001b[0m\u001b[0;34m=\u001b[0m\u001b[0;32mTrue\u001b[0m\u001b[0;34m)\u001b[0m\u001b[0;34m\u001b[0m\u001b[0;34m\u001b[0m\u001b[0m\n",
      "\u001b[0;32m~/opt/anaconda3/envs/learn-env/lib/python3.9/site-packages/pandas/core/series.py\u001b[0m in \u001b[0;36mmap\u001b[0;34m(self, arg, na_action)\u001b[0m\n\u001b[1;32m   4158\u001b[0m         \u001b[0mdtype\u001b[0m\u001b[0;34m:\u001b[0m \u001b[0mobject\u001b[0m\u001b[0;34m\u001b[0m\u001b[0;34m\u001b[0m\u001b[0m\n\u001b[1;32m   4159\u001b[0m         \"\"\"\n\u001b[0;32m-> 4160\u001b[0;31m         \u001b[0mnew_values\u001b[0m \u001b[0;34m=\u001b[0m \u001b[0msuper\u001b[0m\u001b[0;34m(\u001b[0m\u001b[0;34m)\u001b[0m\u001b[0;34m.\u001b[0m\u001b[0m_map_values\u001b[0m\u001b[0;34m(\u001b[0m\u001b[0marg\u001b[0m\u001b[0;34m,\u001b[0m \u001b[0mna_action\u001b[0m\u001b[0;34m=\u001b[0m\u001b[0mna_action\u001b[0m\u001b[0;34m)\u001b[0m\u001b[0;34m\u001b[0m\u001b[0;34m\u001b[0m\u001b[0m\n\u001b[0m\u001b[1;32m   4161\u001b[0m         return self._constructor(new_values, index=self.index).__finalize__(\n\u001b[1;32m   4162\u001b[0m             \u001b[0mself\u001b[0m\u001b[0;34m,\u001b[0m \u001b[0mmethod\u001b[0m\u001b[0;34m=\u001b[0m\u001b[0;34m\"map\"\u001b[0m\u001b[0;34m\u001b[0m\u001b[0;34m\u001b[0m\u001b[0m\n",
      "\u001b[0;32m~/opt/anaconda3/envs/learn-env/lib/python3.9/site-packages/pandas/core/base.py\u001b[0m in \u001b[0;36m_map_values\u001b[0;34m(self, mapper, na_action)\u001b[0m\n\u001b[1;32m    868\u001b[0m \u001b[0;34m\u001b[0m\u001b[0m\n\u001b[1;32m    869\u001b[0m         \u001b[0;31m# mapper is a function\u001b[0m\u001b[0;34m\u001b[0m\u001b[0;34m\u001b[0m\u001b[0;34m\u001b[0m\u001b[0m\n\u001b[0;32m--> 870\u001b[0;31m         \u001b[0mnew_values\u001b[0m \u001b[0;34m=\u001b[0m \u001b[0mmap_f\u001b[0m\u001b[0;34m(\u001b[0m\u001b[0mvalues\u001b[0m\u001b[0;34m,\u001b[0m \u001b[0mmapper\u001b[0m\u001b[0;34m)\u001b[0m\u001b[0;34m\u001b[0m\u001b[0;34m\u001b[0m\u001b[0m\n\u001b[0m\u001b[1;32m    871\u001b[0m \u001b[0;34m\u001b[0m\u001b[0m\n\u001b[1;32m    872\u001b[0m         \u001b[0;32mreturn\u001b[0m \u001b[0mnew_values\u001b[0m\u001b[0;34m\u001b[0m\u001b[0;34m\u001b[0m\u001b[0m\n",
      "\u001b[0;32m~/opt/anaconda3/envs/learn-env/lib/python3.9/site-packages/pandas/_libs/lib.pyx\u001b[0m in \u001b[0;36mpandas._libs.lib.map_infer\u001b[0;34m()\u001b[0m\n",
      "\u001b[0;32m<ipython-input-85-4a11d99b4776>\u001b[0m in \u001b[0;36m<lambda>\u001b[0;34m(l)\u001b[0m\n\u001b[1;32m      1\u001b[0m \u001b[0;31m#geo cleanup\u001b[0m\u001b[0;34m\u001b[0m\u001b[0;34m\u001b[0m\u001b[0;34m\u001b[0m\u001b[0m\n\u001b[1;32m      2\u001b[0m \u001b[0mgeo\u001b[0m\u001b[0;34m.\u001b[0m\u001b[0mreplace\u001b[0m\u001b[0;34m(\u001b[0m\u001b[0;34m','\u001b[0m\u001b[0;34m,\u001b[0m\u001b[0;34m''\u001b[0m\u001b[0;34m,\u001b[0m \u001b[0mregex\u001b[0m\u001b[0;34m=\u001b[0m\u001b[0;32mTrue\u001b[0m\u001b[0;34m,\u001b[0m \u001b[0minplace\u001b[0m\u001b[0;34m=\u001b[0m\u001b[0;32mTrue\u001b[0m\u001b[0;34m)\u001b[0m\u001b[0;34m\u001b[0m\u001b[0;34m\u001b[0m\u001b[0m\n\u001b[0;32m----> 3\u001b[0;31m \u001b[0mgeo\u001b[0m\u001b[0;34m[\u001b[0m\u001b[0;34m\"Longitude\"\u001b[0m\u001b[0;34m]\u001b[0m \u001b[0;34m=\u001b[0m \u001b[0mgeo\u001b[0m\u001b[0;34m[\u001b[0m\u001b[0;34m\"Longitude\"\u001b[0m\u001b[0;34m]\u001b[0m\u001b[0;34m.\u001b[0m\u001b[0mmap\u001b[0m\u001b[0;34m(\u001b[0m\u001b[0;32mlambda\u001b[0m \u001b[0ml\u001b[0m\u001b[0;34m:\u001b[0m \u001b[0mfloat\u001b[0m\u001b[0;34m(\u001b[0m\u001b[0ml\u001b[0m\u001b[0;34m[\u001b[0m\u001b[0;36m1\u001b[0m\u001b[0;34m:\u001b[0m \u001b[0;34m-\u001b[0m\u001b[0;36m2\u001b[0m\u001b[0;34m]\u001b[0m\u001b[0;34m)\u001b[0m\u001b[0;34m*\u001b[0m\u001b[0;34m-\u001b[0m\u001b[0;36m1\u001b[0m \u001b[0;32mif\u001b[0m \u001b[0ml\u001b[0m\u001b[0;34m[\u001b[0m\u001b[0;36m0\u001b[0m\u001b[0;34m]\u001b[0m \u001b[0;34m==\u001b[0m \u001b[0;34m\"–\"\u001b[0m \u001b[0;32melse\u001b[0m \u001b[0mfloat\u001b[0m\u001b[0;34m(\u001b[0m\u001b[0ml\u001b[0m\u001b[0;34m[\u001b[0m\u001b[0;36m1\u001b[0m\u001b[0;34m:\u001b[0m \u001b[0;34m-\u001b[0m\u001b[0;36m2\u001b[0m\u001b[0;34m]\u001b[0m\u001b[0;34m)\u001b[0m\u001b[0;34m)\u001b[0m\u001b[0;34m\u001b[0m\u001b[0;34m\u001b[0m\u001b[0m\n\u001b[0m\u001b[1;32m      4\u001b[0m \u001b[0mgeo\u001b[0m\u001b[0;34m[\u001b[0m\u001b[0;34m\"Latitude\"\u001b[0m\u001b[0;34m]\u001b[0m \u001b[0;34m=\u001b[0m \u001b[0mgeo\u001b[0m\u001b[0;34m[\u001b[0m\u001b[0;34m\"Latitude\"\u001b[0m\u001b[0;34m]\u001b[0m\u001b[0;34m.\u001b[0m\u001b[0mmap\u001b[0m\u001b[0;34m(\u001b[0m\u001b[0;32mlambda\u001b[0m \u001b[0ml\u001b[0m\u001b[0;34m:\u001b[0m \u001b[0mfloat\u001b[0m\u001b[0;34m(\u001b[0m\u001b[0ml\u001b[0m\u001b[0;34m[\u001b[0m\u001b[0;36m1\u001b[0m\u001b[0;34m:\u001b[0m \u001b[0;34m-\u001b[0m\u001b[0;36m2\u001b[0m\u001b[0;34m]\u001b[0m\u001b[0;34m)\u001b[0m\u001b[0;34m*\u001b[0m\u001b[0;34m-\u001b[0m\u001b[0;36m1\u001b[0m \u001b[0;32mif\u001b[0m \u001b[0ml\u001b[0m\u001b[0;34m[\u001b[0m\u001b[0;36m0\u001b[0m\u001b[0;34m]\u001b[0m \u001b[0;34m==\u001b[0m \u001b[0;34m\"–\"\u001b[0m \u001b[0;32melse\u001b[0m \u001b[0mfloat\u001b[0m\u001b[0;34m(\u001b[0m\u001b[0ml\u001b[0m\u001b[0;34m[\u001b[0m\u001b[0;36m1\u001b[0m\u001b[0;34m:\u001b[0m \u001b[0;34m-\u001b[0m\u001b[0;36m2\u001b[0m\u001b[0;34m]\u001b[0m\u001b[0;34m)\u001b[0m\u001b[0;34m)\u001b[0m\u001b[0;34m\u001b[0m\u001b[0;34m\u001b[0m\u001b[0m\n\u001b[1;32m      5\u001b[0m \u001b[0mgeo\u001b[0m\u001b[0;34m.\u001b[0m\u001b[0mdrop\u001b[0m\u001b[0;34m(\u001b[0m\u001b[0;34m[\u001b[0m\u001b[0;34m\"Land Areakm²\"\u001b[0m\u001b[0;34m,\u001b[0m \u001b[0;34m\"Total Areakm²\"\u001b[0m\u001b[0;34m,\u001b[0m \u001b[0;34m\"Water Areakm²\"\u001b[0m\u001b[0;34m,\u001b[0m \u001b[0;34m\"County Seat(s) [3]\"\u001b[0m\u001b[0;34m,\u001b[0m \u001b[0;34m\"Sort [1]\"\u001b[0m\u001b[0;34m,\u001b[0m \u001b[0;34m\"County [2]\"\u001b[0m\u001b[0;34m,\u001b[0m \u001b[0;34m\"State\"\u001b[0m\u001b[0;34m]\u001b[0m\u001b[0;34m,\u001b[0m \u001b[0maxis\u001b[0m\u001b[0;34m=\u001b[0m\u001b[0;36m1\u001b[0m\u001b[0;34m,\u001b[0m \u001b[0minplace\u001b[0m\u001b[0;34m=\u001b[0m\u001b[0;32mTrue\u001b[0m\u001b[0;34m)\u001b[0m\u001b[0;34m\u001b[0m\u001b[0;34m\u001b[0m\u001b[0m\n",
      "\u001b[0;31mTypeError\u001b[0m: 'float' object is not subscriptable"
     ]
    }
   ],
   "source": [
    "#geo cleanup\n",
    "geo.replace(',','', regex=True, inplace=True)\n",
    "geo[\"Longitude\"] = geo[\"Longitude\"].map(lambda l: float(l[1: -2])*-1 if l[0] == \"–\" else float(l[1: -2]))\n",
    "geo[\"Latitude\"] = geo[\"Latitude\"].map(lambda l: float(l[1: -2])*-1 if l[0] == \"–\" else float(l[1: -2]))\n",
    "geo.drop([\"Land Areakm²\", \"Total Areakm²\", \"Water Areakm²\", \"County Seat(s) [3]\", \"Sort [1]\", \"County [2]\", \"State\"], axis=1, inplace=True)\n",
    "geo[\"FIPS\"] = geo['FIPS'].map(lambda x: int(\"0\" + str(x)))\n",
    "geo = geo[(geo[\"State\"]==\"TX\") | (geo[\"State\"]==\"FL\") | (geo[\"State\"]==\"CA\") | (geo[\"State\"]==\"IL\") | (pres[\"State\"]==\"MI\")]\n",
    "geo_clean = geo"
   ]
  },
  {
   "cell_type": "code",
   "execution_count": 36,
   "id": "30f08973-29ff-4f97-b09e-3dfb1b6034d8",
   "metadata": {},
   "outputs": [],
   "source": [
    "pres_groups = list(pres_cleaned.groupby(['year', 'FIPS']).groups.keys())"
   ]
  },
  {
   "cell_type": "code",
   "execution_count": 109,
   "id": "12563bdb-84bb-420b-ab2f-4365f1594129",
   "metadata": {},
   "outputs": [],
   "source": [
    "row_cols = [\"year\", \"FIPS\", \"office\", \"state\", \"dem_votes\", \"rep_votes\"]"
   ]
  },
  {
   "cell_type": "code",
   "execution_count": 110,
   "id": "f8300481-5188-4f9e-acb1-9f34c1a1ff92",
   "metadata": {},
   "outputs": [],
   "source": [
    "pres_clean = pd.DataFrame(columns = row_cols)"
   ]
  },
  {
   "cell_type": "code",
   "execution_count": 112,
   "id": "cf704521-2823-4f19-b800-0fe6f76d2f51",
   "metadata": {
    "tags": []
   },
   "outputs": [],
   "source": [
    "error_group = None\n",
    "for group in pres_groups:\n",
    "    year = group[0]\n",
    "    fips = group[1]\n",
    "    office = 'president'\n",
    "    g = pres_cleaned[(pres_cleaned['year'] == group[0]) & (pres_cleaned['FIPS'] == group[1])]\n",
    "    g.index = np.arange(0, len(g))\n",
    "    g_year = g.iloc[0][\"year\"]\n",
    "    g_FIPS = g.iloc[0][\"FIPS\"]\n",
    "    g_office = g.iloc[0][\"office\"]\n",
    "    g_state = g.iloc[0][\"state_po\"]\n",
    "    g_demvotes = g[g[\"party\"]==\"DEMOCRAT\"][\"candidatevotes\"].values[0]\n",
    "    g_repvotes = g[g[\"party\"]==\"REPUBLICAN\"][\"candidatevotes\"].values[0]\n",
    "    all_county = [[g_year, g_FIPS, g_office, g_state, g_demvotes , g_repvotes]]    \n",
    "    pres_clean = pres_clean.append(pd.DataFrame(all_county, columns=row_cols))"
   ]
  },
  {
   "cell_type": "code",
   "execution_count": 113,
   "id": "876ee71f-750f-4f07-862b-6dedde7c848d",
   "metadata": {},
   "outputs": [],
   "source": [
    "#additional pres_clean cleaning:\n",
    "pres_clean[\"total_votes\"] = pres_clean[\"dem_votes\"] + pres_clean[\"rep_votes\"]"
   ]
  },
  {
   "cell_type": "code",
   "execution_count": 114,
   "id": "36d5672c-6769-4d3f-b633-0fcbf60b3da8",
   "metadata": {},
   "outputs": [
    {
     "ename": "SyntaxError",
     "evalue": "invalid syntax (<ipython-input-114-cada7ef1aea4>, line 1)",
     "output_type": "error",
     "traceback": [
      "\u001b[0;36m  File \u001b[0;32m\"<ipython-input-114-cada7ef1aea4>\"\u001b[0;36m, line \u001b[0;32m1\u001b[0m\n\u001b[0;31m    pres_clean[\"per_win\"] = pres_clean.apply(lambda row: pres_clean[\"dem_votes\"]/pres_clean[\"total_votes\"] *100 if pres_clean[\"\"])\u001b[0m\n\u001b[0m                                                                                                                                 ^\u001b[0m\n\u001b[0;31mSyntaxError\u001b[0m\u001b[0;31m:\u001b[0m invalid syntax\n"
     ]
    }
   ],
   "source": [
    "#pres_clean[\"per_win\"] = pres_clean.apply(lambda row: pres_clean[\"dem_votes\"]/pres_clean[\"total_votes\"] *100 if pres_clean[\"\"])"
   ]
  },
  {
   "cell_type": "code",
   "execution_count": 115,
   "id": "aed63afb-688d-46f9-9f00-3d18dca46bfa",
   "metadata": {},
   "outputs": [],
   "source": [
    "# Create target column\n",
    "pres_clean[\"target\"] = pres_clean.apply(lambda row: 0 if row[\"dem_votes\"] > row[\"rep_votes\"] else 1, axis=1)"
   ]
  },
  {
   "cell_type": "code",
   "execution_count": 122,
   "id": "990b0804-fe57-4c8f-ab50-539bff64df4d",
   "metadata": {},
   "outputs": [
    {
     "data": {
      "text/html": [
       "<div>\n",
       "<style scoped>\n",
       "    .dataframe tbody tr th:only-of-type {\n",
       "        vertical-align: middle;\n",
       "    }\n",
       "\n",
       "    .dataframe tbody tr th {\n",
       "        vertical-align: top;\n",
       "    }\n",
       "\n",
       "    .dataframe thead th {\n",
       "        text-align: right;\n",
       "    }\n",
       "</style>\n",
       "<table border=\"1\" class=\"dataframe\">\n",
       "  <thead>\n",
       "    <tr style=\"text-align: right;\">\n",
       "      <th></th>\n",
       "      <th>year</th>\n",
       "      <th>FIPS</th>\n",
       "      <th>office</th>\n",
       "      <th>state</th>\n",
       "      <th>dem_votes</th>\n",
       "      <th>rep_votes</th>\n",
       "      <th>total_votes</th>\n",
       "      <th>target</th>\n",
       "    </tr>\n",
       "  </thead>\n",
       "  <tbody>\n",
       "    <tr>\n",
       "      <th>0</th>\n",
       "      <td>2000</td>\n",
       "      <td>6001</td>\n",
       "      <td>PRESIDENT</td>\n",
       "      <td>CA</td>\n",
       "      <td>342889.0</td>\n",
       "      <td>119279.0</td>\n",
       "      <td>462168.0</td>\n",
       "      <td>0</td>\n",
       "    </tr>\n",
       "    <tr>\n",
       "      <th>0</th>\n",
       "      <td>2000</td>\n",
       "      <td>6003</td>\n",
       "      <td>PRESIDENT</td>\n",
       "      <td>CA</td>\n",
       "      <td>265.0</td>\n",
       "      <td>281.0</td>\n",
       "      <td>546.0</td>\n",
       "      <td>1</td>\n",
       "    </tr>\n",
       "    <tr>\n",
       "      <th>0</th>\n",
       "      <td>2000</td>\n",
       "      <td>6005</td>\n",
       "      <td>PRESIDENT</td>\n",
       "      <td>CA</td>\n",
       "      <td>5906.0</td>\n",
       "      <td>8766.0</td>\n",
       "      <td>14672.0</td>\n",
       "      <td>1</td>\n",
       "    </tr>\n",
       "    <tr>\n",
       "      <th>0</th>\n",
       "      <td>2000</td>\n",
       "      <td>6007</td>\n",
       "      <td>PRESIDENT</td>\n",
       "      <td>CA</td>\n",
       "      <td>31338.0</td>\n",
       "      <td>45584.0</td>\n",
       "      <td>76922.0</td>\n",
       "      <td>1</td>\n",
       "    </tr>\n",
       "    <tr>\n",
       "      <th>0</th>\n",
       "      <td>2000</td>\n",
       "      <td>6009</td>\n",
       "      <td>PRESIDENT</td>\n",
       "      <td>CA</td>\n",
       "      <td>7093.0</td>\n",
       "      <td>10599.0</td>\n",
       "      <td>17692.0</td>\n",
       "      <td>1</td>\n",
       "    </tr>\n",
       "  </tbody>\n",
       "</table>\n",
       "</div>"
      ],
      "text/plain": [
       "   year  FIPS     office state  dem_votes  rep_votes  total_votes  target\n",
       "0  2000  6001  PRESIDENT    CA   342889.0   119279.0     462168.0       0\n",
       "0  2000  6003  PRESIDENT    CA      265.0      281.0        546.0       1\n",
       "0  2000  6005  PRESIDENT    CA     5906.0     8766.0      14672.0       1\n",
       "0  2000  6007  PRESIDENT    CA    31338.0    45584.0      76922.0       1\n",
       "0  2000  6009  PRESIDENT    CA     7093.0    10599.0      17692.0       1"
      ]
     },
     "execution_count": 122,
     "metadata": {},
     "output_type": "execute_result"
    }
   ],
   "source": [
    "pres_clean[(pres_clean[\"year\"]==2016) | (pres_clean[\"state\"]==\"CA\")].head()"
   ]
  },
  {
   "cell_type": "code",
   "execution_count": 117,
   "id": "4e248ecf-1426-4587-ac1d-44d944418122",
   "metadata": {},
   "outputs": [
    {
     "data": {
      "text/html": [
       "<div>\n",
       "<style scoped>\n",
       "    .dataframe tbody tr th:only-of-type {\n",
       "        vertical-align: middle;\n",
       "    }\n",
       "\n",
       "    .dataframe tbody tr th {\n",
       "        vertical-align: top;\n",
       "    }\n",
       "\n",
       "    .dataframe thead th {\n",
       "        text-align: right;\n",
       "    }\n",
       "</style>\n",
       "<table border=\"1\" class=\"dataframe\">\n",
       "  <thead>\n",
       "    <tr style=\"text-align: right;\">\n",
       "      <th></th>\n",
       "      <th>year</th>\n",
       "      <th>FIPS</th>\n",
       "      <th>office</th>\n",
       "      <th>state</th>\n",
       "      <th>dem_votes</th>\n",
       "      <th>rep_votes</th>\n",
       "      <th>total_votes</th>\n",
       "      <th>target</th>\n",
       "    </tr>\n",
       "  </thead>\n",
       "  <tbody>\n",
       "    <tr>\n",
       "      <th>0</th>\n",
       "      <td>2000</td>\n",
       "      <td>6001</td>\n",
       "      <td>PRESIDENT</td>\n",
       "      <td>CA</td>\n",
       "      <td>342889.0</td>\n",
       "      <td>119279.0</td>\n",
       "      <td>462168.0</td>\n",
       "      <td>0</td>\n",
       "    </tr>\n",
       "    <tr>\n",
       "      <th>0</th>\n",
       "      <td>2000</td>\n",
       "      <td>6003</td>\n",
       "      <td>PRESIDENT</td>\n",
       "      <td>CA</td>\n",
       "      <td>265.0</td>\n",
       "      <td>281.0</td>\n",
       "      <td>546.0</td>\n",
       "      <td>1</td>\n",
       "    </tr>\n",
       "  </tbody>\n",
       "</table>\n",
       "</div>"
      ],
      "text/plain": [
       "   year  FIPS     office state  dem_votes  rep_votes  total_votes  target\n",
       "0  2000  6001  PRESIDENT    CA   342889.0   119279.0     462168.0       0\n",
       "0  2000  6003  PRESIDENT    CA      265.0      281.0        546.0       1"
      ]
     },
     "execution_count": 117,
     "metadata": {},
     "output_type": "execute_result"
    }
   ],
   "source": [
    "pres_clean.head(2)"
   ]
  },
  {
   "cell_type": "code",
   "execution_count": 123,
   "id": "c57d6f43-5a3d-4302-a807-3d3943b68ebe",
   "metadata": {},
   "outputs": [],
   "source": [
    "j = pres_clean.merge(geo_clean, on=\"FIPS\", how=\"inner\")"
   ]
  },
  {
   "cell_type": "code",
   "execution_count": 126,
   "id": "4c5d36db-fe4e-4e51-9b7f-7b1c9128dae4",
   "metadata": {},
   "outputs": [],
   "source": [
    "j.to_csv(\"pres.csv\")"
   ]
  },
  {
   "cell_type": "code",
   "execution_count": 124,
   "id": "8ab709e1-cf11-4bb3-a306-cb5693898074",
   "metadata": {},
   "outputs": [
    {
     "data": {
      "text/html": [
       "<div>\n",
       "<style scoped>\n",
       "    .dataframe tbody tr th:only-of-type {\n",
       "        vertical-align: middle;\n",
       "    }\n",
       "\n",
       "    .dataframe tbody tr th {\n",
       "        vertical-align: top;\n",
       "    }\n",
       "\n",
       "    .dataframe thead th {\n",
       "        text-align: right;\n",
       "    }\n",
       "</style>\n",
       "<table border=\"1\" class=\"dataframe\">\n",
       "  <thead>\n",
       "    <tr style=\"text-align: right;\">\n",
       "      <th></th>\n",
       "      <th>year</th>\n",
       "      <th>FIPS</th>\n",
       "      <th>office</th>\n",
       "      <th>state</th>\n",
       "      <th>dem_votes</th>\n",
       "      <th>rep_votes</th>\n",
       "      <th>total_votes</th>\n",
       "      <th>target</th>\n",
       "      <th>State</th>\n",
       "      <th>County [2]</th>\n",
       "      <th>Population(2010)</th>\n",
       "      <th>Land Areami²</th>\n",
       "      <th>Water Areami²</th>\n",
       "      <th>Total Areami²</th>\n",
       "      <th>Latitude</th>\n",
       "      <th>Longitude</th>\n",
       "    </tr>\n",
       "  </thead>\n",
       "  <tbody>\n",
       "    <tr>\n",
       "      <th>0</th>\n",
       "      <td>2000</td>\n",
       "      <td>6001</td>\n",
       "      <td>PRESIDENT</td>\n",
       "      <td>CA</td>\n",
       "      <td>342889.0</td>\n",
       "      <td>119279.0</td>\n",
       "      <td>462168.0</td>\n",
       "      <td>0</td>\n",
       "      <td>CA</td>\n",
       "      <td>Alameda</td>\n",
       "      <td>1510271</td>\n",
       "      <td>739.017</td>\n",
       "      <td>82.311</td>\n",
       "      <td>821.328</td>\n",
       "      <td>37.64808</td>\n",
       "      <td>-121.91330</td>\n",
       "    </tr>\n",
       "    <tr>\n",
       "      <th>6</th>\n",
       "      <td>2000</td>\n",
       "      <td>6003</td>\n",
       "      <td>PRESIDENT</td>\n",
       "      <td>CA</td>\n",
       "      <td>265.0</td>\n",
       "      <td>281.0</td>\n",
       "      <td>546.0</td>\n",
       "      <td>1</td>\n",
       "      <td>CA</td>\n",
       "      <td>Alpine</td>\n",
       "      <td>1175</td>\n",
       "      <td>738.332</td>\n",
       "      <td>4.848</td>\n",
       "      <td>743.180</td>\n",
       "      <td>38.61761</td>\n",
       "      <td>-119.79899</td>\n",
       "    </tr>\n",
       "    <tr>\n",
       "      <th>12</th>\n",
       "      <td>2000</td>\n",
       "      <td>6005</td>\n",
       "      <td>PRESIDENT</td>\n",
       "      <td>CA</td>\n",
       "      <td>5906.0</td>\n",
       "      <td>8766.0</td>\n",
       "      <td>14672.0</td>\n",
       "      <td>1</td>\n",
       "      <td>CA</td>\n",
       "      <td>Amador</td>\n",
       "      <td>38091</td>\n",
       "      <td>594.583</td>\n",
       "      <td>11.373</td>\n",
       "      <td>605.956</td>\n",
       "      <td>38.44355</td>\n",
       "      <td>-120.65385</td>\n",
       "    </tr>\n",
       "    <tr>\n",
       "      <th>18</th>\n",
       "      <td>2000</td>\n",
       "      <td>6007</td>\n",
       "      <td>PRESIDENT</td>\n",
       "      <td>CA</td>\n",
       "      <td>31338.0</td>\n",
       "      <td>45584.0</td>\n",
       "      <td>76922.0</td>\n",
       "      <td>1</td>\n",
       "      <td>CA</td>\n",
       "      <td>Butte</td>\n",
       "      <td>220000</td>\n",
       "      <td>1636.464</td>\n",
       "      <td>40.667</td>\n",
       "      <td>1677.131</td>\n",
       "      <td>39.66595</td>\n",
       "      <td>-121.60191</td>\n",
       "    </tr>\n",
       "    <tr>\n",
       "      <th>24</th>\n",
       "      <td>2000</td>\n",
       "      <td>6009</td>\n",
       "      <td>PRESIDENT</td>\n",
       "      <td>CA</td>\n",
       "      <td>7093.0</td>\n",
       "      <td>10599.0</td>\n",
       "      <td>17692.0</td>\n",
       "      <td>1</td>\n",
       "      <td>CA</td>\n",
       "      <td>Calaveras</td>\n",
       "      <td>45578</td>\n",
       "      <td>1020.012</td>\n",
       "      <td>16.915</td>\n",
       "      <td>1036.927</td>\n",
       "      <td>38.18784</td>\n",
       "      <td>-120.55511</td>\n",
       "    </tr>\n",
       "    <tr>\n",
       "      <th>...</th>\n",
       "      <td>...</td>\n",
       "      <td>...</td>\n",
       "      <td>...</td>\n",
       "      <td>...</td>\n",
       "      <td>...</td>\n",
       "      <td>...</td>\n",
       "      <td>...</td>\n",
       "      <td>...</td>\n",
       "      <td>...</td>\n",
       "      <td>...</td>\n",
       "      <td>...</td>\n",
       "      <td>...</td>\n",
       "      <td>...</td>\n",
       "      <td>...</td>\n",
       "      <td>...</td>\n",
       "      <td>...</td>\n",
       "    </tr>\n",
       "    <tr>\n",
       "      <th>2855</th>\n",
       "      <td>2000</td>\n",
       "      <td>48499</td>\n",
       "      <td>PRESIDENT</td>\n",
       "      <td>TX</td>\n",
       "      <td>3893.0</td>\n",
       "      <td>9810.0</td>\n",
       "      <td>13703.0</td>\n",
       "      <td>1</td>\n",
       "      <td>TX</td>\n",
       "      <td>Wood</td>\n",
       "      <td>41964</td>\n",
       "      <td>645.234</td>\n",
       "      <td>50.484</td>\n",
       "      <td>695.718</td>\n",
       "      <td>32.78358</td>\n",
       "      <td>-95.38216</td>\n",
       "    </tr>\n",
       "    <tr>\n",
       "      <th>2861</th>\n",
       "      <td>2000</td>\n",
       "      <td>48501</td>\n",
       "      <td>PRESIDENT</td>\n",
       "      <td>TX</td>\n",
       "      <td>531.0</td>\n",
       "      <td>1911.0</td>\n",
       "      <td>2442.0</td>\n",
       "      <td>1</td>\n",
       "      <td>TX</td>\n",
       "      <td>Yoakum</td>\n",
       "      <td>7879</td>\n",
       "      <td>799.708</td>\n",
       "      <td>0.013</td>\n",
       "      <td>799.721</td>\n",
       "      <td>33.17239</td>\n",
       "      <td>-102.82377</td>\n",
       "    </tr>\n",
       "    <tr>\n",
       "      <th>2867</th>\n",
       "      <td>2000</td>\n",
       "      <td>48503</td>\n",
       "      <td>PRESIDENT</td>\n",
       "      <td>TX</td>\n",
       "      <td>1843.0</td>\n",
       "      <td>5022.0</td>\n",
       "      <td>6865.0</td>\n",
       "      <td>1</td>\n",
       "      <td>TX</td>\n",
       "      <td>Young</td>\n",
       "      <td>18550</td>\n",
       "      <td>914.468</td>\n",
       "      <td>16.391</td>\n",
       "      <td>930.859</td>\n",
       "      <td>33.15878</td>\n",
       "      <td>-98.67826</td>\n",
       "    </tr>\n",
       "    <tr>\n",
       "      <th>2873</th>\n",
       "      <td>2000</td>\n",
       "      <td>48505</td>\n",
       "      <td>PRESIDENT</td>\n",
       "      <td>TX</td>\n",
       "      <td>1638.0</td>\n",
       "      <td>953.0</td>\n",
       "      <td>2591.0</td>\n",
       "      <td>0</td>\n",
       "      <td>TX</td>\n",
       "      <td>Zapata</td>\n",
       "      <td>14018</td>\n",
       "      <td>998.412</td>\n",
       "      <td>59.603</td>\n",
       "      <td>1058.015</td>\n",
       "      <td>26.99698</td>\n",
       "      <td>-99.18260</td>\n",
       "    </tr>\n",
       "    <tr>\n",
       "      <th>2879</th>\n",
       "      <td>2000</td>\n",
       "      <td>48507</td>\n",
       "      <td>PRESIDENT</td>\n",
       "      <td>TX</td>\n",
       "      <td>2616.0</td>\n",
       "      <td>751.0</td>\n",
       "      <td>3367.0</td>\n",
       "      <td>0</td>\n",
       "      <td>TX</td>\n",
       "      <td>Zavala</td>\n",
       "      <td>11677</td>\n",
       "      <td>1297.406</td>\n",
       "      <td>4.328</td>\n",
       "      <td>1301.734</td>\n",
       "      <td>28.86465</td>\n",
       "      <td>-99.75983</td>\n",
       "    </tr>\n",
       "  </tbody>\n",
       "</table>\n",
       "<p>481 rows × 16 columns</p>\n",
       "</div>"
      ],
      "text/plain": [
       "      year   FIPS     office state  dem_votes  rep_votes  total_votes  target  \\\n",
       "0     2000   6001  PRESIDENT    CA   342889.0   119279.0     462168.0       0   \n",
       "6     2000   6003  PRESIDENT    CA      265.0      281.0        546.0       1   \n",
       "12    2000   6005  PRESIDENT    CA     5906.0     8766.0      14672.0       1   \n",
       "18    2000   6007  PRESIDENT    CA    31338.0    45584.0      76922.0       1   \n",
       "24    2000   6009  PRESIDENT    CA     7093.0    10599.0      17692.0       1   \n",
       "...    ...    ...        ...   ...        ...        ...          ...     ...   \n",
       "2855  2000  48499  PRESIDENT    TX     3893.0     9810.0      13703.0       1   \n",
       "2861  2000  48501  PRESIDENT    TX      531.0     1911.0       2442.0       1   \n",
       "2867  2000  48503  PRESIDENT    TX     1843.0     5022.0       6865.0       1   \n",
       "2873  2000  48505  PRESIDENT    TX     1638.0      953.0       2591.0       0   \n",
       "2879  2000  48507  PRESIDENT    TX     2616.0      751.0       3367.0       0   \n",
       "\n",
       "     State County [2] Population(2010) Land Areami² Water Areami²  \\\n",
       "0       CA    Alameda          1510271      739.017        82.311   \n",
       "6       CA     Alpine             1175      738.332         4.848   \n",
       "12      CA     Amador            38091      594.583        11.373   \n",
       "18      CA      Butte           220000     1636.464        40.667   \n",
       "24      CA  Calaveras            45578     1020.012        16.915   \n",
       "...    ...        ...              ...          ...           ...   \n",
       "2855    TX       Wood            41964      645.234        50.484   \n",
       "2861    TX     Yoakum             7879      799.708         0.013   \n",
       "2867    TX      Young            18550      914.468        16.391   \n",
       "2873    TX     Zapata            14018      998.412        59.603   \n",
       "2879    TX     Zavala            11677     1297.406         4.328   \n",
       "\n",
       "     Total Areami²  Latitude  Longitude  \n",
       "0          821.328  37.64808 -121.91330  \n",
       "6          743.180  38.61761 -119.79899  \n",
       "12         605.956  38.44355 -120.65385  \n",
       "18        1677.131  39.66595 -121.60191  \n",
       "24        1036.927  38.18784 -120.55511  \n",
       "...            ...       ...        ...  \n",
       "2855       695.718  32.78358  -95.38216  \n",
       "2861       799.721  33.17239 -102.82377  \n",
       "2867       930.859  33.15878  -98.67826  \n",
       "2873      1058.015  26.99698  -99.18260  \n",
       "2879      1301.734  28.86465  -99.75983  \n",
       "\n",
       "[481 rows x 16 columns]"
      ]
     },
     "execution_count": 124,
     "metadata": {},
     "output_type": "execute_result"
    }
   ],
   "source": [
    "j[j[\"year\"]==2000]"
   ]
  },
  {
   "cell_type": "code",
   "execution_count": 105,
   "id": "5cc0cdf4-4ef5-409a-a350-40faa2aa67ec",
   "metadata": {},
   "outputs": [
    {
     "data": {
      "image/png": "[encoded data removed]",
      "text/plain": [
       "<Figure size 432x288 with 1 Axes>"
      ]
     },
     "metadata": {
      "needs_background": "light"
     },
     "output_type": "display_data"
    }
   ],
   "source": [
    "plt.hist((j.dem_votes - j.rep_votes));"
   ]
  },
  {
   "cell_type": "code",
   "execution_count": 106,
   "id": "1cebdefc-3d35-4efb-839e-f26414f4ec2c",
   "metadata": {},
   "outputs": [
    {
     "data": {
      "image/png": "[encoded data removed]",
      "text/plain": [
       "<Figure size 432x288 with 1 Axes>"
      ]
     },
     "metadata": {
      "needs_background": "light"
     },
     "output_type": "display_data"
    }
   ],
   "source": [
    "import matplotlib.pyplot as plt\n",
    "diffs = np.log(j.dem_votes - j.rep_votes)\n",
    "plt.hist(diffs, bins=20)\n",
    "plt.vlines(diffs.mean()-diffs.std(), 0, 250, color='red')\n",
    "plt.vlines(diffs.mean()+diffs.std(), 0, 250, color='red')\n",
    "plt.grid()"
   ]
  },
  {
   "cell_type": "code",
   "execution_count": 107,
   "id": "73345fd9-b76a-47c6-b389-0ca616068eb6",
   "metadata": {},
   "outputs": [
    {
     "data": {
      "text/plain": [
       "6.428659065532981"
      ]
     },
     "execution_count": 107,
     "metadata": {},
     "output_type": "execute_result"
    }
   ],
   "source": [
    "diffs.mean()-diffs.std()"
   ]
  },
  {
   "cell_type": "code",
   "execution_count": 102,
   "id": "a1d5fb4f-465e-4ec3-a315-cf1021f031b0",
   "metadata": {},
   "outputs": [
    {
     "data": {
      "image/png": "[encoded data removed]",
      "text/plain": [
       "<Figure size 432x288 with 1 Axes>"
      ]
     },
     "metadata": {
      "needs_background": "light"
     },
     "output_type": "display_data"
    }
   ],
   "source": [
    "import matplotlib.pyplot as plt\n",
    "diffs = [np.random.choice((j.dem_votes - j.rep_votes), size=481).mean() for x in range(1000)]\n",
    "diffs = np.array(diffs)\n",
    "plt.hist(diffs)\n",
    "plt.vlines(diffs.mean()-diffs.std(), 0, 250, color='red')\n",
    "plt.vlines(diffs.mean()+diffs.std(), 0, 250, color='red')\n",
    "plt.grid();"
   ]
  },
  {
   "cell_type": "code",
   "execution_count": null,
   "id": "4a8894f5-380a-4c05-9a69-8b3d78c33d3e",
   "metadata": {},
   "outputs": [],
   "source": []
  }
 ],
 "metadata": {
  "kernelspec": {
   "display_name": "Python 3",
   "language": "python",
   "name": "python3"
  },
  "language_info": {
   "codemirror_mode": {
    "name": "ipython",
    "version": 3
   },
   "file_extension": ".py",
   "mimetype": "text/x-python",
   "name": "python",
   "nbconvert_exporter": "python",
   "pygments_lexer": "ipython3",
   "version": "3.9.5"
  }
 },
 "nbformat": 4,
 "nbformat_minor": 5
}
