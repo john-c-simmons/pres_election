{
 "cells": [
  {
   "cell_type": "code",
   "execution_count": null,
   "id": "b5330309-c675-4538-80b8-2c5c5f1e0600",
   "metadata": {},
   "outputs": [],
   "source": [
    "import pandas as pd\n",
    "import numpy as np\n",
    "import seaborn as sns\n",
    "import matplotlib.pyplot as plt"
   ]
  },
  {
   "cell_type": "code",
   "execution_count": null,
   "id": "9c9ca9b1-3996-4cfc-ac13-5fcfefb92545",
   "metadata": {},
   "outputs": [],
   "source": [
    "pres_url = \"../../data/countypres_2000-2020.csv\""
   ]
  },
  {
   "cell_type": "code",
   "execution_count": null,
   "id": "a139154b-8fec-4b72-ad05-2f6b2078d626",
   "metadata": {},
   "outputs": [],
   "source": [
    "pres = pd.read_csv(pres_url)"
   ]
  },
  {
   "cell_type": "code",
   "execution_count": null,
   "id": "b920296b-f3a9-4a1d-b1cd-88d423c5d8d5",
   "metadata": {},
   "outputs": [],
   "source": [
    "geo_url = \"../../data/geo.csv\""
   ]
  },
  {
   "cell_type": "code",
   "execution_count": null,
   "id": "7b6f3244-711f-4a10-a161-b65fae7392b7",
   "metadata": {},
   "outputs": [],
   "source": [
    "geo = pd.read_csv(geo_url)"
   ]
  },
  {
   "cell_type": "code",
   "execution_count": null,
   "id": "31e391cc-1680-4f7f-baec-88304d1b5bcb",
   "metadata": {},
   "outputs": [],
   "source": [
    "geo.head(2)"
   ]
  },
  {
   "cell_type": "code",
   "execution_count": null,
   "id": "95c6773b-0152-45cb-8c63-f0edfcac7753",
   "metadata": {},
   "outputs": [],
   "source": [
    "pres.head(2)"
   ]
  },
  {
   "cell_type": "code",
   "execution_count": null,
   "id": "7aeaec0f-b0aa-4652-8e3c-87c1d3c23300",
   "metadata": {},
   "outputs": [],
   "source": [
    "#pres cleanup\n",
    "pres = pres.rename(columns={\"county_fips\":\"FIPS\"})\n",
    "pres[\"FIPS\"] = pres[\"FIPS\"]\n",
    "pres = pres[(pres[\"state_po\"]==\"TX\") | (pres[\"state_po\"]==\"FL\") | (pres[\"state_po\"]==\"CA\") | (pres[\"state_po\"]==\"IL\") | (pres[\"state_po\"]==\"MI\")]\n",
    "pres.dropna(inplace=True)\n",
    "pres_cleaned = pres"
   ]
  },
  {
   "cell_type": "code",
   "execution_count": null,
   "id": "9b22eb7b-11e5-4b00-8b3f-f27b8f5212b2",
   "metadata": {},
   "outputs": [],
   "source": [
    "pres_cleaned.head(2)"
   ]
  },
  {
   "cell_type": "code",
   "execution_count": null,
   "id": "592f19f3-bdb0-460d-b1ea-26fc940f7036",
   "metadata": {},
   "outputs": [],
   "source": [
    "#geo cleanup\n",
    "geo.replace(',','', regex=True, inplace=True)\n",
    "geo[\"Longitude\"] = geo[\"Longitude\"].map(lambda l: float(l[1: -2])*-1 if l[0] == \"–\" else float(l[1: -2]))\n",
    "geo[\"Latitude\"] = geo[\"Latitude\"].map(lambda l: float(l[1: -2])*-1 if l[0] == \"–\" else float(l[1: -2]))\n",
    "geo[\"FIPS\"] = geo['FIPS'].map(lambda x: int(\"0\" + str(x)))\n",
    "geo = geo[(geo[\"State\"]==\"TX\") | (geo[\"State\"]==\"FL\") | (geo[\"State\"]==\"CA\") | (geo[\"State\"]==\"IL\")| (pres[\"state_po\"]==\"MI\")]\n",
    "geo.drop([\"Land Areakm²\", \"Total Areakm²\", \"Water Areakm²\", \"County Seat(s) [3]\", \"Sort [1]\", \"County [2]\", \"State\"], axis=1, inplace=True)\n",
    "geo_clean = geo"
   ]
  },
  {
   "cell_type": "code",
   "execution_count": null,
   "id": "3daab7fa-a79f-4bd5-9b25-fd18bfa95ac0",
   "metadata": {},
   "outputs": [],
   "source": [
    "geo_clean.head(2)"
   ]
  },
  {
   "cell_type": "code",
   "execution_count": null,
   "id": "30f08973-29ff-4f97-b09e-3dfb1b6034d8",
   "metadata": {},
   "outputs": [],
   "source": [
    "pres_groups = list(pres_cleaned.groupby(['year', 'FIPS']).groups.keys())"
   ]
  },
  {
   "cell_type": "code",
   "execution_count": null,
   "id": "12563bdb-84bb-420b-ab2f-4365f1594129",
   "metadata": {},
   "outputs": [],
   "source": [
    "row_cols = [\"year\", \"FIPS\", \"office\", \"state\", \"dem_votes\", \"rep_votes\"]"
   ]
  },
  {
   "cell_type": "code",
   "execution_count": null,
   "id": "f8300481-5188-4f9e-acb1-9f34c1a1ff92",
   "metadata": {},
   "outputs": [],
   "source": [
    "pres_clean = pd.DataFrame(columns = row_cols)"
   ]
  },
  {
   "cell_type": "code",
   "execution_count": null,
   "id": "cf704521-2823-4f19-b800-0fe6f76d2f51",
   "metadata": {
    "tags": []
   },
   "outputs": [],
   "source": [
    "error_group = None\n",
    "for group in pres_groups:\n",
    "    year = group[0]\n",
    "    fips = group[1]\n",
    "    office = 'president'\n",
    "    g = pres_cleaned[(pres_cleaned['year'] == group[0]) & (pres_cleaned['FIPS'] == group[1])]\n",
    "    g.index = np.arange(0, len(g))\n",
    "    g_year = g.iloc[0][\"year\"]\n",
    "    g_FIPS = g.iloc[0][\"FIPS\"]\n",
    "    g_office = g.iloc[0][\"office\"]\n",
    "    g_state = g.iloc[0][\"state_po\"]\n",
    "    g_demvotes = g[g[\"party\"]==\"DEMOCRAT\"][\"candidatevotes\"].values[0]\n",
    "    g_repvotes = g[g[\"party\"]==\"REPUBLICAN\"][\"candidatevotes\"].values[0]\n",
    "    all_county = [[g_year, g_FIPS, g_office, g_state, g_demvotes , g_repvotes]]    \n",
    "    pres_clean = pres_clean.append(pd.DataFrame(all_county, columns=row_cols))"
   ]
  },
  {
   "cell_type": "code",
   "execution_count": null,
   "id": "876ee71f-750f-4f07-862b-6dedde7c848d",
   "metadata": {},
   "outputs": [],
   "source": [
    "#additional pres_clean cleaning:\n",
    "pres_clean[\"total_votes\"] = pres_clean[\"dem_votes\"] + pres_clean[\"rep_votes\"]\n"
   ]
  },
  {
   "cell_type": "code",
   "execution_count": null,
   "id": "aed63afb-688d-46f9-9f00-3d18dca46bfa",
   "metadata": {},
   "outputs": [],
   "source": [
    "# Create target column\n",
    "pres_clean[\"target\"] = pres_clean.apply(lambda row: 0 if row[\"dem_votes\"] > row[\"rep_votes\"] else 1, axis=1)"
   ]
  },
  {
   "cell_type": "code",
   "execution_count": null,
   "id": "14a2c965-debd-406c-b738-caa564e0582d",
   "metadata": {},
   "outputs": [],
   "source": [
    "def win_percentage(row):\n",
    "    if row[\"target\"]==0:\n",
    "        return round(row[\"dem_votes\"]/row[\"total_votes\"] *100, 2)\n",
    "    else:\n",
    "        return round(row[\"rep_votes\"]/row[\"total_votes\"] *100, 2)"
   ]
  },
  {
   "cell_type": "code",
   "execution_count": null,
   "id": "04bc6f6e-2443-47ba-a5b0-085dbbbb24f0",
   "metadata": {},
   "outputs": [],
   "source": [
    "def win_margin(row):\n",
    "    if row[\"target\"]==0:\n",
    "        return round((row[\"dem_votes\"]/row[\"total_votes\"] *100) - 50, 2)\n",
    "    else:\n",
    "        return round((row[\"rep_votes\"]/row[\"total_votes\"] *100) - 50, 2)"
   ]
  },
  {
   "cell_type": "code",
   "execution_count": null,
   "id": "ff57a709-0223-4ba9-9f8e-2df1c433ed00",
   "metadata": {},
   "outputs": [],
   "source": [
    "pres_clean[\"win_percentage\"] = pres_clean.apply(win_percentage, axis=1)\n",
    "pres_clean[\"win_margin\"] = pres_clean.apply(win_margin, axis=1)"
   ]
  },
  {
   "cell_type": "code",
   "execution_count": null,
   "id": "990b0804-fe57-4c8f-ab50-539bff64df4d",
   "metadata": {},
   "outputs": [],
   "source": [
    "pres_clean[(pres_clean[\"year\"]==2016) | (pres_clean[\"state\"]==\"CA\")].head(2)"
   ]
  },
  {
   "cell_type": "code",
   "execution_count": null,
   "id": "c57d6f43-5a3d-4302-a807-3d3943b68ebe",
   "metadata": {},
   "outputs": [],
   "source": [
    "j = pres_clean.merge(geo_clean, on=\"FIPS\", how=\"inner\")"
   ]
  },
  {
   "cell_type": "code",
   "execution_count": null,
   "id": "86938dd3-d993-4e40-906d-9086a7e76779",
   "metadata": {},
   "outputs": [],
   "source": [
    "j[j[\"year\"]==2016].shape"
   ]
  },
  {
   "cell_type": "code",
   "execution_count": null,
   "id": "4c786a79-237d-442f-8e32-4adc4fd5ee6c",
   "metadata": {},
   "outputs": [],
   "source": [
    "j[j[\"year\"]==2020].to_csv(\"pres2020.csv\")"
   ]
  },
  {
   "cell_type": "markdown",
   "id": "ae98d3bd-5406-423e-8dd1-07ff899acdc7",
   "metadata": {},
   "source": [
    "## Visualizations\n",
    "\n",
    "#### 1 = Republican win, 0 = Democrat win"
   ]
  },
  {
   "cell_type": "code",
   "execution_count": null,
   "id": "504b82c9-9a91-4c59-92bb-1dab89b11eec",
   "metadata": {},
   "outputs": [],
   "source": [
    "sum_rep = j.rep_votes.sum()"
   ]
  },
  {
   "cell_type": "code",
   "execution_count": null,
   "id": "9e64e72d-e802-4b0d-bb51-9be25d7333ba",
   "metadata": {},
   "outputs": [],
   "source": [
    "sum_dem = j.dem_votes.sum()"
   ]
  },
  {
   "cell_type": "code",
   "execution_count": null,
   "id": "b5a3cee5-714a-47ab-a8ac-81ba6a945677",
   "metadata": {},
   "outputs": [],
   "source": [
    "sum_total_votes = sum_rep + sum_dem"
   ]
  },
  {
   "cell_type": "code",
   "execution_count": null,
   "id": "6c6ec173-f972-48be-9e6b-508f8b5ebd80",
   "metadata": {},
   "outputs": [],
   "source": [
    "def vote_inferential(df):\n",
    "    sum_rep = j.rep_votes.sum()\n",
    "    sum_dem = j.dem_votes.sum()\n",
    "    sum_total = sum_rep + sum_dem\n",
    "    rep_vote_per = round(sum_rep/sum_total *100, 2)\n",
    "    dem_vote_per = round(sum_dem/sum_total *100, 2)\n",
    "    return (rep_vote_per, dem_vote_per)"
   ]
  },
  {
   "cell_type": "code",
   "execution_count": null,
   "id": "78202ab0-600c-4a4f-af70-0c3536d9c9ec",
   "metadata": {},
   "outputs": [],
   "source": [
    "vote_inferential(j)"
   ]
  },
  {
   "cell_type": "code",
   "execution_count": null,
   "id": "88c29f1c-e29b-4610-a3dc-d9969dad2ac0",
   "metadata": {},
   "outputs": [],
   "source": [
    "j.target.value_counts(normalize=True)"
   ]
  },
  {
   "cell_type": "code",
   "execution_count": null,
   "id": "86515bc0-39dd-4e64-85c5-2f59e002b599",
   "metadata": {},
   "outputs": [],
   "source": [
    "fig, ax = plt.subplots(figsize=(8,8))\n",
    "plt.title(\"Total Votes v. Total Counties Won\", size=20)\n",
    "plt.tick_params(axis='both', labelsize=12)\n",
    "plt.ylabel(\"Percentage\", size=15)\n",
    "sns.barplot([\"R. Votes\", \"D. Votes\", \"R. Counties Won\", \"B. Counties Won\"], [46.13,57.87, 81.67,18.34], palette=[\"red\", \"blue\", \"red\", \"blue\"]);"
   ]
  },
  {
   "cell_type": "code",
   "execution_count": null,
   "id": "cbaae552-5b7c-4888-8f62-5cd4c1635737",
   "metadata": {},
   "outputs": [],
   "source": [
    "wm = j[[\"win_margin\"]]"
   ]
  },
  {
   "cell_type": "code",
   "execution_count": null,
   "id": "761c03e4-598c-4107-8c76-24c0779b4dbc",
   "metadata": {},
   "outputs": [],
   "source": [
    "wm[\"likelihood\"] = wm[\"win_margin\"].map(lambda margin: \"unlikely\" if margin > 30 else \"likely\")"
   ]
  },
  {
   "cell_type": "code",
   "execution_count": null,
   "id": "d9a52435-0ee3-4aed-b9d8-c7ec3d97c15c",
   "metadata": {},
   "outputs": [],
   "source": [
    "fig, ax = plt.subplots(figsize=(8,8))\n",
    "sns.histplot(data=wm, x=wm[\"win_margin\"], bins=20, ax=ax, palette = [\"#ffc300\", \"#003566\"], hue=wm[\"likelihood\"])\n",
    "plt.text(wm[\"win_margin\"].mean()+1, 150, \"Mean\", color = \"black\", size=15, fontweight='bold')\n",
    "plt.text(wm[\"win_margin\"].mean()+1, 137, \"(19%)\", color = \"black\", size=15, fontweight='bold')\n",
    "plt.vlines(wm[\"win_margin\"].mean(), 0, 210, color=\"black\", linewidth=6)\n",
    "plt.title(\"Win Margin Percentage Distribution\", size=20)\n",
    "plt.ylabel(\"County Elections\", size=15)\n",
    "plt.xlabel(\"Win Margin(Percentage)\", size=15)"
   ]
  },
  {
   "cell_type": "code",
   "execution_count": null,
   "id": "51bc7eba-810b-4740-a2ee-2e74146fd9ed",
   "metadata": {},
   "outputs": [],
   "source": []
  }
 ],
 "metadata": {
  "kernelspec": {
   "display_name": "Python 3",
   "language": "python",
   "name": "python3"
  },
  "language_info": {
   "codemirror_mode": {
    "name": "ipython",
    "version": 3
   },
   "file_extension": ".py",
   "mimetype": "text/x-python",
   "name": "python",
   "nbconvert_exporter": "python",
   "pygments_lexer": "ipython3",
   "version": "3.9.5"
  }
 },
 "nbformat": 4,
 "nbformat_minor": 5
}
