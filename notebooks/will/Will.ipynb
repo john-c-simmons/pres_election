{
 "cells": [
  {
   "cell_type": "code",
   "execution_count": 94,
   "id": "b5330309-c675-4538-80b8-2c5c5f1e0600",
   "metadata": {},
   "outputs": [],
   "source": [
    "import pandas as pd\n",
    "import numpy as np\n",
    "import seaborn as sns\n",
    "import matplotlib.pyplot as plt"
   ]
  },
  {
   "cell_type": "code",
   "execution_count": 95,
   "id": "9c9ca9b1-3996-4cfc-ac13-5fcfefb92545",
   "metadata": {},
   "outputs": [],
   "source": [
    "pres_url = \"../../will-data/countypres_2000-2020.csv\""
   ]
  },
  {
   "cell_type": "code",
   "execution_count": 96,
   "id": "a139154b-8fec-4b72-ad05-2f6b2078d626",
   "metadata": {},
   "outputs": [],
   "source": [
    "pres = pd.read_csv(pres_url)"
   ]
  },
  {
   "cell_type": "code",
   "execution_count": 97,
   "id": "b920296b-f3a9-4a1d-b1cd-88d423c5d8d5",
   "metadata": {},
   "outputs": [],
   "source": [
    "geo_url = \"../../will-data/geo.csv\""
   ]
  },
  {
   "cell_type": "code",
   "execution_count": 98,
   "id": "7b6f3244-711f-4a10-a161-b65fae7392b7",
   "metadata": {},
   "outputs": [],
   "source": [
    "geo = pd.read_csv(geo_url)"
   ]
  },
  {
   "cell_type": "code",
   "execution_count": 99,
   "id": "31e391cc-1680-4f7f-baec-88304d1b5bcb",
   "metadata": {},
   "outputs": [
    {
     "data": {
      "text/html": [
       "<div>\n",
       "<style scoped>\n",
       "    .dataframe tbody tr th:only-of-type {\n",
       "        vertical-align: middle;\n",
       "    }\n",
       "\n",
       "    .dataframe tbody tr th {\n",
       "        vertical-align: top;\n",
       "    }\n",
       "\n",
       "    .dataframe thead th {\n",
       "        text-align: right;\n",
       "    }\n",
       "</style>\n",
       "<table border=\"1\" class=\"dataframe\">\n",
       "  <thead>\n",
       "    <tr style=\"text-align: right;\">\n",
       "      <th></th>\n",
       "      <th>Sort [1]</th>\n",
       "      <th>State</th>\n",
       "      <th>FIPS</th>\n",
       "      <th>County [2]</th>\n",
       "      <th>County Seat(s) [3]</th>\n",
       "      <th>Population(2010)</th>\n",
       "      <th>Land Areakm²</th>\n",
       "      <th>Land Areami²</th>\n",
       "      <th>Water Areakm²</th>\n",
       "      <th>Water Areami²</th>\n",
       "      <th>Total Areakm²</th>\n",
       "      <th>Total Areami²</th>\n",
       "      <th>Latitude</th>\n",
       "      <th>Longitude</th>\n",
       "    </tr>\n",
       "  </thead>\n",
       "  <tbody>\n",
       "    <tr>\n",
       "      <th>0</th>\n",
       "      <td>1</td>\n",
       "      <td>AL</td>\n",
       "      <td>1001</td>\n",
       "      <td>Autauga</td>\n",
       "      <td>Prattville</td>\n",
       "      <td>54,571</td>\n",
       "      <td>1,539.582</td>\n",
       "      <td>594.436</td>\n",
       "      <td>25.776</td>\n",
       "      <td>9.952</td>\n",
       "      <td>1,565.358</td>\n",
       "      <td>604.388</td>\n",
       "      <td>+32.536382°</td>\n",
       "      <td>–86.644490°</td>\n",
       "    </tr>\n",
       "    <tr>\n",
       "      <th>1</th>\n",
       "      <td>2</td>\n",
       "      <td>AL</td>\n",
       "      <td>1003</td>\n",
       "      <td>Baldwin</td>\n",
       "      <td>Bay Minette</td>\n",
       "      <td>182,265</td>\n",
       "      <td>4,117.522</td>\n",
       "      <td>1,589.784</td>\n",
       "      <td>1,133.190</td>\n",
       "      <td>437.527</td>\n",
       "      <td>5,250.712</td>\n",
       "      <td>2,027.311</td>\n",
       "      <td>+30.659218°</td>\n",
       "      <td>–87.746067°</td>\n",
       "    </tr>\n",
       "  </tbody>\n",
       "</table>\n",
       "</div>"
      ],
      "text/plain": [
       "   Sort [1] State  FIPS County [2] County Seat(s) [3] Population(2010)  \\\n",
       "0         1    AL  1001    Autauga         Prattville           54,571   \n",
       "1         2    AL  1003    Baldwin        Bay Minette          182,265   \n",
       "\n",
       "  Land Areakm² Land Areami² Water Areakm² Water Areami² Total Areakm²  \\\n",
       "0    1,539.582      594.436        25.776         9.952     1,565.358   \n",
       "1    4,117.522    1,589.784     1,133.190       437.527     5,250.712   \n",
       "\n",
       "  Total Areami²     Latitude    Longitude  \n",
       "0       604.388  +32.536382°  –86.644490°  \n",
       "1     2,027.311  +30.659218°  –87.746067°  "
      ]
     },
     "execution_count": 99,
     "metadata": {},
     "output_type": "execute_result"
    }
   ],
   "source": [
    "geo.head(2)"
   ]
  },
  {
   "cell_type": "code",
   "execution_count": 100,
   "id": "95c6773b-0152-45cb-8c63-f0edfcac7753",
   "metadata": {},
   "outputs": [
    {
     "data": {
      "text/html": [
       "<div>\n",
       "<style scoped>\n",
       "    .dataframe tbody tr th:only-of-type {\n",
       "        vertical-align: middle;\n",
       "    }\n",
       "\n",
       "    .dataframe tbody tr th {\n",
       "        vertical-align: top;\n",
       "    }\n",
       "\n",
       "    .dataframe thead th {\n",
       "        text-align: right;\n",
       "    }\n",
       "</style>\n",
       "<table border=\"1\" class=\"dataframe\">\n",
       "  <thead>\n",
       "    <tr style=\"text-align: right;\">\n",
       "      <th></th>\n",
       "      <th>year</th>\n",
       "      <th>state</th>\n",
       "      <th>state_po</th>\n",
       "      <th>county_name</th>\n",
       "      <th>county_fips</th>\n",
       "      <th>office</th>\n",
       "      <th>candidate</th>\n",
       "      <th>party</th>\n",
       "      <th>candidatevotes</th>\n",
       "      <th>totalvotes</th>\n",
       "      <th>version</th>\n",
       "      <th>mode</th>\n",
       "    </tr>\n",
       "  </thead>\n",
       "  <tbody>\n",
       "    <tr>\n",
       "      <th>0</th>\n",
       "      <td>2000</td>\n",
       "      <td>ALABAMA</td>\n",
       "      <td>AL</td>\n",
       "      <td>AUTAUGA</td>\n",
       "      <td>1001.0</td>\n",
       "      <td>PRESIDENT</td>\n",
       "      <td>AL GORE</td>\n",
       "      <td>DEMOCRAT</td>\n",
       "      <td>4942.0</td>\n",
       "      <td>17208.0</td>\n",
       "      <td>20191203</td>\n",
       "      <td>TOTAL</td>\n",
       "    </tr>\n",
       "    <tr>\n",
       "      <th>1</th>\n",
       "      <td>2000</td>\n",
       "      <td>ALABAMA</td>\n",
       "      <td>AL</td>\n",
       "      <td>AUTAUGA</td>\n",
       "      <td>1001.0</td>\n",
       "      <td>PRESIDENT</td>\n",
       "      <td>GEORGE W. BUSH</td>\n",
       "      <td>REPUBLICAN</td>\n",
       "      <td>11993.0</td>\n",
       "      <td>17208.0</td>\n",
       "      <td>20191203</td>\n",
       "      <td>TOTAL</td>\n",
       "    </tr>\n",
       "  </tbody>\n",
       "</table>\n",
       "</div>"
      ],
      "text/plain": [
       "   year    state state_po county_name  county_fips     office       candidate  \\\n",
       "0  2000  ALABAMA       AL     AUTAUGA       1001.0  PRESIDENT         AL GORE   \n",
       "1  2000  ALABAMA       AL     AUTAUGA       1001.0  PRESIDENT  GEORGE W. BUSH   \n",
       "\n",
       "        party  candidatevotes  totalvotes   version   mode  \n",
       "0    DEMOCRAT          4942.0     17208.0  20191203  TOTAL  \n",
       "1  REPUBLICAN         11993.0     17208.0  20191203  TOTAL  "
      ]
     },
     "execution_count": 100,
     "metadata": {},
     "output_type": "execute_result"
    }
   ],
   "source": [
    "pres.head(2)"
   ]
  },
  {
   "cell_type": "code",
   "execution_count": 103,
   "id": "7aeaec0f-b0aa-4652-8e3c-87c1d3c23300",
   "metadata": {},
   "outputs": [],
   "source": [
    "#pres cleanup\n",
    "pres = pres.rename(columns={\"county_fips\":\"FIPS\"})\n",
    "pres[\"FIPS\"] = pres[\"FIPS\"]\n",
    "pres = pres[(pres[\"state_po\"]==\"TX\") | (pres[\"state_po\"]==\"FL\") | (pres[\"state_po\"]==\"CA\") | (pres[\"state_po\"]==\"IL\") | (pres[\"state_po\"]==\"MI\")]\n",
    "pres.dropna(inplace=True)\n",
    "pres_cleaned = pres"
   ]
  },
  {
   "cell_type": "code",
   "execution_count": 104,
   "id": "7db211c9-e7a1-448d-bd8d-c3108c4e5074",
   "metadata": {},
   "outputs": [
    {
     "data": {
      "text/html": [
       "<div>\n",
       "<style scoped>\n",
       "    .dataframe tbody tr th:only-of-type {\n",
       "        vertical-align: middle;\n",
       "    }\n",
       "\n",
       "    .dataframe tbody tr th {\n",
       "        vertical-align: top;\n",
       "    }\n",
       "\n",
       "    .dataframe thead th {\n",
       "        text-align: right;\n",
       "    }\n",
       "</style>\n",
       "<table border=\"1\" class=\"dataframe\">\n",
       "  <thead>\n",
       "    <tr style=\"text-align: right;\">\n",
       "      <th></th>\n",
       "      <th>year</th>\n",
       "      <th>state</th>\n",
       "      <th>state_po</th>\n",
       "      <th>county_name</th>\n",
       "      <th>FIPS</th>\n",
       "      <th>office</th>\n",
       "      <th>candidate</th>\n",
       "      <th>party</th>\n",
       "      <th>candidatevotes</th>\n",
       "      <th>totalvotes</th>\n",
       "      <th>version</th>\n",
       "      <th>mode</th>\n",
       "    </tr>\n",
       "  </thead>\n",
       "  <tbody>\n",
       "    <tr>\n",
       "      <th>4800</th>\n",
       "      <td>2000</td>\n",
       "      <td>MICHIGAN</td>\n",
       "      <td>MI</td>\n",
       "      <td>ALCONA</td>\n",
       "      <td>26001.0</td>\n",
       "      <td>PRESIDENT</td>\n",
       "      <td>AL GORE</td>\n",
       "      <td>DEMOCRAT</td>\n",
       "      <td>2696.0</td>\n",
       "      <td>5997.0</td>\n",
       "      <td>20191203</td>\n",
       "      <td>TOTAL</td>\n",
       "    </tr>\n",
       "    <tr>\n",
       "      <th>4801</th>\n",
       "      <td>2000</td>\n",
       "      <td>MICHIGAN</td>\n",
       "      <td>MI</td>\n",
       "      <td>ALCONA</td>\n",
       "      <td>26001.0</td>\n",
       "      <td>PRESIDENT</td>\n",
       "      <td>GEORGE W. BUSH</td>\n",
       "      <td>REPUBLICAN</td>\n",
       "      <td>3152.0</td>\n",
       "      <td>5997.0</td>\n",
       "      <td>20191203</td>\n",
       "      <td>TOTAL</td>\n",
       "    </tr>\n",
       "  </tbody>\n",
       "</table>\n",
       "</div>"
      ],
      "text/plain": [
       "      year     state state_po county_name     FIPS     office       candidate  \\\n",
       "4800  2000  MICHIGAN       MI      ALCONA  26001.0  PRESIDENT         AL GORE   \n",
       "4801  2000  MICHIGAN       MI      ALCONA  26001.0  PRESIDENT  GEORGE W. BUSH   \n",
       "\n",
       "           party  candidatevotes  totalvotes   version   mode  \n",
       "4800    DEMOCRAT          2696.0      5997.0  20191203  TOTAL  \n",
       "4801  REPUBLICAN          3152.0      5997.0  20191203  TOTAL  "
      ]
     },
     "execution_count": 104,
     "metadata": {},
     "output_type": "execute_result"
    }
   ],
   "source": [
    "pres_cleaned[pres_cleaned[\"state_po\"]==\"MI\"].head(2)"
   ]
  },
  {
   "cell_type": "code",
   "execution_count": 105,
   "id": "9b22eb7b-11e5-4b00-8b3f-f27b8f5212b2",
   "metadata": {},
   "outputs": [
    {
     "data": {
      "text/html": [
       "<div>\n",
       "<style scoped>\n",
       "    .dataframe tbody tr th:only-of-type {\n",
       "        vertical-align: middle;\n",
       "    }\n",
       "\n",
       "    .dataframe tbody tr th {\n",
       "        vertical-align: top;\n",
       "    }\n",
       "\n",
       "    .dataframe thead th {\n",
       "        text-align: right;\n",
       "    }\n",
       "</style>\n",
       "<table border=\"1\" class=\"dataframe\">\n",
       "  <thead>\n",
       "    <tr style=\"text-align: right;\">\n",
       "      <th></th>\n",
       "      <th>year</th>\n",
       "      <th>state</th>\n",
       "      <th>state_po</th>\n",
       "      <th>county_name</th>\n",
       "      <th>FIPS</th>\n",
       "      <th>office</th>\n",
       "      <th>candidate</th>\n",
       "      <th>party</th>\n",
       "      <th>candidatevotes</th>\n",
       "      <th>totalvotes</th>\n",
       "      <th>version</th>\n",
       "      <th>mode</th>\n",
       "    </tr>\n",
       "  </thead>\n",
       "  <tbody>\n",
       "    <tr>\n",
       "      <th>628</th>\n",
       "      <td>2000</td>\n",
       "      <td>CALIFORNIA</td>\n",
       "      <td>CA</td>\n",
       "      <td>ALAMEDA</td>\n",
       "      <td>6001.0</td>\n",
       "      <td>PRESIDENT</td>\n",
       "      <td>AL GORE</td>\n",
       "      <td>DEMOCRAT</td>\n",
       "      <td>342889.0</td>\n",
       "      <td>494336.0</td>\n",
       "      <td>20191203</td>\n",
       "      <td>TOTAL</td>\n",
       "    </tr>\n",
       "    <tr>\n",
       "      <th>629</th>\n",
       "      <td>2000</td>\n",
       "      <td>CALIFORNIA</td>\n",
       "      <td>CA</td>\n",
       "      <td>ALAMEDA</td>\n",
       "      <td>6001.0</td>\n",
       "      <td>PRESIDENT</td>\n",
       "      <td>GEORGE W. BUSH</td>\n",
       "      <td>REPUBLICAN</td>\n",
       "      <td>119279.0</td>\n",
       "      <td>494336.0</td>\n",
       "      <td>20191203</td>\n",
       "      <td>TOTAL</td>\n",
       "    </tr>\n",
       "  </tbody>\n",
       "</table>\n",
       "</div>"
      ],
      "text/plain": [
       "     year       state state_po county_name    FIPS     office       candidate  \\\n",
       "628  2000  CALIFORNIA       CA     ALAMEDA  6001.0  PRESIDENT         AL GORE   \n",
       "629  2000  CALIFORNIA       CA     ALAMEDA  6001.0  PRESIDENT  GEORGE W. BUSH   \n",
       "\n",
       "          party  candidatevotes  totalvotes   version   mode  \n",
       "628    DEMOCRAT        342889.0    494336.0  20191203  TOTAL  \n",
       "629  REPUBLICAN        119279.0    494336.0  20191203  TOTAL  "
      ]
     },
     "execution_count": 105,
     "metadata": {},
     "output_type": "execute_result"
    }
   ],
   "source": [
    "pres_cleaned.head(2)"
   ]
  },
  {
   "cell_type": "code",
   "execution_count": 106,
   "id": "592f19f3-bdb0-460d-b1ea-26fc940f7036",
   "metadata": {},
   "outputs": [],
   "source": [
    "#geo cleanup\n",
    "geo.replace(',','', regex=True, inplace=True)\n",
    "geo[\"Longitude\"] = geo[\"Longitude\"].map(lambda l: float(l[1: -2])*-1 if l[0] == \"–\" else float(l[1: -2]))\n",
    "geo[\"Latitude\"] = geo[\"Latitude\"].map(lambda l: float(l[1: -2])*-1 if l[0] == \"–\" else float(l[1: -2]))\n",
    "geo[\"FIPS\"] = geo['FIPS'].map(lambda x: int(\"0\" + str(x)))\n",
    "#geo = geo[(geo[\"State\"]==\"TX\") | (geo[\"State\"]==\"FL\") | (geo[\"State\"]==\"CA\") | (geo[\"State\"]==\"IL\")| (geo[\"State\"]==\"MI\")]\n",
    "geo.drop([\"Land Areakm²\", \"Total Areakm²\", \"Water Areakm²\", \"County Seat(s) [3]\", \"Sort [1]\", \"County [2]\", \"State\"], axis=1, inplace=True)\n",
    "geo_clean = geo"
   ]
  },
  {
   "cell_type": "code",
   "execution_count": 107,
   "id": "3daab7fa-a79f-4bd5-9b25-fd18bfa95ac0",
   "metadata": {},
   "outputs": [
    {
     "data": {
      "text/html": [
       "<div>\n",
       "<style scoped>\n",
       "    .dataframe tbody tr th:only-of-type {\n",
       "        vertical-align: middle;\n",
       "    }\n",
       "\n",
       "    .dataframe tbody tr th {\n",
       "        vertical-align: top;\n",
       "    }\n",
       "\n",
       "    .dataframe thead th {\n",
       "        text-align: right;\n",
       "    }\n",
       "</style>\n",
       "<table border=\"1\" class=\"dataframe\">\n",
       "  <thead>\n",
       "    <tr style=\"text-align: right;\">\n",
       "      <th></th>\n",
       "      <th>FIPS</th>\n",
       "      <th>Population(2010)</th>\n",
       "      <th>Land Areami²</th>\n",
       "      <th>Water Areami²</th>\n",
       "      <th>Total Areami²</th>\n",
       "      <th>Latitude</th>\n",
       "      <th>Longitude</th>\n",
       "    </tr>\n",
       "  </thead>\n",
       "  <tbody>\n",
       "    <tr>\n",
       "      <th>0</th>\n",
       "      <td>1001</td>\n",
       "      <td>54571</td>\n",
       "      <td>594.436</td>\n",
       "      <td>9.952</td>\n",
       "      <td>604.388</td>\n",
       "      <td>32.53638</td>\n",
       "      <td>-86.64449</td>\n",
       "    </tr>\n",
       "    <tr>\n",
       "      <th>1</th>\n",
       "      <td>1003</td>\n",
       "      <td>182265</td>\n",
       "      <td>1589.784</td>\n",
       "      <td>437.527</td>\n",
       "      <td>2027.311</td>\n",
       "      <td>30.65921</td>\n",
       "      <td>-87.74606</td>\n",
       "    </tr>\n",
       "  </tbody>\n",
       "</table>\n",
       "</div>"
      ],
      "text/plain": [
       "   FIPS Population(2010) Land Areami² Water Areami² Total Areami²  Latitude  \\\n",
       "0  1001            54571      594.436         9.952       604.388  32.53638   \n",
       "1  1003           182265     1589.784       437.527      2027.311  30.65921   \n",
       "\n",
       "   Longitude  \n",
       "0  -86.64449  \n",
       "1  -87.74606  "
      ]
     },
     "execution_count": 107,
     "metadata": {},
     "output_type": "execute_result"
    }
   ],
   "source": [
    "geo_clean.head(2)"
   ]
  },
  {
   "cell_type": "code",
   "execution_count": 108,
   "id": "30f08973-29ff-4f97-b09e-3dfb1b6034d8",
   "metadata": {},
   "outputs": [],
   "source": [
    "pres_groups = list(pres_cleaned.groupby(['year', 'FIPS']).groups.keys())"
   ]
  },
  {
   "cell_type": "code",
   "execution_count": 109,
   "id": "12563bdb-84bb-420b-ab2f-4365f1594129",
   "metadata": {},
   "outputs": [],
   "source": [
    "row_cols = [\"year\", \"FIPS\", \"office\", \"state\", \"dem_votes\", \"rep_votes\", \"county\"]"
   ]
  },
  {
   "cell_type": "code",
   "execution_count": 110,
   "id": "f8300481-5188-4f9e-acb1-9f34c1a1ff92",
   "metadata": {},
   "outputs": [],
   "source": [
    "pres_clean = pd.DataFrame(columns = row_cols)"
   ]
  },
  {
   "cell_type": "code",
   "execution_count": 111,
   "id": "cf704521-2823-4f19-b800-0fe6f76d2f51",
   "metadata": {
    "tags": []
   },
   "outputs": [],
   "source": [
    "error_group = None\n",
    "for group in pres_groups:\n",
    "    year = group[0]\n",
    "    fips = group[1]\n",
    "    office = 'president'\n",
    "    g = pres_cleaned[(pres_cleaned['year'] == group[0]) & (pres_cleaned['FIPS'] == group[1])]\n",
    "    g.index = np.arange(0, len(g))\n",
    "    g_year = g.iloc[0][\"year\"]\n",
    "    g_FIPS = g.iloc[0][\"FIPS\"]\n",
    "    g_office = g.iloc[0][\"office\"]\n",
    "    g_state = g.iloc[0][\"state_po\"]\n",
    "    g_county = g.iloc[0][\"county_name\"]\n",
    "    g_demvotes = g[g[\"party\"]==\"DEMOCRAT\"][\"candidatevotes\"].values[0]\n",
    "    g_repvotes = g[g[\"party\"]==\"REPUBLICAN\"][\"candidatevotes\"].values[0]\n",
    "    all_county = [[g_year, g_FIPS, g_office, g_state, g_demvotes , g_repvotes, g_county]]    \n",
    "    pres_clean = pres_clean.append(pd.DataFrame(all_county, columns=row_cols))"
   ]
  },
  {
   "cell_type": "code",
   "execution_count": 112,
   "id": "7e379ab9-6e04-4a0b-b4fa-44ac631d219e",
   "metadata": {},
   "outputs": [],
   "source": [
    "pres_clean.to_csv(\"pres_clean.csv\")"
   ]
  },
  {
   "cell_type": "code",
   "execution_count": 113,
   "id": "b016a37a-b1b4-45a8-9f1b-0a45d5519ab8",
   "metadata": {},
   "outputs": [],
   "source": [
    "pres_clean = pd.read_csv('pres_clean.csv')"
   ]
  },
  {
   "cell_type": "code",
   "execution_count": 114,
   "id": "876ee71f-750f-4f07-862b-6dedde7c848d",
   "metadata": {},
   "outputs": [],
   "source": [
    "#additional pres_clean cleaning:\n",
    "pres_clean[\"total_votes\"] = pres_clean[\"dem_votes\"] + pres_clean[\"rep_votes\"]\n"
   ]
  },
  {
   "cell_type": "code",
   "execution_count": 115,
   "id": "58ba08c2-68a4-46e4-89c7-d3d81f761d6e",
   "metadata": {},
   "outputs": [
    {
     "data": {
      "text/html": [
       "<div>\n",
       "<style scoped>\n",
       "    .dataframe tbody tr th:only-of-type {\n",
       "        vertical-align: middle;\n",
       "    }\n",
       "\n",
       "    .dataframe tbody tr th {\n",
       "        vertical-align: top;\n",
       "    }\n",
       "\n",
       "    .dataframe thead th {\n",
       "        text-align: right;\n",
       "    }\n",
       "</style>\n",
       "<table border=\"1\" class=\"dataframe\">\n",
       "  <thead>\n",
       "    <tr style=\"text-align: right;\">\n",
       "      <th></th>\n",
       "      <th>Unnamed: 0</th>\n",
       "      <th>year</th>\n",
       "      <th>FIPS</th>\n",
       "      <th>office</th>\n",
       "      <th>state</th>\n",
       "      <th>dem_votes</th>\n",
       "      <th>rep_votes</th>\n",
       "      <th>county</th>\n",
       "      <th>total_votes</th>\n",
       "    </tr>\n",
       "  </thead>\n",
       "  <tbody>\n",
       "    <tr>\n",
       "      <th>227</th>\n",
       "      <td>0</td>\n",
       "      <td>2000</td>\n",
       "      <td>26001.0</td>\n",
       "      <td>PRESIDENT</td>\n",
       "      <td>MI</td>\n",
       "      <td>2696.0</td>\n",
       "      <td>3152.0</td>\n",
       "      <td>ALCONA</td>\n",
       "      <td>5848.0</td>\n",
       "    </tr>\n",
       "    <tr>\n",
       "      <th>228</th>\n",
       "      <td>0</td>\n",
       "      <td>2000</td>\n",
       "      <td>26003.0</td>\n",
       "      <td>PRESIDENT</td>\n",
       "      <td>MI</td>\n",
       "      <td>2071.0</td>\n",
       "      <td>2142.0</td>\n",
       "      <td>ALGER</td>\n",
       "      <td>4213.0</td>\n",
       "    </tr>\n",
       "    <tr>\n",
       "      <th>229</th>\n",
       "      <td>0</td>\n",
       "      <td>2000</td>\n",
       "      <td>26005.0</td>\n",
       "      <td>PRESIDENT</td>\n",
       "      <td>MI</td>\n",
       "      <td>15495.0</td>\n",
       "      <td>28197.0</td>\n",
       "      <td>ALLEGAN</td>\n",
       "      <td>43692.0</td>\n",
       "    </tr>\n",
       "    <tr>\n",
       "      <th>230</th>\n",
       "      <td>0</td>\n",
       "      <td>2000</td>\n",
       "      <td>26007.0</td>\n",
       "      <td>PRESIDENT</td>\n",
       "      <td>MI</td>\n",
       "      <td>7053.0</td>\n",
       "      <td>6769.0</td>\n",
       "      <td>ALPENA</td>\n",
       "      <td>13822.0</td>\n",
       "    </tr>\n",
       "    <tr>\n",
       "      <th>231</th>\n",
       "      <td>0</td>\n",
       "      <td>2000</td>\n",
       "      <td>26009.0</td>\n",
       "      <td>PRESIDENT</td>\n",
       "      <td>MI</td>\n",
       "      <td>4329.0</td>\n",
       "      <td>6780.0</td>\n",
       "      <td>ANTRIM</td>\n",
       "      <td>11109.0</td>\n",
       "    </tr>\n",
       "    <tr>\n",
       "      <th>...</th>\n",
       "      <td>...</td>\n",
       "      <td>...</td>\n",
       "      <td>...</td>\n",
       "      <td>...</td>\n",
       "      <td>...</td>\n",
       "      <td>...</td>\n",
       "      <td>...</td>\n",
       "      <td>...</td>\n",
       "      <td>...</td>\n",
       "    </tr>\n",
       "    <tr>\n",
       "      <th>3124</th>\n",
       "      <td>0</td>\n",
       "      <td>2020</td>\n",
       "      <td>26157.0</td>\n",
       "      <td>PRESIDENT</td>\n",
       "      <td>MI</td>\n",
       "      <td>8712.0</td>\n",
       "      <td>20297.0</td>\n",
       "      <td>TUSCOLA</td>\n",
       "      <td>29009.0</td>\n",
       "    </tr>\n",
       "    <tr>\n",
       "      <th>3125</th>\n",
       "      <td>0</td>\n",
       "      <td>2020</td>\n",
       "      <td>26159.0</td>\n",
       "      <td>PRESIDENT</td>\n",
       "      <td>MI</td>\n",
       "      <td>16803.0</td>\n",
       "      <td>21591.0</td>\n",
       "      <td>VAN BUREN</td>\n",
       "      <td>38394.0</td>\n",
       "    </tr>\n",
       "    <tr>\n",
       "      <th>3126</th>\n",
       "      <td>0</td>\n",
       "      <td>2020</td>\n",
       "      <td>26161.0</td>\n",
       "      <td>PRESIDENT</td>\n",
       "      <td>MI</td>\n",
       "      <td>157136.0</td>\n",
       "      <td>56241.0</td>\n",
       "      <td>WASHTENAW</td>\n",
       "      <td>213377.0</td>\n",
       "    </tr>\n",
       "    <tr>\n",
       "      <th>3127</th>\n",
       "      <td>0</td>\n",
       "      <td>2020</td>\n",
       "      <td>26163.0</td>\n",
       "      <td>PRESIDENT</td>\n",
       "      <td>MI</td>\n",
       "      <td>597170.0</td>\n",
       "      <td>264553.0</td>\n",
       "      <td>WAYNE</td>\n",
       "      <td>861723.0</td>\n",
       "    </tr>\n",
       "    <tr>\n",
       "      <th>3128</th>\n",
       "      <td>0</td>\n",
       "      <td>2020</td>\n",
       "      <td>26165.0</td>\n",
       "      <td>PRESIDENT</td>\n",
       "      <td>MI</td>\n",
       "      <td>5838.0</td>\n",
       "      <td>12102.0</td>\n",
       "      <td>WEXFORD</td>\n",
       "      <td>17940.0</td>\n",
       "    </tr>\n",
       "  </tbody>\n",
       "</table>\n",
       "<p>498 rows × 9 columns</p>\n",
       "</div>"
      ],
      "text/plain": [
       "      Unnamed: 0  year     FIPS     office state  dem_votes  rep_votes  \\\n",
       "227            0  2000  26001.0  PRESIDENT    MI     2696.0     3152.0   \n",
       "228            0  2000  26003.0  PRESIDENT    MI     2071.0     2142.0   \n",
       "229            0  2000  26005.0  PRESIDENT    MI    15495.0    28197.0   \n",
       "230            0  2000  26007.0  PRESIDENT    MI     7053.0     6769.0   \n",
       "231            0  2000  26009.0  PRESIDENT    MI     4329.0     6780.0   \n",
       "...          ...   ...      ...        ...   ...        ...        ...   \n",
       "3124           0  2020  26157.0  PRESIDENT    MI     8712.0    20297.0   \n",
       "3125           0  2020  26159.0  PRESIDENT    MI    16803.0    21591.0   \n",
       "3126           0  2020  26161.0  PRESIDENT    MI   157136.0    56241.0   \n",
       "3127           0  2020  26163.0  PRESIDENT    MI   597170.0   264553.0   \n",
       "3128           0  2020  26165.0  PRESIDENT    MI     5838.0    12102.0   \n",
       "\n",
       "         county  total_votes  \n",
       "227      ALCONA       5848.0  \n",
       "228       ALGER       4213.0  \n",
       "229     ALLEGAN      43692.0  \n",
       "230      ALPENA      13822.0  \n",
       "231      ANTRIM      11109.0  \n",
       "...         ...          ...  \n",
       "3124    TUSCOLA      29009.0  \n",
       "3125  VAN BUREN      38394.0  \n",
       "3126  WASHTENAW     213377.0  \n",
       "3127      WAYNE     861723.0  \n",
       "3128    WEXFORD      17940.0  \n",
       "\n",
       "[498 rows x 9 columns]"
      ]
     },
     "execution_count": 115,
     "metadata": {},
     "output_type": "execute_result"
    }
   ],
   "source": [
    "pres_clean[pres_clean[\"state\"]==\"MI\"]"
   ]
  },
  {
   "cell_type": "code",
   "execution_count": 116,
   "id": "aed63afb-688d-46f9-9f00-3d18dca46bfa",
   "metadata": {},
   "outputs": [],
   "source": [
    "# Create target column\n",
    "pres_clean[\"target\"] = pres_clean.apply(lambda row: 0 if row[\"dem_votes\"] > row[\"rep_votes\"] else 1, axis=1)"
   ]
  },
  {
   "cell_type": "code",
   "execution_count": 117,
   "id": "14a2c965-debd-406c-b738-caa564e0582d",
   "metadata": {},
   "outputs": [],
   "source": [
    "def win_percentage(row):\n",
    "    if row[\"target\"]==0:\n",
    "        try:\n",
    "            return round(row[\"dem_votes\"]/row[\"total_votes\"] *100, 2)\n",
    "        except:\n",
    "            return 0\n",
    "    else:\n",
    "        try:\n",
    "            return round(row[\"rep_votes\"]/row[\"total_votes\"] *100, 2)\n",
    "        except:\n",
    "            return 0"
   ]
  },
  {
   "cell_type": "code",
   "execution_count": 118,
   "id": "04bc6f6e-2443-47ba-a5b0-085dbbbb24f0",
   "metadata": {},
   "outputs": [],
   "source": [
    "def win_margin(row):\n",
    "    if row[\"target\"]==0:\n",
    "        try:\n",
    "            return round((row[\"dem_votes\"]/row[\"total_votes\"] *100) - 50, 2)\n",
    "        except:\n",
    "                return 0\n",
    "    else:\n",
    "        try:\n",
    "            return round((row[\"rep_votes\"]/row[\"total_votes\"] *100) - 50, 2)\n",
    "        except:\n",
    "            return 0"
   ]
  },
  {
   "cell_type": "code",
   "execution_count": 119,
   "id": "a1ffee3e-9083-495a-9f05-bae371901fd3",
   "metadata": {},
   "outputs": [],
   "source": [
    "def skew(row):\n",
    "    if row[\"target\"]==0:\n",
    "        return row[\"win_margin\"]*-1\n",
    "    else:\n",
    "        return row[\"win_margin\"]"
   ]
  },
  {
   "cell_type": "code",
   "execution_count": 120,
   "id": "d2c9a190-ca9f-49b1-83ad-01e7f77235b3",
   "metadata": {},
   "outputs": [],
   "source": [
    "# def switch(row):\n",
    "#     if row[\"target\"]!=:\n",
    "#         return row[\"win_margin\"]*-1\n",
    "#     else:\n",
    "#         return row[\"win_margin\"]"
   ]
  },
  {
   "cell_type": "code",
   "execution_count": 121,
   "id": "f1a72baf-0201-458d-b1dc-5bef0501eef5",
   "metadata": {},
   "outputs": [
    {
     "data": {
      "text/html": [
       "<div>\n",
       "<style scoped>\n",
       "    .dataframe tbody tr th:only-of-type {\n",
       "        vertical-align: middle;\n",
       "    }\n",
       "\n",
       "    .dataframe tbody tr th {\n",
       "        vertical-align: top;\n",
       "    }\n",
       "\n",
       "    .dataframe thead th {\n",
       "        text-align: right;\n",
       "    }\n",
       "</style>\n",
       "<table border=\"1\" class=\"dataframe\">\n",
       "  <thead>\n",
       "    <tr style=\"text-align: right;\">\n",
       "      <th></th>\n",
       "      <th>Unnamed: 0</th>\n",
       "      <th>year</th>\n",
       "      <th>FIPS</th>\n",
       "      <th>office</th>\n",
       "      <th>state</th>\n",
       "      <th>dem_votes</th>\n",
       "      <th>rep_votes</th>\n",
       "      <th>county</th>\n",
       "    </tr>\n",
       "  </thead>\n",
       "  <tbody>\n",
       "    <tr>\n",
       "      <th>0</th>\n",
       "      <td>0</td>\n",
       "      <td>2000</td>\n",
       "      <td>6001.0</td>\n",
       "      <td>PRESIDENT</td>\n",
       "      <td>CA</td>\n",
       "      <td>342889.0</td>\n",
       "      <td>119279.0</td>\n",
       "      <td>ALAMEDA</td>\n",
       "    </tr>\n",
       "    <tr>\n",
       "      <th>1</th>\n",
       "      <td>0</td>\n",
       "      <td>2000</td>\n",
       "      <td>6003.0</td>\n",
       "      <td>PRESIDENT</td>\n",
       "      <td>CA</td>\n",
       "      <td>265.0</td>\n",
       "      <td>281.0</td>\n",
       "      <td>ALPINE</td>\n",
       "    </tr>\n",
       "    <tr>\n",
       "      <th>2</th>\n",
       "      <td>0</td>\n",
       "      <td>2000</td>\n",
       "      <td>6005.0</td>\n",
       "      <td>PRESIDENT</td>\n",
       "      <td>CA</td>\n",
       "      <td>5906.0</td>\n",
       "      <td>8766.0</td>\n",
       "      <td>AMADOR</td>\n",
       "    </tr>\n",
       "    <tr>\n",
       "      <th>3</th>\n",
       "      <td>0</td>\n",
       "      <td>2000</td>\n",
       "      <td>6007.0</td>\n",
       "      <td>PRESIDENT</td>\n",
       "      <td>CA</td>\n",
       "      <td>31338.0</td>\n",
       "      <td>45584.0</td>\n",
       "      <td>BUTTE</td>\n",
       "    </tr>\n",
       "    <tr>\n",
       "      <th>4</th>\n",
       "      <td>0</td>\n",
       "      <td>2000</td>\n",
       "      <td>6009.0</td>\n",
       "      <td>PRESIDENT</td>\n",
       "      <td>CA</td>\n",
       "      <td>7093.0</td>\n",
       "      <td>10599.0</td>\n",
       "      <td>CALAVERAS</td>\n",
       "    </tr>\n",
       "    <tr>\n",
       "      <th>...</th>\n",
       "      <td>...</td>\n",
       "      <td>...</td>\n",
       "      <td>...</td>\n",
       "      <td>...</td>\n",
       "      <td>...</td>\n",
       "      <td>...</td>\n",
       "      <td>...</td>\n",
       "      <td>...</td>\n",
       "    </tr>\n",
       "    <tr>\n",
       "      <th>3378</th>\n",
       "      <td>0</td>\n",
       "      <td>2020</td>\n",
       "      <td>48499.0</td>\n",
       "      <td>PRESIDENT</td>\n",
       "      <td>TX</td>\n",
       "      <td>3509.0</td>\n",
       "      <td>19049.0</td>\n",
       "      <td>WOOD</td>\n",
       "    </tr>\n",
       "    <tr>\n",
       "      <th>3379</th>\n",
       "      <td>0</td>\n",
       "      <td>2020</td>\n",
       "      <td>48501.0</td>\n",
       "      <td>PRESIDENT</td>\n",
       "      <td>TX</td>\n",
       "      <td>420.0</td>\n",
       "      <td>2174.0</td>\n",
       "      <td>YOAKUM</td>\n",
       "    </tr>\n",
       "    <tr>\n",
       "      <th>3380</th>\n",
       "      <td>0</td>\n",
       "      <td>2020</td>\n",
       "      <td>48503.0</td>\n",
       "      <td>PRESIDENT</td>\n",
       "      <td>TX</td>\n",
       "      <td>1034.0</td>\n",
       "      <td>7110.0</td>\n",
       "      <td>YOUNG</td>\n",
       "    </tr>\n",
       "    <tr>\n",
       "      <th>3381</th>\n",
       "      <td>0</td>\n",
       "      <td>2020</td>\n",
       "      <td>48505.0</td>\n",
       "      <td>PRESIDENT</td>\n",
       "      <td>TX</td>\n",
       "      <td>1826.0</td>\n",
       "      <td>2033.0</td>\n",
       "      <td>ZAPATA</td>\n",
       "    </tr>\n",
       "    <tr>\n",
       "      <th>3382</th>\n",
       "      <td>0</td>\n",
       "      <td>2020</td>\n",
       "      <td>48507.0</td>\n",
       "      <td>PRESIDENT</td>\n",
       "      <td>TX</td>\n",
       "      <td>2864.0</td>\n",
       "      <td>1490.0</td>\n",
       "      <td>ZAVALA</td>\n",
       "    </tr>\n",
       "  </tbody>\n",
       "</table>\n",
       "<p>3383 rows × 8 columns</p>\n",
       "</div>"
      ],
      "text/plain": [
       "      Unnamed: 0  year     FIPS     office state  dem_votes  rep_votes  \\\n",
       "0              0  2000   6001.0  PRESIDENT    CA   342889.0   119279.0   \n",
       "1              0  2000   6003.0  PRESIDENT    CA      265.0      281.0   \n",
       "2              0  2000   6005.0  PRESIDENT    CA     5906.0     8766.0   \n",
       "3              0  2000   6007.0  PRESIDENT    CA    31338.0    45584.0   \n",
       "4              0  2000   6009.0  PRESIDENT    CA     7093.0    10599.0   \n",
       "...          ...   ...      ...        ...   ...        ...        ...   \n",
       "3378           0  2020  48499.0  PRESIDENT    TX     3509.0    19049.0   \n",
       "3379           0  2020  48501.0  PRESIDENT    TX      420.0     2174.0   \n",
       "3380           0  2020  48503.0  PRESIDENT    TX     1034.0     7110.0   \n",
       "3381           0  2020  48505.0  PRESIDENT    TX     1826.0     2033.0   \n",
       "3382           0  2020  48507.0  PRESIDENT    TX     2864.0     1490.0   \n",
       "\n",
       "         county  \n",
       "0       ALAMEDA  \n",
       "1        ALPINE  \n",
       "2        AMADOR  \n",
       "3         BUTTE  \n",
       "4     CALAVERAS  \n",
       "...         ...  \n",
       "3378       WOOD  \n",
       "3379     YOAKUM  \n",
       "3380      YOUNG  \n",
       "3381     ZAPATA  \n",
       "3382     ZAVALA  \n",
       "\n",
       "[3383 rows x 8 columns]"
      ]
     },
     "execution_count": 121,
     "metadata": {},
     "output_type": "execute_result"
    }
   ],
   "source": [
    "pd.read_csv('pres_clean.csv')"
   ]
  },
  {
   "cell_type": "code",
   "execution_count": 122,
   "id": "60f7a7f7-64bd-44c0-ae1f-7d1be34d5a93",
   "metadata": {},
   "outputs": [],
   "source": [
    "df_2016 = pres_clean[pres_clean.year == 2016][['FIPS','state', 'county', 'target']].rename(columns={'target':'target_2016'})\n",
    "df_2020 = pres_clean[pres_clean.year == 2020][['FIPS','state', 'county', 'target']].rename(columns={'target':'target_2020'})\n"
   ]
  },
  {
   "cell_type": "code",
   "execution_count": 123,
   "id": "282ceae9-21c4-496e-91c7-4309e2b1b2e3",
   "metadata": {},
   "outputs": [],
   "source": [
    "change = df_2016.merge(df_2020, on=['state', 'county'])"
   ]
  },
  {
   "cell_type": "code",
   "execution_count": 124,
   "id": "1c7edc2a-2d22-498b-a570-e58e75811169",
   "metadata": {},
   "outputs": [],
   "source": [
    "flipped = change[(change.target_2020 - change.target_2016) != 0]"
   ]
  },
  {
   "cell_type": "code",
   "execution_count": 125,
   "id": "69ba8f11-25e8-4469-bba5-1ef31fabf1d9",
   "metadata": {},
   "outputs": [],
   "source": [
    "flipped = flipped[flipped.state.isin(['MI', 'FL', 'TX', 'IL', 'CA'])]"
   ]
  },
  {
   "cell_type": "code",
   "execution_count": 126,
   "id": "ff57a709-0223-4ba9-9f8e-2df1c433ed00",
   "metadata": {},
   "outputs": [],
   "source": [
    "pres_clean[\"win_percentage\"] = pres_clean.apply(win_percentage, axis=1)\n",
    "pres_clean[\"win_margin\"] = pres_clean.apply(win_margin, axis=1)\n",
    "pres_clean[\"skew\"] = pres_clean.apply(skew, axis=1)"
   ]
  },
  {
   "cell_type": "code",
   "execution_count": 127,
   "id": "f3e932d9-bcf3-4f81-827e-0bb3a2190f40",
   "metadata": {},
   "outputs": [],
   "source": [
    "#for county in all unique counties, which one had the biggest change in skew"
   ]
  },
  {
   "cell_type": "code",
   "execution_count": 128,
   "id": "666d7484-310c-42d3-a055-fbd66c709d47",
   "metadata": {},
   "outputs": [],
   "source": [
    "FIPS_groups = list(pres_cleaned.groupby(['FIPS']).groups.keys())"
   ]
  },
  {
   "cell_type": "code",
   "execution_count": 129,
   "id": "4e3a91be-5d90-4a5d-b535-019ae0a9f0f5",
   "metadata": {},
   "outputs": [],
   "source": [
    "row_cols = [\"all_skew_diff\", \"1620_skew_diff\", \"winner16\", \"winner20\", \"FIPS\", \"county\", \"state\"]"
   ]
  },
  {
   "cell_type": "code",
   "execution_count": 130,
   "id": "08d4ab0f-8292-462a-a470-1cfb4dc1c001",
   "metadata": {},
   "outputs": [],
   "source": [
    "top_skew = pd.DataFrame(columns = row_cols)"
   ]
  },
  {
   "cell_type": "code",
   "execution_count": 131,
   "id": "b5f1451b-69df-4974-98b1-07674ee10c44",
   "metadata": {},
   "outputs": [
    {
     "data": {
      "text/html": [
       "<div>\n",
       "<style scoped>\n",
       "    .dataframe tbody tr th:only-of-type {\n",
       "        vertical-align: middle;\n",
       "    }\n",
       "\n",
       "    .dataframe tbody tr th {\n",
       "        vertical-align: top;\n",
       "    }\n",
       "\n",
       "    .dataframe thead th {\n",
       "        text-align: right;\n",
       "    }\n",
       "</style>\n",
       "<table border=\"1\" class=\"dataframe\">\n",
       "  <thead>\n",
       "    <tr style=\"text-align: right;\">\n",
       "      <th></th>\n",
       "      <th>Unnamed: 0</th>\n",
       "      <th>year</th>\n",
       "      <th>FIPS</th>\n",
       "      <th>office</th>\n",
       "      <th>state</th>\n",
       "      <th>dem_votes</th>\n",
       "      <th>rep_votes</th>\n",
       "      <th>county</th>\n",
       "      <th>total_votes</th>\n",
       "      <th>target</th>\n",
       "      <th>win_percentage</th>\n",
       "      <th>win_margin</th>\n",
       "      <th>skew</th>\n",
       "    </tr>\n",
       "  </thead>\n",
       "  <tbody>\n",
       "    <tr>\n",
       "      <th>0</th>\n",
       "      <td>0</td>\n",
       "      <td>2000</td>\n",
       "      <td>6001.0</td>\n",
       "      <td>PRESIDENT</td>\n",
       "      <td>CA</td>\n",
       "      <td>342889.0</td>\n",
       "      <td>119279.0</td>\n",
       "      <td>ALAMEDA</td>\n",
       "      <td>462168.0</td>\n",
       "      <td>0</td>\n",
       "      <td>74.19</td>\n",
       "      <td>24.19</td>\n",
       "      <td>-24.19</td>\n",
       "    </tr>\n",
       "    <tr>\n",
       "      <th>1</th>\n",
       "      <td>0</td>\n",
       "      <td>2000</td>\n",
       "      <td>6003.0</td>\n",
       "      <td>PRESIDENT</td>\n",
       "      <td>CA</td>\n",
       "      <td>265.0</td>\n",
       "      <td>281.0</td>\n",
       "      <td>ALPINE</td>\n",
       "      <td>546.0</td>\n",
       "      <td>1</td>\n",
       "      <td>51.47</td>\n",
       "      <td>1.47</td>\n",
       "      <td>1.47</td>\n",
       "    </tr>\n",
       "  </tbody>\n",
       "</table>\n",
       "</div>"
      ],
      "text/plain": [
       "   Unnamed: 0  year    FIPS     office state  dem_votes  rep_votes   county  \\\n",
       "0           0  2000  6001.0  PRESIDENT    CA   342889.0   119279.0  ALAMEDA   \n",
       "1           0  2000  6003.0  PRESIDENT    CA      265.0      281.0   ALPINE   \n",
       "\n",
       "   total_votes  target  win_percentage  win_margin   skew  \n",
       "0     462168.0       0           74.19       24.19 -24.19  \n",
       "1        546.0       1           51.47        1.47   1.47  "
      ]
     },
     "execution_count": 131,
     "metadata": {},
     "output_type": "execute_result"
    }
   ],
   "source": [
    "pres_clean.head(2)"
   ]
  },
  {
   "cell_type": "code",
   "execution_count": 132,
   "id": "45370f46-e784-435b-887c-48d14953a623",
   "metadata": {},
   "outputs": [],
   "source": [
    "df_2020 = pres_clean[pres_clean.year == 2020]"
   ]
  },
  {
   "cell_type": "code",
   "execution_count": 135,
   "id": "d19ee547-f82b-44ef-8fe7-063c8c584faa",
   "metadata": {},
   "outputs": [
    {
     "name": "stderr",
     "output_type": "stream",
     "text": [
      "/Users/willcline/opt/anaconda3/envs/learn-env/lib/python3.9/site-packages/pandas/core/frame.py:3607: SettingWithCopyWarning: \n",
      "A value is trying to be set on a copy of a slice from a DataFrame.\n",
      "Try using .loc[row_indexer,col_indexer] = value instead\n",
      "\n",
      "See the caveats in the documentation: https://pandas.pydata.org/pandas-docs/stable/user_guide/indexing.html#returning-a-view-versus-a-copy\n",
      "  self._set_item(key, value)\n"
     ]
    }
   ],
   "source": [
    "df_2020.FIPS = df_2020.FIPS.astype(int)"
   ]
  },
  {
   "cell_type": "code",
   "execution_count": 154,
   "id": "ef9ddcd8-5036-4009-a952-7e3589ba363d",
   "metadata": {},
   "outputs": [
    {
     "data": {
      "text/plain": [
       "<matplotlib.collections.LineCollection at 0x7fb00fe758b0>"
      ]
     },
     "execution_count": 154,
     "metadata": {},
     "output_type": "execute_result"
    },
    {
     "data": {
      "image/png": "[encoded data removed]",
      "text/plain": [
       "<Figure size 432x288 with 1 Axes>"
      ]
     },
     "metadata": {
      "needs_background": "light"
     },
     "output_type": "display_data"
    }
   ],
   "source": [
    "win_margin_2020 = pres_clean[pres_clean.year == 2020].win_margin\n",
    "bootstrapped_margins = [np.random.choice(win_margin_2020, size=win_margin_2020.shape[0]).mean() for x in range(500)]\n",
    "mean = np.mean(bootstrapped_margins)\n",
    "std = np.std(bootstrapped_margins)\n",
    "plt.hist(bootstrapped_margins)\n",
    "plt.vlines(mean - std*2, 0, 100, color='red')\n",
    "plt.vlines(mean + std*2, 0, 100, color='red')"
   ]
  },
  {
   "cell_type": "code",
   "execution_count": null,
   "id": "420d35de-30b1-484a-91ca-0dded1c084e4",
   "metadata": {},
   "outputs": [],
   "source": [
    "flip_fips = [12031,\n",
    " 12039,\n",
    " 12097,\n",
    " 17037,\n",
    " 17161,\n",
    " 48229,\n",
    " 48247,\n",
    " 48249,\n",
    " 48261,\n",
    " 48273,\n",
    " 48283,\n",
    " 48377,\n",
    " 48389,\n",
    " 48465,\n",
    " 48479]"
   ]
  },
  {
   "cell_type": "code",
   "execution_count": 168,
   "id": "3d034d47-fade-40e1-b661-53af9b37ae6f",
   "metadata": {},
   "outputs": [],
   "source": [
    "tight = mean - std*2"
   ]
  },
  {
   "cell_type": "code",
   "execution_count": 171,
   "id": "f79c2aa3-4c42-4a46-a055-b87fc2ac8c5f",
   "metadata": {},
   "outputs": [],
   "source": [
    "df_2020flips = df_2020[df_2020.FIPS.isin(flip_fips)]"
   ]
  },
  {
   "cell_type": "code",
   "execution_count": 174,
   "id": "41fb870f-339a-4bad-b356-f8dcd2da586a",
   "metadata": {
    "tags": []
   },
   "outputs": [
    {
     "data": {
      "text/html": [
       "<div>\n",
       "<style scoped>\n",
       "    .dataframe tbody tr th:only-of-type {\n",
       "        vertical-align: middle;\n",
       "    }\n",
       "\n",
       "    .dataframe tbody tr th {\n",
       "        vertical-align: top;\n",
       "    }\n",
       "\n",
       "    .dataframe thead th {\n",
       "        text-align: right;\n",
       "    }\n",
       "</style>\n",
       "<table border=\"1\" class=\"dataframe\">\n",
       "  <thead>\n",
       "    <tr style=\"text-align: right;\">\n",
       "      <th></th>\n",
       "      <th>Unnamed: 0</th>\n",
       "      <th>year</th>\n",
       "      <th>FIPS</th>\n",
       "      <th>office</th>\n",
       "      <th>state</th>\n",
       "      <th>dem_votes</th>\n",
       "      <th>rep_votes</th>\n",
       "      <th>county</th>\n",
       "      <th>total_votes</th>\n",
       "      <th>target</th>\n",
       "      <th>win_percentage</th>\n",
       "      <th>win_margin</th>\n",
       "      <th>skew</th>\n",
       "    </tr>\n",
       "  </thead>\n",
       "  <tbody>\n",
       "    <tr>\n",
       "      <th>2895</th>\n",
       "      <td>0</td>\n",
       "      <td>2020</td>\n",
       "      <td>12039</td>\n",
       "      <td>PRESIDENT</td>\n",
       "      <td>FL</td>\n",
       "      <td>16153.0</td>\n",
       "      <td>7465.0</td>\n",
       "      <td>GADSDEN</td>\n",
       "      <td>23618.0</td>\n",
       "      <td>0</td>\n",
       "      <td>68.39</td>\n",
       "      <td>18.39</td>\n",
       "      <td>-18.39</td>\n",
       "    </tr>\n",
       "    <tr>\n",
       "      <th>2925</th>\n",
       "      <td>0</td>\n",
       "      <td>2020</td>\n",
       "      <td>12097</td>\n",
       "      <td>PRESIDENT</td>\n",
       "      <td>FL</td>\n",
       "      <td>97297.0</td>\n",
       "      <td>73480.0</td>\n",
       "      <td>OSCEOLA</td>\n",
       "      <td>170777.0</td>\n",
       "      <td>0</td>\n",
       "      <td>56.97</td>\n",
       "      <td>6.97</td>\n",
       "      <td>-6.97</td>\n",
       "    </tr>\n",
       "    <tr>\n",
       "      <th>2926</th>\n",
       "      <td>0</td>\n",
       "      <td>2020</td>\n",
       "      <td>12099</td>\n",
       "      <td>PRESIDENT</td>\n",
       "      <td>FL</td>\n",
       "      <td>433572.0</td>\n",
       "      <td>334711.0</td>\n",
       "      <td>PALM BEACH</td>\n",
       "      <td>768283.0</td>\n",
       "      <td>0</td>\n",
       "      <td>56.43</td>\n",
       "      <td>6.43</td>\n",
       "      <td>-6.43</td>\n",
       "    </tr>\n",
       "    <tr>\n",
       "      <th>3024</th>\n",
       "      <td>0</td>\n",
       "      <td>2020</td>\n",
       "      <td>17161</td>\n",
       "      <td>PRESIDENT</td>\n",
       "      <td>IL</td>\n",
       "      <td>36691.0</td>\n",
       "      <td>28603.0</td>\n",
       "      <td>ROCK ISLAND</td>\n",
       "      <td>65294.0</td>\n",
       "      <td>0</td>\n",
       "      <td>56.19</td>\n",
       "      <td>6.19</td>\n",
       "      <td>-6.19</td>\n",
       "    </tr>\n",
       "    <tr>\n",
       "      <th>3025</th>\n",
       "      <td>0</td>\n",
       "      <td>2020</td>\n",
       "      <td>17163</td>\n",
       "      <td>PRESIDENT</td>\n",
       "      <td>IL</td>\n",
       "      <td>68325.0</td>\n",
       "      <td>57150.0</td>\n",
       "      <td>ST. CLAIR</td>\n",
       "      <td>125475.0</td>\n",
       "      <td>0</td>\n",
       "      <td>54.45</td>\n",
       "      <td>4.45</td>\n",
       "      <td>-4.45</td>\n",
       "    </tr>\n",
       "    <tr>\n",
       "      <th>3037</th>\n",
       "      <td>0</td>\n",
       "      <td>2020</td>\n",
       "      <td>17187</td>\n",
       "      <td>PRESIDENT</td>\n",
       "      <td>IL</td>\n",
       "      <td>3090.0</td>\n",
       "      <td>4676.0</td>\n",
       "      <td>WARREN</td>\n",
       "      <td>7766.0</td>\n",
       "      <td>1</td>\n",
       "      <td>60.21</td>\n",
       "      <td>10.21</td>\n",
       "      <td>10.21</td>\n",
       "    </tr>\n",
       "    <tr>\n",
       "      <th>3042</th>\n",
       "      <td>0</td>\n",
       "      <td>2020</td>\n",
       "      <td>17197</td>\n",
       "      <td>PRESIDENT</td>\n",
       "      <td>IL</td>\n",
       "      <td>183915.0</td>\n",
       "      <td>155116.0</td>\n",
       "      <td>WILL</td>\n",
       "      <td>339031.0</td>\n",
       "      <td>0</td>\n",
       "      <td>54.25</td>\n",
       "      <td>4.25</td>\n",
       "      <td>-4.25</td>\n",
       "    </tr>\n",
       "    <tr>\n",
       "      <th>3149</th>\n",
       "      <td>0</td>\n",
       "      <td>2020</td>\n",
       "      <td>48041</td>\n",
       "      <td>PRESIDENT</td>\n",
       "      <td>TX</td>\n",
       "      <td>35349.0</td>\n",
       "      <td>47530.0</td>\n",
       "      <td>BRAZOS</td>\n",
       "      <td>82879.0</td>\n",
       "      <td>1</td>\n",
       "      <td>57.35</td>\n",
       "      <td>7.35</td>\n",
       "      <td>7.35</td>\n",
       "    </tr>\n",
       "    <tr>\n",
       "      <th>3213</th>\n",
       "      <td>0</td>\n",
       "      <td>2020</td>\n",
       "      <td>48169</td>\n",
       "      <td>PRESIDENT</td>\n",
       "      <td>TX</td>\n",
       "      <td>231.0</td>\n",
       "      <td>1413.0</td>\n",
       "      <td>GARZA</td>\n",
       "      <td>1644.0</td>\n",
       "      <td>1</td>\n",
       "      <td>85.95</td>\n",
       "      <td>35.95</td>\n",
       "      <td>35.95</td>\n",
       "    </tr>\n",
       "    <tr>\n",
       "      <th>3243</th>\n",
       "      <td>0</td>\n",
       "      <td>2020</td>\n",
       "      <td>48229</td>\n",
       "      <td>PRESIDENT</td>\n",
       "      <td>TX</td>\n",
       "      <td>371.0</td>\n",
       "      <td>779.0</td>\n",
       "      <td>HUDSPETH</td>\n",
       "      <td>1150.0</td>\n",
       "      <td>1</td>\n",
       "      <td>67.74</td>\n",
       "      <td>17.74</td>\n",
       "      <td>17.74</td>\n",
       "    </tr>\n",
       "    <tr>\n",
       "      <th>3317</th>\n",
       "      <td>0</td>\n",
       "      <td>2020</td>\n",
       "      <td>48377</td>\n",
       "      <td>PRESIDENT</td>\n",
       "      <td>TX</td>\n",
       "      <td>1463.0</td>\n",
       "      <td>721.0</td>\n",
       "      <td>PRESIDIO</td>\n",
       "      <td>2184.0</td>\n",
       "      <td>0</td>\n",
       "      <td>66.99</td>\n",
       "      <td>16.99</td>\n",
       "      <td>-16.99</td>\n",
       "    </tr>\n",
       "    <tr>\n",
       "      <th>3320</th>\n",
       "      <td>0</td>\n",
       "      <td>2020</td>\n",
       "      <td>48383</td>\n",
       "      <td>PRESIDENT</td>\n",
       "      <td>TX</td>\n",
       "      <td>172.0</td>\n",
       "      <td>942.0</td>\n",
       "      <td>REAGAN</td>\n",
       "      <td>1114.0</td>\n",
       "      <td>1</td>\n",
       "      <td>84.56</td>\n",
       "      <td>34.56</td>\n",
       "      <td>34.56</td>\n",
       "    </tr>\n",
       "    <tr>\n",
       "      <th>3368</th>\n",
       "      <td>0</td>\n",
       "      <td>2020</td>\n",
       "      <td>48479</td>\n",
       "      <td>PRESIDENT</td>\n",
       "      <td>TX</td>\n",
       "      <td>41820.0</td>\n",
       "      <td>25898.0</td>\n",
       "      <td>WEBB</td>\n",
       "      <td>67718.0</td>\n",
       "      <td>0</td>\n",
       "      <td>61.76</td>\n",
       "      <td>11.76</td>\n",
       "      <td>-11.76</td>\n",
       "    </tr>\n",
       "    <tr>\n",
       "      <th>3372</th>\n",
       "      <td>0</td>\n",
       "      <td>2020</td>\n",
       "      <td>48487</td>\n",
       "      <td>PRESIDENT</td>\n",
       "      <td>TX</td>\n",
       "      <td>956.0</td>\n",
       "      <td>3524.0</td>\n",
       "      <td>WILBARGER</td>\n",
       "      <td>4480.0</td>\n",
       "      <td>1</td>\n",
       "      <td>78.66</td>\n",
       "      <td>28.66</td>\n",
       "      <td>28.66</td>\n",
       "    </tr>\n",
       "  </tbody>\n",
       "</table>\n",
       "</div>"
      ],
      "text/plain": [
       "      Unnamed: 0  year   FIPS     office state  dem_votes  rep_votes  \\\n",
       "2895           0  2020  12039  PRESIDENT    FL    16153.0     7465.0   \n",
       "2925           0  2020  12097  PRESIDENT    FL    97297.0    73480.0   \n",
       "2926           0  2020  12099  PRESIDENT    FL   433572.0   334711.0   \n",
       "3024           0  2020  17161  PRESIDENT    IL    36691.0    28603.0   \n",
       "3025           0  2020  17163  PRESIDENT    IL    68325.0    57150.0   \n",
       "3037           0  2020  17187  PRESIDENT    IL     3090.0     4676.0   \n",
       "3042           0  2020  17197  PRESIDENT    IL   183915.0   155116.0   \n",
       "3149           0  2020  48041  PRESIDENT    TX    35349.0    47530.0   \n",
       "3213           0  2020  48169  PRESIDENT    TX      231.0     1413.0   \n",
       "3243           0  2020  48229  PRESIDENT    TX      371.0      779.0   \n",
       "3317           0  2020  48377  PRESIDENT    TX     1463.0      721.0   \n",
       "3320           0  2020  48383  PRESIDENT    TX      172.0      942.0   \n",
       "3368           0  2020  48479  PRESIDENT    TX    41820.0    25898.0   \n",
       "3372           0  2020  48487  PRESIDENT    TX      956.0     3524.0   \n",
       "\n",
       "           county  total_votes  target  win_percentage  win_margin   skew  \n",
       "2895      GADSDEN      23618.0       0           68.39       18.39 -18.39  \n",
       "2925      OSCEOLA     170777.0       0           56.97        6.97  -6.97  \n",
       "2926   PALM BEACH     768283.0       0           56.43        6.43  -6.43  \n",
       "3024  ROCK ISLAND      65294.0       0           56.19        6.19  -6.19  \n",
       "3025    ST. CLAIR     125475.0       0           54.45        4.45  -4.45  \n",
       "3037       WARREN       7766.0       1           60.21       10.21  10.21  \n",
       "3042         WILL     339031.0       0           54.25        4.25  -4.25  \n",
       "3149       BRAZOS      82879.0       1           57.35        7.35   7.35  \n",
       "3213        GARZA       1644.0       1           85.95       35.95  35.95  \n",
       "3243     HUDSPETH       1150.0       1           67.74       17.74  17.74  \n",
       "3317     PRESIDIO       2184.0       0           66.99       16.99 -16.99  \n",
       "3320       REAGAN       1114.0       1           84.56       34.56  34.56  \n",
       "3368         WEBB      67718.0       0           61.76       11.76 -11.76  \n",
       "3372    WILBARGER       4480.0       1           78.66       28.66  28.66  "
      ]
     },
     "execution_count": 174,
     "metadata": {},
     "output_type": "execute_result"
    }
   ],
   "source": [
    "df_2020flips"
   ]
  },
  {
   "cell_type": "code",
   "execution_count": 202,
   "id": "4ccb2350-6e50-4dd9-9fcc-c13ab810e965",
   "metadata": {
    "tags": []
   },
   "outputs": [],
   "source": [
    "df_2020flips[\"tight\"] = df_2020flips.apply(lambda row: \"Tight\" if row[\"win_margin\"]<tight else \"Not tight\", axis=1)"
   ]
  },
  {
   "cell_type": "code",
   "execution_count": 203,
   "id": "bd408da6-20ee-4339-9536-068d6d227fe7",
   "metadata": {},
   "outputs": [],
   "source": [
    "df_2020flips.sort_values(by=\"win_margin\", inplace=True, ascending=True)"
   ]
  },
  {
   "cell_type": "code",
   "execution_count": 204,
   "id": "c3d6dfab-b1f2-43cc-b3a8-62872cde0d56",
   "metadata": {},
   "outputs": [],
   "source": [
    "red = \"#D33E69\"\n",
    "blue = \"#2A3990\""
   ]
  },
  {
   "cell_type": "code",
   "execution_count": 210,
   "id": "e0203c1b-2746-454c-b242-58529113316a",
   "metadata": {
    "tags": []
   },
   "outputs": [
    {
     "data": {
      "text/plain": [
       "(array([ 0,  1,  2,  3,  4,  5,  6,  7,  8,  9, 10, 11, 12, 13]),\n",
       " [Text(0, 0, 'WILL'),\n",
       "  Text(1, 0, 'ST. CLAIR'),\n",
       "  Text(2, 0, 'ROCK ISLAND'),\n",
       "  Text(3, 0, 'PALM BEACH'),\n",
       "  Text(4, 0, 'OSCEOLA'),\n",
       "  Text(5, 0, 'BRAZOS'),\n",
       "  Text(6, 0, 'WARREN'),\n",
       "  Text(7, 0, 'WEBB'),\n",
       "  Text(8, 0, 'PRESIDIO'),\n",
       "  Text(9, 0, 'HUDSPETH'),\n",
       "  Text(10, 0, 'GADSDEN'),\n",
       "  Text(11, 0, 'WILBARGER'),\n",
       "  Text(12, 0, 'REAGAN'),\n",
       "  Text(13, 0, 'GARZA')])"
      ]
     },
     "execution_count": 210,
     "metadata": {},
     "output_type": "execute_result"
    },
    {
     "data": {
      "image/png": "[encoded data removed]",
      "text/plain": [
       "<Figure size 720x720 with 1 Axes>"
      ]
     },
     "metadata": {
      "needs_background": "light"
     },
     "output_type": "display_data"
    }
   ],
   "source": [
    "fig, ax = plt.subplots(figsize=(10,10))\n",
    "sns.barplot(data=df_2020flips, x=df_2020flips[\"county\"],y=df_2020flips[\"win_margin\"], ax=ax, palette = [red, blue], hue=df_2020flips[\"tight\"]);\n",
    "plt.title(\"Counties the Model Predicted to Flip from 2016 to 2020\", size=20)\n",
    "plt.ylabel(\"Victory Margin(Percentage)\", size=15)\n",
    "plt.xlabel(\"County\", size=15)\n",
    "plt.xticks(rotation=20)"
   ]
  },
  {
   "cell_type": "code",
   "execution_count": 206,
   "id": "21693d89-581c-4f58-803f-128b1ad77d82",
   "metadata": {},
   "outputs": [],
   "source": [
    "pred_flips_tight = df_2020flips[df_2020flips[\"win_margin\"]< tight]"
   ]
  },
  {
   "cell_type": "code",
   "execution_count": 163,
   "id": "4395e3f4-fa1d-42ac-95bc-f0eabd1bc2d4",
   "metadata": {},
   "outputs": [
    {
     "data": {
      "text/plain": [
       "11"
      ]
     },
     "execution_count": 163,
     "metadata": {},
     "output_type": "execute_result"
    }
   ],
   "source": [
    "len(pred_flips_tight)"
   ]
  },
  {
   "cell_type": "code",
   "execution_count": 165,
   "id": "58ba7501-3dac-4bc2-92f2-24ed15f319f7",
   "metadata": {},
   "outputs": [
    {
     "data": {
      "text/plain": [
       "78.57142857142857"
      ]
     },
     "execution_count": 165,
     "metadata": {},
     "output_type": "execute_result"
    }
   ],
   "source": [
    "len(pred_flips_tight)/ len(flip_fips) *100"
   ]
  },
  {
   "cell_type": "code",
   "execution_count": 42,
   "id": "b18798d9-5293-4d0a-a118-6e944cce5de4",
   "metadata": {},
   "outputs": [],
   "source": [
    "for fips in FIPS_groups:\n",
    "    try:\n",
    "        g = pres_clean[pres_clean[\"FIPS\"]==fips]\n",
    "        g = g.reset_index(drop=True)\n",
    "        g_FIPS = g.iloc[0][\"FIPS\"]\n",
    "        g_all_skew_diff = ((np.abs(g.iloc[0][\"skew\"] - g.iloc[len(g)-2][\"skew\"]))+ (np.abs(g.iloc[1][\"skew\"] - g.iloc[len(g)-1][\"skew\"])))/2\n",
    "        g_1620_skew_diff = (np.abs(g.iloc[-2][\"skew\"] - g.iloc[len(g)-1][\"skew\"]))\n",
    "        g_state = g.iloc[0][\"state\"]\n",
    "        g_county = g.iloc[0][\"county\"]\n",
    "        g_winner16 = g.iloc[-2].map(lambda row: \"dem\" if row[\"target\"] == 0 else \"Rep\")\n",
    "        g_winner20 = g.iloc[-1].map(lambda row: \"dem\" if row[\"target\"] == 0 else \"Rep\")\n",
    "        row = [[g_all_skew_diff, g_1620_skew_diff, g_winner16, g_winner20, g_FIPS, g_county, g_state]]\n",
    "        top_skew = top_skew.append(pd.DataFrame(row, columns=row_cols))\n",
    "    except:\n",
    "        pass"
   ]
  },
  {
   "cell_type": "code",
   "execution_count": 51,
   "id": "c3ec9bd9-bcf3-48e1-9609-59c1a0e6c41f",
   "metadata": {},
   "outputs": [
    {
     "ename": "RecursionError",
     "evalue": "maximum recursion depth exceeded while calling a Python object",
     "output_type": "error",
     "traceback": [
      "\u001b[0;31m---------------------------------------------------------------------------\u001b[0m",
      "\u001b[0;31mRecursionError\u001b[0m                            Traceback (most recent call last)",
      "\u001b[0;32m~/opt/anaconda3/envs/learn-env/lib/python3.9/site-packages/IPython/core/formatters.py\u001b[0m in \u001b[0;36m__call__\u001b[0;34m(self, obj)\u001b[0m\n\u001b[1;32m    700\u001b[0m                 \u001b[0mtype_pprinters\u001b[0m\u001b[0;34m=\u001b[0m\u001b[0mself\u001b[0m\u001b[0;34m.\u001b[0m\u001b[0mtype_printers\u001b[0m\u001b[0;34m,\u001b[0m\u001b[0;34m\u001b[0m\u001b[0;34m\u001b[0m\u001b[0m\n\u001b[1;32m    701\u001b[0m                 deferred_pprinters=self.deferred_printers)\n\u001b[0;32m--> 702\u001b[0;31m             \u001b[0mprinter\u001b[0m\u001b[0;34m.\u001b[0m\u001b[0mpretty\u001b[0m\u001b[0;34m(\u001b[0m\u001b[0mobj\u001b[0m\u001b[0;34m)\u001b[0m\u001b[0;34m\u001b[0m\u001b[0;34m\u001b[0m\u001b[0m\n\u001b[0m\u001b[1;32m    703\u001b[0m             \u001b[0mprinter\u001b[0m\u001b[0;34m.\u001b[0m\u001b[0mflush\u001b[0m\u001b[0;34m(\u001b[0m\u001b[0;34m)\u001b[0m\u001b[0;34m\u001b[0m\u001b[0;34m\u001b[0m\u001b[0m\n\u001b[1;32m    704\u001b[0m             \u001b[0;32mreturn\u001b[0m \u001b[0mstream\u001b[0m\u001b[0;34m.\u001b[0m\u001b[0mgetvalue\u001b[0m\u001b[0;34m(\u001b[0m\u001b[0;34m)\u001b[0m\u001b[0;34m\u001b[0m\u001b[0;34m\u001b[0m\u001b[0m\n",
      "\u001b[0;32m~/opt/anaconda3/envs/learn-env/lib/python3.9/site-packages/IPython/lib/pretty.py\u001b[0m in \u001b[0;36mpretty\u001b[0;34m(self, obj)\u001b[0m\n\u001b[1;32m    392\u001b[0m                         \u001b[0;32mif\u001b[0m \u001b[0mcls\u001b[0m \u001b[0;32mis\u001b[0m \u001b[0;32mnot\u001b[0m \u001b[0mobject\u001b[0m\u001b[0;31m \u001b[0m\u001b[0;31m\\\u001b[0m\u001b[0;34m\u001b[0m\u001b[0;34m\u001b[0m\u001b[0m\n\u001b[1;32m    393\u001b[0m                                 \u001b[0;32mand\u001b[0m \u001b[0mcallable\u001b[0m\u001b[0;34m(\u001b[0m\u001b[0mcls\u001b[0m\u001b[0;34m.\u001b[0m\u001b[0m__dict__\u001b[0m\u001b[0;34m.\u001b[0m\u001b[0mget\u001b[0m\u001b[0;34m(\u001b[0m\u001b[0;34m'__repr__'\u001b[0m\u001b[0;34m)\u001b[0m\u001b[0;34m)\u001b[0m\u001b[0;34m:\u001b[0m\u001b[0;34m\u001b[0m\u001b[0;34m\u001b[0m\u001b[0m\n\u001b[0;32m--> 394\u001b[0;31m                             \u001b[0;32mreturn\u001b[0m \u001b[0m_repr_pprint\u001b[0m\u001b[0;34m(\u001b[0m\u001b[0mobj\u001b[0m\u001b[0;34m,\u001b[0m \u001b[0mself\u001b[0m\u001b[0;34m,\u001b[0m \u001b[0mcycle\u001b[0m\u001b[0;34m)\u001b[0m\u001b[0;34m\u001b[0m\u001b[0;34m\u001b[0m\u001b[0m\n\u001b[0m\u001b[1;32m    395\u001b[0m \u001b[0;34m\u001b[0m\u001b[0m\n\u001b[1;32m    396\u001b[0m             \u001b[0;32mreturn\u001b[0m \u001b[0m_default_pprint\u001b[0m\u001b[0;34m(\u001b[0m\u001b[0mobj\u001b[0m\u001b[0;34m,\u001b[0m \u001b[0mself\u001b[0m\u001b[0;34m,\u001b[0m \u001b[0mcycle\u001b[0m\u001b[0;34m)\u001b[0m\u001b[0;34m\u001b[0m\u001b[0;34m\u001b[0m\u001b[0m\n",
      "\u001b[0;32m~/opt/anaconda3/envs/learn-env/lib/python3.9/site-packages/IPython/lib/pretty.py\u001b[0m in \u001b[0;36m_repr_pprint\u001b[0;34m(obj, p, cycle)\u001b[0m\n\u001b[1;32m    698\u001b[0m     \u001b[0;34m\"\"\"A pprint that just redirects to the normal repr function.\"\"\"\u001b[0m\u001b[0;34m\u001b[0m\u001b[0;34m\u001b[0m\u001b[0m\n\u001b[1;32m    699\u001b[0m     \u001b[0;31m# Find newlines and replace them with p.break_()\u001b[0m\u001b[0;34m\u001b[0m\u001b[0;34m\u001b[0m\u001b[0;34m\u001b[0m\u001b[0m\n\u001b[0;32m--> 700\u001b[0;31m     \u001b[0moutput\u001b[0m \u001b[0;34m=\u001b[0m \u001b[0mrepr\u001b[0m\u001b[0;34m(\u001b[0m\u001b[0mobj\u001b[0m\u001b[0;34m)\u001b[0m\u001b[0;34m\u001b[0m\u001b[0;34m\u001b[0m\u001b[0m\n\u001b[0m\u001b[1;32m    701\u001b[0m     \u001b[0mlines\u001b[0m \u001b[0;34m=\u001b[0m \u001b[0moutput\u001b[0m\u001b[0;34m.\u001b[0m\u001b[0msplitlines\u001b[0m\u001b[0;34m(\u001b[0m\u001b[0;34m)\u001b[0m\u001b[0;34m\u001b[0m\u001b[0;34m\u001b[0m\u001b[0m\n\u001b[1;32m    702\u001b[0m     \u001b[0;32mwith\u001b[0m \u001b[0mp\u001b[0m\u001b[0;34m.\u001b[0m\u001b[0mgroup\u001b[0m\u001b[0;34m(\u001b[0m\u001b[0;34m)\u001b[0m\u001b[0;34m:\u001b[0m\u001b[0;34m\u001b[0m\u001b[0;34m\u001b[0m\u001b[0m\n",
      "\u001b[0;32m~/opt/anaconda3/envs/learn-env/lib/python3.9/site-packages/pandas/core/series.py\u001b[0m in \u001b[0;36m__repr__\u001b[0;34m(self)\u001b[0m\n\u001b[1;32m   1462\u001b[0m         \u001b[0mshow_dimensions\u001b[0m \u001b[0;34m=\u001b[0m \u001b[0mget_option\u001b[0m\u001b[0;34m(\u001b[0m\u001b[0;34m\"display.show_dimensions\"\u001b[0m\u001b[0;34m)\u001b[0m\u001b[0;34m\u001b[0m\u001b[0;34m\u001b[0m\u001b[0m\n\u001b[1;32m   1463\u001b[0m \u001b[0;34m\u001b[0m\u001b[0m\n\u001b[0;32m-> 1464\u001b[0;31m         self.to_string(\n\u001b[0m\u001b[1;32m   1465\u001b[0m             \u001b[0mbuf\u001b[0m\u001b[0;34m=\u001b[0m\u001b[0mbuf\u001b[0m\u001b[0;34m,\u001b[0m\u001b[0;34m\u001b[0m\u001b[0;34m\u001b[0m\u001b[0m\n\u001b[1;32m   1466\u001b[0m             \u001b[0mname\u001b[0m\u001b[0;34m=\u001b[0m\u001b[0mself\u001b[0m\u001b[0;34m.\u001b[0m\u001b[0mname\u001b[0m\u001b[0;34m,\u001b[0m\u001b[0;34m\u001b[0m\u001b[0;34m\u001b[0m\u001b[0m\n",
      "\u001b[0;32m~/opt/anaconda3/envs/learn-env/lib/python3.9/site-packages/pandas/core/series.py\u001b[0m in \u001b[0;36mto_string\u001b[0;34m(self, buf, na_rep, float_format, header, index, length, dtype, name, max_rows, min_rows)\u001b[0m\n\u001b[1;32m   1531\u001b[0m             \u001b[0mmax_rows\u001b[0m\u001b[0;34m=\u001b[0m\u001b[0mmax_rows\u001b[0m\u001b[0;34m,\u001b[0m\u001b[0;34m\u001b[0m\u001b[0;34m\u001b[0m\u001b[0m\n\u001b[1;32m   1532\u001b[0m         )\n\u001b[0;32m-> 1533\u001b[0;31m         \u001b[0mresult\u001b[0m \u001b[0;34m=\u001b[0m \u001b[0mformatter\u001b[0m\u001b[0;34m.\u001b[0m\u001b[0mto_string\u001b[0m\u001b[0;34m(\u001b[0m\u001b[0;34m)\u001b[0m\u001b[0;34m\u001b[0m\u001b[0;34m\u001b[0m\u001b[0m\n\u001b[0m\u001b[1;32m   1534\u001b[0m \u001b[0;34m\u001b[0m\u001b[0m\n\u001b[1;32m   1535\u001b[0m         \u001b[0;31m# catch contract violations\u001b[0m\u001b[0;34m\u001b[0m\u001b[0;34m\u001b[0m\u001b[0;34m\u001b[0m\u001b[0m\n",
      "\u001b[0;32m~/opt/anaconda3/envs/learn-env/lib/python3.9/site-packages/pandas/io/formats/format.py\u001b[0m in \u001b[0;36mto_string\u001b[0;34m(self)\u001b[0m\n\u001b[1;32m    389\u001b[0m \u001b[0;34m\u001b[0m\u001b[0m\n\u001b[1;32m    390\u001b[0m         \u001b[0mfmt_index\u001b[0m\u001b[0;34m,\u001b[0m \u001b[0mhave_header\u001b[0m \u001b[0;34m=\u001b[0m \u001b[0mself\u001b[0m\u001b[0;34m.\u001b[0m\u001b[0m_get_formatted_index\u001b[0m\u001b[0;34m(\u001b[0m\u001b[0;34m)\u001b[0m\u001b[0;34m\u001b[0m\u001b[0;34m\u001b[0m\u001b[0m\n\u001b[0;32m--> 391\u001b[0;31m         \u001b[0mfmt_values\u001b[0m \u001b[0;34m=\u001b[0m \u001b[0mself\u001b[0m\u001b[0;34m.\u001b[0m\u001b[0m_get_formatted_values\u001b[0m\u001b[0;34m(\u001b[0m\u001b[0;34m)\u001b[0m\u001b[0;34m\u001b[0m\u001b[0;34m\u001b[0m\u001b[0m\n\u001b[0m\u001b[1;32m    392\u001b[0m \u001b[0;34m\u001b[0m\u001b[0m\n\u001b[1;32m    393\u001b[0m         \u001b[0;32mif\u001b[0m \u001b[0mself\u001b[0m\u001b[0;34m.\u001b[0m\u001b[0mis_truncated_vertically\u001b[0m\u001b[0;34m:\u001b[0m\u001b[0;34m\u001b[0m\u001b[0;34m\u001b[0m\u001b[0m\n",
      "\u001b[0;32m~/opt/anaconda3/envs/learn-env/lib/python3.9/site-packages/pandas/io/formats/format.py\u001b[0m in \u001b[0;36m_get_formatted_values\u001b[0;34m(self)\u001b[0m\n\u001b[1;32m    373\u001b[0m \u001b[0;34m\u001b[0m\u001b[0m\n\u001b[1;32m    374\u001b[0m     \u001b[0;32mdef\u001b[0m \u001b[0m_get_formatted_values\u001b[0m\u001b[0;34m(\u001b[0m\u001b[0mself\u001b[0m\u001b[0;34m)\u001b[0m \u001b[0;34m->\u001b[0m \u001b[0mlist\u001b[0m\u001b[0;34m[\u001b[0m\u001b[0mstr\u001b[0m\u001b[0;34m]\u001b[0m\u001b[0;34m:\u001b[0m\u001b[0;34m\u001b[0m\u001b[0;34m\u001b[0m\u001b[0m\n\u001b[0;32m--> 375\u001b[0;31m         return format_array(\n\u001b[0m\u001b[1;32m    376\u001b[0m             \u001b[0mself\u001b[0m\u001b[0;34m.\u001b[0m\u001b[0mtr_series\u001b[0m\u001b[0;34m.\u001b[0m\u001b[0m_values\u001b[0m\u001b[0;34m,\u001b[0m\u001b[0;34m\u001b[0m\u001b[0;34m\u001b[0m\u001b[0m\n\u001b[1;32m    377\u001b[0m             \u001b[0;32mNone\u001b[0m\u001b[0;34m,\u001b[0m\u001b[0;34m\u001b[0m\u001b[0;34m\u001b[0m\u001b[0m\n",
      "\u001b[0;32m~/opt/anaconda3/envs/learn-env/lib/python3.9/site-packages/pandas/io/formats/format.py\u001b[0m in \u001b[0;36mformat_array\u001b[0;34m(values, formatter, float_format, na_rep, digits, space, justify, decimal, leading_space, quoting)\u001b[0m\n\u001b[1;32m   1238\u001b[0m     )\n\u001b[1;32m   1239\u001b[0m \u001b[0;34m\u001b[0m\u001b[0m\n\u001b[0;32m-> 1240\u001b[0;31m     \u001b[0;32mreturn\u001b[0m \u001b[0mfmt_obj\u001b[0m\u001b[0;34m.\u001b[0m\u001b[0mget_result\u001b[0m\u001b[0;34m(\u001b[0m\u001b[0;34m)\u001b[0m\u001b[0;34m\u001b[0m\u001b[0;34m\u001b[0m\u001b[0m\n\u001b[0m\u001b[1;32m   1241\u001b[0m \u001b[0;34m\u001b[0m\u001b[0m\n\u001b[1;32m   1242\u001b[0m \u001b[0;34m\u001b[0m\u001b[0m\n",
      "\u001b[0;32m~/opt/anaconda3/envs/learn-env/lib/python3.9/site-packages/pandas/io/formats/format.py\u001b[0m in \u001b[0;36mget_result\u001b[0;34m(self)\u001b[0m\n\u001b[1;32m   1269\u001b[0m \u001b[0;34m\u001b[0m\u001b[0m\n\u001b[1;32m   1270\u001b[0m     \u001b[0;32mdef\u001b[0m \u001b[0mget_result\u001b[0m\u001b[0;34m(\u001b[0m\u001b[0mself\u001b[0m\u001b[0;34m)\u001b[0m \u001b[0;34m->\u001b[0m \u001b[0mlist\u001b[0m\u001b[0;34m[\u001b[0m\u001b[0mstr\u001b[0m\u001b[0;34m]\u001b[0m\u001b[0;34m:\u001b[0m\u001b[0;34m\u001b[0m\u001b[0;34m\u001b[0m\u001b[0m\n\u001b[0;32m-> 1271\u001b[0;31m         \u001b[0mfmt_values\u001b[0m \u001b[0;34m=\u001b[0m \u001b[0mself\u001b[0m\u001b[0;34m.\u001b[0m\u001b[0m_format_strings\u001b[0m\u001b[0;34m(\u001b[0m\u001b[0;34m)\u001b[0m\u001b[0;34m\u001b[0m\u001b[0;34m\u001b[0m\u001b[0m\n\u001b[0m\u001b[1;32m   1272\u001b[0m         \u001b[0;32mreturn\u001b[0m \u001b[0m_make_fixed_width\u001b[0m\u001b[0;34m(\u001b[0m\u001b[0mfmt_values\u001b[0m\u001b[0;34m,\u001b[0m \u001b[0mself\u001b[0m\u001b[0;34m.\u001b[0m\u001b[0mjustify\u001b[0m\u001b[0;34m)\u001b[0m\u001b[0;34m\u001b[0m\u001b[0;34m\u001b[0m\u001b[0m\n\u001b[1;32m   1273\u001b[0m \u001b[0;34m\u001b[0m\u001b[0m\n",
      "\u001b[0;32m~/opt/anaconda3/envs/learn-env/lib/python3.9/site-packages/pandas/io/formats/format.py\u001b[0m in \u001b[0;36m_format_strings\u001b[0;34m(self)\u001b[0m\n\u001b[1;32m   1332\u001b[0m         \u001b[0;32mfor\u001b[0m \u001b[0mi\u001b[0m\u001b[0;34m,\u001b[0m \u001b[0mv\u001b[0m \u001b[0;32min\u001b[0m \u001b[0menumerate\u001b[0m\u001b[0;34m(\u001b[0m\u001b[0mvals\u001b[0m\u001b[0;34m)\u001b[0m\u001b[0;34m:\u001b[0m\u001b[0;34m\u001b[0m\u001b[0;34m\u001b[0m\u001b[0m\n\u001b[1;32m   1333\u001b[0m             \u001b[0;32mif\u001b[0m \u001b[0;32mnot\u001b[0m \u001b[0mis_float_type\u001b[0m\u001b[0;34m[\u001b[0m\u001b[0mi\u001b[0m\u001b[0;34m]\u001b[0m \u001b[0;32mand\u001b[0m \u001b[0mleading_space\u001b[0m\u001b[0;34m:\u001b[0m\u001b[0;34m\u001b[0m\u001b[0;34m\u001b[0m\u001b[0m\n\u001b[0;32m-> 1334\u001b[0;31m                 \u001b[0mfmt_values\u001b[0m\u001b[0;34m.\u001b[0m\u001b[0mappend\u001b[0m\u001b[0;34m(\u001b[0m\u001b[0;34mf\" {_format(v)}\"\u001b[0m\u001b[0;34m)\u001b[0m\u001b[0;34m\u001b[0m\u001b[0;34m\u001b[0m\u001b[0m\n\u001b[0m\u001b[1;32m   1335\u001b[0m             \u001b[0;32melif\u001b[0m \u001b[0mis_float_type\u001b[0m\u001b[0;34m[\u001b[0m\u001b[0mi\u001b[0m\u001b[0;34m]\u001b[0m\u001b[0;34m:\u001b[0m\u001b[0;34m\u001b[0m\u001b[0;34m\u001b[0m\u001b[0m\n\u001b[1;32m   1336\u001b[0m                 \u001b[0mfmt_values\u001b[0m\u001b[0;34m.\u001b[0m\u001b[0mappend\u001b[0m\u001b[0;34m(\u001b[0m\u001b[0mfloat_format\u001b[0m\u001b[0;34m(\u001b[0m\u001b[0mv\u001b[0m\u001b[0;34m)\u001b[0m\u001b[0;34m)\u001b[0m\u001b[0;34m\u001b[0m\u001b[0;34m\u001b[0m\u001b[0m\n",
      "\u001b[0;32m~/opt/anaconda3/envs/learn-env/lib/python3.9/site-packages/pandas/io/formats/format.py\u001b[0m in \u001b[0;36m_format\u001b[0;34m(x)\u001b[0m\n\u001b[1;32m   1312\u001b[0m             \u001b[0;32melse\u001b[0m\u001b[0;34m:\u001b[0m\u001b[0;34m\u001b[0m\u001b[0;34m\u001b[0m\u001b[0m\n\u001b[1;32m   1313\u001b[0m                 \u001b[0;31m# object dtype\u001b[0m\u001b[0;34m\u001b[0m\u001b[0;34m\u001b[0m\u001b[0;34m\u001b[0m\u001b[0m\n\u001b[0;32m-> 1314\u001b[0;31m                 \u001b[0;32mreturn\u001b[0m \u001b[0mstr\u001b[0m\u001b[0;34m(\u001b[0m\u001b[0mformatter\u001b[0m\u001b[0;34m(\u001b[0m\u001b[0mx\u001b[0m\u001b[0;34m)\u001b[0m\u001b[0;34m)\u001b[0m\u001b[0;34m\u001b[0m\u001b[0;34m\u001b[0m\u001b[0m\n\u001b[0m\u001b[1;32m   1315\u001b[0m \u001b[0;34m\u001b[0m\u001b[0m\n\u001b[1;32m   1316\u001b[0m         \u001b[0mvals\u001b[0m \u001b[0;34m=\u001b[0m \u001b[0mextract_array\u001b[0m\u001b[0;34m(\u001b[0m\u001b[0mself\u001b[0m\u001b[0;34m.\u001b[0m\u001b[0mvalues\u001b[0m\u001b[0;34m,\u001b[0m \u001b[0mextract_numpy\u001b[0m\u001b[0;34m=\u001b[0m\u001b[0;32mTrue\u001b[0m\u001b[0;34m)\u001b[0m\u001b[0;34m\u001b[0m\u001b[0;34m\u001b[0m\u001b[0m\n",
      "\u001b[0;32m~/opt/anaconda3/envs/learn-env/lib/python3.9/site-packages/pandas/io/formats/printing.py\u001b[0m in \u001b[0;36mpprint_thing\u001b[0;34m(thing, _nest_lvl, escape_chars, default_escapes, quote_strings, max_seq_items)\u001b[0m\n\u001b[1;32m    231\u001b[0m         \u001b[0mresult\u001b[0m \u001b[0;34m=\u001b[0m \u001b[0;34mf\"'{as_escaped_string(thing)}'\"\u001b[0m\u001b[0;34m\u001b[0m\u001b[0;34m\u001b[0m\u001b[0m\n\u001b[1;32m    232\u001b[0m     \u001b[0;32melse\u001b[0m\u001b[0;34m:\u001b[0m\u001b[0;34m\u001b[0m\u001b[0;34m\u001b[0m\u001b[0m\n\u001b[0;32m--> 233\u001b[0;31m         \u001b[0mresult\u001b[0m \u001b[0;34m=\u001b[0m \u001b[0mas_escaped_string\u001b[0m\u001b[0;34m(\u001b[0m\u001b[0mthing\u001b[0m\u001b[0;34m)\u001b[0m\u001b[0;34m\u001b[0m\u001b[0;34m\u001b[0m\u001b[0m\n\u001b[0m\u001b[1;32m    234\u001b[0m \u001b[0;34m\u001b[0m\u001b[0m\n\u001b[1;32m    235\u001b[0m     \u001b[0;32mreturn\u001b[0m \u001b[0mresult\u001b[0m\u001b[0;34m\u001b[0m\u001b[0;34m\u001b[0m\u001b[0m\n",
      "\u001b[0;32m~/opt/anaconda3/envs/learn-env/lib/python3.9/site-packages/pandas/io/formats/printing.py\u001b[0m in \u001b[0;36mas_escaped_string\u001b[0;34m(thing, escape_chars)\u001b[0m\n\u001b[1;32m    207\u001b[0m             \u001b[0mescape_chars\u001b[0m \u001b[0;34m=\u001b[0m \u001b[0mescape_chars\u001b[0m \u001b[0;32mor\u001b[0m \u001b[0;34m(\u001b[0m\u001b[0;34m)\u001b[0m\u001b[0;34m\u001b[0m\u001b[0;34m\u001b[0m\u001b[0m\n\u001b[1;32m    208\u001b[0m \u001b[0;34m\u001b[0m\u001b[0m\n\u001b[0;32m--> 209\u001b[0;31m         \u001b[0mresult\u001b[0m \u001b[0;34m=\u001b[0m \u001b[0mstr\u001b[0m\u001b[0;34m(\u001b[0m\u001b[0mthing\u001b[0m\u001b[0;34m)\u001b[0m\u001b[0;34m\u001b[0m\u001b[0;34m\u001b[0m\u001b[0m\n\u001b[0m\u001b[1;32m    210\u001b[0m         \u001b[0;32mfor\u001b[0m \u001b[0mc\u001b[0m \u001b[0;32min\u001b[0m \u001b[0mescape_chars\u001b[0m\u001b[0;34m:\u001b[0m\u001b[0;34m\u001b[0m\u001b[0;34m\u001b[0m\u001b[0m\n\u001b[1;32m    211\u001b[0m             \u001b[0mresult\u001b[0m \u001b[0;34m=\u001b[0m \u001b[0mresult\u001b[0m\u001b[0;34m.\u001b[0m\u001b[0mreplace\u001b[0m\u001b[0;34m(\u001b[0m\u001b[0mc\u001b[0m\u001b[0;34m,\u001b[0m \u001b[0mtranslate\u001b[0m\u001b[0;34m[\u001b[0m\u001b[0mc\u001b[0m\u001b[0;34m]\u001b[0m\u001b[0;34m)\u001b[0m\u001b[0;34m\u001b[0m\u001b[0;34m\u001b[0m\u001b[0m\n",
      "\u001b[0;32m~/opt/anaconda3/envs/learn-env/lib/python3.9/site-packages/pandas/core/frame.py\u001b[0m in \u001b[0;36m__repr__\u001b[0;34m(self)\u001b[0m\n\u001b[1;32m    993\u001b[0m         \u001b[0;32melse\u001b[0m\u001b[0;34m:\u001b[0m\u001b[0;34m\u001b[0m\u001b[0;34m\u001b[0m\u001b[0m\n\u001b[1;32m    994\u001b[0m             \u001b[0mwidth\u001b[0m \u001b[0;34m=\u001b[0m \u001b[0;32mNone\u001b[0m\u001b[0;34m\u001b[0m\u001b[0;34m\u001b[0m\u001b[0m\n\u001b[0;32m--> 995\u001b[0;31m         self.to_string(\n\u001b[0m\u001b[1;32m    996\u001b[0m             \u001b[0mbuf\u001b[0m\u001b[0;34m=\u001b[0m\u001b[0mbuf\u001b[0m\u001b[0;34m,\u001b[0m\u001b[0;34m\u001b[0m\u001b[0;34m\u001b[0m\u001b[0m\n\u001b[1;32m    997\u001b[0m             \u001b[0mmax_rows\u001b[0m\u001b[0;34m=\u001b[0m\u001b[0mmax_rows\u001b[0m\u001b[0;34m,\u001b[0m\u001b[0;34m\u001b[0m\u001b[0;34m\u001b[0m\u001b[0m\n",
      "\u001b[0;32m~/opt/anaconda3/envs/learn-env/lib/python3.9/site-packages/pandas/core/frame.py\u001b[0m in \u001b[0;36mto_string\u001b[0;34m(self, buf, columns, col_space, header, index, na_rep, formatters, float_format, sparsify, index_names, justify, max_rows, min_rows, max_cols, show_dimensions, decimal, line_width, max_colwidth, encoding)\u001b[0m\n\u001b[1;32m   1129\u001b[0m                 \u001b[0mdecimal\u001b[0m\u001b[0;34m=\u001b[0m\u001b[0mdecimal\u001b[0m\u001b[0;34m,\u001b[0m\u001b[0;34m\u001b[0m\u001b[0;34m\u001b[0m\u001b[0m\n\u001b[1;32m   1130\u001b[0m             )\n\u001b[0;32m-> 1131\u001b[0;31m             return fmt.DataFrameRenderer(formatter).to_string(\n\u001b[0m\u001b[1;32m   1132\u001b[0m                 \u001b[0mbuf\u001b[0m\u001b[0;34m=\u001b[0m\u001b[0mbuf\u001b[0m\u001b[0;34m,\u001b[0m\u001b[0;34m\u001b[0m\u001b[0;34m\u001b[0m\u001b[0m\n\u001b[1;32m   1133\u001b[0m                 \u001b[0mencoding\u001b[0m\u001b[0;34m=\u001b[0m\u001b[0mencoding\u001b[0m\u001b[0;34m,\u001b[0m\u001b[0;34m\u001b[0m\u001b[0;34m\u001b[0m\u001b[0m\n",
      "\u001b[0;32m~/opt/anaconda3/envs/learn-env/lib/python3.9/site-packages/pandas/io/formats/format.py\u001b[0m in \u001b[0;36mto_string\u001b[0;34m(self, buf, encoding, line_width)\u001b[0m\n\u001b[1;32m   1051\u001b[0m \u001b[0;34m\u001b[0m\u001b[0m\n\u001b[1;32m   1052\u001b[0m         \u001b[0mstring_formatter\u001b[0m \u001b[0;34m=\u001b[0m \u001b[0mStringFormatter\u001b[0m\u001b[0;34m(\u001b[0m\u001b[0mself\u001b[0m\u001b[0;34m.\u001b[0m\u001b[0mfmt\u001b[0m\u001b[0;34m,\u001b[0m \u001b[0mline_width\u001b[0m\u001b[0;34m=\u001b[0m\u001b[0mline_width\u001b[0m\u001b[0;34m)\u001b[0m\u001b[0;34m\u001b[0m\u001b[0;34m\u001b[0m\u001b[0m\n\u001b[0;32m-> 1053\u001b[0;31m         \u001b[0mstring\u001b[0m \u001b[0;34m=\u001b[0m \u001b[0mstring_formatter\u001b[0m\u001b[0;34m.\u001b[0m\u001b[0mto_string\u001b[0m\u001b[0;34m(\u001b[0m\u001b[0;34m)\u001b[0m\u001b[0;34m\u001b[0m\u001b[0;34m\u001b[0m\u001b[0m\n\u001b[0m\u001b[1;32m   1054\u001b[0m         \u001b[0;32mreturn\u001b[0m \u001b[0msave_to_buffer\u001b[0m\u001b[0;34m(\u001b[0m\u001b[0mstring\u001b[0m\u001b[0;34m,\u001b[0m \u001b[0mbuf\u001b[0m\u001b[0;34m=\u001b[0m\u001b[0mbuf\u001b[0m\u001b[0;34m,\u001b[0m \u001b[0mencoding\u001b[0m\u001b[0;34m=\u001b[0m\u001b[0mencoding\u001b[0m\u001b[0;34m)\u001b[0m\u001b[0;34m\u001b[0m\u001b[0;34m\u001b[0m\u001b[0m\n\u001b[1;32m   1055\u001b[0m \u001b[0;34m\u001b[0m\u001b[0m\n",
      "\u001b[0;32m~/opt/anaconda3/envs/learn-env/lib/python3.9/site-packages/pandas/io/formats/string.py\u001b[0m in \u001b[0;36mto_string\u001b[0;34m(self)\u001b[0m\n\u001b[1;32m     23\u001b[0m \u001b[0;34m\u001b[0m\u001b[0m\n\u001b[1;32m     24\u001b[0m     \u001b[0;32mdef\u001b[0m \u001b[0mto_string\u001b[0m\u001b[0;34m(\u001b[0m\u001b[0mself\u001b[0m\u001b[0;34m)\u001b[0m \u001b[0;34m->\u001b[0m \u001b[0mstr\u001b[0m\u001b[0;34m:\u001b[0m\u001b[0;34m\u001b[0m\u001b[0;34m\u001b[0m\u001b[0m\n\u001b[0;32m---> 25\u001b[0;31m         \u001b[0mtext\u001b[0m \u001b[0;34m=\u001b[0m \u001b[0mself\u001b[0m\u001b[0;34m.\u001b[0m\u001b[0m_get_string_representation\u001b[0m\u001b[0;34m(\u001b[0m\u001b[0;34m)\u001b[0m\u001b[0;34m\u001b[0m\u001b[0;34m\u001b[0m\u001b[0m\n\u001b[0m\u001b[1;32m     26\u001b[0m         \u001b[0;32mif\u001b[0m \u001b[0mself\u001b[0m\u001b[0;34m.\u001b[0m\u001b[0mfmt\u001b[0m\u001b[0;34m.\u001b[0m\u001b[0mshould_show_dimensions\u001b[0m\u001b[0;34m:\u001b[0m\u001b[0;34m\u001b[0m\u001b[0;34m\u001b[0m\u001b[0m\n\u001b[1;32m     27\u001b[0m             \u001b[0mtext\u001b[0m \u001b[0;34m=\u001b[0m \u001b[0;34m\"\"\u001b[0m\u001b[0;34m.\u001b[0m\u001b[0mjoin\u001b[0m\u001b[0;34m(\u001b[0m\u001b[0;34m[\u001b[0m\u001b[0mtext\u001b[0m\u001b[0;34m,\u001b[0m \u001b[0mself\u001b[0m\u001b[0;34m.\u001b[0m\u001b[0mfmt\u001b[0m\u001b[0;34m.\u001b[0m\u001b[0mdimensions_info\u001b[0m\u001b[0;34m]\u001b[0m\u001b[0;34m)\u001b[0m\u001b[0;34m\u001b[0m\u001b[0;34m\u001b[0m\u001b[0m\n",
      "\u001b[0;32m~/opt/anaconda3/envs/learn-env/lib/python3.9/site-packages/pandas/io/formats/string.py\u001b[0m in \u001b[0;36m_get_string_representation\u001b[0;34m(self)\u001b[0m\n\u001b[1;32m     38\u001b[0m             \u001b[0;32mreturn\u001b[0m \u001b[0mself\u001b[0m\u001b[0;34m.\u001b[0m\u001b[0m_empty_info_line\u001b[0m\u001b[0;34m\u001b[0m\u001b[0;34m\u001b[0m\u001b[0m\n\u001b[1;32m     39\u001b[0m \u001b[0;34m\u001b[0m\u001b[0m\n\u001b[0;32m---> 40\u001b[0;31m         \u001b[0mstrcols\u001b[0m \u001b[0;34m=\u001b[0m \u001b[0mself\u001b[0m\u001b[0;34m.\u001b[0m\u001b[0m_get_strcols\u001b[0m\u001b[0;34m(\u001b[0m\u001b[0;34m)\u001b[0m\u001b[0;34m\u001b[0m\u001b[0;34m\u001b[0m\u001b[0m\n\u001b[0m\u001b[1;32m     41\u001b[0m \u001b[0;34m\u001b[0m\u001b[0m\n\u001b[1;32m     42\u001b[0m         \u001b[0;32mif\u001b[0m \u001b[0mself\u001b[0m\u001b[0;34m.\u001b[0m\u001b[0mline_width\u001b[0m \u001b[0;32mis\u001b[0m \u001b[0;32mNone\u001b[0m\u001b[0;34m:\u001b[0m\u001b[0;34m\u001b[0m\u001b[0;34m\u001b[0m\u001b[0m\n",
      "\u001b[0;32m~/opt/anaconda3/envs/learn-env/lib/python3.9/site-packages/pandas/io/formats/string.py\u001b[0m in \u001b[0;36m_get_strcols\u001b[0;34m(self)\u001b[0m\n\u001b[1;32m     29\u001b[0m \u001b[0;34m\u001b[0m\u001b[0m\n\u001b[1;32m     30\u001b[0m     \u001b[0;32mdef\u001b[0m \u001b[0m_get_strcols\u001b[0m\u001b[0;34m(\u001b[0m\u001b[0mself\u001b[0m\u001b[0;34m)\u001b[0m \u001b[0;34m->\u001b[0m \u001b[0mlist\u001b[0m\u001b[0;34m[\u001b[0m\u001b[0mlist\u001b[0m\u001b[0;34m[\u001b[0m\u001b[0mstr\u001b[0m\u001b[0;34m]\u001b[0m\u001b[0;34m]\u001b[0m\u001b[0;34m:\u001b[0m\u001b[0;34m\u001b[0m\u001b[0;34m\u001b[0m\u001b[0m\n\u001b[0;32m---> 31\u001b[0;31m         \u001b[0mstrcols\u001b[0m \u001b[0;34m=\u001b[0m \u001b[0mself\u001b[0m\u001b[0;34m.\u001b[0m\u001b[0mfmt\u001b[0m\u001b[0;34m.\u001b[0m\u001b[0mget_strcols\u001b[0m\u001b[0;34m(\u001b[0m\u001b[0;34m)\u001b[0m\u001b[0;34m\u001b[0m\u001b[0;34m\u001b[0m\u001b[0m\n\u001b[0m\u001b[1;32m     32\u001b[0m         \u001b[0;32mif\u001b[0m \u001b[0mself\u001b[0m\u001b[0;34m.\u001b[0m\u001b[0mfmt\u001b[0m\u001b[0;34m.\u001b[0m\u001b[0mis_truncated\u001b[0m\u001b[0;34m:\u001b[0m\u001b[0;34m\u001b[0m\u001b[0;34m\u001b[0m\u001b[0m\n\u001b[1;32m     33\u001b[0m             \u001b[0mstrcols\u001b[0m \u001b[0;34m=\u001b[0m \u001b[0mself\u001b[0m\u001b[0;34m.\u001b[0m\u001b[0m_insert_dot_separators\u001b[0m\u001b[0;34m(\u001b[0m\u001b[0mstrcols\u001b[0m\u001b[0;34m)\u001b[0m\u001b[0;34m\u001b[0m\u001b[0;34m\u001b[0m\u001b[0m\n",
      "\u001b[0;32m~/opt/anaconda3/envs/learn-env/lib/python3.9/site-packages/pandas/io/formats/format.py\u001b[0m in \u001b[0;36mget_strcols\u001b[0;34m(self)\u001b[0m\n\u001b[1;32m    538\u001b[0m         \u001b[0mRender\u001b[0m \u001b[0ma\u001b[0m \u001b[0mDataFrame\u001b[0m \u001b[0mto\u001b[0m \u001b[0ma\u001b[0m \u001b[0mlist\u001b[0m \u001b[0mof\u001b[0m \u001b[0mcolumns\u001b[0m \u001b[0;34m(\u001b[0m\u001b[0;32mas\u001b[0m \u001b[0mlists\u001b[0m \u001b[0mof\u001b[0m \u001b[0mstrings\u001b[0m\u001b[0;34m)\u001b[0m\u001b[0;34m.\u001b[0m\u001b[0;34m\u001b[0m\u001b[0;34m\u001b[0m\u001b[0m\n\u001b[1;32m    539\u001b[0m         \"\"\"\n\u001b[0;32m--> 540\u001b[0;31m         \u001b[0mstrcols\u001b[0m \u001b[0;34m=\u001b[0m \u001b[0mself\u001b[0m\u001b[0;34m.\u001b[0m\u001b[0m_get_strcols_without_index\u001b[0m\u001b[0;34m(\u001b[0m\u001b[0;34m)\u001b[0m\u001b[0;34m\u001b[0m\u001b[0;34m\u001b[0m\u001b[0m\n\u001b[0m\u001b[1;32m    541\u001b[0m \u001b[0;34m\u001b[0m\u001b[0m\n\u001b[1;32m    542\u001b[0m         \u001b[0;32mif\u001b[0m \u001b[0mself\u001b[0m\u001b[0;34m.\u001b[0m\u001b[0mindex\u001b[0m\u001b[0;34m:\u001b[0m\u001b[0;34m\u001b[0m\u001b[0;34m\u001b[0m\u001b[0m\n",
      "\u001b[0;32m~/opt/anaconda3/envs/learn-env/lib/python3.9/site-packages/pandas/io/formats/format.py\u001b[0m in \u001b[0;36m_get_strcols_without_index\u001b[0;34m(self)\u001b[0m\n\u001b[1;32m    802\u001b[0m                 \u001b[0mint\u001b[0m\u001b[0;34m(\u001b[0m\u001b[0mself\u001b[0m\u001b[0;34m.\u001b[0m\u001b[0mcol_space\u001b[0m\u001b[0;34m.\u001b[0m\u001b[0mget\u001b[0m\u001b[0;34m(\u001b[0m\u001b[0mc\u001b[0m\u001b[0;34m,\u001b[0m \u001b[0;36m0\u001b[0m\u001b[0;34m)\u001b[0m\u001b[0;34m)\u001b[0m\u001b[0;34m,\u001b[0m \u001b[0;34m*\u001b[0m\u001b[0;34m(\u001b[0m\u001b[0mself\u001b[0m\u001b[0;34m.\u001b[0m\u001b[0madj\u001b[0m\u001b[0;34m.\u001b[0m\u001b[0mlen\u001b[0m\u001b[0;34m(\u001b[0m\u001b[0mx\u001b[0m\u001b[0;34m)\u001b[0m \u001b[0;32mfor\u001b[0m \u001b[0mx\u001b[0m \u001b[0;32min\u001b[0m \u001b[0mcheader\u001b[0m\u001b[0;34m)\u001b[0m\u001b[0;34m\u001b[0m\u001b[0;34m\u001b[0m\u001b[0m\n\u001b[1;32m    803\u001b[0m             )\n\u001b[0;32m--> 804\u001b[0;31m             \u001b[0mfmt_values\u001b[0m \u001b[0;34m=\u001b[0m \u001b[0mself\u001b[0m\u001b[0;34m.\u001b[0m\u001b[0mformat_col\u001b[0m\u001b[0;34m(\u001b[0m\u001b[0mi\u001b[0m\u001b[0;34m)\u001b[0m\u001b[0;34m\u001b[0m\u001b[0;34m\u001b[0m\u001b[0m\n\u001b[0m\u001b[1;32m    805\u001b[0m             fmt_values = _make_fixed_width(\n\u001b[1;32m    806\u001b[0m                 \u001b[0mfmt_values\u001b[0m\u001b[0;34m,\u001b[0m \u001b[0mself\u001b[0m\u001b[0;34m.\u001b[0m\u001b[0mjustify\u001b[0m\u001b[0;34m,\u001b[0m \u001b[0mminimum\u001b[0m\u001b[0;34m=\u001b[0m\u001b[0mheader_colwidth\u001b[0m\u001b[0;34m,\u001b[0m \u001b[0madj\u001b[0m\u001b[0;34m=\u001b[0m\u001b[0mself\u001b[0m\u001b[0;34m.\u001b[0m\u001b[0madj\u001b[0m\u001b[0;34m\u001b[0m\u001b[0;34m\u001b[0m\u001b[0m\n",
      "\u001b[0;32m~/opt/anaconda3/envs/learn-env/lib/python3.9/site-packages/pandas/io/formats/format.py\u001b[0m in \u001b[0;36mformat_col\u001b[0;34m(self, i)\u001b[0m\n\u001b[1;32m    816\u001b[0m         \u001b[0mframe\u001b[0m \u001b[0;34m=\u001b[0m \u001b[0mself\u001b[0m\u001b[0;34m.\u001b[0m\u001b[0mtr_frame\u001b[0m\u001b[0;34m\u001b[0m\u001b[0;34m\u001b[0m\u001b[0m\n\u001b[1;32m    817\u001b[0m         \u001b[0mformatter\u001b[0m \u001b[0;34m=\u001b[0m \u001b[0mself\u001b[0m\u001b[0;34m.\u001b[0m\u001b[0m_get_formatter\u001b[0m\u001b[0;34m(\u001b[0m\u001b[0mi\u001b[0m\u001b[0;34m)\u001b[0m\u001b[0;34m\u001b[0m\u001b[0;34m\u001b[0m\u001b[0m\n\u001b[0;32m--> 818\u001b[0;31m         return format_array(\n\u001b[0m\u001b[1;32m    819\u001b[0m             \u001b[0mframe\u001b[0m\u001b[0;34m.\u001b[0m\u001b[0miloc\u001b[0m\u001b[0;34m[\u001b[0m\u001b[0;34m:\u001b[0m\u001b[0;34m,\u001b[0m \u001b[0mi\u001b[0m\u001b[0;34m]\u001b[0m\u001b[0;34m.\u001b[0m\u001b[0m_values\u001b[0m\u001b[0;34m,\u001b[0m\u001b[0;34m\u001b[0m\u001b[0;34m\u001b[0m\u001b[0m\n\u001b[1;32m    820\u001b[0m             \u001b[0mformatter\u001b[0m\u001b[0;34m,\u001b[0m\u001b[0;34m\u001b[0m\u001b[0;34m\u001b[0m\u001b[0m\n",
      "... last 15 frames repeated, from the frame below ...\n",
      "\u001b[0;32m~/opt/anaconda3/envs/learn-env/lib/python3.9/site-packages/pandas/io/formats/format.py\u001b[0m in \u001b[0;36mformat_array\u001b[0;34m(values, formatter, float_format, na_rep, digits, space, justify, decimal, leading_space, quoting)\u001b[0m\n\u001b[1;32m   1238\u001b[0m     )\n\u001b[1;32m   1239\u001b[0m \u001b[0;34m\u001b[0m\u001b[0m\n\u001b[0;32m-> 1240\u001b[0;31m     \u001b[0;32mreturn\u001b[0m \u001b[0mfmt_obj\u001b[0m\u001b[0;34m.\u001b[0m\u001b[0mget_result\u001b[0m\u001b[0;34m(\u001b[0m\u001b[0;34m)\u001b[0m\u001b[0;34m\u001b[0m\u001b[0;34m\u001b[0m\u001b[0m\n\u001b[0m\u001b[1;32m   1241\u001b[0m \u001b[0;34m\u001b[0m\u001b[0m\n\u001b[1;32m   1242\u001b[0m \u001b[0;34m\u001b[0m\u001b[0m\n",
      "\u001b[0;31mRecursionError\u001b[0m: maximum recursion depth exceeded while calling a Python object"
     ]
    }
   ],
   "source": [
    "pres_clean.iloc[0]"
   ]
  },
  {
   "cell_type": "code",
   "execution_count": 45,
   "id": "ce5a789e-1639-4159-ab5a-75bd0a98f894",
   "metadata": {},
   "outputs": [],
   "source": [
    "pred_flips = top_skew[top_skew['FIPS'].isin(flip_fips)]"
   ]
  },
  {
   "cell_type": "code",
   "execution_count": 46,
   "id": "ed4ed236-a8af-4565-9382-94765f585e0e",
   "metadata": {},
   "outputs": [
    {
     "data": {
      "text/html": [
       "<div>\n",
       "<style scoped>\n",
       "    .dataframe tbody tr th:only-of-type {\n",
       "        vertical-align: middle;\n",
       "    }\n",
       "\n",
       "    .dataframe tbody tr th {\n",
       "        vertical-align: top;\n",
       "    }\n",
       "\n",
       "    .dataframe thead th {\n",
       "        text-align: right;\n",
       "    }\n",
       "</style>\n",
       "<table border=\"1\" class=\"dataframe\">\n",
       "  <thead>\n",
       "    <tr style=\"text-align: right;\">\n",
       "      <th></th>\n",
       "      <th>all_skew_diff</th>\n",
       "      <th>1620_skew_diff</th>\n",
       "      <th>winner16</th>\n",
       "      <th>winner20</th>\n",
       "      <th>FIPS</th>\n",
       "      <th>county</th>\n",
       "      <th>state</th>\n",
       "    </tr>\n",
       "  </thead>\n",
       "  <tbody>\n",
       "  </tbody>\n",
       "</table>\n",
       "</div>"
      ],
      "text/plain": [
       "Empty DataFrame\n",
       "Columns: [all_skew_diff, 1620_skew_diff, winner16, winner20, FIPS, county, state]\n",
       "Index: []"
      ]
     },
     "execution_count": 46,
     "metadata": {},
     "output_type": "execute_result"
    }
   ],
   "source": [
    "pred_flips"
   ]
  },
  {
   "cell_type": "code",
   "execution_count": 47,
   "id": "c57d6f43-5a3d-4302-a807-3d3943b68ebe",
   "metadata": {},
   "outputs": [],
   "source": [
    "j = pres_clean.merge(geo_clean, on=\"FIPS\", how=\"inner\")"
   ]
  },
  {
   "cell_type": "code",
   "execution_count": null,
   "id": "254ee205-4873-4689-ab51-b04d11b4e963",
   "metadata": {},
   "outputs": [],
   "source": [
    "j"
   ]
  },
  {
   "cell_type": "code",
   "execution_count": null,
   "id": "86938dd3-d993-4e40-906d-9086a7e76779",
   "metadata": {},
   "outputs": [],
   "source": [
    "j[j[\"year\"]==2016].shape"
   ]
  },
  {
   "cell_type": "code",
   "execution_count": null,
   "id": "b8465434-3fb1-4cff-9bc2-69a707380916",
   "metadata": {},
   "outputs": [],
   "source": [
    "o = top_skew.merge(geo_clean, on=\"FIPS\", how=\"inner\")"
   ]
  },
  {
   "cell_type": "code",
   "execution_count": null,
   "id": "03f4c1d2-5135-45f2-9a15-5e14d5bf6364",
   "metadata": {},
   "outputs": [],
   "source": [
    "o.drop([\"Land Areami²\",\"Water Areami²\", \"Total Areami²\"], axis=1, inplace=True)"
   ]
  },
  {
   "cell_type": "code",
   "execution_count": null,
   "id": "462f0835-c665-4dcf-bab1-d1ee6c32f182",
   "metadata": {},
   "outputs": [],
   "source": [
    "o.sort_values(by=\"1620_skew_diff\", ascending=False, inplace=True)"
   ]
  },
  {
   "cell_type": "code",
   "execution_count": null,
   "id": "ae5eba66-1a74-4852-955b-8bc358f21484",
   "metadata": {},
   "outputs": [],
   "source": [
    "o.head(2)"
   ]
  },
  {
   "cell_type": "markdown",
   "id": "ae98d3bd-5406-423e-8dd1-07ff899acdc7",
   "metadata": {},
   "source": [
    "## Visualizations\n",
    "\n",
    "#### 1 = Republican win, 0 = Democrat win"
   ]
  },
  {
   "cell_type": "code",
   "execution_count": null,
   "id": "504b82c9-9a91-4c59-92bb-1dab89b11eec",
   "metadata": {},
   "outputs": [],
   "source": [
    "sum_rep = j.rep_votes.sum()"
   ]
  },
  {
   "cell_type": "code",
   "execution_count": null,
   "id": "9e64e72d-e802-4b0d-bb51-9be25d7333ba",
   "metadata": {},
   "outputs": [],
   "source": [
    "sum_dem = j.dem_votes.sum()"
   ]
  },
  {
   "cell_type": "code",
   "execution_count": null,
   "id": "b5a3cee5-714a-47ab-a8ac-81ba6a945677",
   "metadata": {},
   "outputs": [],
   "source": [
    "sum_total_votes = sum_rep + sum_dem"
   ]
  },
  {
   "cell_type": "code",
   "execution_count": null,
   "id": "6c6ec173-f972-48be-9e6b-508f8b5ebd80",
   "metadata": {},
   "outputs": [],
   "source": [
    "def vote_inferential(df):\n",
    "    sum_rep = j.rep_votes.sum()\n",
    "    sum_dem = j.dem_votes.sum()\n",
    "    sum_total = sum_rep + sum_dem\n",
    "    rep_vote_per = round(sum_rep/sum_total *100, 2)\n",
    "    dem_vote_per = round(sum_dem/sum_total *100, 2)\n",
    "    return (rep_vote_per, dem_vote_per)"
   ]
  },
  {
   "cell_type": "code",
   "execution_count": null,
   "id": "78202ab0-600c-4a4f-af70-0c3536d9c9ec",
   "metadata": {},
   "outputs": [],
   "source": [
    "vote_inferential(j)"
   ]
  },
  {
   "cell_type": "code",
   "execution_count": null,
   "id": "88c29f1c-e29b-4610-a3dc-d9969dad2ac0",
   "metadata": {},
   "outputs": [],
   "source": [
    "j.target.value_counts(normalize=True)"
   ]
  },
  {
   "cell_type": "code",
   "execution_count": null,
   "id": "5d59761b-ec54-45dc-a249-a51335f17c9e",
   "metadata": {},
   "outputs": [],
   "source": [
    "red = \"#D33E69\"\n",
    "blue = \"#2A3990\""
   ]
  },
  {
   "cell_type": "code",
   "execution_count": null,
   "id": "3a5fed42-a3be-49c5-a110-a6724bc72228",
   "metadata": {},
   "outputs": [],
   "source": [
    "austin_fips = 48015"
   ]
  },
  {
   "cell_type": "code",
   "execution_count": null,
   "id": "bec3671d-da72-43e0-b4fd-86152d1b4e2b",
   "metadata": {},
   "outputs": [],
   "source": [
    "#for rj[j[\"FIPS\"]==austin_fips]"
   ]
  },
  {
   "cell_type": "code",
   "execution_count": null,
   "id": "86515bc0-39dd-4e64-85c5-2f59e002b599",
   "metadata": {},
   "outputs": [],
   "source": [
    "fig, ax = plt.subplots(figsize=(8,8))\n",
    "plt.title(\"Total Votes v. Total Counties Won\", size=20)\n",
    "plt.tick_params(axis='both', labelsize=12)\n",
    "plt.ylabel(\"Percentage\", size=15)\n",
    "sns.barplot([\"R. Votes\", \"D. Votes\", \"R. Counties Won\", \"B. Counties Won\"], [46.13,57.87, 81.67,18.34], palette=[red, blue, red, blue]);"
   ]
  },
  {
   "cell_type": "code",
   "execution_count": null,
   "id": "cbaae552-5b7c-4888-8f62-5cd4c1635737",
   "metadata": {},
   "outputs": [],
   "source": [
    "wm = j[[\"win_margin\"]]"
   ]
  },
  {
   "cell_type": "code",
   "execution_count": null,
   "id": "f791b4ba-8c7b-4fb2-aed7-a3be0ad7852e",
   "metadata": {},
   "outputs": [],
   "source": [
    "wm[\"skew\"] = j[\"skew\"]"
   ]
  },
  {
   "cell_type": "code",
   "execution_count": null,
   "id": "761c03e4-598c-4107-8c76-24c0779b4dbc",
   "metadata": {},
   "outputs": [],
   "source": [
    "wm[\"likelihood\"] = wm[\"win_margin\"].map(lambda margin: \"unlikely\" if margin > 30 else \"likely\")"
   ]
  },
  {
   "cell_type": "code",
   "execution_count": null,
   "id": "d9a52435-0ee3-4aed-b9d8-c7ec3d97c15c",
   "metadata": {},
   "outputs": [],
   "source": [
    "fig, ax = plt.subplots(figsize=(8,8))\n",
    "sns.histplot(data=wm, x=wm[\"win_margin\"], bins=20, ax=ax, palette = [red, blue], hue=wm[\"likelihood\"])\n",
    "plt.text(wm[\"win_margin\"].mean()+1, 150, \"Mean\", color = \"black\", size=15, fontweight='bold')\n",
    "plt.text(wm[\"win_margin\"].mean()+1, 137, \"(19%)\", color = \"black\", size=15, fontweight='bold')\n",
    "plt.vlines(wm[\"win_margin\"].mean(), 0, 210, color=\"black\", linewidth=6)\n",
    "plt.title(\"Win Margin Percentage Distribution\", size=20)\n",
    "plt.ylabel(\"County Elections\", size=15)\n",
    "plt.xlabel(\"Win Margin(Percentage)\", size=15)"
   ]
  }
 ],
 "metadata": {
  "kernelspec": {
   "display_name": "Python 3",
   "language": "python",
   "name": "python3"
  },
  "language_info": {
   "codemirror_mode": {
    "name": "ipython",
    "version": 3
   },
   "file_extension": ".py",
   "mimetype": "text/x-python",
   "name": "python",
   "nbconvert_exporter": "python",
   "pygments_lexer": "ipython3",
   "version": "3.9.5"
  }
 },
 "nbformat": 4,
 "nbformat_minor": 5
}
