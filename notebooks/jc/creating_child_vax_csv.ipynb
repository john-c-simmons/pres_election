{
 "cells": [
  {
   "cell_type": "code",
   "execution_count": 26,
   "metadata": {},
   "outputs": [],
   "source": [
    "from requests import get\n",
    "from io import BytesIO\n",
    "import pandas as pd\n",
    "import pdfplumber\n",
    "from tabula import read_pdf# ===================== CALIFORNIA =======================\n",
    "def get_california_2015():\n",
    "    print('2015 - Downloading California Vaccination Data')\n",
    "    response = get('https://eziz.org/assets/docs/shotsforschool/2015-16CAKindergartenData.xls')\n",
    "    content = response.content\n",
    "    to_bytes = BytesIO(content)\n",
    "    data = pd.read_excel(to_bytes, skiprows=4).dropna()\n",
    "    data.columns = ['school_code', 'county', 'public/private', \n",
    "                'district', 'city', 'school_name', 'enrollment',\n",
    "                'vaccinated_n', 'vaccinated_perc', 'temp_unvax_n', \n",
    "                'temp_unvax_perc', 'perm_med_exemp_n', 'perm_med_exemp_perc',\n",
    "                'pbe_n', 'pbe_perc', 'hcp_counceled_pbe_n',\n",
    "                'hcp_counceled_pbe_perc', 'religious_exemp_n',\n",
    "                'religious_exemp_perc', 'over_due_n', 'over_due_perc',\n",
    "                'five_dose_DTP_n', 'five_dose_DTP_perc',\n",
    "                'polio_n', 'polio_perc', 'mmr_n', 'mmr_perc', \n",
    "                'hepb_n', 'hepb_perc', 'varicell_n', 'varicella_perc', 'reported']\n",
    "    data['year'] = 2015\n",
    "    data['state'] = 'CA'\n",
    "    return data\n",
    "def get_california_2018():\n",
    "    print('2018 - Downloading California Vaccination Data')\n",
    "    response = get('https://eziz.org/assets/docs/shotsforschool/2018-19CAKindergartenDataLetter.xlsx')\n",
    "    content = response.content\n",
    "    to_bytes = BytesIO(content)\n",
    "    data = pd.read_excel(to_bytes, skiprows=3, sheet_name='Enrollment 20 or More').iloc[:,:28].dropna()\n",
    "    data.columns = ['school_code', 'county', 'public/private', 'district', 'city', \n",
    "                    'school_name', 'enrollment_n', 'vaccinated_n',\n",
    "                    'vaccinated_perc', 'temp_unvax_n', 'temp_unvax_perc',\n",
    "                    'perm_med_exempt_n', 'perm_med_exempt_perc', 'other_n',\n",
    "                    'other_perc','over_due_n', 'over_due_perc', 'five_dose_DTP_n', 'five_dose_DTP_perc',\n",
    "                    'polio_n', 'polio_perc', 'mmr_n', 'mmr_perc', \n",
    "                    'hepb_n', 'hepb_perc', 'varicell_n', 'varicella_perc', 'reported']\n",
    "    data['year'] = 2018\n",
    "    data['state'] = 'CA'\n",
    "    return data# ===================== ILLINOIS =======================\n",
    "def get_illinois_2018():\n",
    "    print('2018 - Downloading Illinois Vaccination Data')\n",
    "    response = get('https://www.isbe.net/_layouts/Download.aspx?SourceUrl=/Documents/Immunization_18-19.xlsx')\n",
    "    content = response.content\n",
    "    to_bytes = BytesIO(content)\n",
    "    data = pd.read_excel(to_bytes, skiprows=2, sheet_name='Measles')\n",
    "    data['year'] = 2018\n",
    "    data['state'] = 'IL'\n",
    "    return data\n",
    "def get_illinois_2015():\n",
    "    print('2015 - Downloading Illinois Vaccination Data')\n",
    "    response = get('https://www.isbe.net/_layouts/Download.aspx?SourceUrl=/Documents/Immunization_15-16.xlsx')\n",
    "    content = response.content\n",
    "    to_bytes = BytesIO(content)\n",
    "    data = pd.read_excel(to_bytes, skiprows=2, sheet_name='Measles')\n",
    "    data['year'] = 2015\n",
    "    data['state'] = 'IL'\n",
    "    return data\n",
    "# ===================== TEXAS =======================\n",
    "def get_texas_2015():\n",
    "    print('2015 - Downloading Texas Vaccination Data')\n",
    "    response = get('https://www.dshs.texas.gov/WorkArea/linkit.aspx?LinkIdentifier=id&ItemID=12884905305')\n",
    "    content = response.content\n",
    "    to_bytes = BytesIO(content)\n",
    "    data = pd.read_excel(to_bytes)\n",
    "    data['year'] = 2015\n",
    "    data['state'] = 'TX'\n",
    "    return data\n",
    "def get_texas_2018():\n",
    "    print('2018 - Downloading Texas Vaccination Data')\n",
    "    response = get('https://www.dshs.texas.gov/immunize/coverage/docs/2018-2019-School-Vaccination-Coverage-Levels---Kindergarten-(XLS).pdf')\n",
    "    content = response.content\n",
    "    to_bytes = BytesIO(content)\n",
    "    data = pd.read_excel(to_bytes, skiprows=2)\n",
    "    data['year'] = 2018\n",
    "    data['state'] = 'TX'\n",
    "    return data\n",
    "# ===================== MICHIGAN =======================\n",
    "def get_michigan_2019():\n",
    "    print('2019 - Downloading Michigan Vaccination Data')\n",
    "    response = get('https://www.michigan.gov/documents/mdhhs/Kind_2019_For_Website_690426_7.xlsx')\n",
    "    content = response.content\n",
    "    to_bytes = BytesIO(content)\n",
    "    data = pd.read_excel(to_bytes, skiprows=7)\n",
    "    data.columns = ['school', 'district', 'type', 'county', \n",
    "                    'total_students', 'total_vaccinated',\n",
    "                    'vaccinated_perc', 'in_progress',\n",
    "                    'unvacinated', 'total_waivers', \n",
    "                    'waivers_perc','medical_waivers_n', \n",
    "                     'medical_waivers_perc', 'religion_waivers_n',\n",
    "                     'religion_wavers_perc', \n",
    "                    'phil_waivers_n', 'phil_waivers_perc']\n",
    "    data['year'] = 2019\n",
    "    data['state'] = 'MI'\n",
    "    return data# ===================== FLORIDA =======================\n",
    "def get_florida_2019():\n",
    "    print('2019 - Downloading Florida Vaccination Data')\n",
    "    response = get('http://www.floridahealth.gov/programs-and-services/immunization/resources/surveys/_documents/k-7-status2019-20.pdf')\n",
    "    to_bytes = BytesIO(response.content)    \n",
    "    pdf = pdfplumber.open(to_bytes)    \n",
    "    data = pd.DataFrame()    \n",
    "    \n",
    "    page_1 = pdf.pages[4]\n",
    "    page_1 = page_1.crop((0,140,612,792))\n",
    "    frame = pd.DataFrame(page_1.extract_table(table_settings={\n",
    "    \"vertical_strategy\": \"lines\", \n",
    "    \"horizontal_strategy\": \"lines\",}))\n",
    "    data = data.append(frame)  \n",
    "    \n",
    "    page_2 = pdf.pages[5]\n",
    "    page_2 = page_2.crop((0,140,612,792))\n",
    "    frame = pd.DataFrame(page_2.extract_table(table_settings={\n",
    "    \"vertical_strategy\": \"lines\", \n",
    "    \"horizontal_strategy\": \"lines\",}))\n",
    "    data = data.append(frame) \n",
    "\n",
    "    data['year'] = 2019\n",
    "    data['state'] = 'FL'\n",
    "    data.columns = ['county', 'num_schools', 'num_students', 'full_immunization_count', \n",
    "           'full_immunization_perc', 'temp_medical_exemp_count', \n",
    "           'temp_medical_exemp_perc', 'perm_medical_exemp_count', \n",
    "           'perm_medical_exemp_perc', 'religious_exemp_count', \n",
    "           'religious_exemp_perc',  '30_day_exemp_count', '30_day_exemp_perc', 'year', 'state']\n",
    "    return data\n",
    "def get_florida_2015():\n",
    "    print('2015 - Downloading Florida Vaccination Data')\n",
    "    tables = read_pdf('http://www.floridahealth.gov/programs-and-services/immunization/resources/surveys/_documents/k-7-status2015-16.pdf', pages='all')\n",
    "    first = tables[0].iloc[3:]\n",
    "    second = edit_column_names_florida(tables[1].iloc[3:])\n",
    "    data = pd.concat([first, second])\n",
    "    data['year'] = 2015\n",
    "    data['state'] = 'FL'\n",
    "    return data\n",
    "def edit_column_names_florida(df):    \n",
    "    df = df.copy()\n",
    "    df = df.rename(columns={'Unnamed: 0': 'county'})\n",
    "    df['full_immunization_count'] = df.iloc[:,3].str.split().transform(lambda x: x[0])\n",
    "    df['full_immunization_perc'] = df.iloc[:,3].str.split().transform(lambda x: x[1])\n",
    "    df['temp_medical_exemp_count'] = df.iloc[:,4].str.split().transform(lambda x: x[0])\n",
    "    df['temp_medical_exemp_perc'] = df.iloc[:,4].str.split().transform(lambda x: x[1])\n",
    "    df['perm_medical_exemp_count'] = df.iloc[:,5].str.split().transform(lambda x: x[0])\n",
    "    df['perm_medical_exemp_perc'] = df.iloc[:,5].str.split().transform(lambda x: x[1])\n",
    "    df['religious_exemp_count'] = df.iloc[:,5].str.split().transform(lambda x: x[2])\n",
    "    df['religious_exemp_perc'] = df.iloc[:,5].str.split().transform(lambda x: x[3])\n",
    "    df['30_day_exemp_count'] = df.iloc[:,6]\n",
    "    df['30_day_exemp_perc'] = df.iloc[:,6]\n",
    "    df = df.drop(df.columns[3:8], axis = 1)    \n",
    "    df.columns = ['county', 'num_schools', 'num_students', 'full_immunization_count', \n",
    "                   'full_immunization_perc', 'temp_medical_exemp_count', \n",
    "                   'temp_medical_exemp_perc', 'perm_medical_exemp_count', \n",
    "                   'perm_medical_exemp_perc', 'religious_exemp_count', \n",
    "                   'religious_exemp_perc',  '30_day_exemp_count', '30_day_exemp_perc' ]\n",
    "    return df.iloc[1:]\n",
    "def get_data():    return {'2015': {'CA': get_california_2015(),\n",
    "                     'IL': get_illinois_2015(),\n",
    "                     'FL': get_florida_2015(),\n",
    "                     'TX': get_texas_2015()},            '2018': {'CA': get_california_2018(),\n",
    "                     'IL': get_illinois_2018(),\n",
    "                     'TX': get_texas_2018()},            '2019': {'MI': get_michigan_2019(),\n",
    "                     'FL': get_florida_2019()}\n",
    "           }"
   ]
  },
  {
   "cell_type": "code",
   "execution_count": 27,
   "metadata": {},
   "outputs": [
    {
     "name": "stdout",
     "output_type": "stream",
     "text": [
      "2019 - Downloading Florida Vaccination Data\n"
     ]
    }
   ],
   "source": [
    "_ = get_florida_2019()"
   ]
  },
  {
   "cell_type": "code",
   "execution_count": 33,
   "metadata": {},
   "outputs": [
    {
     "data": {
      "text/plain": [
       "array(['Alachua3', 'Baker', 'Bay', 'Bradford', 'Brevard', 'Broward3',\n",
       "       'Calhoun', 'Charlotte3', 'Citrus3', 'Clay', 'Collier3',\n",
       "       'Columbia3', 'Dade3', 'DeSoto3', 'Dixie', 'Duval3', 'Escambia3',\n",
       "       'Flagler3', 'Franklin', 'Gadsden', 'Gilchrist3', 'Glades3', 'Gulf',\n",
       "       'Hamilton', 'Hardee', 'Hendry', 'Hernando3', 'Highlands3',\n",
       "       'Hillsborough3', 'Holmes', 'Indian River3', 'Jackson3',\n",
       "       'Jefferson3', 'Lafayette', 'Lake3', 'Lee3', 'Leon3', 'Levy',\n",
       "       'Liberty', 'Madison3', 'Manatee', 'Marion3', 'Martin3', 'Monroe3',\n",
       "       'Nassau3', 'Okaloosa3', 'Okeechobee', 'Orange3', 'Osceola3',\n",
       "       'Palm Beach3', 'Pasco3', 'Pinellas3', 'Polk', 'Putnam',\n",
       "       'Santa Rosa3', 'Sarasota3', 'Seminole3', 'St Johns3', 'St Lucie3',\n",
       "       'Sumter', 'Suwannee', 'Taylor', 'Union', 'Volusia3', 'Wakulla3',\n",
       "       'Walton3', 'Washington3', 'Deaf/Blind (St Johns)',\n",
       "       'FL Virtual (Statewide)', 'FAU Lab Sch (St Lucie)',\n",
       "       'FAU Lab Sch (Palm Bch)', 'FSU Lab Sch (Leon)',\n",
       "       'FSU Lab Sch (Broward)', 'FAMU Lab Sch (Leon)',\n",
       "       'UF Lab Sch (Alachua)', 'Statewide'], dtype=object)"
      ]
     },
     "execution_count": 33,
     "metadata": {},
     "output_type": "execute_result"
    }
   ],
   "source": [
    "_.county.unique()"
   ]
  },
  {
   "cell_type": "code",
   "execution_count": 29,
   "metadata": {},
   "outputs": [
    {
     "name": "stdout",
     "output_type": "stream",
     "text": [
      "2015 - Downloading California Vaccination Data\n",
      "2015 - Downloading Illinois Vaccination Data\n",
      "2015 - Downloading Florida Vaccination Data\n",
      "2015 - Downloading Texas Vaccination Data\n",
      "2018 - Downloading California Vaccination Data\n",
      "2018 - Downloading Illinois Vaccination Data\n",
      "2018 - Downloading Texas Vaccination Data\n",
      "2019 - Downloading Michigan Vaccination Data\n",
      "2019 - Downloading Florida Vaccination Data\n"
     ]
    }
   ],
   "source": [
    "data = get_data()"
   ]
  },
  {
   "cell_type": "code",
   "execution_count": 30,
   "metadata": {},
   "outputs": [
    {
     "name": "stdout",
     "output_type": "stream",
     "text": [
      "/Users/johnsimmons/lecture_material_folder/projects/pres_election/notebooks/jc\n"
     ]
    }
   ],
   "source": [
    "!pwd"
   ]
  },
  {
   "cell_type": "code",
   "execution_count": 31,
   "metadata": {},
   "outputs": [],
   "source": [
    "data['2019']['FL'].to_csv('../../data/florida_2019.csv', index=False)"
   ]
  },
  {
   "cell_type": "code",
   "execution_count": null,
   "metadata": {},
   "outputs": [],
   "source": []
  },
  {
   "cell_type": "code",
   "execution_count": null,
   "metadata": {},
   "outputs": [],
   "source": []
  }
 ],
 "metadata": {
  "kernelspec": {
   "display_name": "learn-env",
   "language": "python",
   "name": "learn-env"
  },
  "language_info": {
   "codemirror_mode": {
    "name": "ipython",
    "version": 3
   },
   "file_extension": ".py",
   "mimetype": "text/x-python",
   "name": "python",
   "nbconvert_exporter": "python",
   "pygments_lexer": "ipython3",
   "version": "3.8.5"
  }
 },
 "nbformat": 4,
 "nbformat_minor": 4
}
