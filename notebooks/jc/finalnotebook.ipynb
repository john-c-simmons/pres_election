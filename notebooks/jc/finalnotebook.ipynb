{
 "cells": [
  {
   "cell_type": "code",
   "execution_count": 1,
   "metadata": {},
   "outputs": [],
   "source": [
    "import pandas as pd\n",
    "import numpy as np\n",
    "import matplotlib.pyplot as plt\n",
    "from sklearn.linear_model import LogisticRegression\n",
    "from sklearn.preprocessing import StandardScaler, OneHotEncoder\n",
    "from sklearn.model_selection import train_test_split, GridSearchCV,  cross_val_score\n",
    "from sklearn.metrics import accuracy_score, f1_score, recall_score, precision_score\n",
    "from imblearn.over_sampling import SMOTE\n",
    "from sklearn.impute import SimpleImputer\n",
    "from sklearn.tree import DecisionTreeClassifier \n",
    "from sklearn.ensemble import RandomForestClassifier\n",
    "df1516 = pd.read_csv('../../data/FINAL2016.csv')\n",
    "df1920 = pd.read_csv('../../data/FINAL2020.csv')\n",
    "targets = pd.read_csv('../../data/flipped.csv')\n",
    "ca2015 = pd.read_csv('../../data/vax_df/ca_vax_df_2015.csv')\n",
    "fl2015 = pd.read_csv('../../data/vax_df/fl_vax_df_2015.csv')\n",
    "il2015 = pd.read_csv('../../data/vax_df/il_vax_df_2015.csv')\n",
    "tx2015 = pd.read_csv('../../data/vax_df/tx_vax_df_2015.csv')\n",
    "ca2018 = pd.read_csv('../../data/vax_df/ca_vax_df_2018.csv')\n",
    "fl2019 = pd.read_csv('../../data/vax_df/fl_vax_df_2019.csv')\n",
    "il2018 = pd.read_csv('../../data/vax_df/il_vax_df_2018.csv')\n",
    "tx2018 = pd.read_csv('../../data/vax_df/tx_vax_df_2018.csv')\n",
    "mi2018 = pd.read_csv('../../data/vax_df/mi_vax_df_2019.csv')\n",
    "flipped = pd.read_csv('../../data/flipped.csv')\n",
    "vax2015 = pd.concat([ca2015, fl2015, il2015, tx2015])\n",
    "vax2015['fip'] = vax2015['fips']\n",
    "vax2019 = pd.concat([ca2018, fl2019, il2018, tx2018, mi2018])\n",
    "vax2019['fip'] = vax2019['fips']\n",
    "df1516 = pd.merge(vax2015, df1516, on = 'fip')\n",
    "df1920 = pd.merge(vax2019, df1920, on = 'fip')\n"
   ]
  },
  {
   "cell_type": "code",
   "execution_count": 2,
   "metadata": {},
   "outputs": [],
   "source": [
    "df1516 = df1516.set_index('FIPS')\n",
    "y_train = df1516['target_2016']\n",
    "X_train = df1516.drop(['Unnamed: 0', 'unnamed:_0', 'target_2016', 'fip', 'in_civilian_labor_force',\n",
    "       'under_19_no_health_insurance_coverage',\n",
    "       '19_to_34_years_no_health_insurance_coverage',\n",
    "       '35_to_64_years_no_health_insurance_coverage', 'health_insurance_total',\n",
    "       '65_years_and_over_no_health_insurance_coverage',\n",
    "       'total_population_estimate', 'state_fip', 'county_fip',\n",
    "       'Total Areami²', 'fips', 'total_production,_transportation,_and_material_moving_occupations',], axis=1)\n",
    "\n",
    "df1920 = df1920.set_index('FIPS')\n",
    "y_val = df1920['target_2020']\n",
    "X_val = df1920.drop(['Unnamed: 0','unnamed:_0',  'target_2020', 'fip','in_civilian_labor_force',\n",
    "       'under_19_no_health_insurance_coverage',\n",
    "       '19_to_34_years_no_health_insurance_coverage',\n",
    "       '35_to_64_years_no_health_insurance_coverage', 'health_insurance_total',\n",
    "       '65_years_and_over_no_health_insurance_coverage',\n",
    "       'total_population_estimate', 'state_fip', 'county_fip',\n",
    "       'Total Areami²', 'total_production,_transportation,_and_material_moving_occupations', 'fips'], axis=1)\n"
   ]
  },
  {
   "cell_type": "code",
   "execution_count": 3,
   "metadata": {},
   "outputs": [],
   "source": [
    "scaler = StandardScaler()\n",
    "imputer = SimpleImputer(missing_values=np.nan, strategy='mean')\n",
    "imputer.fit(X_train)\n",
    "X_train_imputed = pd.DataFrame(imputer.transform(X_train), columns=X_train.columns, index=X_train.index)\n",
    "X_val_imputed = pd.DataFrame(imputer.transform(X_val), columns=X_val.columns)\n",
    "scaler.fit(X_train)\n",
    "X_train_scaled = pd.DataFrame(scaler.transform(X_train_imputed), columns=X_train.columns, index=X_train.index)\n",
    "X_val_scaled = pd.DataFrame(scaler.transform(X_val_imputed), columns=X_val.columns, index=X_val.index)"
   ]
  },
  {
   "cell_type": "code",
   "execution_count": 4,
   "metadata": {},
   "outputs": [
    {
     "name": "stdout",
     "output_type": "stream",
     "text": [
      "Original class distribution: \n",
      "\n",
      "1    373\n",
      "0     49\n",
      "Name: target_2016, dtype: int64\n",
      "-----------------------------------------\n",
      "Synthetic sample class distribution: \n",
      "\n",
      "1    373\n",
      "0    373\n",
      "Name: target_2016, dtype: int64\n"
     ]
    }
   ],
   "source": [
    "print('Original class distribution: \\n')\n",
    "print(y_train.value_counts())\n",
    "smote = SMOTE()\n",
    "X_train_resampled, y_train_resampled = smote.fit_sample(X_train_scaled, y_train) \n",
    "# Preview synthetic sample class distribution\n",
    "print('-----------------------------------------')\n",
    "print('Synthetic sample class distribution: \\n')\n",
    "print(pd.Series(y_train_resampled).value_counts()) "
   ]
  },
  {
   "cell_type": "code",
   "execution_count": 7,
   "metadata": {},
   "outputs": [],
   "source": [
    "logreg = LogisticRegression(random_state=2021, solver='liblinear', penalty='l2')\n",
    "dt = DecisionTreeClassifier(random_state=2021, max_depth=3)\n",
    "rfc= RandomForestClassifier(random_state=2021, max_features = 'auto', n_estimators = 700)\n",
    "\n",
    "#XGboost \n",
    "def modeling_function(model, X_train, y_train, X_val, y_val):\n",
    "    #fit model to training data\n",
    "    model.fit(X_train, y_train)    #make predictions on train and validation\n",
    "    train_preds = model.predict(X_train)\n",
    "    val_preds = model.predict(X_val)    #output metrics\n",
    "    print(model, ': Training Recall', recall_score(y_train, train_preds))\n",
    "    print('Validation Recall', recall_score(y_val, val_preds))\n",
    "    print('Training Accuracy', accuracy_score(y_train, train_preds))\n",
    "    print('Validation Accuracy', accuracy_score(y_val, val_preds))\n",
    "    print('Training Precicion', precision_score(y_train, train_preds))\n",
    "    print('Validation Precision', precision_score(y_val, val_preds))\n",
    "    print('Training F1', f1_score(y_train, train_preds))\n",
    "    print('Validation F1', f1_score(y_val, val_preds))\n",
    "    val_preds = pd.Series(model.predict(X_val))\n",
    "    val_preds.index = y_val.index\n",
    "\n",
    "    val_results = pd.DataFrame(y_val.values, columns=['true'], index=y_val.index)\n",
    "    val_results['pred'] = val_preds\n",
    "    val_results = val_results.join(df1516[['target_2016']]).dropna()\n",
    "    no_flip = val_results[~val_results.index.isin(flipped.FIPS_x)]\n",
    "    flip = val_results[val_results.index.isin(flipped.FIPS_x)]\n",
    "    flip_prediction_rate = len(flip[flip.pred != flip.target_2016])/(len(flip[flip.pred != flip.target_2016]) +len(no_flip[no_flip.pred != no_flip.target_2016]))\n",
    "    print('flip prediction rate', flip_prediction_rate)\n",
    "    return model, flip\n"
   ]
  },
  {
   "cell_type": "code",
   "execution_count": 9,
   "metadata": {},
   "outputs": [
    {
     "name": "stdout",
     "output_type": "stream",
     "text": [
      "LogisticRegression(random_state=2021, solver='liblinear') : Training Recall 0.9624664879356568\n",
      "Validation Recall 0.8130630630630631\n",
      "Training Accuracy 0.9691689008042895\n",
      "Validation Accuracy 0.8075396825396826\n",
      "Training Precicion 0.9755434782608695\n",
      "Validation Precision 0.9626666666666667\n",
      "Training F1 0.9689608636977056\n",
      "Validation F1 0.8815628815628815\n",
      "flip prediction rate 0.2222222222222222\n"
     ]
    }
   ],
   "source": [
    "model1 = modeling_function(logreg, X_train_resampled, y_train_resampled, X_val_scaled, y_val)"
   ]
  },
  {
   "cell_type": "code",
   "execution_count": 10,
   "metadata": {},
   "outputs": [
    {
     "name": "stdout",
     "output_type": "stream",
     "text": [
      "DecisionTreeClassifier(max_depth=3, random_state=2021) : Training Recall 0.839142091152815\n",
      "Validation Recall 0.9144144144144144\n",
      "Training Accuracy 0.8967828418230563\n",
      "Validation Accuracy 0.8492063492063492\n",
      "Training Precicion 0.9484848484848485\n",
      "Validation Precision 0.9144144144144144\n",
      "Training F1 0.8904694167852062\n",
      "Validation F1 0.9144144144144143\n",
      "flip prediction rate 0.037037037037037035\n"
     ]
    }
   ],
   "source": [
    "model2 = modeling_function(dt, X_train_resampled, y_train_resampled, X_val_scaled, y_val)"
   ]
  },
  {
   "cell_type": "code",
   "execution_count": 8,
   "metadata": {},
   "outputs": [
    {
     "name": "stdout",
     "output_type": "stream",
     "text": [
      "RandomForestClassifier(n_estimators=700, random_state=2021) : Training Recall 1.0\n",
      "Validation Recall 0.9887387387387387\n",
      "Training Accuracy 1.0\n",
      "Validation Accuracy 0.9543650793650794\n",
      "Training Precicion 1.0\n",
      "Validation Precision 0.9606126914660832\n",
      "Training F1 1.0\n",
      "Validation F1 0.974472807991121\n",
      "flip prediction rate 0.46153846153846156\n"
     ]
    }
   ],
   "source": [
    "model3 = modeling_function(rfc, X_train_resampled, y_train_resampled, X_val_scaled, y_val)"
   ]
  },
  {
   "cell_type": "code",
   "execution_count": 12,
   "metadata": {},
   "outputs": [
    {
     "name": "stderr",
     "output_type": "stream",
     "text": [
      "<ipython-input-12-3b0d314dfea8>:16: UserWarning: FixedFormatter should only be used together with FixedLocator\n",
      "  ax.set_xticklabels(labels);\n"
     ]
    },
    {
     "data": {
      "image/png": "[encoded data removed]",
      "text/plain": [
       "<Figure size 1080x432 with 1 Axes>"
      ]
     },
     "metadata": {
      "needs_background": "light"
     },
     "output_type": "display_data"
    }
   ],
   "source": [
    "from sklearn.inspection import permutation_importance\n",
    "results = permutation_importance(rfc, X_train_resampled, y_train_resampled, scoring='f1', random_state=2021)\n",
    "rfc_importance = sorted(list(zip(X_train_resampled.columns, results.importances.ravel())), key=lambda x: x[1])\n",
    "fig, ax = plt.subplots(figsize=(15,6))\n",
    "x = [_[0] for _ in rfc_importance]\n",
    "y = [_[1] for _ in rfc_importance]\n",
    "x = x[17:]\n",
    "y = y[17:]\n",
    "#plt.figure(figsize=(15,6))\n",
    "plt.bar(x, y, color='#2A3990')\n",
    "plt.title('RandomForest Feature Importance')\n",
    "plt.ylabel('feature importance')\n",
    "#plt.tick_params(axis=x,)\n",
    "labels = ['wholesale trade %', 'information %', 'education', 'healthcare & social assistance %', 'arts & entertainment %', 'transportation & warehousing utilities %', 'finance & real estate %', '% indigenous/first nations', '% uninsured', 'manufacturing %', '% unemployed', 'agriculture %', 'construction %']\n",
    "labels = [x.replace(' ', '\\n') for x in labels]\n",
    "ax.set_xticklabels(labels);"
   ]
  },
  {
   "cell_type": "code",
   "execution_count": 13,
   "metadata": {},
   "outputs": [
    {
     "data": {
      "text/plain": [
       "<sklearn.metrics._plot.confusion_matrix.ConfusionMatrixDisplay at 0x7f82e99acbb0>"
      ]
     },
     "execution_count": 13,
     "metadata": {},
     "output_type": "execute_result"
    },
    {
     "data": {
      "image/png": "[encoded data removed]",
      "text/plain": [
       "<Figure size 1080x432 with 2 Axes>"
      ]
     },
     "metadata": {
      "needs_background": "light"
     },
     "output_type": "display_data"
    }
   ],
   "source": [
    "from sklearn.metrics import plot_confusion_matrix\n",
    "fig, ax = plt.subplots(figsize=(15,6))\n",
    "plot_confusion_matrix(model3[0], X_val_scaled, y_val, ax=ax, cmap='bwr')"
   ]
  },
  {
   "cell_type": "code",
   "execution_count": null,
   "metadata": {},
   "outputs": [],
   "source": []
  }
 ],
 "metadata": {
  "kernelspec": {
   "display_name": "learn-env",
   "language": "python",
   "name": "learn-env"
  },
  "language_info": {
   "codemirror_mode": {
    "name": "ipython",
    "version": 3
   },
   "file_extension": ".py",
   "mimetype": "text/x-python",
   "name": "python",
   "nbconvert_exporter": "python",
   "pygments_lexer": "ipython3",
   "version": "3.8.5"
  }
 },
 "nbformat": 4,
 "nbformat_minor": 4
}
