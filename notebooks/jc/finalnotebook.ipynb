{
 "cells": [
  {
   "cell_type": "markdown",
   "metadata": {},
   "source": [
    "The data used in this model was a combination of election, census, and kindergarten vaccination data for the states of California, FLorida, Illinois, and Texas for the years of 2015/16 and 2019/20.  Creating the data frame used here required gathering each state's election, census, and vaccination data and creating a column of a uniform six-digit state-county fips either by combining columns already found and adding zeroes or attaching a list of county fips using the name of the county.  Additionally, the features used in the model are all percentages of the county's total relevant population and do not factor a county's raw population count in any way. The target variable, election outcome, is given a 0 if the county recieves more democratic votes and a 1 if the county recieves more republican votes. In this final model the entire 201"
   ]
  },
  {
   "cell_type": "code",
   "execution_count": 2,
   "metadata": {},
   "outputs": [],
   "source": [
    "import pandas as pd\n",
    "import numpy as np\n",
    "import matplotlib.pyplot as plt\n",
    "from sklearn.linear_model import LogisticRegression\n",
    "from sklearn.preprocessing import StandardScaler, OneHotEncoder\n",
    "from sklearn.model_selection import train_test_split, GridSearchCV,  cross_val_score\n",
    "from sklearn.metrics import accuracy_score, f1_score, recall_score, precision_score\n",
    "from imblearn.over_sampling import SMOTE\n",
    "from sklearn.impute import SimpleImputer\n",
    "from sklearn.tree import DecisionTreeClassifier \n",
    "from sklearn.ensemble import RandomForestClassifier\n",
    "#dataframes containing census and election data \n",
    "df1516 = pd.read_csv('../../data/FINAL2016.csv')\n",
    "df1920 = pd.read_csv('../../data/FINAL2020.csv')\n",
    "targets = pd.read_csv('../../data/flipped.csv')\n",
    "# each of the vaccination dataframes contians two columns, rate of total vaccination among kindergarteners and fips\n",
    "ca2015 = pd.read_csv('../../data/vax_df/ca_vax_df_2015.csv')\n",
    "fl2015 = pd.read_csv('../../data/vax_df/fl_vax_df_2015.csv')\n",
    "il2015 = pd.read_csv('../../data/vax_df/il_vax_df_2015.csv')\n",
    "tx2015 = pd.read_csv('../../data/vax_df/tx_vax_df_2015.csv')\n",
    "ca2018 = pd.read_csv('../../data/vax_df/ca_vax_df_2018.csv')\n",
    "fl2019 = pd.read_csv('../../data/vax_df/fl_vax_df_2019.csv')\n",
    "il2018 = pd.read_csv('../../data/vax_df/il_vax_df_2018.csv')\n",
    "tx2018 = pd.read_csv('../../data/vax_df/tx_vax_df_2018.csv')\n",
    "#dataframe of which counties had a different election outcome in 2020 than in 2016\n",
    "flipped = pd.read_csv('../../data/flipped.csv')\n",
    "\n",
    "#Merging vaccination and census/election data on fip column\n",
    "vax2015 = pd.concat([ca2015, fl2015, il2015, tx2015])\n",
    "vax2015['fip'] = vax2015['fips']\n",
    "vax2019 = pd.concat([ca2018, fl2019, il2018, tx2018])\n",
    "vax2019['fip'] = vax2019['fips']\n",
    "df1516 = pd.merge(vax2015, df1516, on = 'fip')\n",
    "df1920 = pd.merge(vax2019, df1920, on = 'fip')\n"
   ]
  },
  {
   "cell_type": "markdown",
   "metadata": {},
   "source": [
    "Dropping columns not used as features and setting fips to the index to retain use of it, using the entirity of the 2015/16 data as the training set and all the 2019/20 data as the test set. "
   ]
  },
  {
   "cell_type": "code",
   "execution_count": 3,
   "metadata": {},
   "outputs": [],
   "source": [
    "df1516 = df1516.set_index('FIPS')\n",
    "y_train = df1516['target_2016']\n",
    "X_train = df1516.drop(['Unnamed: 0', 'unnamed:_0', 'target_2016', 'fip', 'in_civilian_labor_force',\n",
    "       'under_19_no_health_insurance_coverage',\n",
    "       '19_to_34_years_no_health_insurance_coverage',\n",
    "       '35_to_64_years_no_health_insurance_coverage', 'health_insurance_total',\n",
    "       '65_years_and_over_no_health_insurance_coverage',\n",
    "       'total_population_estimate', 'state_fip', 'county_fip',\n",
    "       'Total Areami²', 'fips', 'total_production,_transportation,_and_material_moving_occupations',], axis=1)\n",
    "df1920 = df1920.set_index('FIPS')\n",
    "y_val = df1920['target_2020']\n",
    "X_val = df1920.drop(['Unnamed: 0','unnamed:_0',  'target_2020', 'fip','in_civilian_labor_force',\n",
    "       'under_19_no_health_insurance_coverage',\n",
    "       '19_to_34_years_no_health_insurance_coverage',\n",
    "       '35_to_64_years_no_health_insurance_coverage', 'health_insurance_total',\n",
    "       '65_years_and_over_no_health_insurance_coverage',\n",
    "       'total_population_estimate', 'state_fip', 'county_fip',\n",
    "       'Total Areami²', 'total_production,_transportation,_and_material_moving_occupations', 'fips'], axis=1)\n"
   ]
  },
  {
   "cell_type": "markdown",
   "metadata": {},
   "source": [
    "Imputing for three null values and using standard scaler "
   ]
  },
  {
   "cell_type": "code",
   "execution_count": null,
   "metadata": {},
   "outputs": [],
   "source": []
  },
  {
   "cell_type": "code",
   "execution_count": 4,
   "metadata": {},
   "outputs": [],
   "source": [
    "scaler = StandardScaler()\n",
    "imputer = SimpleImputer(missing_values=np.nan, strategy='mean')\n",
    "imputer.fit(X_train)\n",
    "X_train_imputed = pd.DataFrame(imputer.transform(X_train), columns=X_train.columns, index=X_train.index)\n",
    "X_val_imputed = pd.DataFrame(imputer.transform(X_val), columns=X_val.columns)\n",
    "scaler.fit(X_train)\n",
    "X_train_scaled = pd.DataFrame(scaler.transform(X_train_imputed), columns=X_train.columns, index=X_train.index)\n",
    "X_val_scaled = pd.DataFrame(scaler.transform(X_val_imputed), columns=X_val.columns, index=X_val.index)"
   ]
  },
  {
   "cell_type": "markdown",
   "metadata": {},
   "source": [
    "Using SMOTE to address class imbalance with the majority of counties going to republicans in both 2016 and 2020"
   ]
  },
  {
   "cell_type": "code",
   "execution_count": 5,
   "metadata": {},
   "outputs": [
    {
     "name": "stdout",
     "output_type": "stream",
     "text": [
      "Original class distribution: \n",
      "\n",
      "1    0.883886\n",
      "0    0.116114\n",
      "Name: target_2016, dtype: float64\n",
      "-----------------------------------------\n",
      "Resampled class distribution: \n",
      "\n",
      "1    0.5\n",
      "0    0.5\n",
      "Name: target_2016, dtype: float64\n"
     ]
    }
   ],
   "source": [
    "print('Original class distribution: \\n')\n",
    "print(y_train.value_counts(normalize=True))\n",
    "smote = SMOTE()\n",
    "X_train_resampled, y_train_resampled = smote.fit_sample(X_train_scaled, y_train) \n",
    "# Preview synthetic sample class distribution\n",
    "print('-----------------------------------------')\n",
    "print('Resampled class distribution: \\n')\n",
    "print(pd.Series(y_train_resampled).value_counts(normalize=True)) "
   ]
  },
  {
   "cell_type": "markdown",
   "metadata": {},
   "source": [
    "#the three models used on this data \n",
    "logreg = LogisticRegression(random_state=2021, solver='liblinear', penalty='l1')\n",
    "dt = DecisionTreeClassifier(random_state=2021, max_depth=3)\n",
    "rfc= RandomForestClassifier(random_state=2021, max_features = 'auto', n_estimators = 700)\n",
    "def modeling_function(model, X_train, y_train, X_val, y_val):\n",
    "    #fit model to training data\n",
    "    model.fit(X_train, y_train)    #make predictions on train and validation\n",
    "    train_preds = model.predict(X_train)\n",
    "    val_preds = model.predict(X_val)    #output metrics\n",
    "    print(model,':\\nTraining Recall', recall_score(y_train, train_preds))\n",
    "    print('Validation Recall', recall_score(y_val, val_preds))\n",
    "    print('Training Accuracy', accuracy_score(y_train, train_preds))\n",
    "    print('Validation Accuracy', accuracy_score(y_val, val_preds))\n",
    "    print('Training Precicion', precision_score(y_train, train_preds))\n",
    "    print('Validation Precision', precision_score(y_val, val_preds))\n",
    "    print('Training F1', f1_score(y_train, train_preds))\n",
    "    print('Validation F1', f1_score(y_val, val_preds))\n",
    "    \n",
    "#determining which counties flipped from 2016 to 2020 and how accurately our model predicted the counties that flipped.\n",
    "    val_preds = pd.Series(model.predict(X_val))\n",
    "    val_preds.index = y_val.index\n",
    "    val_results = pd.DataFrame(y_val.values, columns=['true'], index=y_val.index)\n",
    "    val_results['pred'] = val_preds\n",
    "    val_results = val_results.join(df1516[['target_2016']]).dropna()\n",
    "    no_flip = val_results[~val_results.index.isin(flipped.FIPS_x)]\n",
    "    flip = val_results[val_results.index.isin(flipped.FIPS_x)]\n",
    "    flip_prediction_rate = len(flip[flip.pred != flip.target_2016])/(len(flip[flip.pred != flip.target_2016]) +len(no_flip[no_flip.pred != no_flip.target_2016]))\n",
    "    print('Flip Prediction Rate', flip_prediction_rate)\n",
    "    return model, flip\n"
   ]
  },
  {
   "cell_type": "markdown",
   "metadata": {},
   "source": [
    "The baseline logreg model had a less that 1/4 chance of predicting the counties that flipped from 2016 to 2020"
   ]
  },
  {
   "cell_type": "code",
   "execution_count": 7,
   "metadata": {},
   "outputs": [
    {
     "name": "stdout",
     "output_type": "stream",
     "text": [
      "LogisticRegression(penalty='l1', random_state=2021, solver='liblinear') :\n",
      "Training Recall 0.9571045576407506\n",
      "Validation Recall 0.9731903485254692\n",
      "Training Accuracy 0.9691689008042895\n",
      "Validation Accuracy 0.9407582938388626\n",
      "Training Precicion 0.9807692307692307\n",
      "Validation Precision 0.9603174603174603\n",
      "Training F1 0.9687924016282224\n",
      "Validation F1 0.9667110519307589\n",
      "Flip Prediction Rate 0.23529411764705882\n"
     ]
    }
   ],
   "source": [
    "model1 = modeling_function(logreg, X_train_resampled, y_train_resampled, X_val_scaled, y_val)a"
   ]
  },
  {
   "cell_type": "markdown",
   "metadata": {},
   "source": [
    "A single decision tree has only a 9% chance of accurately predicting a county that flipped."
   ]
  },
  {
   "cell_type": "code",
   "execution_count": 8,
   "metadata": {},
   "outputs": [
    {
     "name": "stdout",
     "output_type": "stream",
     "text": [
      "DecisionTreeClassifier(max_depth=3, random_state=2021) :\n",
      "Training Recall 0.9249329758713136\n",
      "Validation Recall 0.9436997319034852\n",
      "Training Accuracy 0.8994638069705094\n",
      "Validation Accuracy 0.8696682464454977\n",
      "Training Precicion 0.8801020408163265\n",
      "Validation Precision 0.9119170984455959\n",
      "Training F1 0.9019607843137254\n",
      "Validation F1 0.9275362318840581\n",
      "Flip Prediction Rate 0.09803921568627451\n"
     ]
    }
   ],
   "source": [
    "model2 = modeling_function(dt, X_train_resampled, y_train_resampled, X_val_scaled, y_val)"
   ]
  },
  {
   "cell_type": "markdown",
   "metadata": {},
   "source": [
    "The third model has a 46% chance of correctly identifying when a county will flip and when it is incorrect it is always because the model was hesitant to flip a county that should be. Every county the model predicted would flip, did."
   ]
  },
  {
   "cell_type": "code",
   "execution_count": 9,
   "metadata": {},
   "outputs": [
    {
     "name": "stdout",
     "output_type": "stream",
     "text": [
      "RandomForestClassifier(n_estimators=700, random_state=2021) :\n",
      "Training Recall 1.0\n",
      "Validation Recall 0.9919571045576407\n",
      "Training Accuracy 1.0\n",
      "Validation Accuracy 0.9597156398104265\n",
      "Training Precicion 1.0\n",
      "Validation Precision 0.9635416666666666\n",
      "Training F1 1.0\n",
      "Validation F1 0.9775429326287978\n",
      "Flip Prediction Rate 0.4666666666666667\n"
     ]
    }
   ],
   "source": [
    "model3 = modeling_function(rfc, X_train_resampled, y_train_resampled, X_val_scaled, y_val)"
   ]
  },
  {
   "cell_type": "markdown",
   "metadata": {},
   "source": [
    "Graph depicting features used by Random Forest ranked by order of importance"
   ]
  },
  {
   "cell_type": "code",
   "execution_count": 10,
   "metadata": {},
   "outputs": [
    {
     "name": "stderr",
     "output_type": "stream",
     "text": [
      "<ipython-input-10-45f05e93a02d>:15: UserWarning: FixedFormatter should only be used together with FixedLocator\n",
      "  ax.set_xticklabels(labels);\n"
     ]
    },
    {
     "data": {
      "image/png": "[encoded data removed]",
      "text/plain": [
       "<Figure size 1080x432 with 1 Axes>"
      ]
     },
     "metadata": {
      "needs_background": "light"
     },
     "output_type": "display_data"
    }
   ],
   "source": [
    "from sklearn.inspection import permutation_importance\n",
    "results = permutation_importance(rfc, X_train_resampled, y_train_resampled, scoring='f1', random_state=2021)\n",
    "rfc_importance = sorted(list(zip(X_train_resampled.columns, results.importances.ravel())), key=lambda x: x[1])\n",
    "fig, ax = plt.subplots(figsize=(15,6))\n",
    "x = [_[0] for _ in rfc_importance]\n",
    "y = [_[1] for _ in rfc_importance]\n",
    "x = x[19:]\n",
    "y = y[19:]\n",
    "plt.bar(x, y, color='#2A3990')\n",
    "plt.title('RandomForest Feature Importance')\n",
    "plt.ylabel('feature importance')\n",
    "#plt.tick_params(axis=x,)\n",
    "labels = ['wholesale trade %', 'retail trade %', 'transportation & warehousing utilities %','information %','finance & real estate %','manufacturing %','uninsured%', 'agriculture %', '% unemployed','construction %']\n",
    "labels = [x.replace(' ', '\\n') for x in labels]\n",
    "ax.set_xticklabels(labels);\n"
   ]
  },
  {
   "cell_type": "markdown",
   "metadata": {},
   "source": [
    "Confusion Matrix of what how many counties our model predicted. "
   ]
  },
  {
   "cell_type": "code",
   "execution_count": 17,
   "metadata": {},
   "outputs": [
    {
     "data": {
      "text/plain": [
       "<sklearn.metrics._plot.confusion_matrix.ConfusionMatrixDisplay at 0x7fbad12c3e80>"
      ]
     },
     "execution_count": 17,
     "metadata": {},
     "output_type": "execute_result"
    },
    {
     "data": {
      "image/png": "[encoded data removed]",
      "text/plain": [
       "<Figure size 1080x432 with 2 Axes>"
      ]
     },
     "metadata": {
      "needs_background": "light"
     },
     "output_type": "display_data"
    }
   ],
   "source": [
    "from sklearn.metrics import plot_confusion_matrix\n",
    "fig, ax = plt.subplots(figsize=(15,6))\n",
    "plot_confusion_matrix(model3[0], X_val_scaled, y_val, ax=ax, cmap='rainbow', normalize=None)"
   ]
  },
  {
   "cell_type": "code",
   "execution_count": null,
   "metadata": {},
   "outputs": [],
   "source": []
  }
 ],
 "metadata": {
  "kernelspec": {
   "display_name": "learn-env",
   "language": "python",
   "name": "learn-env"
  },
  "language_info": {
   "codemirror_mode": {
    "name": "ipython",
    "version": 3
   },
   "file_extension": ".py",
   "mimetype": "text/x-python",
   "name": "python",
   "nbconvert_exporter": "python",
   "pygments_lexer": "ipython3",
   "version": "3.8.5"
  }
 },
 "nbformat": 4,
 "nbformat_minor": 4
}
