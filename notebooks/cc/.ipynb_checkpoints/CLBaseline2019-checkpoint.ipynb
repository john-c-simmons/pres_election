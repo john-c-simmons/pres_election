{
 "cells": [
  {
   "cell_type": "code",
   "execution_count": 1,
   "metadata": {},
   "outputs": [],
   "source": [
    "import pandas as pd\n",
    "import numpy as np\n",
    "from sklearn.model_selection import train_test_split, GridSearchCV, cross_val_score\n",
    "from sklearn.linear_model import LogisticRegression\n",
    "from sklearn.preprocessing import StandardScaler\n",
    "from sklearn.impute import SimpleImputer\n",
    "from sklearn.tree import DecisionTreeClassifier\n",
    "from sklearn.ensemble import RandomForestClassifier\n",
    "from sklearn.metrics import accuracy_score, recall_score, precision_score, f1_score\n",
    "from sklearn.pipeline import Pipeline, make_pipeline\n",
    "from sklearn.compose import make_column_selector, make_column_transformer\n",
    "from sklearn.metrics import plot_confusion_matrix\n",
    "import seaborn as sns\n",
    "import matplotlib.pyplot as plt"
   ]
  },
  {
   "cell_type": "code",
   "execution_count": 2,
   "metadata": {},
   "outputs": [],
   "source": [
    "df =pd.read_csv('../../data/df2015_16.csv')"
   ]
  },
  {
   "cell_type": "code",
   "execution_count": 3,
   "metadata": {
    "scrolled": true
   },
   "outputs": [
    {
     "data": {
      "text/html": [
       "<div>\n",
       "<style scoped>\n",
       "    .dataframe tbody tr th:only-of-type {\n",
       "        vertical-align: middle;\n",
       "    }\n",
       "\n",
       "    .dataframe tbody tr th {\n",
       "        vertical-align: top;\n",
       "    }\n",
       "\n",
       "    .dataframe thead th {\n",
       "        text-align: right;\n",
       "    }\n",
       "</style>\n",
       "<table border=\"1\" class=\"dataframe\">\n",
       "  <thead>\n",
       "    <tr style=\"text-align: right;\">\n",
       "      <th></th>\n",
       "      <th>fips</th>\n",
       "      <th>vax_percentage</th>\n",
       "      <th>total_agriculture</th>\n",
       "      <th>total_construction</th>\n",
       "      <th>total_manufacturing</th>\n",
       "      <th>total_wholesale_trade</th>\n",
       "      <th>total_retail_trade</th>\n",
       "      <th>transportation_warehousing_utilities</th>\n",
       "      <th>total_information</th>\n",
       "      <th>total_finance_and_real_estate</th>\n",
       "      <th>...</th>\n",
       "      <th>total_votes</th>\n",
       "      <th>target</th>\n",
       "      <th>state</th>\n",
       "      <th>county_[2]</th>\n",
       "      <th>population(2010)</th>\n",
       "      <th>land_areami²</th>\n",
       "      <th>water_areami²</th>\n",
       "      <th>total_areami²</th>\n",
       "      <th>latitude</th>\n",
       "      <th>longitude</th>\n",
       "    </tr>\n",
       "  </thead>\n",
       "  <tbody>\n",
       "    <tr>\n",
       "      <th>0</th>\n",
       "      <td>6001</td>\n",
       "      <td>0.962155</td>\n",
       "      <td>3308</td>\n",
       "      <td>39861</td>\n",
       "      <td>80961</td>\n",
       "      <td>20969</td>\n",
       "      <td>75187</td>\n",
       "      <td>39042</td>\n",
       "      <td>24187</td>\n",
       "      <td>47611</td>\n",
       "      <td>...</td>\n",
       "      <td>610764.0</td>\n",
       "      <td>0</td>\n",
       "      <td>CA</td>\n",
       "      <td>Alameda</td>\n",
       "      <td>1510271</td>\n",
       "      <td>739.017</td>\n",
       "      <td>82.311</td>\n",
       "      <td>821.328</td>\n",
       "      <td>37.64808</td>\n",
       "      <td>-121.91330</td>\n",
       "    </tr>\n",
       "    <tr>\n",
       "      <th>1</th>\n",
       "      <td>6005</td>\n",
       "      <td>0.870878</td>\n",
       "      <td>195</td>\n",
       "      <td>820</td>\n",
       "      <td>568</td>\n",
       "      <td>165</td>\n",
       "      <td>1884</td>\n",
       "      <td>525</td>\n",
       "      <td>188</td>\n",
       "      <td>523</td>\n",
       "      <td>...</td>\n",
       "      <td>16489.0</td>\n",
       "      <td>1</td>\n",
       "      <td>CA</td>\n",
       "      <td>Amador</td>\n",
       "      <td>38091</td>\n",
       "      <td>594.583</td>\n",
       "      <td>11.373</td>\n",
       "      <td>605.956</td>\n",
       "      <td>38.44355</td>\n",
       "      <td>-120.65385</td>\n",
       "    </tr>\n",
       "    <tr>\n",
       "      <th>2</th>\n",
       "      <td>6007</td>\n",
       "      <td>0.902701</td>\n",
       "      <td>3249</td>\n",
       "      <td>4682</td>\n",
       "      <td>5355</td>\n",
       "      <td>1625</td>\n",
       "      <td>12125</td>\n",
       "      <td>2596</td>\n",
       "      <td>1620</td>\n",
       "      <td>4508</td>\n",
       "      <td>...</td>\n",
       "      <td>86711.0</td>\n",
       "      <td>1</td>\n",
       "      <td>CA</td>\n",
       "      <td>Butte</td>\n",
       "      <td>220000</td>\n",
       "      <td>1636.464</td>\n",
       "      <td>40.667</td>\n",
       "      <td>1677.131</td>\n",
       "      <td>39.66595</td>\n",
       "      <td>-121.60191</td>\n",
       "    </tr>\n",
       "    <tr>\n",
       "      <th>3</th>\n",
       "      <td>6009</td>\n",
       "      <td>0.884900</td>\n",
       "      <td>496</td>\n",
       "      <td>1662</td>\n",
       "      <td>1326</td>\n",
       "      <td>373</td>\n",
       "      <td>1819</td>\n",
       "      <td>922</td>\n",
       "      <td>201</td>\n",
       "      <td>661</td>\n",
       "      <td>...</td>\n",
       "      <td>21455.0</td>\n",
       "      <td>1</td>\n",
       "      <td>CA</td>\n",
       "      <td>Calaveras</td>\n",
       "      <td>45578</td>\n",
       "      <td>1020.012</td>\n",
       "      <td>16.915</td>\n",
       "      <td>1036.927</td>\n",
       "      <td>38.18784</td>\n",
       "      <td>-120.55511</td>\n",
       "    </tr>\n",
       "    <tr>\n",
       "      <th>4</th>\n",
       "      <td>6011</td>\n",
       "      <td>0.997456</td>\n",
       "      <td>2425</td>\n",
       "      <td>356</td>\n",
       "      <td>958</td>\n",
       "      <td>164</td>\n",
       "      <td>620</td>\n",
       "      <td>463</td>\n",
       "      <td>45</td>\n",
       "      <td>375</td>\n",
       "      <td>...</td>\n",
       "      <td>6212.0</td>\n",
       "      <td>1</td>\n",
       "      <td>CA</td>\n",
       "      <td>Colusa</td>\n",
       "      <td>21419</td>\n",
       "      <td>1150.731</td>\n",
       "      <td>5.630</td>\n",
       "      <td>1156.361</td>\n",
       "      <td>39.17773</td>\n",
       "      <td>-122.23756</td>\n",
       "    </tr>\n",
       "  </tbody>\n",
       "</table>\n",
       "<p>5 rows × 68 columns</p>\n",
       "</div>"
      ],
      "text/plain": [
       "   fips  vax_percentage  total_agriculture  total_construction  \\\n",
       "0  6001        0.962155               3308               39861   \n",
       "1  6005        0.870878                195                 820   \n",
       "2  6007        0.902701               3249                4682   \n",
       "3  6009        0.884900                496                1662   \n",
       "4  6011        0.997456               2425                 356   \n",
       "\n",
       "   total_manufacturing  total_wholesale_trade  total_retail_trade  \\\n",
       "0                80961                  20969               75187   \n",
       "1                  568                    165                1884   \n",
       "2                 5355                   1625               12125   \n",
       "3                 1326                    373                1819   \n",
       "4                  958                    164                 620   \n",
       "\n",
       "   transportation_warehousing_utilities  total_information  \\\n",
       "0                                 39042              24187   \n",
       "1                                   525                188   \n",
       "2                                  2596               1620   \n",
       "3                                   922                201   \n",
       "4                                   463                 45   \n",
       "\n",
       "   total_finance_and_real_estate  ...  total_votes  target  state  county_[2]  \\\n",
       "0                          47611  ...     610764.0       0     CA     Alameda   \n",
       "1                            523  ...      16489.0       1     CA      Amador   \n",
       "2                           4508  ...      86711.0       1     CA       Butte   \n",
       "3                            661  ...      21455.0       1     CA   Calaveras   \n",
       "4                            375  ...       6212.0       1     CA      Colusa   \n",
       "\n",
       "   population(2010)  land_areami²  water_areami²  total_areami²  latitude  \\\n",
       "0           1510271       739.017         82.311        821.328  37.64808   \n",
       "1             38091       594.583         11.373        605.956  38.44355   \n",
       "2            220000      1636.464         40.667       1677.131  39.66595   \n",
       "3             45578      1020.012         16.915       1036.927  38.18784   \n",
       "4             21419      1150.731          5.630       1156.361  39.17773   \n",
       "\n",
       "   longitude  \n",
       "0 -121.91330  \n",
       "1 -120.65385  \n",
       "2 -121.60191  \n",
       "3 -120.55511  \n",
       "4 -122.23756  \n",
       "\n",
       "[5 rows x 68 columns]"
      ]
     },
     "execution_count": 3,
     "metadata": {},
     "output_type": "execute_result"
    }
   ],
   "source": [
    "df.columns = df.columns.str.lower()\n",
    "df.columns = df.columns.str.replace(' ', \"_\")\n",
    "df.head()"
   ]
  },
  {
   "cell_type": "code",
   "execution_count": 4,
   "metadata": {},
   "outputs": [
    {
     "data": {
      "text/plain": [
       "Index(['fips', 'vax_percentage', 'total_agriculture', 'total_construction',\n",
       "       'total_manufacturing', 'total_wholesale_trade', 'total_retail_trade',\n",
       "       'transportation_warehousing_utilities', 'total_information',\n",
       "       'total_finance_and_real_estate',\n",
       "       'total_scientific_administrative_and_waste_management_services',\n",
       "       'total_educational_healthcare_and_social_assistance',\n",
       "       'total_arts_and_entertainment', 'total_other_services',\n",
       "       'total_public_administration',\n",
       "       'total_management_business_science_and_arts_occupations',\n",
       "       'total_service_occupations', 'total_sales_and_office_occupations',\n",
       "       'total_natural_resources_and_maintenance_occupations',\n",
       "       'total_production,_transportation,_and_material_moving_occupations',\n",
       "       'population_of_one_race_total', 'white', 'black_or_african_american',\n",
       "       'american_indian_and_alaska_native', 'asian_alone',\n",
       "       'native_hawaiian_and_other_pacific_islander',\n",
       "       'population_of_one_race_some_other_race', 'median_age:_total',\n",
       "       'ed_total', 'ed_no_schooling_completed', 'ed_nursery_school',\n",
       "       'ed_kindergarten', 'ed_1st_grade', 'ed_2nd_grade', 'ed_3rd_grade',\n",
       "       'ed_4th_grade', 'ed_5th_grade', 'ed_6th_grade', 'ed_7th_grade',\n",
       "       'ed_8th_grade', 'ed_9th_grade', 'e_10th_grade', 'ed_11th_grade',\n",
       "       'ed_12th_grade_no_diploma', 'median_income',\n",
       "       'unemployed_pop_16_years_and_over', 'in_civilian_labor_force',\n",
       "       'under_19_no_health_insurance_coverage',\n",
       "       '19_to_34_years_no_health_insurance_coverage',\n",
       "       '35_to_64_years_no_health_insurance_coverage', 'health_insurance_total',\n",
       "       '65_years_and_over_no_health_insurance_coverage',\n",
       "       'total_population_estimate', 'year', 'office', 'state', 'dem_votes',\n",
       "       'rep_votes', 'total_votes', 'target', 'state', 'county_[2]',\n",
       "       'population(2010)', 'land_areami²', 'water_areami²', 'total_areami²',\n",
       "       'latitude', 'longitude'],\n",
       "      dtype='object')"
      ]
     },
     "execution_count": 4,
     "metadata": {},
     "output_type": "execute_result"
    }
   ],
   "source": [
    "df.columns"
   ]
  },
  {
   "cell_type": "code",
   "execution_count": 5,
   "metadata": {},
   "outputs": [
    {
     "data": {
      "text/plain": [
       "ed_no_schooling_completed    25753\n",
       "ed_nursery_school              148\n",
       "ed_kindergarten                253\n",
       "ed_1st_grade                   768\n",
       "ed_2nd_grade                  1936\n",
       "ed_3rd_grade                  4217\n",
       "ed_4th_grade                  3130\n",
       "ed_5th_grade                  4937\n",
       "ed_6th_grade                 21621\n",
       "ed_7th_grade                  4847\n",
       "ed_8th_grade                 10795\n",
       "ed_9th_grade                 14180\n",
       "e_10th_grade                 12027\n",
       "ed_11th_grade                14729\n",
       "ed_12th_grade_no_diploma     23248\n",
       "Name: 0, dtype: object"
      ]
     },
     "execution_count": 5,
     "metadata": {},
     "output_type": "execute_result"
    }
   ],
   "source": [
    "df.iloc[0, 29:44]"
   ]
  },
  {
   "cell_type": "code",
   "execution_count": 6,
   "metadata": {},
   "outputs": [],
   "source": [
    "row_sums = []\n",
    "for row in df.index:\n",
    "    row_sums.append(df.iloc[row, 29:44].sum())"
   ]
  },
  {
   "cell_type": "code",
   "execution_count": 7,
   "metadata": {},
   "outputs": [],
   "source": [
    "df['sums'] = row_sums"
   ]
  },
  {
   "cell_type": "code",
   "execution_count": 8,
   "metadata": {},
   "outputs": [],
   "source": [
    "df['percent_no_hs'] = df['sums']/df['ed_total']"
   ]
  },
  {
   "cell_type": "code",
   "execution_count": 9,
   "metadata": {},
   "outputs": [
    {
     "data": {
      "text/html": [
       "<div>\n",
       "<style scoped>\n",
       "    .dataframe tbody tr th:only-of-type {\n",
       "        vertical-align: middle;\n",
       "    }\n",
       "\n",
       "    .dataframe tbody tr th {\n",
       "        vertical-align: top;\n",
       "    }\n",
       "\n",
       "    .dataframe thead th {\n",
       "        text-align: right;\n",
       "    }\n",
       "</style>\n",
       "<table border=\"1\" class=\"dataframe\">\n",
       "  <thead>\n",
       "    <tr style=\"text-align: right;\">\n",
       "      <th></th>\n",
       "      <th>fips</th>\n",
       "      <th>vax_percentage</th>\n",
       "      <th>total_agriculture</th>\n",
       "      <th>total_construction</th>\n",
       "      <th>total_manufacturing</th>\n",
       "      <th>total_wholesale_trade</th>\n",
       "      <th>total_retail_trade</th>\n",
       "      <th>transportation_warehousing_utilities</th>\n",
       "      <th>total_information</th>\n",
       "      <th>total_finance_and_real_estate</th>\n",
       "      <th>...</th>\n",
       "      <th>state</th>\n",
       "      <th>county_[2]</th>\n",
       "      <th>population(2010)</th>\n",
       "      <th>land_areami²</th>\n",
       "      <th>water_areami²</th>\n",
       "      <th>total_areami²</th>\n",
       "      <th>latitude</th>\n",
       "      <th>longitude</th>\n",
       "      <th>sums</th>\n",
       "      <th>percent_no_hs</th>\n",
       "    </tr>\n",
       "  </thead>\n",
       "  <tbody>\n",
       "    <tr>\n",
       "      <th>0</th>\n",
       "      <td>6001</td>\n",
       "      <td>0.962155</td>\n",
       "      <td>3308</td>\n",
       "      <td>39861</td>\n",
       "      <td>80961</td>\n",
       "      <td>20969</td>\n",
       "      <td>75187</td>\n",
       "      <td>39042</td>\n",
       "      <td>24187</td>\n",
       "      <td>47611</td>\n",
       "      <td>...</td>\n",
       "      <td>CA</td>\n",
       "      <td>Alameda</td>\n",
       "      <td>1510271</td>\n",
       "      <td>739.017</td>\n",
       "      <td>82.311</td>\n",
       "      <td>821.328</td>\n",
       "      <td>37.64808</td>\n",
       "      <td>-121.91330</td>\n",
       "      <td>142589</td>\n",
       "      <td>0.130553</td>\n",
       "    </tr>\n",
       "    <tr>\n",
       "      <th>1</th>\n",
       "      <td>6005</td>\n",
       "      <td>0.870878</td>\n",
       "      <td>195</td>\n",
       "      <td>820</td>\n",
       "      <td>568</td>\n",
       "      <td>165</td>\n",
       "      <td>1884</td>\n",
       "      <td>525</td>\n",
       "      <td>188</td>\n",
       "      <td>523</td>\n",
       "      <td>...</td>\n",
       "      <td>CA</td>\n",
       "      <td>Amador</td>\n",
       "      <td>38091</td>\n",
       "      <td>594.583</td>\n",
       "      <td>11.373</td>\n",
       "      <td>605.956</td>\n",
       "      <td>38.44355</td>\n",
       "      <td>-120.65385</td>\n",
       "      <td>3337</td>\n",
       "      <td>0.116369</td>\n",
       "    </tr>\n",
       "    <tr>\n",
       "      <th>2</th>\n",
       "      <td>6007</td>\n",
       "      <td>0.902701</td>\n",
       "      <td>3249</td>\n",
       "      <td>4682</td>\n",
       "      <td>5355</td>\n",
       "      <td>1625</td>\n",
       "      <td>12125</td>\n",
       "      <td>2596</td>\n",
       "      <td>1620</td>\n",
       "      <td>4508</td>\n",
       "      <td>...</td>\n",
       "      <td>CA</td>\n",
       "      <td>Butte</td>\n",
       "      <td>220000</td>\n",
       "      <td>1636.464</td>\n",
       "      <td>40.667</td>\n",
       "      <td>1677.131</td>\n",
       "      <td>39.66595</td>\n",
       "      <td>-121.60191</td>\n",
       "      <td>17192</td>\n",
       "      <td>0.120145</td>\n",
       "    </tr>\n",
       "    <tr>\n",
       "      <th>3</th>\n",
       "      <td>6009</td>\n",
       "      <td>0.884900</td>\n",
       "      <td>496</td>\n",
       "      <td>1662</td>\n",
       "      <td>1326</td>\n",
       "      <td>373</td>\n",
       "      <td>1819</td>\n",
       "      <td>922</td>\n",
       "      <td>201</td>\n",
       "      <td>661</td>\n",
       "      <td>...</td>\n",
       "      <td>CA</td>\n",
       "      <td>Calaveras</td>\n",
       "      <td>45578</td>\n",
       "      <td>1020.012</td>\n",
       "      <td>16.915</td>\n",
       "      <td>1036.927</td>\n",
       "      <td>38.18784</td>\n",
       "      <td>-120.55511</td>\n",
       "      <td>2812</td>\n",
       "      <td>0.083569</td>\n",
       "    </tr>\n",
       "    <tr>\n",
       "      <th>4</th>\n",
       "      <td>6011</td>\n",
       "      <td>0.997456</td>\n",
       "      <td>2425</td>\n",
       "      <td>356</td>\n",
       "      <td>958</td>\n",
       "      <td>164</td>\n",
       "      <td>620</td>\n",
       "      <td>463</td>\n",
       "      <td>45</td>\n",
       "      <td>375</td>\n",
       "      <td>...</td>\n",
       "      <td>CA</td>\n",
       "      <td>Colusa</td>\n",
       "      <td>21419</td>\n",
       "      <td>1150.731</td>\n",
       "      <td>5.630</td>\n",
       "      <td>1156.361</td>\n",
       "      <td>39.17773</td>\n",
       "      <td>-122.23756</td>\n",
       "      <td>4231</td>\n",
       "      <td>0.318216</td>\n",
       "    </tr>\n",
       "  </tbody>\n",
       "</table>\n",
       "<p>5 rows × 70 columns</p>\n",
       "</div>"
      ],
      "text/plain": [
       "   fips  vax_percentage  total_agriculture  total_construction  \\\n",
       "0  6001        0.962155               3308               39861   \n",
       "1  6005        0.870878                195                 820   \n",
       "2  6007        0.902701               3249                4682   \n",
       "3  6009        0.884900                496                1662   \n",
       "4  6011        0.997456               2425                 356   \n",
       "\n",
       "   total_manufacturing  total_wholesale_trade  total_retail_trade  \\\n",
       "0                80961                  20969               75187   \n",
       "1                  568                    165                1884   \n",
       "2                 5355                   1625               12125   \n",
       "3                 1326                    373                1819   \n",
       "4                  958                    164                 620   \n",
       "\n",
       "   transportation_warehousing_utilities  total_information  \\\n",
       "0                                 39042              24187   \n",
       "1                                   525                188   \n",
       "2                                  2596               1620   \n",
       "3                                   922                201   \n",
       "4                                   463                 45   \n",
       "\n",
       "   total_finance_and_real_estate  ...  state  county_[2]  population(2010)  \\\n",
       "0                          47611  ...     CA     Alameda           1510271   \n",
       "1                            523  ...     CA      Amador             38091   \n",
       "2                           4508  ...     CA       Butte            220000   \n",
       "3                            661  ...     CA   Calaveras             45578   \n",
       "4                            375  ...     CA      Colusa             21419   \n",
       "\n",
       "   land_areami²  water_areami²  total_areami²  latitude  longitude    sums  \\\n",
       "0       739.017         82.311        821.328  37.64808 -121.91330  142589   \n",
       "1       594.583         11.373        605.956  38.44355 -120.65385    3337   \n",
       "2      1636.464         40.667       1677.131  39.66595 -121.60191   17192   \n",
       "3      1020.012         16.915       1036.927  38.18784 -120.55511    2812   \n",
       "4      1150.731          5.630       1156.361  39.17773 -122.23756    4231   \n",
       "\n",
       "   percent_no_hs  \n",
       "0       0.130553  \n",
       "1       0.116369  \n",
       "2       0.120145  \n",
       "3       0.083569  \n",
       "4       0.318216  \n",
       "\n",
       "[5 rows x 70 columns]"
      ]
     },
     "execution_count": 9,
     "metadata": {},
     "output_type": "execute_result"
    }
   ],
   "source": [
    "df.head()"
   ]
  },
  {
   "cell_type": "code",
   "execution_count": 10,
   "metadata": {},
   "outputs": [
    {
     "data": {
      "text/plain": [
       "0      0.130553\n",
       "1      0.116369\n",
       "2      0.120145\n",
       "3      0.083569\n",
       "4      0.318216\n",
       "         ...   \n",
       "474    0.192152\n",
       "475    0.163808\n",
       "476    0.212963\n",
       "477    0.141601\n",
       "478    0.467203\n",
       "Name: percent_no_hs, Length: 479, dtype: float64"
      ]
     },
     "execution_count": 10,
     "metadata": {},
     "output_type": "execute_result"
    }
   ],
   "source": [
    "df['percent_no_hs']"
   ]
  },
  {
   "cell_type": "code",
   "execution_count": 11,
   "metadata": {
    "scrolled": true
   },
   "outputs": [
    {
     "data": {
      "text/html": [
       "<div>\n",
       "<style scoped>\n",
       "    .dataframe tbody tr th:only-of-type {\n",
       "        vertical-align: middle;\n",
       "    }\n",
       "\n",
       "    .dataframe tbody tr th {\n",
       "        vertical-align: top;\n",
       "    }\n",
       "\n",
       "    .dataframe thead th {\n",
       "        text-align: right;\n",
       "    }\n",
       "</style>\n",
       "<table border=\"1\" class=\"dataframe\">\n",
       "  <thead>\n",
       "    <tr style=\"text-align: right;\">\n",
       "      <th></th>\n",
       "      <th>fips</th>\n",
       "      <th>vax_percentage</th>\n",
       "      <th>total_agriculture</th>\n",
       "      <th>total_construction</th>\n",
       "      <th>total_manufacturing</th>\n",
       "      <th>total_wholesale_trade</th>\n",
       "      <th>total_retail_trade</th>\n",
       "      <th>transportation_warehousing_utilities</th>\n",
       "      <th>total_information</th>\n",
       "      <th>total_finance_and_real_estate</th>\n",
       "      <th>...</th>\n",
       "      <th>state</th>\n",
       "      <th>county_[2]</th>\n",
       "      <th>population(2010)</th>\n",
       "      <th>land_areami²</th>\n",
       "      <th>water_areami²</th>\n",
       "      <th>total_areami²</th>\n",
       "      <th>latitude</th>\n",
       "      <th>longitude</th>\n",
       "      <th>sums</th>\n",
       "      <th>percent_no_hs</th>\n",
       "    </tr>\n",
       "  </thead>\n",
       "  <tbody>\n",
       "    <tr>\n",
       "      <th>0</th>\n",
       "      <td>6001</td>\n",
       "      <td>0.962155</td>\n",
       "      <td>3308</td>\n",
       "      <td>39861</td>\n",
       "      <td>80961</td>\n",
       "      <td>20969</td>\n",
       "      <td>75187</td>\n",
       "      <td>39042</td>\n",
       "      <td>24187</td>\n",
       "      <td>47611</td>\n",
       "      <td>...</td>\n",
       "      <td>CA</td>\n",
       "      <td>Alameda</td>\n",
       "      <td>1510271</td>\n",
       "      <td>739.017</td>\n",
       "      <td>82.311</td>\n",
       "      <td>821.328</td>\n",
       "      <td>37.64808</td>\n",
       "      <td>-121.91330</td>\n",
       "      <td>142589</td>\n",
       "      <td>0.130553</td>\n",
       "    </tr>\n",
       "    <tr>\n",
       "      <th>1</th>\n",
       "      <td>6005</td>\n",
       "      <td>0.870878</td>\n",
       "      <td>195</td>\n",
       "      <td>820</td>\n",
       "      <td>568</td>\n",
       "      <td>165</td>\n",
       "      <td>1884</td>\n",
       "      <td>525</td>\n",
       "      <td>188</td>\n",
       "      <td>523</td>\n",
       "      <td>...</td>\n",
       "      <td>CA</td>\n",
       "      <td>Amador</td>\n",
       "      <td>38091</td>\n",
       "      <td>594.583</td>\n",
       "      <td>11.373</td>\n",
       "      <td>605.956</td>\n",
       "      <td>38.44355</td>\n",
       "      <td>-120.65385</td>\n",
       "      <td>3337</td>\n",
       "      <td>0.116369</td>\n",
       "    </tr>\n",
       "    <tr>\n",
       "      <th>2</th>\n",
       "      <td>6007</td>\n",
       "      <td>0.902701</td>\n",
       "      <td>3249</td>\n",
       "      <td>4682</td>\n",
       "      <td>5355</td>\n",
       "      <td>1625</td>\n",
       "      <td>12125</td>\n",
       "      <td>2596</td>\n",
       "      <td>1620</td>\n",
       "      <td>4508</td>\n",
       "      <td>...</td>\n",
       "      <td>CA</td>\n",
       "      <td>Butte</td>\n",
       "      <td>220000</td>\n",
       "      <td>1636.464</td>\n",
       "      <td>40.667</td>\n",
       "      <td>1677.131</td>\n",
       "      <td>39.66595</td>\n",
       "      <td>-121.60191</td>\n",
       "      <td>17192</td>\n",
       "      <td>0.120145</td>\n",
       "    </tr>\n",
       "    <tr>\n",
       "      <th>3</th>\n",
       "      <td>6009</td>\n",
       "      <td>0.884900</td>\n",
       "      <td>496</td>\n",
       "      <td>1662</td>\n",
       "      <td>1326</td>\n",
       "      <td>373</td>\n",
       "      <td>1819</td>\n",
       "      <td>922</td>\n",
       "      <td>201</td>\n",
       "      <td>661</td>\n",
       "      <td>...</td>\n",
       "      <td>CA</td>\n",
       "      <td>Calaveras</td>\n",
       "      <td>45578</td>\n",
       "      <td>1020.012</td>\n",
       "      <td>16.915</td>\n",
       "      <td>1036.927</td>\n",
       "      <td>38.18784</td>\n",
       "      <td>-120.55511</td>\n",
       "      <td>2812</td>\n",
       "      <td>0.083569</td>\n",
       "    </tr>\n",
       "    <tr>\n",
       "      <th>4</th>\n",
       "      <td>6011</td>\n",
       "      <td>0.997456</td>\n",
       "      <td>2425</td>\n",
       "      <td>356</td>\n",
       "      <td>958</td>\n",
       "      <td>164</td>\n",
       "      <td>620</td>\n",
       "      <td>463</td>\n",
       "      <td>45</td>\n",
       "      <td>375</td>\n",
       "      <td>...</td>\n",
       "      <td>CA</td>\n",
       "      <td>Colusa</td>\n",
       "      <td>21419</td>\n",
       "      <td>1150.731</td>\n",
       "      <td>5.630</td>\n",
       "      <td>1156.361</td>\n",
       "      <td>39.17773</td>\n",
       "      <td>-122.23756</td>\n",
       "      <td>4231</td>\n",
       "      <td>0.318216</td>\n",
       "    </tr>\n",
       "  </tbody>\n",
       "</table>\n",
       "<p>5 rows × 70 columns</p>\n",
       "</div>"
      ],
      "text/plain": [
       "   fips  vax_percentage  total_agriculture  total_construction  \\\n",
       "0  6001        0.962155               3308               39861   \n",
       "1  6005        0.870878                195                 820   \n",
       "2  6007        0.902701               3249                4682   \n",
       "3  6009        0.884900                496                1662   \n",
       "4  6011        0.997456               2425                 356   \n",
       "\n",
       "   total_manufacturing  total_wholesale_trade  total_retail_trade  \\\n",
       "0                80961                  20969               75187   \n",
       "1                  568                    165                1884   \n",
       "2                 5355                   1625               12125   \n",
       "3                 1326                    373                1819   \n",
       "4                  958                    164                 620   \n",
       "\n",
       "   transportation_warehousing_utilities  total_information  \\\n",
       "0                                 39042              24187   \n",
       "1                                   525                188   \n",
       "2                                  2596               1620   \n",
       "3                                   922                201   \n",
       "4                                   463                 45   \n",
       "\n",
       "   total_finance_and_real_estate  ...  state  county_[2]  population(2010)  \\\n",
       "0                          47611  ...     CA     Alameda           1510271   \n",
       "1                            523  ...     CA      Amador             38091   \n",
       "2                           4508  ...     CA       Butte            220000   \n",
       "3                            661  ...     CA   Calaveras             45578   \n",
       "4                            375  ...     CA      Colusa             21419   \n",
       "\n",
       "   land_areami²  water_areami²  total_areami²  latitude  longitude    sums  \\\n",
       "0       739.017         82.311        821.328  37.64808 -121.91330  142589   \n",
       "1       594.583         11.373        605.956  38.44355 -120.65385    3337   \n",
       "2      1636.464         40.667       1677.131  39.66595 -121.60191   17192   \n",
       "3      1020.012         16.915       1036.927  38.18784 -120.55511    2812   \n",
       "4      1150.731          5.630       1156.361  39.17773 -122.23756    4231   \n",
       "\n",
       "   percent_no_hs  \n",
       "0       0.130553  \n",
       "1       0.116369  \n",
       "2       0.120145  \n",
       "3       0.083569  \n",
       "4       0.318216  \n",
       "\n",
       "[5 rows x 70 columns]"
      ]
     },
     "execution_count": 11,
     "metadata": {},
     "output_type": "execute_result"
    }
   ],
   "source": [
    "df.head()\n"
   ]
  },
  {
   "cell_type": "code",
   "execution_count": 12,
   "metadata": {},
   "outputs": [
    {
     "data": {
      "text/plain": [
       "142589"
      ]
     },
     "execution_count": 12,
     "metadata": {},
     "output_type": "execute_result"
    }
   ],
   "source": [
    " 25753+148+253+768+1936+4217+3130+4937+21621+4847+10795+14180+12027+14729+23248"
   ]
  },
  {
   "cell_type": "code",
   "execution_count": 13,
   "metadata": {
    "scrolled": true
   },
   "outputs": [
    {
     "data": {
      "text/plain": [
       "[6001,\n",
       " 0.9621547064881564,\n",
       " 3308,\n",
       " 39861,\n",
       " 80961,\n",
       " 20969,\n",
       " 75187,\n",
       " 39042,\n",
       " 24187,\n",
       " 47611,\n",
       " 133336,\n",
       " 174656,\n",
       " 70809,\n",
       " 40358,\n",
       " 27847,\n",
       " 362591,\n",
       " 126123,\n",
       " 167052,\n",
       " 50316,\n",
       " 72050,\n",
       " 1487408,\n",
       " 708558,\n",
       " 184883,\n",
       " 9813,\n",
       " 439055,\n",
       " 13760,\n",
       " 131339,\n",
       " 37.1,\n",
       " 1092189,\n",
       " 25753,\n",
       " 148,\n",
       " 253,\n",
       " 768,\n",
       " 1936,\n",
       " 4217,\n",
       " 3130,\n",
       " 4937,\n",
       " 21621,\n",
       " 4847,\n",
       " 10795,\n",
       " 14180,\n",
       " 12027,\n",
       " 14729,\n",
       " 23248,\n",
       " 34052.0,\n",
       " 70100,\n",
       " 848232,\n",
       " 13753,\n",
       " 68307,\n",
       " 73763,\n",
       " 1573351,\n",
       " 2911,\n",
       " 1584983,\n",
       " 2016,\n",
       " 'PRESIDENT',\n",
       " 'CA',\n",
       " 514842.0,\n",
       " 95922.0,\n",
       " 610764.0,\n",
       " 0,\n",
       " 'CA',\n",
       " 'Alameda',\n",
       " 1510271,\n",
       " 739.0169999999998,\n",
       " 82.311,\n",
       " 821.328,\n",
       " 37.64808,\n",
       " -121.9133,\n",
       " 142589,\n",
       " 0.13055341154324024]"
      ]
     },
     "execution_count": 13,
     "metadata": {},
     "output_type": "execute_result"
    }
   ],
   "source": [
    "df.iloc[0,:].to_list()"
   ]
  },
  {
   "cell_type": "code",
   "execution_count": 14,
   "metadata": {},
   "outputs": [
    {
     "data": {
      "text/plain": [
       "Index(['fips', 'vax_percentage', 'total_agriculture', 'total_construction',\n",
       "       'total_manufacturing', 'total_wholesale_trade', 'total_retail_trade',\n",
       "       'transportation_warehousing_utilities', 'total_information',\n",
       "       'total_finance_and_real_estate',\n",
       "       'total_scientific_administrative_and_waste_management_services',\n",
       "       'total_educational_healthcare_and_social_assistance',\n",
       "       'total_arts_and_entertainment', 'total_other_services',\n",
       "       'total_public_administration',\n",
       "       'total_management_business_science_and_arts_occupations',\n",
       "       'total_service_occupations', 'total_sales_and_office_occupations',\n",
       "       'total_natural_resources_and_maintenance_occupations',\n",
       "       'total_production,_transportation,_and_material_moving_occupations',\n",
       "       'population_of_one_race_total', 'white', 'black_or_african_american',\n",
       "       'american_indian_and_alaska_native', 'asian_alone',\n",
       "       'native_hawaiian_and_other_pacific_islander',\n",
       "       'population_of_one_race_some_other_race', 'median_age:_total',\n",
       "       'ed_total', 'ed_no_schooling_completed', 'ed_nursery_school',\n",
       "       'ed_kindergarten', 'ed_1st_grade', 'ed_2nd_grade', 'ed_3rd_grade',\n",
       "       'ed_4th_grade', 'ed_5th_grade', 'ed_6th_grade', 'ed_7th_grade',\n",
       "       'ed_8th_grade', 'ed_9th_grade', 'e_10th_grade', 'ed_11th_grade',\n",
       "       'ed_12th_grade_no_diploma', 'median_income',\n",
       "       'unemployed_pop_16_years_and_over', 'in_civilian_labor_force',\n",
       "       'under_19_no_health_insurance_coverage',\n",
       "       '19_to_34_years_no_health_insurance_coverage',\n",
       "       '35_to_64_years_no_health_insurance_coverage', 'health_insurance_total',\n",
       "       '65_years_and_over_no_health_insurance_coverage',\n",
       "       'total_population_estimate', 'year', 'office', 'state', 'dem_votes',\n",
       "       'rep_votes', 'total_votes', 'target', 'state', 'county_[2]',\n",
       "       'population(2010)', 'land_areami²', 'water_areami²', 'total_areami²',\n",
       "       'latitude', 'longitude', 'sums', 'percent_no_hs'],\n",
       "      dtype='object')"
      ]
     },
     "execution_count": 14,
     "metadata": {},
     "output_type": "execute_result"
    }
   ],
   "source": [
    "df.columns"
   ]
  },
  {
   "cell_type": "code",
   "execution_count": 15,
   "metadata": {},
   "outputs": [],
   "source": [
    "#df = df.drop(['ed_total', 'ed_no_schooling_completed', 'ed_nursery_school','ed_kindergarten', 'ed_1st_grade', 'ed_2nd_grade', 'ed_3rd_grade','ed_4th_grade', 'ed_5th_grade', \n",
    "#'ed_6th_grade', 'ed_7th_grade','ed_8th_grade', 'ed_9th_grade', 'e_10th_grade', 'ed_11th_grade',\n",
    "#'ed_12th_grade_no_diploma', 'sums', 'fips'], axis=1)"
   ]
  },
  {
   "cell_type": "code",
   "execution_count": 16,
   "metadata": {},
   "outputs": [],
   "source": [
    "#df = df.drop(['office','state','dem_votes','rep_votes', 'year','latitude','longitude'], axis=1)"
   ]
  },
  {
   "cell_type": "code",
   "execution_count": 17,
   "metadata": {},
   "outputs": [
    {
     "ename": "SyntaxError",
     "evalue": "EOL while scanning string literal (<ipython-input-17-405ba9e03b3b>, line 1)",
     "output_type": "error",
     "traceback": [
      "\u001b[0;36m  File \u001b[0;32m\"<ipython-input-17-405ba9e03b3b>\"\u001b[0;36m, line \u001b[0;32m1\u001b[0m\n\u001b[0;31m    'ed_nursery_school,\u001b[0m\n\u001b[0m                        ^\u001b[0m\n\u001b[0;31mSyntaxError\u001b[0m\u001b[0;31m:\u001b[0m EOL while scanning string literal\n"
     ]
    }
   ],
   "source": [
    "'ed_nursery_school, \n",
    "'ed_kindergarten,\n",
    "'ed_1st_grade, \n",
    "'ed_2nd_grade,\n",
    "'ed_3rd_grade,\n",
    "'ed_4th_grade, \n",
    "'ed_5th_grade,\n",
    "'ed_6th_grade, \n",
    "'ed_7th_grade,\n",
    "'ed_8th_grade, \n",
    "'ed_9th_grade,  \n",
    "'e_10th_grade, \n",
    "'ed_11th_grade, \n",
    "'ed_12th_grade_no_diploma, "
   ]
  },
  {
   "cell_type": "code",
   "execution_count": 18,
   "metadata": {},
   "outputs": [],
   "source": [
    "df['unemp_rate'] = df['unemployed_pop_16_years_and_over']/df['in_civilian_labor_force']"
   ]
  },
  {
   "cell_type": "code",
   "execution_count": null,
   "metadata": {},
   "outputs": [],
   "source": []
  },
  {
   "cell_type": "code",
   "execution_count": 19,
   "metadata": {},
   "outputs": [],
   "source": [
    "insurance_sums = []\n",
    "for row in df.index:\n",
    "    insurance_sums.append(df.iloc[row, 47:51].sum())"
   ]
  },
  {
   "cell_type": "code",
   "execution_count": 20,
   "metadata": {},
   "outputs": [],
   "source": [
    "df['insurance_sums'] = insurance_sums"
   ]
  },
  {
   "cell_type": "code",
   "execution_count": 21,
   "metadata": {},
   "outputs": [],
   "source": [
    "df['uninsured_rate'] = df['insurance_sums']/df['health_insurance_total']"
   ]
  },
  {
   "cell_type": "code",
   "execution_count": 22,
   "metadata": {},
   "outputs": [
    {
     "ename": "SyntaxError",
     "evalue": "invalid syntax (<ipython-input-22-0199ba716a2f>, line 1)",
     "output_type": "error",
     "traceback": [
      "\u001b[0;36m  File \u001b[0;32m\"<ipython-input-22-0199ba716a2f>\"\u001b[0;36m, line \u001b[0;32m1\u001b[0m\n\u001b[0;31m    population_of_one_race_total', 'white', 'black_or_african_american',\u001b[0m\n\u001b[0m                                ^\u001b[0m\n\u001b[0;31mSyntaxError\u001b[0m\u001b[0;31m:\u001b[0m invalid syntax\n"
     ]
    }
   ],
   "source": [
    "population_of_one_race_total', 'white', 'black_or_african_american',\n",
    "       'american_indian_and_alaska_native', 'asian_alone',\n",
    "       'native_hawaiian_and_other_pacific_islander',"
   ]
  },
  {
   "cell_type": "code",
   "execution_count": 23,
   "metadata": {},
   "outputs": [],
   "source": [
    "df['percent_white'] = df['white']/df['population_of_one_race_total']"
   ]
  },
  {
   "cell_type": "code",
   "execution_count": 24,
   "metadata": {},
   "outputs": [],
   "source": [
    "df['percent_black'] = df['black_or_african_american']/df['population_of_one_race_total']"
   ]
  },
  {
   "cell_type": "code",
   "execution_count": 25,
   "metadata": {},
   "outputs": [],
   "source": [
    "df['percent_american_indian_and_alaska_native'] = df['american_indian_and_alaska_native']/df['population_of_one_race_total']"
   ]
  },
  {
   "cell_type": "code",
   "execution_count": 26,
   "metadata": {},
   "outputs": [],
   "source": [
    "df['percent_pacific_islander'] = df['native_hawaiian_and_other_pacific_islander']/df['population_of_one_race_total']"
   ]
  },
  {
   "cell_type": "code",
   "execution_count": 27,
   "metadata": {},
   "outputs": [
    {
     "data": {
      "text/plain": [
       "Index(['fips', 'vax_percentage', 'total_agriculture', 'total_construction',\n",
       "       'total_manufacturing', 'total_wholesale_trade', 'total_retail_trade',\n",
       "       'transportation_warehousing_utilities', 'total_information',\n",
       "       'total_finance_and_real_estate',\n",
       "       'total_scientific_administrative_and_waste_management_services',\n",
       "       'total_educational_healthcare_and_social_assistance',\n",
       "       'total_arts_and_entertainment', 'total_other_services',\n",
       "       'total_public_administration',\n",
       "       'total_management_business_science_and_arts_occupations',\n",
       "       'total_service_occupations', 'total_sales_and_office_occupations',\n",
       "       'total_natural_resources_and_maintenance_occupations',\n",
       "       'total_production,_transportation,_and_material_moving_occupations',\n",
       "       'population_of_one_race_total', 'white', 'black_or_african_american',\n",
       "       'american_indian_and_alaska_native', 'asian_alone',\n",
       "       'native_hawaiian_and_other_pacific_islander',\n",
       "       'population_of_one_race_some_other_race', 'median_age:_total',\n",
       "       'ed_total', 'ed_no_schooling_completed', 'ed_nursery_school',\n",
       "       'ed_kindergarten', 'ed_1st_grade', 'ed_2nd_grade', 'ed_3rd_grade',\n",
       "       'ed_4th_grade', 'ed_5th_grade', 'ed_6th_grade', 'ed_7th_grade',\n",
       "       'ed_8th_grade', 'ed_9th_grade', 'e_10th_grade', 'ed_11th_grade',\n",
       "       'ed_12th_grade_no_diploma', 'median_income',\n",
       "       'unemployed_pop_16_years_and_over', 'in_civilian_labor_force',\n",
       "       'under_19_no_health_insurance_coverage',\n",
       "       '19_to_34_years_no_health_insurance_coverage',\n",
       "       '35_to_64_years_no_health_insurance_coverage', 'health_insurance_total',\n",
       "       '65_years_and_over_no_health_insurance_coverage',\n",
       "       'total_population_estimate', 'year', 'office', 'state', 'dem_votes',\n",
       "       'rep_votes', 'total_votes', 'target', 'state', 'county_[2]',\n",
       "       'population(2010)', 'land_areami²', 'water_areami²', 'total_areami²',\n",
       "       'latitude', 'longitude', 'sums', 'percent_no_hs', 'unemp_rate',\n",
       "       'insurance_sums', 'uninsured_rate', 'percent_white', 'percent_black',\n",
       "       'percent_american_indian_and_alaska_native',\n",
       "       'percent_pacific_islander'],\n",
       "      dtype='object')"
      ]
     },
     "execution_count": 27,
     "metadata": {},
     "output_type": "execute_result"
    }
   ],
   "source": [
    "df.columns"
   ]
  },
  {
   "cell_type": "code",
   "execution_count": 28,
   "metadata": {},
   "outputs": [],
   "source": [
    "df = df.drop(['unemployed_pop_16_years_and_over','in_civilian_labor_force','ed_total', 'ed_no_schooling_completed', 'ed_nursery_school','ed_kindergarten', 'ed_1st_grade', \n",
    "'ed_2nd_grade', 'ed_3rd_grade','ed_4th_grade', 'ed_5th_grade'],axis=1)\n"
   ]
  },
  {
   "cell_type": "code",
   "execution_count": 32,
   "metadata": {},
   "outputs": [],
   "source": [
    "df = df.drop(['ed_6th_grade', 'ed_7th_grade','ed_8th_grade', 'ed_9th_grade', 'e_10th_grade', 'ed_11th_grade'],axis=1)"
   ]
  },
  {
   "cell_type": "code",
   "execution_count": 34,
   "metadata": {},
   "outputs": [
    {
     "data": {
      "text/plain": [
       "Index(['fips', 'vax_percentage', 'total_agriculture', 'total_construction',\n",
       "       'total_manufacturing', 'total_wholesale_trade', 'total_retail_trade',\n",
       "       'transportation_warehousing_utilities', 'total_information',\n",
       "       'total_finance_and_real_estate',\n",
       "       'total_scientific_administrative_and_waste_management_services',\n",
       "       'total_educational_healthcare_and_social_assistance',\n",
       "       'total_arts_and_entertainment', 'total_other_services',\n",
       "       'total_public_administration',\n",
       "       'total_management_business_science_and_arts_occupations',\n",
       "       'total_service_occupations', 'total_sales_and_office_occupations',\n",
       "       'total_natural_resources_and_maintenance_occupations',\n",
       "       'total_production,_transportation,_and_material_moving_occupations',\n",
       "       'population_of_one_race_total', 'white', 'black_or_african_american',\n",
       "       'american_indian_and_alaska_native', 'asian_alone',\n",
       "       'native_hawaiian_and_other_pacific_islander',\n",
       "       'population_of_one_race_some_other_race', 'median_age:_total',\n",
       "       'ed_12th_grade_no_diploma', 'median_income',\n",
       "       'under_19_no_health_insurance_coverage',\n",
       "       '19_to_34_years_no_health_insurance_coverage',\n",
       "       '35_to_64_years_no_health_insurance_coverage', 'health_insurance_total',\n",
       "       '65_years_and_over_no_health_insurance_coverage',\n",
       "       'total_population_estimate', 'year', 'office', 'state', 'dem_votes',\n",
       "       'rep_votes', 'total_votes', 'target', 'state', 'county_[2]',\n",
       "       'population(2010)', 'land_areami²', 'water_areami²', 'total_areami²',\n",
       "       'latitude', 'longitude', 'sums', 'percent_no_hs', 'unemp_rate',\n",
       "       'insurance_sums', 'uninsured_rate', 'percent_white', 'percent_black',\n",
       "       'percent_american_indian_and_alaska_native',\n",
       "       'percent_pacific_islander'],\n",
       "      dtype='object')"
      ]
     },
     "execution_count": 34,
     "metadata": {},
     "output_type": "execute_result"
    }
   ],
   "source": [
    "df.columns"
   ]
  },
  {
   "cell_type": "code",
   "execution_count": 36,
   "metadata": {},
   "outputs": [],
   "source": [
    "df = df.drop(['year','latitude','longitude','population_of_one_race_total', 'white', 'black_or_african_american',\n",
    "'american_indian_and_alaska_native', 'asian_alone','native_hawaiian_and_other_pacific_islander',\n",
    "'population_of_one_race_some_other_race'], axis=1)"
   ]
  },
  {
   "cell_type": "code",
   "execution_count": 37,
   "metadata": {},
   "outputs": [
    {
     "data": {
      "text/plain": [
       "Index(['fips', 'vax_percentage', 'total_agriculture', 'total_construction',\n",
       "       'total_manufacturing', 'total_wholesale_trade', 'total_retail_trade',\n",
       "       'transportation_warehousing_utilities', 'total_information',\n",
       "       'total_finance_and_real_estate',\n",
       "       'total_scientific_administrative_and_waste_management_services',\n",
       "       'total_educational_healthcare_and_social_assistance',\n",
       "       'total_arts_and_entertainment', 'total_other_services',\n",
       "       'total_public_administration',\n",
       "       'total_management_business_science_and_arts_occupations',\n",
       "       'total_service_occupations', 'total_sales_and_office_occupations',\n",
       "       'total_natural_resources_and_maintenance_occupations',\n",
       "       'total_production,_transportation,_and_material_moving_occupations',\n",
       "       'median_age:_total', 'ed_12th_grade_no_diploma', 'median_income',\n",
       "       'under_19_no_health_insurance_coverage',\n",
       "       '19_to_34_years_no_health_insurance_coverage',\n",
       "       '35_to_64_years_no_health_insurance_coverage', 'health_insurance_total',\n",
       "       '65_years_and_over_no_health_insurance_coverage',\n",
       "       'total_population_estimate', 'office', 'state', 'dem_votes',\n",
       "       'rep_votes', 'total_votes', 'target', 'state', 'county_[2]',\n",
       "       'population(2010)', 'land_areami²', 'water_areami²', 'total_areami²',\n",
       "       'sums', 'percent_no_hs', 'unemp_rate', 'insurance_sums',\n",
       "       'uninsured_rate', 'percent_white', 'percent_black',\n",
       "       'percent_american_indian_and_alaska_native',\n",
       "       'percent_pacific_islander'],\n",
       "      dtype='object')"
      ]
     },
     "execution_count": 37,
     "metadata": {},
     "output_type": "execute_result"
    }
   ],
   "source": [
    "df.columns"
   ]
  },
  {
   "cell_type": "code",
   "execution_count": 39,
   "metadata": {},
   "outputs": [],
   "source": [
    "df = df.drop(['fips'], axis=1)"
   ]
  },
  {
   "cell_type": "code",
   "execution_count": 40,
   "metadata": {},
   "outputs": [],
   "source": [
    "df = df.drop(['ed_12th_grade_no_diploma','sums'], axis=1)"
   ]
  },
  {
   "cell_type": "code",
   "execution_count": 43,
   "metadata": {},
   "outputs": [],
   "source": [
    "df =df.drop(['insurance_sums','office','state'],axis=1)"
   ]
  },
  {
   "cell_type": "code",
   "execution_count": 44,
   "metadata": {},
   "outputs": [
    {
     "data": {
      "text/plain": [
       "Index(['vax_percentage', 'total_agriculture', 'total_construction',\n",
       "       'total_manufacturing', 'total_wholesale_trade', 'total_retail_trade',\n",
       "       'transportation_warehousing_utilities', 'total_information',\n",
       "       'total_finance_and_real_estate',\n",
       "       'total_scientific_administrative_and_waste_management_services',\n",
       "       'total_educational_healthcare_and_social_assistance',\n",
       "       'total_arts_and_entertainment', 'total_other_services',\n",
       "       'total_public_administration',\n",
       "       'total_management_business_science_and_arts_occupations',\n",
       "       'total_service_occupations', 'total_sales_and_office_occupations',\n",
       "       'total_natural_resources_and_maintenance_occupations',\n",
       "       'total_production,_transportation,_and_material_moving_occupations',\n",
       "       'median_age:_total', 'median_income',\n",
       "       'under_19_no_health_insurance_coverage',\n",
       "       '19_to_34_years_no_health_insurance_coverage',\n",
       "       '35_to_64_years_no_health_insurance_coverage', 'health_insurance_total',\n",
       "       '65_years_and_over_no_health_insurance_coverage',\n",
       "       'total_population_estimate', 'dem_votes', 'rep_votes', 'total_votes',\n",
       "       'target', 'county_[2]', 'population(2010)', 'land_areami²',\n",
       "       'water_areami²', 'total_areami²', 'percent_no_hs', 'unemp_rate',\n",
       "       'uninsured_rate', 'percent_white', 'percent_black',\n",
       "       'percent_american_indian_and_alaska_native',\n",
       "       'percent_pacific_islander'],\n",
       "      dtype='object')"
      ]
     },
     "execution_count": 44,
     "metadata": {},
     "output_type": "execute_result"
    }
   ],
   "source": [
    "df.columns"
   ]
  },
  {
   "cell_type": "code",
   "execution_count": 46,
   "metadata": {},
   "outputs": [],
   "source": [
    "df.to_csv('../../data/df1516features.csv')"
   ]
  },
  {
   "cell_type": "code",
   "execution_count": 45,
   "metadata": {},
   "outputs": [
    {
     "data": {
      "text/plain": [
       "0      0\n",
       "1      1\n",
       "2      1\n",
       "3      1\n",
       "4      1\n",
       "      ..\n",
       "474    1\n",
       "475    1\n",
       "476    1\n",
       "477    1\n",
       "478    0\n",
       "Name: target, Length: 479, dtype: int64"
      ]
     },
     "execution_count": 45,
     "metadata": {},
     "output_type": "execute_result"
    }
   ],
   "source": [
    "df.target"
   ]
  },
  {
   "cell_type": "code",
   "execution_count": null,
   "metadata": {},
   "outputs": [],
   "source": [
    "dfnum.corr()"
   ]
  },
  {
   "cell_type": "code",
   "execution_count": null,
   "metadata": {},
   "outputs": [],
   "source": [
    "sns.heatmap(dfnum.corr())"
   ]
  },
  {
   "cell_type": "code",
   "execution_count": null,
   "metadata": {},
   "outputs": [],
   "source": [
    "# Increase the size of the heatmap.\n",
    "plt.figure(figsize=(16, 6))\n",
    "# Store heatmap object in a variable to easily access it when you want to include more features (such as title).\n",
    "# Set the range of values to be displayed on the colormap from -1 to 1, and set the annotation to True to display the correlation values on the heatmap.\n",
    "heatmap = sns.heatmap(dfbest.corr(), vmin=-1, vmax=1, annot=True)\n",
    "# Give a title to the heatmap. Pad defines the distance of the title from the top of the heatmap.\n",
    "heatmap.set_title('Correlation Heatmap', fontdict={'fontsize':12}, pad=12);"
   ]
  },
  {
   "cell_type": "code",
   "execution_count": null,
   "metadata": {},
   "outputs": [],
   "source": [
    "feature_list = df.columns"
   ]
  },
  {
   "cell_type": "code",
   "execution_count": null,
   "metadata": {},
   "outputs": [],
   "source": [
    "df.columns"
   ]
  },
  {
   "cell_type": "code",
   "execution_count": null,
   "metadata": {},
   "outputs": [],
   "source": [
    "dfbest= df[['vax_percentage', 'total_agriculture', 'total_construction',\n",
    "       'total_manufacturing',\n",
    "       'total_service_occupations', 'total_sales_and_office_occupations',\n",
    "       'total_natural_resources_and_maintenance_occupations',\n",
    "       'total_production,_transportation,_and_material_moving_occupations',\n",
    "       'population_of_one_race_total','median_income',\n",
    "       'unemployed_pop_16_years_and_over', 'in_civilian_labor_force',\n",
    "       'under_19_no_health_insurance_coverage',\n",
    "       '19_to_34_years_no_health_insurance_coverage',\n",
    "       '35_to_64_years_no_health_insurance_coverage', 'health_insurance_total',\n",
    "       '65_years_and_over_no_health_insurance_coverage',\n",
    "       'total_population_estimate',\n",
    "     'total_votes', 'target',\n",
    "       'population(2010)', 'land_areami²', 'water_areami²', 'total_areami²',\n",
    "       'latitude', 'longitude' ]]"
   ]
  },
  {
   "cell_type": "code",
   "execution_count": null,
   "metadata": {},
   "outputs": [],
   "source": [
    "# Increase the size of the heatmap.\n",
    "plt.figure(figsize=(16, 6))\n",
    "# Store heatmap object in a variable to easily access it when you want to include more features (such as title).\n",
    "# Set the range of values to be displayed on the colormap from -1 to 1, and set the annotation to True to display the correlation values on the heatmap.\n",
    "heatmap = sns.heatmap(dfbest.corr(), vmin=-1, vmax=1, annot=True)\n",
    "# Give a title to the heatmap. Pad defines the distance of the title from the top of the heatmap.\n",
    "heatmap.set_title('Correlation Heatmap', fontdict={'fontsize':12}, pad=12);"
   ]
  },
  {
   "cell_type": "code",
   "execution_count": null,
   "metadata": {},
   "outputs": [],
   "source": [
    "dfnum = df.select_dtypes(exclude=['object'])"
   ]
  },
  {
   "cell_type": "code",
   "execution_count": null,
   "metadata": {},
   "outputs": [],
   "source": [
    "#'ed_nursery_school','ed_kindergarten','ed_1st_grade','ed_2nd_grade','ed_3rd_grade','ed_4th_grade','ed_5th_grade'        "
   ]
  },
  {
   "cell_type": "code",
   "execution_count": null,
   "metadata": {},
   "outputs": [],
   "source": [
    "X = dfnum.drop('target', axis=1)\n",
    "y = df['target']"
   ]
  },
  {
   "cell_type": "code",
   "execution_count": null,
   "metadata": {},
   "outputs": [],
   "source": [
    "#first train-test-split\n",
    "X_t, X_test, y_t, y_test = train_test_split(X,y, random_state=42)"
   ]
  },
  {
   "cell_type": "code",
   "execution_count": null,
   "metadata": {},
   "outputs": [],
   "source": [
    "#second train-test-split for cross val\n",
    "X_train, X_val, y_train, y_val = train_test_split(X_t,y_t, random_state=42)"
   ]
  },
  {
   "cell_type": "code",
   "execution_count": null,
   "metadata": {},
   "outputs": [],
   "source": [
    "#Handling missing data using \n",
    "imputer = SimpleImputer()"
   ]
  },
  {
   "cell_type": "code",
   "execution_count": null,
   "metadata": {},
   "outputs": [],
   "source": [
    "#fitting on training data\n",
    "imputer.fit(X_train)\n",
    "#transform training and validation data\n",
    "X_train_imputed = imputer.transform(X_train)\n",
    "X_val_imputed = imputer.transform(X_val)"
   ]
  },
  {
   "cell_type": "code",
   "execution_count": null,
   "metadata": {},
   "outputs": [],
   "source": [
    "#turned imputed data into dataframes\n",
    "X_train_imputed_df = pd.DataFrame(X_train_imputed, columns=X_train.columns)\n",
    "X_val_imputed_df = pd.DataFrame(X_val_imputed, columns=X_val.columns)"
   ]
  },
  {
   "cell_type": "code",
   "execution_count": null,
   "metadata": {},
   "outputs": [],
   "source": [
    "#scaling data\n",
    "scaler = StandardScaler()"
   ]
  },
  {
   "cell_type": "code",
   "execution_count": null,
   "metadata": {},
   "outputs": [],
   "source": [
    "scaler.fit(X_train_imputed_df)"
   ]
  },
  {
   "cell_type": "code",
   "execution_count": null,
   "metadata": {},
   "outputs": [],
   "source": [
    "#transform train and validation data \n",
    "X_train_scaled = scaler.transform(X_train_imputed_df)\n",
    "X_val_scaled = scaler.transform(X_val_imputed_df)"
   ]
  },
  {
   "cell_type": "code",
   "execution_count": null,
   "metadata": {},
   "outputs": [],
   "source": [
    "#create dataframes of scaled train and val data\n",
    "X_train_scaled_df = pd.DataFrame(X_train_scaled, columns=X_train.columns)\n",
    "X_val_scaled_df = pd.DataFrame(X_val_scaled, columns=X_val.columns)"
   ]
  },
  {
   "cell_type": "code",
   "execution_count": null,
   "metadata": {},
   "outputs": [],
   "source": [
    "#sanity check\n",
    "X_train_scaled_df.head()"
   ]
  },
  {
   "cell_type": "code",
   "execution_count": null,
   "metadata": {},
   "outputs": [],
   "source": [
    "#sanity check again\n",
    "X_val_scaled_df.head()"
   ]
  },
  {
   "cell_type": "code",
   "execution_count": null,
   "metadata": {},
   "outputs": [],
   "source": [
    "#create a function to build the various models needed in the remainder of this notebook\n",
    "\n",
    "def modeling_function(model, X_train, y_train, X_val, y_val):\n",
    "    #fit model to training data\n",
    "    model.fit(X_train_scaled_df, y_train)\n",
    "    \n",
    "    #make predictions on train and validation\n",
    "    train_preds = model.predict(X_train_scaled_df)\n",
    "    val_preds = model.predict(X_val_scaled_df)\n",
    "    \n",
    "    #output metrics\n",
    "    print(model, ': Training Recall', recall_score(y_train, train_preds))\n",
    "    print(model, ': Validation Recall', recall_score(y_val, val_preds))\n",
    "    print('Training Accuracy', accuracy_score(y_train, train_preds))\n",
    "    print('Validation Accuracy', accuracy_score(y_val, val_preds))\n",
    "    print('Training Precicion', precision_score(y_train, train_preds))\n",
    "    print('Validation Precision', precision_score(y_val, val_preds))\n",
    "    print('Training F1', f1_score(y_train, train_preds))\n",
    "    print('Validation F1', f1_score(y_val, val_preds))\n",
    "    \n",
    "    #return fitted model\n",
    "    return model"
   ]
  },
  {
   "cell_type": "code",
   "execution_count": null,
   "metadata": {},
   "outputs": [],
   "source": [
    "#instantiate log reg\n",
    "logreg = LogisticRegression(solver ='liblinear')"
   ]
  },
  {
   "cell_type": "code",
   "execution_count": null,
   "metadata": {},
   "outputs": [],
   "source": [
    "#run logreg through function to fit and model\n",
    "logreg_fitted = modeling_function(logreg, X_train_scaled_df, y_train, X_val_scaled_df, y_val)"
   ]
  },
  {
   "cell_type": "code",
   "execution_count": null,
   "metadata": {},
   "outputs": [],
   "source": [
    "logreg_coefs = pd.DataFrame(np.abs(logreg.coef_.T), columns=['coefficient'], index=X_train_scaled_df.columns)\n",
    "logreg_coefs.sort_values(by='coefficient')"
   ]
  },
  {
   "cell_type": "code",
   "execution_count": null,
   "metadata": {},
   "outputs": [],
   "source": [
    "plot_confusion_matrix(logreg_fitted, X_train_scaled_df, y_train)"
   ]
  },
  {
   "cell_type": "code",
   "execution_count": null,
   "metadata": {},
   "outputs": [],
   "source": [
    "plot_confusion_matrix(logreg_fitted, X_val_scaled_df, y_val)"
   ]
  },
  {
   "cell_type": "code",
   "execution_count": null,
   "metadata": {},
   "outputs": [],
   "source": [
    "logreg2 = LogisticRegression(solver='liblinear', penalty='l1', C=.5)"
   ]
  },
  {
   "cell_type": "code",
   "execution_count": null,
   "metadata": {},
   "outputs": [],
   "source": [
    "logreg2_fitted = modeling_function(logreg2, X_train_scaled_df, y_train, X_val_scaled_df, y_val)"
   ]
  },
  {
   "cell_type": "code",
   "execution_count": null,
   "metadata": {},
   "outputs": [],
   "source": [
    "logreg2_coefs = pd.DataFrame(np.abs(logreg2.coef_.T), columns=['coefficient'], index=X_train_scaled_df.columns)\n",
    "logreg2_coefs.sort_values(by='coefficient')"
   ]
  },
  {
   "cell_type": "code",
   "execution_count": null,
   "metadata": {},
   "outputs": [],
   "source": [
    "dtc = DecisionTreeClassifier(max_depth=5, max_leaf_nodes=2)"
   ]
  },
  {
   "cell_type": "code",
   "execution_count": null,
   "metadata": {},
   "outputs": [],
   "source": [
    "from sklearn.ensemble import RandomForestClassifier\n",
    "rfc = RandomForestClassifier()"
   ]
  },
  {
   "cell_type": "code",
   "execution_count": null,
   "metadata": {},
   "outputs": [],
   "source": [
    "rfc_fitted = modeling_function(rfc, X_train_scaled_df, y_train, X_val_scaled_df, y_val)"
   ]
  },
  {
   "cell_type": "code",
   "execution_count": null,
   "metadata": {},
   "outputs": [],
   "source": [
    "dtc_fitted = modeling_function(dtc, X_train_scaled_df, y_train, X_val_scaled_df, y_val)"
   ]
  },
  {
   "cell_type": "code",
   "execution_count": null,
   "metadata": {},
   "outputs": [],
   "source": [
    "plot_confusion_matrix(dtc_fitted, X_train_scaled_df, y_train)"
   ]
  },
  {
   "cell_type": "code",
   "execution_count": null,
   "metadata": {},
   "outputs": [],
   "source": [
    "plot_confusion_matrix(dtc_fitted, X_val_scaled_df, y_val)"
   ]
  },
  {
   "cell_type": "code",
   "execution_count": null,
   "metadata": {},
   "outputs": [],
   "source": [
    "#create param_grid dictionary\n",
    "param_grid = {'criterion': ['gini','entropy'],\n",
    "                'max_leaf_nodes': [2,3,4,5,6,7,8,9,10,11,12,13,14],\n",
    "                'max_depth': [2,3,4,5,6,7,8,9,10]}"
   ]
  },
  {
   "cell_type": "code",
   "execution_count": null,
   "metadata": {},
   "outputs": [],
   "source": [
    "dtc_gs = GridSearchCV(estimator=dtc, param_grid=param_grid, scoring='recall')"
   ]
  },
  {
   "cell_type": "code",
   "execution_count": null,
   "metadata": {},
   "outputs": [],
   "source": [
    "dtc_gs.fit(X_train_scaled_df, y_train)"
   ]
  },
  {
   "cell_type": "code",
   "execution_count": null,
   "metadata": {},
   "outputs": [],
   "source": [
    "best_model = dtc_gs.best_estimator_\n",
    "best_model"
   ]
  },
  {
   "cell_type": "code",
   "execution_count": null,
   "metadata": {},
   "outputs": [],
   "source": [
    "X_test_imputed = imputer.transform(X_test)"
   ]
  },
  {
   "cell_type": "code",
   "execution_count": null,
   "metadata": {},
   "outputs": [],
   "source": [
    "X_test_scaled = scaler.transform(X_test_imputed)"
   ]
  },
  {
   "cell_type": "code",
   "execution_count": null,
   "metadata": {},
   "outputs": [],
   "source": [
    "from sklearn.neighbors import KNeighborsClassifier"
   ]
  },
  {
   "cell_type": "code",
   "execution_count": null,
   "metadata": {},
   "outputs": [],
   "source": [
    "knn = KNeighborsClassifier()"
   ]
  },
  {
   "cell_type": "code",
   "execution_count": null,
   "metadata": {},
   "outputs": [],
   "source": [
    "fitted_knn = modeling_function(knn, X_train_scaled_df, y_train, X_val_scaled_df, y_val)"
   ]
  },
  {
   "cell_type": "code",
   "execution_count": null,
   "metadata": {},
   "outputs": [],
   "source": [
    "from sklearn.model_selection import cross_val_score"
   ]
  },
  {
   "cell_type": "code",
   "execution_count": null,
   "metadata": {},
   "outputs": [],
   "source": [
    "scaled_pipeline_1 = Pipeline([('si', SimpleImputer()),\n",
    "                              ('ss', StandardScaler()), \n",
    "                              ('knn', KNeighborsClassifier())])"
   ]
  },
  {
   "cell_type": "code",
   "execution_count": null,
   "metadata": {},
   "outputs": [],
   "source": [
    "scaled_pipeline_1.fit(X_train, y_train)"
   ]
  },
  {
   "cell_type": "code",
   "execution_count": null,
   "metadata": {},
   "outputs": [],
   "source": [
    "scaled_pipeline_1.score(X_val, y_val)"
   ]
  },
  {
   "cell_type": "code",
   "execution_count": null,
   "metadata": {},
   "outputs": [],
   "source": [
    "scaled_pipeline_1.score(X_test, y_test)"
   ]
  },
  {
   "cell_type": "code",
   "execution_count": null,
   "metadata": {},
   "outputs": [],
   "source": [
    "scaled_pipeline_2 = Pipeline([('si', SimpleImputer()),\n",
    "                              ('ss', StandardScaler()), \n",
    "                              ('logreg', LogisticRegression())])"
   ]
  },
  {
   "cell_type": "code",
   "execution_count": null,
   "metadata": {},
   "outputs": [],
   "source": [
    "scaled_pipeline_2.fit(X_train, y_train)"
   ]
  },
  {
   "cell_type": "code",
   "execution_count": null,
   "metadata": {},
   "outputs": [],
   "source": [
    "scaled_pipeline_2.score(X_val, y_val)"
   ]
  },
  {
   "cell_type": "code",
   "execution_count": null,
   "metadata": {},
   "outputs": [],
   "source": [
    "scaled_pipeline_1.score(X_test, y_test)"
   ]
  },
  {
   "cell_type": "code",
   "execution_count": null,
   "metadata": {},
   "outputs": [],
   "source": [
    "scaled_pipeline_3 = Pipeline([('si', SimpleImputer()),\n",
    "                              ('ss', StandardScaler()), \n",
    "                              ('dtc', DecisionTreeClassifier())])"
   ]
  },
  {
   "cell_type": "code",
   "execution_count": null,
   "metadata": {},
   "outputs": [],
   "source": [
    "scaled_pipeline_3.fit(X_train, y_train)"
   ]
  },
  {
   "cell_type": "code",
   "execution_count": null,
   "metadata": {},
   "outputs": [],
   "source": [
    "scaled_pipeline_3.score(X_val, y_val)"
   ]
  },
  {
   "cell_type": "code",
   "execution_count": null,
   "metadata": {},
   "outputs": [],
   "source": [
    "scaled_pipeline_3.score(X_test, y_test)"
   ]
  },
  {
   "cell_type": "code",
   "execution_count": null,
   "metadata": {},
   "outputs": [],
   "source": [
    "feature_list = X_train_scaled_df.columns"
   ]
  },
  {
   "cell_type": "code",
   "execution_count": null,
   "metadata": {},
   "outputs": [],
   "source": [
    "from sklearn.feature_selection import RFE\n",
    "scores = []\n",
    "for num in range(1, X_train_scaled.shape[1]):\n",
    "    selector = RFE(logreg, n_features_to_select=num, step=1)\n",
    "    selector = selector.fit(X_train_scaled, y_train)\n",
    "    score = selector.score(X_val_scaled, y_val)\n",
    "    scores.append(score)\n",
    "    selector = RFE(logreg, n_features_to_select=1, step=1)\n",
    "    selector = selector.fit(X_train_scaled, y_train)\n",
    "    score = selector.score(X_val_scaled, y_val)\n",
    "    feature_importance = dict(zip(feature_list,selector.ranking_))"
   ]
  },
  {
   "cell_type": "code",
   "execution_count": null,
   "metadata": {},
   "outputs": [],
   "source": [
    "feature_importance"
   ]
  },
  {
   "cell_type": "code",
   "execution_count": null,
   "metadata": {},
   "outputs": [],
   "source": [
    "dtc_best_model = dtc_gs.best_estimator_\n",
    "dtc_best_model"
   ]
  },
  {
   "cell_type": "code",
   "execution_count": null,
   "metadata": {},
   "outputs": [],
   "source": [
    "from sklearn.model_selection import GridSearchCV\n",
    "from sklearn.datasets import make_classification\n",
    "from sklearn.ensemble import RandomForestClassifier\n",
    "# Build a classification task using 3 informative features\n",
    "X, y = make_classification(n_samples=1000,\n",
    "                           n_features=10,\n",
    "                           n_informative=3,\n",
    "                           n_redundant=0,\n",
    "                           n_repeated=0,\n",
    "                           n_classes=2,\n",
    "                           random_state=0,\n",
    "                           shuffle=False)\n",
    "\n",
    "\n",
    "rfc = RandomForestClassifier(n_jobs=-1,max_features= 'sqrt' ,n_estimators=50, oob_score = True) \n",
    "\n",
    "param_grid = { \n",
    "    'n_estimators': [200, 700],\n",
    "    'max_features': ['auto', 'sqrt', 'log2']\n",
    "}\n",
    "\n",
    "CV_rfc = GridSearchCV(estimator=rfc, param_grid=param_grid, cv= 5)\n",
    "CV_rfc.fit(X_train_scaled, y_train)\n",
    "print (CV_rfc.best_params_)"
   ]
  },
  {
   "cell_type": "code",
   "execution_count": null,
   "metadata": {},
   "outputs": [],
   "source": [
    "rfcbest = RandomForestClassifier(max_features= 'auto', n_estimators=200)"
   ]
  },
  {
   "cell_type": "code",
   "execution_count": null,
   "metadata": {},
   "outputs": [],
   "source": [
    " rfc_fitted = modeling_function(logreg, X_train_scaled_df, y_train, X_val_scaled_df, y_val)"
   ]
  },
  {
   "cell_type": "code",
   "execution_count": null,
   "metadata": {},
   "outputs": [],
   "source": []
  }
 ],
 "metadata": {
  "kernelspec": {
   "display_name": "learn-env",
   "language": "python",
   "name": "learn-env"
  },
  "language_info": {
   "codemirror_mode": {
    "name": "ipython",
    "version": 3
   },
   "file_extension": ".py",
   "mimetype": "text/x-python",
   "name": "python",
   "nbconvert_exporter": "python",
   "pygments_lexer": "ipython3",
   "version": "3.8.5"
  },
  "toc": {
   "base_numbering": 1,
   "nav_menu": {},
   "number_sections": true,
   "sideBar": true,
   "skip_h1_title": false,
   "title_cell": "Table of Contents",
   "title_sidebar": "Contents",
   "toc_cell": false,
   "toc_position": {},
   "toc_section_display": true,
   "toc_window_display": false
  }
 },
 "nbformat": 4,
 "nbformat_minor": 4
}
