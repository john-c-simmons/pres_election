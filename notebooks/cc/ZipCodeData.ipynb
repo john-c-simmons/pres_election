{
 "cells": [
  {
   "cell_type": "code",
   "execution_count": 1,
   "metadata": {},
   "outputs": [],
   "source": [
    "import numpy as np\n",
    "import pandas as pd\n",
    "from sklearn.model_selection import train_test_split\n",
    "from sklearn.metrics import mean_squared_error\n",
    "from sklearn.linear_model import LinearRegression\n",
    "from sklearn.impute import SimpleImputer\n",
    "import matplotlib.pyplot as plt\n",
    "%matplotlib inline"
   ]
  },
  {
   "cell_type": "markdown",
   "metadata": {},
   "source": [
    "### In this notebook I will be mapping data from IPUMS' (Integrated Public Use Microdata Series) National Historic Geographic Information System onto our housing data. From IPUMS I retrieved a csv file with median income by zipcode for the United States in 2015."
   ]
  },
  {
   "cell_type": "code",
   "execution_count": 2,
   "metadata": {},
   "outputs": [],
   "source": [
    "#import IPUMS Data\n",
    "dfgo = pd.read_csv('2015_zip.csv')"
   ]
  },
  {
   "cell_type": "code",
   "execution_count": 3,
   "metadata": {},
   "outputs": [
    {
     "data": {
      "text/html": [
       "<div>\n",
       "<style scoped>\n",
       "    .dataframe tbody tr th:only-of-type {\n",
       "        vertical-align: middle;\n",
       "    }\n",
       "\n",
       "    .dataframe tbody tr th {\n",
       "        vertical-align: top;\n",
       "    }\n",
       "\n",
       "    .dataframe thead th {\n",
       "        text-align: right;\n",
       "    }\n",
       "</style>\n",
       "<table border=\"1\" class=\"dataframe\">\n",
       "  <thead>\n",
       "    <tr style=\"text-align: right;\">\n",
       "      <th></th>\n",
       "      <th>nhgis0003_ds215_20155_2015_zcta</th>\n",
       "      <th>Unnamed: 1</th>\n",
       "      <th>Unnamed: 2</th>\n",
       "    </tr>\n",
       "  </thead>\n",
       "  <tbody>\n",
       "    <tr>\n",
       "      <th>0</th>\n",
       "      <td>GISJOIN</td>\n",
       "      <td>NAME_E</td>\n",
       "      <td>ADNKE001</td>\n",
       "    </tr>\n",
       "    <tr>\n",
       "      <th>1</th>\n",
       "      <td>GIS Join Match Code</td>\n",
       "      <td>Estimates: Area Name</td>\n",
       "      <td>Estimates: Median household income in the past...</td>\n",
       "    </tr>\n",
       "    <tr>\n",
       "      <th>2</th>\n",
       "      <td>G00601</td>\n",
       "      <td>601</td>\n",
       "      <td>10816</td>\n",
       "    </tr>\n",
       "    <tr>\n",
       "      <th>3</th>\n",
       "      <td>G00602</td>\n",
       "      <td>602</td>\n",
       "      <td>16079</td>\n",
       "    </tr>\n",
       "    <tr>\n",
       "      <th>4</th>\n",
       "      <td>G00603</td>\n",
       "      <td>603</td>\n",
       "      <td>16804</td>\n",
       "    </tr>\n",
       "  </tbody>\n",
       "</table>\n",
       "</div>"
      ],
      "text/plain": [
       "  nhgis0003_ds215_20155_2015_zcta            Unnamed: 1  \\\n",
       "0                         GISJOIN                NAME_E   \n",
       "1             GIS Join Match Code  Estimates: Area Name   \n",
       "2                          G00601                   601   \n",
       "3                          G00602                   602   \n",
       "4                          G00603                   603   \n",
       "\n",
       "                                          Unnamed: 2  \n",
       "0                                           ADNKE001  \n",
       "1  Estimates: Median household income in the past...  \n",
       "2                                              10816  \n",
       "3                                              16079  \n",
       "4                                              16804  "
      ]
     },
     "execution_count": 3,
     "metadata": {},
     "output_type": "execute_result"
    }
   ],
   "source": [
    "dfgo.head()"
   ]
  },
  {
   "cell_type": "code",
   "execution_count": 4,
   "metadata": {},
   "outputs": [],
   "source": [
    "#working on getting the column headers correct\n",
    "headers = dfgo.iloc[0]\n",
    "new_df  = pd.DataFrame(dfgo.values[1:], columns=headers)"
   ]
  },
  {
   "cell_type": "code",
   "execution_count": 5,
   "metadata": {},
   "outputs": [
    {
     "data": {
      "text/html": [
       "<div>\n",
       "<style scoped>\n",
       "    .dataframe tbody tr th:only-of-type {\n",
       "        vertical-align: middle;\n",
       "    }\n",
       "\n",
       "    .dataframe tbody tr th {\n",
       "        vertical-align: top;\n",
       "    }\n",
       "\n",
       "    .dataframe thead th {\n",
       "        text-align: right;\n",
       "    }\n",
       "</style>\n",
       "<table border=\"1\" class=\"dataframe\">\n",
       "  <thead>\n",
       "    <tr style=\"text-align: right;\">\n",
       "      <th></th>\n",
       "      <th>GISJOIN</th>\n",
       "      <th>NAME_E</th>\n",
       "      <th>ADNKE001</th>\n",
       "    </tr>\n",
       "  </thead>\n",
       "  <tbody>\n",
       "    <tr>\n",
       "      <th>0</th>\n",
       "      <td>GIS Join Match Code</td>\n",
       "      <td>Estimates: Area Name</td>\n",
       "      <td>Estimates: Median household income in the past...</td>\n",
       "    </tr>\n",
       "    <tr>\n",
       "      <th>1</th>\n",
       "      <td>G00601</td>\n",
       "      <td>601</td>\n",
       "      <td>10816</td>\n",
       "    </tr>\n",
       "    <tr>\n",
       "      <th>2</th>\n",
       "      <td>G00602</td>\n",
       "      <td>602</td>\n",
       "      <td>16079</td>\n",
       "    </tr>\n",
       "    <tr>\n",
       "      <th>3</th>\n",
       "      <td>G00603</td>\n",
       "      <td>603</td>\n",
       "      <td>16804</td>\n",
       "    </tr>\n",
       "    <tr>\n",
       "      <th>4</th>\n",
       "      <td>G00606</td>\n",
       "      <td>606</td>\n",
       "      <td>12512</td>\n",
       "    </tr>\n",
       "  </tbody>\n",
       "</table>\n",
       "</div>"
      ],
      "text/plain": [
       "0              GISJOIN                NAME_E  \\\n",
       "0  GIS Join Match Code  Estimates: Area Name   \n",
       "1               G00601                   601   \n",
       "2               G00602                   602   \n",
       "3               G00603                   603   \n",
       "4               G00606                   606   \n",
       "\n",
       "0                                           ADNKE001  \n",
       "0  Estimates: Median household income in the past...  \n",
       "1                                              10816  \n",
       "2                                              16079  \n",
       "3                                              16804  \n",
       "4                                              12512  "
      ]
     },
     "execution_count": 5,
     "metadata": {},
     "output_type": "execute_result"
    }
   ],
   "source": [
    "new_df.head()"
   ]
  },
  {
   "cell_type": "code",
   "execution_count": 6,
   "metadata": {},
   "outputs": [],
   "source": [
    "#dropping this column because we do not need it\n",
    "new_df = new_df.drop('GISJOIN', axis = 1)"
   ]
  },
  {
   "cell_type": "code",
   "execution_count": 7,
   "metadata": {},
   "outputs": [],
   "source": [
    "#renaming columns\n",
    "dfzip = new_df.rename(columns={'NAME_E': 'zipcode', 'ADNKE001': 'median_income'})"
   ]
  },
  {
   "cell_type": "code",
   "execution_count": 8,
   "metadata": {},
   "outputs": [
    {
     "name": "stdout",
     "output_type": "stream",
     "text": [
      "<class 'pandas.core.frame.DataFrame'>\n",
      "RangeIndex: 33121 entries, 0 to 33120\n",
      "Data columns (total 2 columns):\n",
      " #   Column         Non-Null Count  Dtype \n",
      "---  ------         --------------  ----- \n",
      " 0   zipcode        33121 non-null  object\n",
      " 1   median_income  31068 non-null  object\n",
      "dtypes: object(2)\n",
      "memory usage: 517.6+ KB\n"
     ]
    }
   ],
   "source": [
    "dfzip.info()"
   ]
  },
  {
   "cell_type": "code",
   "execution_count": 9,
   "metadata": {},
   "outputs": [],
   "source": [
    "#realigning rows\n",
    "dfzip = dfzip.drop(0, axis = 0)"
   ]
  },
  {
   "cell_type": "code",
   "execution_count": 10,
   "metadata": {},
   "outputs": [],
   "source": [
    "#converting columns from objects to numbers\n",
    "dfzip[[\"zipcode\", \"median_income\"]] = dfzip[[\"zipcode\", \"median_income\"]].apply(pd.to_numeric)"
   ]
  },
  {
   "cell_type": "code",
   "execution_count": 11,
   "metadata": {
    "scrolled": true
   },
   "outputs": [
    {
     "name": "stdout",
     "output_type": "stream",
     "text": [
      "<class 'pandas.core.frame.DataFrame'>\n",
      "Int64Index: 33120 entries, 1 to 33120\n",
      "Data columns (total 2 columns):\n",
      " #   Column         Non-Null Count  Dtype  \n",
      "---  ------         --------------  -----  \n",
      " 0   zipcode        33120 non-null  int64  \n",
      " 1   median_income  31067 non-null  float64\n",
      "dtypes: float64(1), int64(1)\n",
      "memory usage: 776.2 KB\n"
     ]
    }
   ],
   "source": [
    "dfzip.info()"
   ]
  },
  {
   "cell_type": "markdown",
   "metadata": {},
   "source": [
    "### Now I need to isolate the King County zip codes and map the median income onto our data frame so I am going to import our dataframe."
   ]
  },
  {
   "cell_type": "code",
   "execution_count": 12,
   "metadata": {
    "scrolled": true
   },
   "outputs": [],
   "source": [
    "#import our dataframe\n",
    "df2 = pd.read_csv('cleaned_df-2', index_col = 0)"
   ]
  },
  {
   "cell_type": "code",
   "execution_count": 13,
   "metadata": {},
   "outputs": [
    {
     "data": {
      "text/plain": [
       "(98001, 98199)"
      ]
     },
     "execution_count": 13,
     "metadata": {},
     "output_type": "execute_result"
    }
   ],
   "source": [
    "#find range of King County Zip Codes\n",
    "df2.zipcode.min(), df2.zipcode.max()"
   ]
  },
  {
   "cell_type": "code",
   "execution_count": 14,
   "metadata": {},
   "outputs": [],
   "source": [
    "#Isolating our zipcode data so that only King County zip codes are represented\n",
    "dfzip = dfzip[dfzip.zipcode >= 98001]"
   ]
  },
  {
   "cell_type": "code",
   "execution_count": 15,
   "metadata": {},
   "outputs": [],
   "source": [
    "dfzip = dfzip[dfzip.zipcode <= 98199]"
   ]
  },
  {
   "cell_type": "code",
   "execution_count": 16,
   "metadata": {},
   "outputs": [
    {
     "name": "stdout",
     "output_type": "stream",
     "text": [
      "<class 'pandas.core.frame.DataFrame'>\n",
      "Int64Index: 93 entries, 32285 to 32377\n",
      "Data columns (total 2 columns):\n",
      " #   Column         Non-Null Count  Dtype  \n",
      "---  ------         --------------  -----  \n",
      " 0   zipcode        93 non-null     int64  \n",
      " 1   median_income  88 non-null     float64\n",
      "dtypes: float64(1), int64(1)\n",
      "memory usage: 2.2 KB\n"
     ]
    }
   ],
   "source": [
    "dfzip.info()"
   ]
  },
  {
   "cell_type": "code",
   "execution_count": 17,
   "metadata": {},
   "outputs": [],
   "source": [
    "#turning zipcode data frame into a dictionary to be able to map it to our original dataframe\n",
    "zipcodemap = dfzip.set_index('zipcode')['median_income'].to_dict()"
   ]
  },
  {
   "cell_type": "code",
   "execution_count": 18,
   "metadata": {},
   "outputs": [],
   "source": [
    "df2['median_by_zip'] = df2['zipcode'].map(zipcodemap)"
   ]
  },
  {
   "cell_type": "code",
   "execution_count": 19,
   "metadata": {},
   "outputs": [
    {
     "data": {
      "text/html": [
       "<div>\n",
       "<style scoped>\n",
       "    .dataframe tbody tr th:only-of-type {\n",
       "        vertical-align: middle;\n",
       "    }\n",
       "\n",
       "    .dataframe tbody tr th {\n",
       "        vertical-align: top;\n",
       "    }\n",
       "\n",
       "    .dataframe thead th {\n",
       "        text-align: right;\n",
       "    }\n",
       "</style>\n",
       "<table border=\"1\" class=\"dataframe\">\n",
       "  <thead>\n",
       "    <tr style=\"text-align: right;\">\n",
       "      <th></th>\n",
       "      <th>id</th>\n",
       "      <th>price</th>\n",
       "      <th>bedrooms</th>\n",
       "      <th>bathrooms</th>\n",
       "      <th>sqft_living</th>\n",
       "      <th>sqft_lot</th>\n",
       "      <th>floors</th>\n",
       "      <th>waterfront</th>\n",
       "      <th>view</th>\n",
       "      <th>condition</th>\n",
       "      <th>...</th>\n",
       "      <th>price_per_sqft</th>\n",
       "      <th>year</th>\n",
       "      <th>day</th>\n",
       "      <th>month</th>\n",
       "      <th>season</th>\n",
       "      <th>sqft_living_times_grade</th>\n",
       "      <th>condition_div_grade</th>\n",
       "      <th>sqft_living_sq</th>\n",
       "      <th>bathrooms_sq</th>\n",
       "      <th>median_by_zip</th>\n",
       "    </tr>\n",
       "  </thead>\n",
       "  <tbody>\n",
       "    <tr>\n",
       "      <th>0</th>\n",
       "      <td>7129300520</td>\n",
       "      <td>221900.0</td>\n",
       "      <td>3</td>\n",
       "      <td>1.00</td>\n",
       "      <td>1180</td>\n",
       "      <td>5650</td>\n",
       "      <td>1.0</td>\n",
       "      <td>0.0</td>\n",
       "      <td>0.0</td>\n",
       "      <td>3</td>\n",
       "      <td>...</td>\n",
       "      <td>188.050847</td>\n",
       "      <td>2014.0</td>\n",
       "      <td>13.0</td>\n",
       "      <td>10.0</td>\n",
       "      <td>fall</td>\n",
       "      <td>8260</td>\n",
       "      <td>0.428571</td>\n",
       "      <td>1392400</td>\n",
       "      <td>1.0000</td>\n",
       "      <td>60839.0</td>\n",
       "    </tr>\n",
       "    <tr>\n",
       "      <th>1</th>\n",
       "      <td>6414100192</td>\n",
       "      <td>538000.0</td>\n",
       "      <td>3</td>\n",
       "      <td>2.25</td>\n",
       "      <td>2570</td>\n",
       "      <td>7242</td>\n",
       "      <td>2.0</td>\n",
       "      <td>0.0</td>\n",
       "      <td>0.0</td>\n",
       "      <td>3</td>\n",
       "      <td>...</td>\n",
       "      <td>209.338521</td>\n",
       "      <td>2014.0</td>\n",
       "      <td>9.0</td>\n",
       "      <td>12.0</td>\n",
       "      <td>winter</td>\n",
       "      <td>17990</td>\n",
       "      <td>0.428571</td>\n",
       "      <td>6604900</td>\n",
       "      <td>5.0625</td>\n",
       "      <td>54561.0</td>\n",
       "    </tr>\n",
       "    <tr>\n",
       "      <th>2</th>\n",
       "      <td>5631500400</td>\n",
       "      <td>180000.0</td>\n",
       "      <td>2</td>\n",
       "      <td>1.00</td>\n",
       "      <td>770</td>\n",
       "      <td>10000</td>\n",
       "      <td>1.0</td>\n",
       "      <td>0.0</td>\n",
       "      <td>0.0</td>\n",
       "      <td>3</td>\n",
       "      <td>...</td>\n",
       "      <td>233.766234</td>\n",
       "      <td>2015.0</td>\n",
       "      <td>25.0</td>\n",
       "      <td>2.0</td>\n",
       "      <td>winter</td>\n",
       "      <td>4620</td>\n",
       "      <td>0.500000</td>\n",
       "      <td>592900</td>\n",
       "      <td>1.0000</td>\n",
       "      <td>90588.0</td>\n",
       "    </tr>\n",
       "    <tr>\n",
       "      <th>3</th>\n",
       "      <td>2487200875</td>\n",
       "      <td>604000.0</td>\n",
       "      <td>4</td>\n",
       "      <td>3.00</td>\n",
       "      <td>1960</td>\n",
       "      <td>5000</td>\n",
       "      <td>1.0</td>\n",
       "      <td>0.0</td>\n",
       "      <td>0.0</td>\n",
       "      <td>5</td>\n",
       "      <td>...</td>\n",
       "      <td>308.163265</td>\n",
       "      <td>2014.0</td>\n",
       "      <td>9.0</td>\n",
       "      <td>12.0</td>\n",
       "      <td>winter</td>\n",
       "      <td>13720</td>\n",
       "      <td>0.714286</td>\n",
       "      <td>3841600</td>\n",
       "      <td>9.0000</td>\n",
       "      <td>90625.0</td>\n",
       "    </tr>\n",
       "    <tr>\n",
       "      <th>4</th>\n",
       "      <td>1954400510</td>\n",
       "      <td>510000.0</td>\n",
       "      <td>3</td>\n",
       "      <td>2.00</td>\n",
       "      <td>1680</td>\n",
       "      <td>8080</td>\n",
       "      <td>1.0</td>\n",
       "      <td>0.0</td>\n",
       "      <td>0.0</td>\n",
       "      <td>3</td>\n",
       "      <td>...</td>\n",
       "      <td>303.571429</td>\n",
       "      <td>2015.0</td>\n",
       "      <td>18.0</td>\n",
       "      <td>2.0</td>\n",
       "      <td>winter</td>\n",
       "      <td>13440</td>\n",
       "      <td>0.375000</td>\n",
       "      <td>2822400</td>\n",
       "      <td>4.0000</td>\n",
       "      <td>145262.0</td>\n",
       "    </tr>\n",
       "  </tbody>\n",
       "</table>\n",
       "<p>5 rows × 31 columns</p>\n",
       "</div>"
      ],
      "text/plain": [
       "           id     price  bedrooms  bathrooms  sqft_living  sqft_lot  floors  \\\n",
       "0  7129300520  221900.0         3       1.00         1180      5650     1.0   \n",
       "1  6414100192  538000.0         3       2.25         2570      7242     2.0   \n",
       "2  5631500400  180000.0         2       1.00          770     10000     1.0   \n",
       "3  2487200875  604000.0         4       3.00         1960      5000     1.0   \n",
       "4  1954400510  510000.0         3       2.00         1680      8080     1.0   \n",
       "\n",
       "   waterfront  view  condition  ...  price_per_sqft    year   day  month  \\\n",
       "0         0.0   0.0          3  ...      188.050847  2014.0  13.0   10.0   \n",
       "1         0.0   0.0          3  ...      209.338521  2014.0   9.0   12.0   \n",
       "2         0.0   0.0          3  ...      233.766234  2015.0  25.0    2.0   \n",
       "3         0.0   0.0          5  ...      308.163265  2014.0   9.0   12.0   \n",
       "4         0.0   0.0          3  ...      303.571429  2015.0  18.0    2.0   \n",
       "\n",
       "   season  sqft_living_times_grade  condition_div_grade  sqft_living_sq  \\\n",
       "0    fall                     8260             0.428571         1392400   \n",
       "1  winter                    17990             0.428571         6604900   \n",
       "2  winter                     4620             0.500000          592900   \n",
       "3  winter                    13720             0.714286         3841600   \n",
       "4  winter                    13440             0.375000         2822400   \n",
       "\n",
       "   bathrooms_sq  median_by_zip  \n",
       "0        1.0000        60839.0  \n",
       "1        5.0625        54561.0  \n",
       "2        1.0000        90588.0  \n",
       "3        9.0000        90625.0  \n",
       "4        4.0000       145262.0  \n",
       "\n",
       "[5 rows x 31 columns]"
      ]
     },
     "execution_count": 19,
     "metadata": {},
     "output_type": "execute_result"
    }
   ],
   "source": [
    "df2.head()"
   ]
  },
  {
   "cell_type": "code",
   "execution_count": 20,
   "metadata": {
    "scrolled": true
   },
   "outputs": [],
   "source": [
    "#turning column into a dataframe so I can save and my group can use\n",
    "mediandf = pd.DataFrame(df2.median_by_zip)"
   ]
  },
  {
   "cell_type": "code",
   "execution_count": 21,
   "metadata": {},
   "outputs": [
    {
     "data": {
      "text/html": [
       "<div>\n",
       "<style scoped>\n",
       "    .dataframe tbody tr th:only-of-type {\n",
       "        vertical-align: middle;\n",
       "    }\n",
       "\n",
       "    .dataframe tbody tr th {\n",
       "        vertical-align: top;\n",
       "    }\n",
       "\n",
       "    .dataframe thead th {\n",
       "        text-align: right;\n",
       "    }\n",
       "</style>\n",
       "<table border=\"1\" class=\"dataframe\">\n",
       "  <thead>\n",
       "    <tr style=\"text-align: right;\">\n",
       "      <th></th>\n",
       "      <th>median_by_zip</th>\n",
       "    </tr>\n",
       "  </thead>\n",
       "  <tbody>\n",
       "    <tr>\n",
       "      <th>0</th>\n",
       "      <td>60839.0</td>\n",
       "    </tr>\n",
       "    <tr>\n",
       "      <th>1</th>\n",
       "      <td>54561.0</td>\n",
       "    </tr>\n",
       "    <tr>\n",
       "      <th>2</th>\n",
       "      <td>90588.0</td>\n",
       "    </tr>\n",
       "    <tr>\n",
       "      <th>3</th>\n",
       "      <td>90625.0</td>\n",
       "    </tr>\n",
       "    <tr>\n",
       "      <th>4</th>\n",
       "      <td>145262.0</td>\n",
       "    </tr>\n",
       "  </tbody>\n",
       "</table>\n",
       "</div>"
      ],
      "text/plain": [
       "   median_by_zip\n",
       "0        60839.0\n",
       "1        54561.0\n",
       "2        90588.0\n",
       "3        90625.0\n",
       "4       145262.0"
      ]
     },
     "execution_count": 21,
     "metadata": {},
     "output_type": "execute_result"
    }
   ],
   "source": [
    "mediandf.head()"
   ]
  },
  {
   "cell_type": "code",
   "execution_count": 22,
   "metadata": {},
   "outputs": [],
   "source": [
    "#saving dataframe\n",
    "mediandf.to_csv('mediandf.csv')"
   ]
  },
  {
   "cell_type": "markdown",
   "metadata": {},
   "source": [
    "### Investigating how model performs with added feature of median household income by zip code."
   ]
  },
  {
   "cell_type": "code",
   "execution_count": 23,
   "metadata": {},
   "outputs": [],
   "source": [
    "dfdrop = df2.drop('price',axis = 1)"
   ]
  },
  {
   "cell_type": "code",
   "execution_count": 24,
   "metadata": {},
   "outputs": [],
   "source": [
    "dfdrop = dfdrop.drop('id',axis = 1)"
   ]
  },
  {
   "cell_type": "code",
   "execution_count": 25,
   "metadata": {},
   "outputs": [],
   "source": [
    "dfdrop = dfdrop.drop('season',axis = 1)"
   ]
  },
  {
   "cell_type": "code",
   "execution_count": 26,
   "metadata": {},
   "outputs": [],
   "source": [
    "dfdrop = dfdrop.drop('price_per_sqft',axis = 1)"
   ]
  },
  {
   "cell_type": "code",
   "execution_count": 27,
   "metadata": {},
   "outputs": [],
   "source": [
    "dfdrop = dfdrop.drop('zipcode',axis = 1)"
   ]
  },
  {
   "cell_type": "code",
   "execution_count": 28,
   "metadata": {},
   "outputs": [
    {
     "name": "stdout",
     "output_type": "stream",
     "text": [
      "<class 'pandas.core.frame.DataFrame'>\n",
      "Int64Index: 21577 entries, 0 to 21596\n",
      "Data columns (total 26 columns):\n",
      " #   Column                   Non-Null Count  Dtype  \n",
      "---  ------                   --------------  -----  \n",
      " 0   bedrooms                 21577 non-null  int64  \n",
      " 1   bathrooms                21577 non-null  float64\n",
      " 2   sqft_living              21577 non-null  int64  \n",
      " 3   sqft_lot                 21577 non-null  int64  \n",
      " 4   floors                   21577 non-null  float64\n",
      " 5   waterfront               21577 non-null  float64\n",
      " 6   view                     21577 non-null  float64\n",
      " 7   condition                21577 non-null  int64  \n",
      " 8   grade                    21577 non-null  int64  \n",
      " 9   sqft_above               21577 non-null  int64  \n",
      " 10  sqft_basement            21577 non-null  float64\n",
      " 11  yr_built                 21577 non-null  int64  \n",
      " 12  yr_renovated             21577 non-null  float64\n",
      " 13  lat                      21577 non-null  float64\n",
      " 14  long                     21577 non-null  float64\n",
      " 15  sqft_living15            21577 non-null  int64  \n",
      " 16  sqft_lot15               21577 non-null  int64  \n",
      " 17  reno                     21577 non-null  int64  \n",
      " 18  year                     21577 non-null  float64\n",
      " 19  day                      21577 non-null  float64\n",
      " 20  month                    21577 non-null  float64\n",
      " 21  sqft_living_times_grade  21577 non-null  int64  \n",
      " 22  condition_div_grade      21577 non-null  float64\n",
      " 23  sqft_living_sq           21577 non-null  int64  \n",
      " 24  bathrooms_sq             21577 non-null  float64\n",
      " 25  median_by_zip            21577 non-null  float64\n",
      "dtypes: float64(14), int64(12)\n",
      "memory usage: 4.4 MB\n"
     ]
    }
   ],
   "source": [
    "dfdrop.info()"
   ]
  },
  {
   "cell_type": "code",
   "execution_count": 29,
   "metadata": {},
   "outputs": [],
   "source": [
    "X = dfdrop #want 2 dimensions of feature\n",
    "y = df2['price']\n",
    "#defining training and test data with 72/25 split and random state of 42\n",
    "X_train , X_test, y_train, y_test = train_test_split(X, y, test_size=.25, random_state=42)"
   ]
  },
  {
   "cell_type": "code",
   "execution_count": 30,
   "metadata": {},
   "outputs": [],
   "source": [
    "# Replace missing values with the mean using simple imputer\n",
    "imputer = SimpleImputer()\n",
    "# Fit imputer to the indepedent variable using only the training data -- fit LEARNS the data so in this case it is \n",
    "#finding the mean\n",
    "imputer.fit(X_train)\n",
    "# Replace missing values in the training and test data with mean -- transform takes what fit learned and transforms\n",
    "#the data with that information -- in this case replacing null values with the mean.\n",
    "X_train = imputer.transform(X_train)\n",
    "X_test = imputer.transform(X_test)"
   ]
  },
  {
   "cell_type": "code",
   "execution_count": 31,
   "metadata": {},
   "outputs": [
    {
     "name": "stdout",
     "output_type": "stream",
     "text": [
      "-132631885.43011174\n",
      "[-8.30896190e+03  4.29301957e+03 -3.05226150e+02  1.64287181e-01\n",
      "  3.72307276e+04  4.99093110e+05  5.17802242e+04  1.54948108e+05\n",
      " -9.14442121e+04  3.61898308e+01  4.72312844e+01 -1.95024577e+03\n",
      "  2.97737349e+03  4.32138441e+05 -2.97453120e+05  2.76988627e+01\n",
      " -2.89716878e-01 -5.87787620e+06  3.97122472e+04 -1.38317310e+02\n",
      "  1.79356026e+03  5.82717115e+01 -8.53350915e+05 -1.99700791e-02\n",
      "  8.15524733e+03  2.39655700e+00]\n"
     ]
    }
   ],
   "source": [
    "#Fit a LinearRegression model\n",
    "baselinelinreg = LinearRegression()\n",
    "baselinelinreg.fit(X_train, y_train)\n",
    "#Check and interpret the intercept and coefficient\n",
    "print(baselinelinreg.intercept_)\n",
    "print(baselinelinreg.coef_)"
   ]
  },
  {
   "cell_type": "code",
   "execution_count": 32,
   "metadata": {},
   "outputs": [],
   "source": [
    "#Make predictions on both the training and testing data\n",
    "train_preds = baselinelinreg.predict(X_train)\n",
    "test_preds = baselinelinreg.predict(X_test)"
   ]
  },
  {
   "cell_type": "code",
   "execution_count": 33,
   "metadata": {},
   "outputs": [
    {
     "name": "stdout",
     "output_type": "stream",
     "text": [
      "Basline Train score: 174313.5282254881\n",
      "Baseline Test score: 168757.19308422256\n"
     ]
    }
   ],
   "source": [
    "#find root(here by raising to .5 power) mean squared error o training and test predictions\n",
    "train_score = (mean_squared_error(y_train, train_preds))**.5\n",
    "test_score = (mean_squared_error(y_test, test_preds))**.5\n",
    "print('Basline Train score:', train_score)\n",
    "print('Baseline Test score:', test_score)"
   ]
  },
  {
   "cell_type": "code",
   "execution_count": 34,
   "metadata": {},
   "outputs": [
    {
     "data": {
      "image/png": "[encoded data removed]",
      "text/plain": [
       "<Figure size 432x288 with 1 Axes>"
      ]
     },
     "metadata": {
      "needs_background": "light"
     },
     "output_type": "display_data"
    }
   ],
   "source": [
    "plt.bar(['Train', 'Test'], [train_score, test_score])\n",
    "plt.ylabel('Error')\n",
    "plt.title('BaselineLinReg Performance Bar');"
   ]
  },
  {
   "cell_type": "markdown",
   "metadata": {},
   "source": [
    "It helps some, so we will use!"
   ]
  }
 ],
 "metadata": {
  "kernelspec": {
   "display_name": "learn-env",
   "language": "python",
   "name": "learn-env"
  },
  "language_info": {
   "codemirror_mode": {
    "name": "ipython",
    "version": 3
   },
   "file_extension": ".py",
   "mimetype": "text/x-python",
   "name": "python",
   "nbconvert_exporter": "python",
   "pygments_lexer": "ipython3",
   "version": "3.8.5"
  },
  "toc": {
   "base_numbering": 1,
   "nav_menu": {},
   "number_sections": true,
   "sideBar": true,
   "skip_h1_title": false,
   "title_cell": "Table of Contents",
   "title_sidebar": "Contents",
   "toc_cell": false,
   "toc_position": {},
   "toc_section_display": true,
   "toc_window_display": false
  }
 },
 "nbformat": 4,
 "nbformat_minor": 4
}
